{
  "nbformat": 4,
  "nbformat_minor": 0,
  "metadata": {
    "colab": {
      "name": "Sentiment_Analysis_Model_Pretrain.ipynb",
      "provenance": [],
      "include_colab_link": true
    },
    "kernelspec": {
      "name": "python3",
      "display_name": "Python 3"
    },
    "language_info": {
      "name": "python"
    }
  },
  "cells": [
    {
      "cell_type": "markdown",
      "metadata": {
        "id": "view-in-github",
        "colab_type": "text"
      },
      "source": [
        "<a href=\"https://colab.research.google.com/github/DorodiK/sentiment_analysis/blob/main/Sentiment_Analysis_Model_Pretrain.ipynb\" target=\"_parent\"><img src=\"https://colab.research.google.com/assets/colab-badge.svg\" alt=\"Open In Colab\"/></a>"
      ]
    },
    {
      "cell_type": "markdown",
      "metadata": {
        "id": "AGe08Yuma3TI"
      },
      "source": [
        "###Cloning the GitHub repository "
      ]
    },
    {
      "cell_type": "code",
      "metadata": {
        "colab": {
          "base_uri": "https://localhost:8080/"
        },
        "id": "rOgsMR2naf_Q",
        "outputId": "6419f34e-900c-485d-9414-c3c2098a03b7"
      },
      "source": [
        "!git clone https://github.com/DorodiK/sentiment_analysis"
      ],
      "execution_count": 1,
      "outputs": [
        {
          "output_type": "stream",
          "text": [
            "Cloning into 'sentiment_analysis'...\n",
            "remote: Enumerating objects: 7, done.\u001b[K\n",
            "remote: Counting objects: 100% (7/7), done.\u001b[K\n",
            "remote: Compressing objects: 100% (7/7), done.\u001b[K\n",
            "remote: Total 7 (delta 0), reused 4 (delta 0), pack-reused 0\u001b[K\n",
            "Unpacking objects: 100% (7/7), done.\n"
          ],
          "name": "stdout"
        }
      ]
    },
    {
      "cell_type": "code",
      "metadata": {
        "colab": {
          "base_uri": "https://localhost:8080/"
        },
        "id": "QSgLaHFnPQ2E",
        "outputId": "7c6166af-917a-48e1-8587-bf7bccf1fe70"
      },
      "source": [
        "#import libraries \n",
        "import os \n",
        "import numpy as np\n",
        "import pandas as pd \n",
        "import matplotlib.pyplot as plt\n",
        "from sklearn.model_selection import train_test_split\n",
        "import matplotlib.pyplot as plt \n",
        "import tensorflow as tf\n",
        "import keras\n",
        "from keras.utils.vis_utils import plot_model\n",
        "import numpy as np\n",
        "import pandas as pd\n",
        "import plotly.express as px\n",
        "import plotly as pl\n",
        "import datetime\n",
        "\n",
        "#import NLP libraries\n",
        "import re\n",
        "import string\n",
        "from nltk.corpus import stopwords\n",
        "import nltk\n",
        "from nltk.corpus import wordnet\n",
        "from nltk.stem import WordNetLemmatizer\n",
        "from nltk.stem import LancasterStemmer\n",
        "from nltk.tokenize.treebank import TreebankWordDetokenizer\n",
        "from collections import Counter\n",
        "from wordcloud import WordCloud\n",
        "from nltk.corpus import stopwords\n",
        "import nltk\n",
        "from gensim.utils import simple_preprocess\n",
        "from nltk.corpus import stopwords\n",
        "import gensim\n",
        "import spacy\n",
        "import pickle\n",
        "import warnings\n",
        "warnings.filterwarnings('ignore')\n",
        "warnings.simplefilter(action='ignore', category=FutureWarning)\n",
        "\n",
        "#for confusion matrix\n",
        "import seaborn\n",
        "from sklearn.metrics import confusion_matrix\n",
        "\n",
        "\n",
        "nltk.download('wordnet')\n",
        "print('Done')\n"
      ],
      "execution_count": 2,
      "outputs": [
        {
          "output_type": "stream",
          "text": [
            "[nltk_data] Downloading package wordnet to /root/nltk_data...\n",
            "[nltk_data]   Unzipping corpora/wordnet.zip.\n",
            "Done\n"
          ],
          "name": "stdout"
        }
      ]
    },
    {
      "cell_type": "markdown",
      "metadata": {
        "id": "Ef488uuYVwqA"
      },
      "source": [
        "##Loading Datasest"
      ]
    },
    {
      "cell_type": "code",
      "metadata": {
        "colab": {
          "base_uri": "https://localhost:8080/"
        },
        "id": "p5-yaXevkvpe",
        "outputId": "74c0bee9-df3c-4e86-89cc-52d1b27336c6"
      },
      "source": [
        "!ls sentiment_analysis/"
      ],
      "execution_count": 3,
      "outputs": [
        {
          "output_type": "stream",
          "text": [
            "Sentiment_Analysis_Model_Pretrain.ipynb  train.csv  vaccination_all_tweets.csv\n"
          ],
          "name": "stdout"
        }
      ]
    },
    {
      "cell_type": "code",
      "metadata": {
        "id": "v03qxmvkP-uB",
        "colab": {
          "base_uri": "https://localhost:8080/",
          "height": 204
        },
        "outputId": "be7329ec-f787-4c4b-a58e-b39cb10f8c82"
      },
      "source": [
        "#load dataset - Tweet Sentiment Extraction\n",
        "datadir = \"sentiment_analysis\"\n",
        "train = pd.read_csv(os.path.join(datadir, 'train.csv'))\n",
        "train.head()"
      ],
      "execution_count": 4,
      "outputs": [
        {
          "output_type": "execute_result",
          "data": {
            "text/html": [
              "<div>\n",
              "<style scoped>\n",
              "    .dataframe tbody tr th:only-of-type {\n",
              "        vertical-align: middle;\n",
              "    }\n",
              "\n",
              "    .dataframe tbody tr th {\n",
              "        vertical-align: top;\n",
              "    }\n",
              "\n",
              "    .dataframe thead th {\n",
              "        text-align: right;\n",
              "    }\n",
              "</style>\n",
              "<table border=\"1\" class=\"dataframe\">\n",
              "  <thead>\n",
              "    <tr style=\"text-align: right;\">\n",
              "      <th></th>\n",
              "      <th>textID</th>\n",
              "      <th>text</th>\n",
              "      <th>selected_text</th>\n",
              "      <th>sentiment</th>\n",
              "    </tr>\n",
              "  </thead>\n",
              "  <tbody>\n",
              "    <tr>\n",
              "      <th>0</th>\n",
              "      <td>cb774db0d1</td>\n",
              "      <td>I`d have responded, if I were going</td>\n",
              "      <td>I`d have responded, if I were going</td>\n",
              "      <td>neutral</td>\n",
              "    </tr>\n",
              "    <tr>\n",
              "      <th>1</th>\n",
              "      <td>549e992a42</td>\n",
              "      <td>Sooo SAD I will miss you here in San Diego!!!</td>\n",
              "      <td>Sooo SAD</td>\n",
              "      <td>negative</td>\n",
              "    </tr>\n",
              "    <tr>\n",
              "      <th>2</th>\n",
              "      <td>088c60f138</td>\n",
              "      <td>my boss is bullying me...</td>\n",
              "      <td>bullying me</td>\n",
              "      <td>negative</td>\n",
              "    </tr>\n",
              "    <tr>\n",
              "      <th>3</th>\n",
              "      <td>9642c003ef</td>\n",
              "      <td>what interview! leave me alone</td>\n",
              "      <td>leave me alone</td>\n",
              "      <td>negative</td>\n",
              "    </tr>\n",
              "    <tr>\n",
              "      <th>4</th>\n",
              "      <td>358bd9e861</td>\n",
              "      <td>Sons of ****, why couldn`t they put them on t...</td>\n",
              "      <td>Sons of ****,</td>\n",
              "      <td>negative</td>\n",
              "    </tr>\n",
              "  </tbody>\n",
              "</table>\n",
              "</div>"
            ],
            "text/plain": [
              "       textID  ... sentiment\n",
              "0  cb774db0d1  ...   neutral\n",
              "1  549e992a42  ...  negative\n",
              "2  088c60f138  ...  negative\n",
              "3  9642c003ef  ...  negative\n",
              "4  358bd9e861  ...  negative\n",
              "\n",
              "[5 rows x 4 columns]"
            ]
          },
          "metadata": {
            "tags": []
          },
          "execution_count": 4
        }
      ]
    },
    {
      "cell_type": "code",
      "metadata": {
        "id": "tJkNzqBNQhjm",
        "colab": {
          "base_uri": "https://localhost:8080/",
          "height": 359
        },
        "outputId": "47d0499c-3726-4885-e6a2-44d6641c4c29"
      },
      "source": [
        "train.head(10)"
      ],
      "execution_count": 5,
      "outputs": [
        {
          "output_type": "execute_result",
          "data": {
            "text/html": [
              "<div>\n",
              "<style scoped>\n",
              "    .dataframe tbody tr th:only-of-type {\n",
              "        vertical-align: middle;\n",
              "    }\n",
              "\n",
              "    .dataframe tbody tr th {\n",
              "        vertical-align: top;\n",
              "    }\n",
              "\n",
              "    .dataframe thead th {\n",
              "        text-align: right;\n",
              "    }\n",
              "</style>\n",
              "<table border=\"1\" class=\"dataframe\">\n",
              "  <thead>\n",
              "    <tr style=\"text-align: right;\">\n",
              "      <th></th>\n",
              "      <th>textID</th>\n",
              "      <th>text</th>\n",
              "      <th>selected_text</th>\n",
              "      <th>sentiment</th>\n",
              "    </tr>\n",
              "  </thead>\n",
              "  <tbody>\n",
              "    <tr>\n",
              "      <th>0</th>\n",
              "      <td>cb774db0d1</td>\n",
              "      <td>I`d have responded, if I were going</td>\n",
              "      <td>I`d have responded, if I were going</td>\n",
              "      <td>neutral</td>\n",
              "    </tr>\n",
              "    <tr>\n",
              "      <th>1</th>\n",
              "      <td>549e992a42</td>\n",
              "      <td>Sooo SAD I will miss you here in San Diego!!!</td>\n",
              "      <td>Sooo SAD</td>\n",
              "      <td>negative</td>\n",
              "    </tr>\n",
              "    <tr>\n",
              "      <th>2</th>\n",
              "      <td>088c60f138</td>\n",
              "      <td>my boss is bullying me...</td>\n",
              "      <td>bullying me</td>\n",
              "      <td>negative</td>\n",
              "    </tr>\n",
              "    <tr>\n",
              "      <th>3</th>\n",
              "      <td>9642c003ef</td>\n",
              "      <td>what interview! leave me alone</td>\n",
              "      <td>leave me alone</td>\n",
              "      <td>negative</td>\n",
              "    </tr>\n",
              "    <tr>\n",
              "      <th>4</th>\n",
              "      <td>358bd9e861</td>\n",
              "      <td>Sons of ****, why couldn`t they put them on t...</td>\n",
              "      <td>Sons of ****,</td>\n",
              "      <td>negative</td>\n",
              "    </tr>\n",
              "    <tr>\n",
              "      <th>5</th>\n",
              "      <td>28b57f3990</td>\n",
              "      <td>http://www.dothebouncy.com/smf - some shameles...</td>\n",
              "      <td>http://www.dothebouncy.com/smf - some shameles...</td>\n",
              "      <td>neutral</td>\n",
              "    </tr>\n",
              "    <tr>\n",
              "      <th>6</th>\n",
              "      <td>6e0c6d75b1</td>\n",
              "      <td>2am feedings for the baby are fun when he is a...</td>\n",
              "      <td>fun</td>\n",
              "      <td>positive</td>\n",
              "    </tr>\n",
              "    <tr>\n",
              "      <th>7</th>\n",
              "      <td>50e14c0bb8</td>\n",
              "      <td>Soooo high</td>\n",
              "      <td>Soooo high</td>\n",
              "      <td>neutral</td>\n",
              "    </tr>\n",
              "    <tr>\n",
              "      <th>8</th>\n",
              "      <td>e050245fbd</td>\n",
              "      <td>Both of you</td>\n",
              "      <td>Both of you</td>\n",
              "      <td>neutral</td>\n",
              "    </tr>\n",
              "    <tr>\n",
              "      <th>9</th>\n",
              "      <td>fc2cbefa9d</td>\n",
              "      <td>Journey!? Wow... u just became cooler.  hehe....</td>\n",
              "      <td>Wow... u just became cooler.</td>\n",
              "      <td>positive</td>\n",
              "    </tr>\n",
              "  </tbody>\n",
              "</table>\n",
              "</div>"
            ],
            "text/plain": [
              "       textID  ... sentiment\n",
              "0  cb774db0d1  ...   neutral\n",
              "1  549e992a42  ...  negative\n",
              "2  088c60f138  ...  negative\n",
              "3  9642c003ef  ...  negative\n",
              "4  358bd9e861  ...  negative\n",
              "5  28b57f3990  ...   neutral\n",
              "6  6e0c6d75b1  ...  positive\n",
              "7  50e14c0bb8  ...   neutral\n",
              "8  e050245fbd  ...   neutral\n",
              "9  fc2cbefa9d  ...  positive\n",
              "\n",
              "[10 rows x 4 columns]"
            ]
          },
          "metadata": {
            "tags": []
          },
          "execution_count": 5
        }
      ]
    },
    {
      "cell_type": "code",
      "metadata": {
        "id": "U4WAar6hP_LR",
        "colab": {
          "base_uri": "https://localhost:8080/"
        },
        "outputId": "ea91e292-4e9d-42be-e78d-7d45d63a744b"
      },
      "source": [
        "train['sentiment'].unique()"
      ],
      "execution_count": 6,
      "outputs": [
        {
          "output_type": "execute_result",
          "data": {
            "text/plain": [
              "array(['neutral', 'negative', 'positive'], dtype=object)"
            ]
          },
          "metadata": {
            "tags": []
          },
          "execution_count": 6
        }
      ]
    },
    {
      "cell_type": "code",
      "metadata": {
        "id": "gN6EtQarR_gi",
        "colab": {
          "base_uri": "https://localhost:8080/",
          "height": 173
        },
        "outputId": "a4257cfe-7c1c-424d-d8e9-1e49fc2ddca8"
      },
      "source": [
        "train.groupby('sentiment').nunique()"
      ],
      "execution_count": 7,
      "outputs": [
        {
          "output_type": "execute_result",
          "data": {
            "text/html": [
              "<div>\n",
              "<style scoped>\n",
              "    .dataframe tbody tr th:only-of-type {\n",
              "        vertical-align: middle;\n",
              "    }\n",
              "\n",
              "    .dataframe tbody tr th {\n",
              "        vertical-align: top;\n",
              "    }\n",
              "\n",
              "    .dataframe thead th {\n",
              "        text-align: right;\n",
              "    }\n",
              "</style>\n",
              "<table border=\"1\" class=\"dataframe\">\n",
              "  <thead>\n",
              "    <tr style=\"text-align: right;\">\n",
              "      <th></th>\n",
              "      <th>textID</th>\n",
              "      <th>text</th>\n",
              "      <th>selected_text</th>\n",
              "    </tr>\n",
              "    <tr>\n",
              "      <th>sentiment</th>\n",
              "      <th></th>\n",
              "      <th></th>\n",
              "      <th></th>\n",
              "    </tr>\n",
              "  </thead>\n",
              "  <tbody>\n",
              "    <tr>\n",
              "      <th>negative</th>\n",
              "      <td>7781</td>\n",
              "      <td>7781</td>\n",
              "      <td>5861</td>\n",
              "    </tr>\n",
              "    <tr>\n",
              "      <th>neutral</th>\n",
              "      <td>11118</td>\n",
              "      <td>11117</td>\n",
              "      <td>11111</td>\n",
              "    </tr>\n",
              "    <tr>\n",
              "      <th>positive</th>\n",
              "      <td>8582</td>\n",
              "      <td>8582</td>\n",
              "      <td>5537</td>\n",
              "    </tr>\n",
              "  </tbody>\n",
              "</table>\n",
              "</div>"
            ],
            "text/plain": [
              "           textID   text  selected_text\n",
              "sentiment                              \n",
              "negative     7781   7781           5861\n",
              "neutral     11118  11117          11111\n",
              "positive     8582   8582           5537"
            ]
          },
          "metadata": {
            "tags": []
          },
          "execution_count": 7
        }
      ]
    },
    {
      "cell_type": "code",
      "metadata": {
        "id": "_8S7IFzQSw5T",
        "colab": {
          "base_uri": "https://localhost:8080/",
          "height": 204
        },
        "outputId": "474ba0a3-b112-4afc-ac3c-f0286d91c2e5"
      },
      "source": [
        "train = train[['selected_text','sentiment']]\n",
        "train.head()"
      ],
      "execution_count": 8,
      "outputs": [
        {
          "output_type": "execute_result",
          "data": {
            "text/html": [
              "<div>\n",
              "<style scoped>\n",
              "    .dataframe tbody tr th:only-of-type {\n",
              "        vertical-align: middle;\n",
              "    }\n",
              "\n",
              "    .dataframe tbody tr th {\n",
              "        vertical-align: top;\n",
              "    }\n",
              "\n",
              "    .dataframe thead th {\n",
              "        text-align: right;\n",
              "    }\n",
              "</style>\n",
              "<table border=\"1\" class=\"dataframe\">\n",
              "  <thead>\n",
              "    <tr style=\"text-align: right;\">\n",
              "      <th></th>\n",
              "      <th>selected_text</th>\n",
              "      <th>sentiment</th>\n",
              "    </tr>\n",
              "  </thead>\n",
              "  <tbody>\n",
              "    <tr>\n",
              "      <th>0</th>\n",
              "      <td>I`d have responded, if I were going</td>\n",
              "      <td>neutral</td>\n",
              "    </tr>\n",
              "    <tr>\n",
              "      <th>1</th>\n",
              "      <td>Sooo SAD</td>\n",
              "      <td>negative</td>\n",
              "    </tr>\n",
              "    <tr>\n",
              "      <th>2</th>\n",
              "      <td>bullying me</td>\n",
              "      <td>negative</td>\n",
              "    </tr>\n",
              "    <tr>\n",
              "      <th>3</th>\n",
              "      <td>leave me alone</td>\n",
              "      <td>negative</td>\n",
              "    </tr>\n",
              "    <tr>\n",
              "      <th>4</th>\n",
              "      <td>Sons of ****,</td>\n",
              "      <td>negative</td>\n",
              "    </tr>\n",
              "  </tbody>\n",
              "</table>\n",
              "</div>"
            ],
            "text/plain": [
              "                         selected_text sentiment\n",
              "0  I`d have responded, if I were going   neutral\n",
              "1                             Sooo SAD  negative\n",
              "2                          bullying me  negative\n",
              "3                       leave me alone  negative\n",
              "4                        Sons of ****,  negative"
            ]
          },
          "metadata": {
            "tags": []
          },
          "execution_count": 8
        }
      ]
    },
    {
      "cell_type": "code",
      "metadata": {
        "id": "yE2ND19ITIOv"
      },
      "source": [
        "if (train[\"selected_text\"].isnull().sum() > 0):\n",
        "    train[\"selected_text\"].fillna(\"No content\", inplace = True)"
      ],
      "execution_count": 9,
      "outputs": []
    },
    {
      "cell_type": "markdown",
      "metadata": {
        "id": "W8wKN06fVpEn"
      },
      "source": [
        "##Data Preprocessing "
      ]
    },
    {
      "cell_type": "code",
      "metadata": {
        "id": "PiKXIAWWTwKX",
        "colab": {
          "base_uri": "https://localhost:8080/",
          "height": 669
        },
        "outputId": "26a27181-3fe0-4792-d39c-e3f2e7e4b037"
      },
      "source": [
        "train.head(20)"
      ],
      "execution_count": 10,
      "outputs": [
        {
          "output_type": "execute_result",
          "data": {
            "text/html": [
              "<div>\n",
              "<style scoped>\n",
              "    .dataframe tbody tr th:only-of-type {\n",
              "        vertical-align: middle;\n",
              "    }\n",
              "\n",
              "    .dataframe tbody tr th {\n",
              "        vertical-align: top;\n",
              "    }\n",
              "\n",
              "    .dataframe thead th {\n",
              "        text-align: right;\n",
              "    }\n",
              "</style>\n",
              "<table border=\"1\" class=\"dataframe\">\n",
              "  <thead>\n",
              "    <tr style=\"text-align: right;\">\n",
              "      <th></th>\n",
              "      <th>selected_text</th>\n",
              "      <th>sentiment</th>\n",
              "    </tr>\n",
              "  </thead>\n",
              "  <tbody>\n",
              "    <tr>\n",
              "      <th>0</th>\n",
              "      <td>I`d have responded, if I were going</td>\n",
              "      <td>neutral</td>\n",
              "    </tr>\n",
              "    <tr>\n",
              "      <th>1</th>\n",
              "      <td>Sooo SAD</td>\n",
              "      <td>negative</td>\n",
              "    </tr>\n",
              "    <tr>\n",
              "      <th>2</th>\n",
              "      <td>bullying me</td>\n",
              "      <td>negative</td>\n",
              "    </tr>\n",
              "    <tr>\n",
              "      <th>3</th>\n",
              "      <td>leave me alone</td>\n",
              "      <td>negative</td>\n",
              "    </tr>\n",
              "    <tr>\n",
              "      <th>4</th>\n",
              "      <td>Sons of ****,</td>\n",
              "      <td>negative</td>\n",
              "    </tr>\n",
              "    <tr>\n",
              "      <th>5</th>\n",
              "      <td>http://www.dothebouncy.com/smf - some shameles...</td>\n",
              "      <td>neutral</td>\n",
              "    </tr>\n",
              "    <tr>\n",
              "      <th>6</th>\n",
              "      <td>fun</td>\n",
              "      <td>positive</td>\n",
              "    </tr>\n",
              "    <tr>\n",
              "      <th>7</th>\n",
              "      <td>Soooo high</td>\n",
              "      <td>neutral</td>\n",
              "    </tr>\n",
              "    <tr>\n",
              "      <th>8</th>\n",
              "      <td>Both of you</td>\n",
              "      <td>neutral</td>\n",
              "    </tr>\n",
              "    <tr>\n",
              "      <th>9</th>\n",
              "      <td>Wow... u just became cooler.</td>\n",
              "      <td>positive</td>\n",
              "    </tr>\n",
              "    <tr>\n",
              "      <th>10</th>\n",
              "      <td>as much as i love to be hopeful, i reckon the ...</td>\n",
              "      <td>neutral</td>\n",
              "    </tr>\n",
              "    <tr>\n",
              "      <th>11</th>\n",
              "      <td>like</td>\n",
              "      <td>positive</td>\n",
              "    </tr>\n",
              "    <tr>\n",
              "      <th>12</th>\n",
              "      <td>DANGERously</td>\n",
              "      <td>negative</td>\n",
              "    </tr>\n",
              "    <tr>\n",
              "      <th>13</th>\n",
              "      <td>lost</td>\n",
              "      <td>negative</td>\n",
              "    </tr>\n",
              "    <tr>\n",
              "      <th>14</th>\n",
              "      <td>test test from the LG enV2</td>\n",
              "      <td>neutral</td>\n",
              "    </tr>\n",
              "    <tr>\n",
              "      <th>15</th>\n",
              "      <td>Uh oh, I am sunburned</td>\n",
              "      <td>negative</td>\n",
              "    </tr>\n",
              "    <tr>\n",
              "      <th>16</th>\n",
              "      <td>*sigh*</td>\n",
              "      <td>negative</td>\n",
              "    </tr>\n",
              "    <tr>\n",
              "      <th>17</th>\n",
              "      <td>sick</td>\n",
              "      <td>negative</td>\n",
              "    </tr>\n",
              "    <tr>\n",
              "      <th>18</th>\n",
              "      <td>onna</td>\n",
              "      <td>negative</td>\n",
              "    </tr>\n",
              "    <tr>\n",
              "      <th>19</th>\n",
              "      <td>Hes just not that into you</td>\n",
              "      <td>neutral</td>\n",
              "    </tr>\n",
              "  </tbody>\n",
              "</table>\n",
              "</div>"
            ],
            "text/plain": [
              "                                        selected_text sentiment\n",
              "0                 I`d have responded, if I were going   neutral\n",
              "1                                            Sooo SAD  negative\n",
              "2                                         bullying me  negative\n",
              "3                                      leave me alone  negative\n",
              "4                                       Sons of ****,  negative\n",
              "5   http://www.dothebouncy.com/smf - some shameles...   neutral\n",
              "6                                                 fun  positive\n",
              "7                                          Soooo high   neutral\n",
              "8                                         Both of you   neutral\n",
              "9                        Wow... u just became cooler.  positive\n",
              "10  as much as i love to be hopeful, i reckon the ...   neutral\n",
              "11                                               like  positive\n",
              "12                                        DANGERously  negative\n",
              "13                                               lost  negative\n",
              "14                         test test from the LG enV2   neutral\n",
              "15                              Uh oh, I am sunburned  negative\n",
              "16                                             *sigh*  negative\n",
              "17                                               sick  negative\n",
              "18                                               onna  negative\n",
              "19                         Hes just not that into you   neutral"
            ]
          },
          "metadata": {
            "tags": []
          },
          "execution_count": 10
        }
      ]
    },
    {
      "cell_type": "markdown",
      "metadata": {
        "id": "DCTXSsgEWdLd"
      },
      "source": [
        "####**Issues with the selected text** - urls, uppercase, lowercase, punctuation signs, new lines, stopwords. "
      ]
    },
    {
      "cell_type": "code",
      "metadata": {
        "id": "714KGWLfV-pI"
      },
      "source": [
        "def preproces_data(data):\n",
        "  #removing URLs with a regular expression \n",
        "  url_pattern = re.compile(r'https?://\\S+|www\\.\\S+')\n",
        "  data = url_pattern.sub(r'', data)\n",
        "\n",
        "  #remove emails \n",
        "  data = re.sub('\\S*@\\S*\\s?', '', data)\n",
        "\n",
        "  #remove new line characters \n",
        "  data = re.sub('\\s+', '', data)\n",
        "\n",
        "  #remove distracting single quotes \n",
        "  data = re.sub(\"\\'\", \"\", data)\n",
        "\n",
        "  return data \n",
        "\n"
      ],
      "execution_count": 11,
      "outputs": []
    },
    {
      "cell_type": "code",
      "metadata": {
        "id": "ChQhsvwFZz-I",
        "colab": {
          "base_uri": "https://localhost:8080/"
        },
        "outputId": "1bd1c2eb-64c1-4878-83ee-a8884d0ebe53"
      },
      "source": [
        "temp = []\n",
        "#pd series to list \n",
        "\n",
        "data_to_list = train['selected_text'].values.tolist()\n",
        "for i in range(len(data_to_list)):\n",
        "  n = preproces_data(data_to_list[i])\n",
        "  temp.append(n)\n",
        "list(temp[:20])"
      ],
      "execution_count": 12,
      "outputs": [
        {
          "output_type": "execute_result",
          "data": {
            "text/plain": [
              "['I`dhaveresponded,ifIweregoing',\n",
              " 'SoooSAD',\n",
              " 'bullyingme',\n",
              " 'leavemealone',\n",
              " 'Sonsof****,',\n",
              " '-someshamelesspluggingforthebestRangersforumonearth',\n",
              " 'fun',\n",
              " 'Soooohigh',\n",
              " 'Bothofyou',\n",
              " 'Wow...ujustbecamecooler.',\n",
              " 'asmuchasilovetobehopeful,ireckonthechancesareminimal=Pi`mnevergonnagetmycakeandstuff',\n",
              " 'like',\n",
              " 'DANGERously',\n",
              " 'lost',\n",
              " 'testtestfromtheLGenV2',\n",
              " 'Uhoh,Iamsunburned',\n",
              " '*sigh*',\n",
              " 'sick',\n",
              " 'onna',\n",
              " 'Hesjustnotthatintoyou']"
            ]
          },
          "metadata": {
            "tags": []
          },
          "execution_count": 12
        }
      ]
    },
    {
      "cell_type": "markdown",
      "metadata": {
        "id": "TRfcO00TG5Mj"
      },
      "source": [
        "###Detokenization, Stemming and Lemmatization"
      ]
    },
    {
      "cell_type": "code",
      "metadata": {
        "id": "PxHA7QqQGrMK",
        "colab": {
          "base_uri": "https://localhost:8080/"
        },
        "outputId": "6255ef1c-f031-4797-da93-a25ef60bd4a2"
      },
      "source": [
        "def sent_to_words(sentences):\n",
        "    for sentence in sentences:\n",
        "        yield(gensim.utils.simple_preprocess(str(sentence), deacc=True))  # deacc=True removes punctuations\n",
        "        \n",
        "\n",
        "data_words = list(sent_to_words(temp))\n",
        "\n",
        "print(data_words[:10])\n",
        "\n",
        "\n",
        "def detokenize(text):\n",
        "    return TreebankWordDetokenizer().detokenize(text)\n",
        "    \n",
        "data = []\n",
        "for i in range(len(data_words)):\n",
        "    \n",
        "    #for j in range(len(data_words[i])):\n",
        "        #stemming\n",
        "        #data_words[i][j] = lancaster.stem(data_words[i][j])\n",
        "        #lemmatization\n",
        "        #data_words[i][j] = data_words[i][j].format(data_words[i][j],wordnet_lemmatizer.lemmatize(data_words[i][j]))\n",
        "    \n",
        "    data.append(detokenize(data_words[i]))\n",
        "print(data[:10])"
      ],
      "execution_count": 13,
      "outputs": [
        {
          "output_type": "stream",
          "text": [
            "[['dhaveresponded', 'ifiweregoing'], ['sooosad'], ['bullyingme'], ['leavemealone'], ['sonsof'], [], ['fun'], ['soooohigh'], ['bothofyou'], ['wow']]\n",
            "['dhaveresponded ifiweregoing', 'sooosad', 'bullyingme', 'leavemealone', 'sonsof', '', 'fun', 'soooohigh', 'bothofyou', 'wow']\n"
          ],
          "name": "stdout"
        }
      ]
    },
    {
      "cell_type": "code",
      "metadata": {
        "id": "ckPuAaAIHpry"
      },
      "source": [
        "data = np.array(data)"
      ],
      "execution_count": 14,
      "outputs": []
    },
    {
      "cell_type": "markdown",
      "metadata": {
        "id": "T-60gKEGIfO2"
      },
      "source": [
        "### Label encoding "
      ]
    },
    {
      "cell_type": "code",
      "metadata": {
        "id": "ARJQC4oMIdzy"
      },
      "source": [
        "#Define class labels \n",
        "\n",
        "labels = np.array(train['sentiment'])\n",
        "y = []\n",
        "for i in range(len(labels)):\n",
        "    if labels[i] == 'neutral':\n",
        "        y.append(0)\n",
        "    if labels[i] == 'negative':\n",
        "        y.append(1)\n",
        "    if labels[i] == 'positive':\n",
        "        y.append(2)\n",
        "y = np.array(y)\n",
        "labels = tf.keras.utils.to_categorical(y, 3, dtype=\"float32\")\n",
        "del y"
      ],
      "execution_count": 15,
      "outputs": []
    },
    {
      "cell_type": "markdown",
      "metadata": {
        "id": "1mrtiyCgtD9L"
      },
      "source": [
        "### Data sequencing and splitting\n",
        "[Reference used for code](https://machinelearningmastery.com/use-word-embedding-layers-deep-learning-keras/)"
      ]
    },
    {
      "cell_type": "code",
      "metadata": {
        "id": "JkEn2DPOl3QC"
      },
      "source": [
        "from keras.models import Sequential\n",
        "from keras import layers\n",
        "from keras.optimizers import RMSprop,Adam\n",
        "from keras.preprocessing.text import Tokenizer\n",
        "from keras.preprocessing.sequence import pad_sequences\n",
        "from keras import regularizers\n",
        "from keras import backend as K\n",
        "from keras.callbacks import ModelCheckpoint"
      ],
      "execution_count": 16,
      "outputs": []
    },
    {
      "cell_type": "code",
      "metadata": {
        "colab": {
          "base_uri": "https://localhost:8080/"
        },
        "id": "S7zh04ansdq5",
        "outputId": "1b7cf790-fbc4-4fab-869a-610368bc2b62"
      },
      "source": [
        "max_words = 5000\n",
        "max_len = 200  #pad documents to a max length of 4 words \n",
        "\n",
        "#Prepare tokenizer \n",
        "\n",
        "tokenizer = Tokenizer(num_words=max_words)\n",
        "tokenizer.fit_on_texts(data)\n",
        "sequences = tokenizer.texts_to_sequences(data)\n",
        "\n",
        "#encoded docs \n",
        "\n",
        "tweets = pad_sequences(sequences, maxlen=max_len)\n",
        "print(tweets)"
      ],
      "execution_count": 21,
      "outputs": [
        {
          "output_type": "stream",
          "text": [
            "[[   0    0    0 ...    0 2224 1143]\n",
            " [   0    0    0 ...    0    0  769]\n",
            " [   0    0    0 ...    0    0 2225]\n",
            " ...\n",
            " [   0    0    0 ...    0    0    0]\n",
            " [   0    0    0 ...    0    0 2223]\n",
            " [   0    0    0 ...    0   27  129]]\n"
          ],
          "name": "stdout"
        }
      ]
    },
    {
      "cell_type": "code",
      "metadata": {
        "colab": {
          "base_uri": "https://localhost:8080/"
        },
        "id": "I-o5NTKauz8h",
        "outputId": "e922b71d-840e-4b03-b7bf-3978cda3564c"
      },
      "source": [
        "print(labels.shape)\n",
        "print(tweets.shape)"
      ],
      "execution_count": 19,
      "outputs": [
        {
          "output_type": "stream",
          "text": [
            "(27481, 3)\n",
            "(27481, 200)\n"
          ],
          "name": "stdout"
        }
      ]
    },
    {
      "cell_type": "markdown",
      "metadata": {
        "id": "DLVsY6QFAXPT"
      },
      "source": [
        "### Pretrained GloVe Embedding (experimental)\n",
        "[Reference for the code modified](https://machinelearningmastery.com/use-word-embedding-layers-deep-learning-keras/)"
      ]
    },
    {
      "cell_type": "code",
      "metadata": {
        "colab": {
          "base_uri": "https://localhost:8080/"
        },
        "id": "XlIwjyqxNZAR",
        "outputId": "68e95d9d-4fdf-4fc2-ebdc-e2fc88141701"
      },
      "source": [
        "# prepare tokenizer\n",
        "t = Tokenizer()\n",
        "t.fit_on_texts(data)\n",
        "vocab_size = len(t.word_index) + 1\n",
        "# integer encode the documents\n",
        "encoded_docs = t.texts_to_sequences(data)\n",
        "print(encoded_docs)\n",
        "\n",
        "\n",
        "max_length = 200\n",
        "padded_docs = pad_sequences(encoded_docs, maxlen=max_length, padding='post')\n",
        "print(padded_docs.shape)"
      ],
      "execution_count": 38,
      "outputs": [
        {
          "output_type": "stream",
          "text": [
            "[[2224, 1143], [769], [2225], [2226], [2227], [], [20], [2228], [2229], [30], [1144], [54], [2230], [83], [], [1145, 2231], [98], [34], [2232], [], [2233, 272], [156], [], [2234], [2235, 1, 2236, 2237, 273], [2238, 2239], [94], [572], [20], [], [2240, 2241], [24], [2242], [78], [337, 2243], [1146, 2244, 2245], [11], [], [], [2246], [2247], [2248], [2249], [2250, 2251, 2252], [2253], [2254], [2255], [], [2256], [459], [], [2257], [573, 2258], [574], [], [], [41], [2259], [2260], [], [2261], [2262], [2263], [144], [124], [2264], [196], [2265, 2266], [2267], [2268], [1147], [74], [2269, 2270, 393], [2271, 2272], [2273, 2274], [81], [1148], [2275], [2276], [58, 2277, 2278], [], [133], [], [34], [1149], [1150], [2279], [2280, 6], [2281], [38], [2282], [], [], [29], [], [], [1151], [64], [770], [46], [197], [198], [145], [298], [14], [2283], [], [3], [338], [], [206, 2284], [2285], [35], [2286, 1, 2287, 771, 31], [1152], [7, 2288], [12], [], [2289], [2290, 1153, 2291, 2292, 2293], [2294, 2295], [48], [], [1154], [2296], [2297], [2298, 2299], [575], [48], [2300], [4], [1155], [460], [12], [1156], [125], [2301, 2302, 2303, 2304], [99, 2305], [2306, 772], [], [], [274], [1157], [126, 394], [2307], [2308, 6], [773], [2309], [2310], [1158], [2311, 2312], [], [28], [299], [7], [2313, 2314], [1159], [2315, 2316, 2317, 86, 23], [1160], [2318, 1161, 2319], [774], [2320], [], [2321], [], [75], [2322], [165, 775], [13], [43], [47], [], [461], [], [2323, 2324], [], [11], [], [2325], [2326, 2327], [2328, 2329, 166, 395], [2330], [15], [12], [2331], [1162], [2332], [34], [42, 2333, 2334], [1163], [2, 1164], [], [776], [1165], [], [2335], [39], [462], [777, 463, 59], [48, 2336, 1166], [2337], [28], [2338, 2339], [2340, 778], [2341], [70], [2], [], [2342], [3], [2343], [], [87], [2344], [], [2345], [2346, 464], [2347], [2348], [], [1167, 2349], [2350], [], [], [], [], [2351, 2352, 1, 2353], [2], [], [779], [], [], [55], [2354, 300], [465, 1168, 2355], [], [2], [], [134], [301], [9], [2356, 2357], [], [], [2358, 2359, 17], [780], [2360], [], [275], [2361, 1169], [135], [2362], [207], [1170], [2363], [], [98, 2364], [55], [2365], [], [2366], [], [109, 2367], [2368, 59, 781], [2369], [], [24], [2370], [2371], [782], [2372], [65], [2373, 1171, 783, 2374], [13], [576, 88], [66], [2], [49], [3], [2375, 100], [1172], [247], [34], [], [8], [], [2], [], [], [2376], [11], [2377], [2378], [], [2379, 2380], [1, 2381], [1173], [2382], [89, 2383, 2384, 1174], [2385, 2386, 2387], [2388, 2389, 2390], [], [2391], [], [36], [49], [2392], [2393, 2394], [182], [2395], [74], [2396, 2397], [1175], [167], [2398], [2399, 2400], [2401], [], [1176], [577], [8], [], [2402, 2403], [1177], [2404, 2405, 2406, 168], [2407, 248], [2408], [2409], [67], [33], [], [2410], [2411], [146, 1, 2412], [], [], [], [249], [126], [39], [1178], [1, 2413, 2414, 109, 302], [25], [150, 273], [2415], [], [1179], [2416], [], [2417], [3], [8], [], [151], [208], [], [2418, 126], [2419, 60, 2420], [2421], [2422], [], [1180], [2423], [2424], [2425, 396, 2426], [2427], [303, 2428, 339, 183], [5], [2429], [397], [2430, 1181, 2431, 6, 2432], [1182], [], [61], [340], [2433, 2434, 2435], [2436], [341], [2437], [32], [2438, 2439, 2440, 466], [9, 467], [1183], [2], [], [], [18], [1184, 1185], [3], [2441], [2442], [2443], [2444, 250, 2445], [], [], [], [7], [28], [8], [578], [2446], [2447, 2448], [], [2449], [], [], [2450], [2451], [2452, 784], [2453], [], [], [133], [2454], [99], [1186], [], [38], [2455], [2456], [], [31, 2457], [2458], [2459, 579, 136], [3], [2460, 2461], [2462], [], [4], [2463], [47], [7, 2464], [2465, 157, 2466, 2467, 2468, 2469, 157], [], [46], [], [], [2470], [43], [2471], [2472, 98], [2473], [2474, 2475, 79], [], [1187], [58, 62, 785], [2476], [1, 2477], [7], [276], [], [398], [209], [6], [2478], [2479, 2480, 468], [12], [2481], [], [786], [], [2482, 580, 581, 37], [210, 2483], [582], [2484], [], [2485], [], [251], [9, 2486], [2487], [9, 2488], [2489], [1188], [38], [4], [277, 2490], [2491], [252], [], [16, 2492, 278], [46], [2493], [56], [469], [2494], [2495], [1189, 2496], [56], [], [151], [12], [399], [2497, 2498], [2499], [2500], [], [114], [2501], [787], [2502], [2503, 2504], [], [], [2505, 2506], [184], [], [67, 2507], [92], [2508, 788], [23], [2509], [2510, 6], [76], [49], [], [], [], [11], [304], [3], [169], [37], [2511, 400, 90, 1190], [1191, 2512, 1, 789], [], [], [], [127], [2513, 1192], [], [2514], [92], [8], [209], [1193], [2515, 273], [2516], [], [], [2517], [342], [2518, 2519], [10, 152], [12], [343], [2520, 2521], [2522], [253], [2523, 1194], [2524], [], [2525], [73], [], [54], [2526], [1195, 2527], [110], [2528, 10, 2529], [31, 2530], [95], [26], [10, 2531], [2532, 2533], [], [2534], [2535], [], [7, 223], [], [], [2536], [70], [8], [2537, 135, 135, 1196], [2538, 2539], [2540], [], [198], [2541, 464, 2542, 2543], [2544, 168, 470, 2545], [14], [2], [], [73], [62, 2546], [], [25], [68], [64], [20], [], [2547, 2548], [1197], [], [2549], [90, 279, 1, 2550, 101, 2551], [2552], [2553], [25], [2554], [2555], [2556], [], [86], [2557, 2558], [2559], [13], [2560], [14], [], [2561], [2562], [81, 59], [], [], [], [110], [26, 2563, 1198], [], [471], [2564], [83], [2565, 2566], [2567, 2568], [4], [344, 2569, 2570, 2571], [2572], [44], [2573, 2574, 102], [2575], [1199], [], [], [], [33], [], [19, 21], [], [8], [44], [2576], [], [1200, 224, 2577, 2578, 2579, 137], [280], [1201], [35], [2580, 2581, 2582], [2583], [], [472], [345], [78], [2584], [281], [7], [], [473], [57], [110], [2585], [], [], [2586], [94], [22], [2587, 146], [5], [], [4], [2588, 2589], [83], [], [], [], [], [2590, 583], [2591], [3], [3], [42, 1202, 2592, 2593], [], [2594], [2595], [2596], [], [], [2597], [13], [2598, 2599, 2600], [2601], [305], [3], [], [2602], [], [2603, 2604, 2605], [2606], [57], [2607, 26], [15, 1203, 15, 2608], [2609], [], [32], [], [2610], [1204], [2611], [2612], [282], [], [], [2613], [78], [82, 2614], [2615], [274], [2616], [], [4], [43], [790], [5], [25], [584], [2617], [2618], [], [54], [2619, 2620, 2621], [], [20], [], [2622], [105], [5], [2623, 2624], [206], [1, 791], [], [185, 1205], [184], [92], [2625], [1206], [2626, 100], [74], [30, 2627], [], [3, 792], [585], [1207], [1208, 2628], [2629, 2630, 346, 2631, 6], [2632], [473], [2633], [150, 183], [73], [], [], [7, 2634], [2635, 1209, 2636, 2637], [2638, 347, 2639], [2640], [5], [], [], [793, 1210, 2641, 1211], [13], [13], [1212, 6, 2], [586], [794, 587], [], [], [2642], [57], [2643, 283, 283, 76], [795], [], [2644], [2645], [77, 796, 2646, 1213, 1214], [], [2647], [2648, 2649, 2650, 2651], [588], [], [], [], [19, 2652, 55], [], [17], [46], [], [93], [2653], [], [2654, 2655], [], [37], [], [134], [589, 2656, 2657], [1215], [10, 2658], [], [2659], [], [2660], [2661], [2662, 101], [115], [13], [12], [2663], [147], [2664], [186], [797], [4], [798], [2665, 2666, 1216, 474, 2667], [], [], [401], [402], [2], [2668, 182, 2669, 275], [40], [2670], [16, 799], [2671], [], [2672, 31], [], [2673, 119, 2674], [], [4], [4], [49], [56], [], [], [], [135, 2675, 2676, 2677, 2678], [2679], [], [2680], [], [2681], [], [], [], [2682], [10], [], [], [], [], [10, 590], [2683], [2684], [2685], [], [1187, 2686], [2687, 2688], [], [2689], [1217], [14], [2690], [93], [27], [18], [8], [2691], [40], [2692, 2693], [], [8], [2694, 2695], [2696], [2697, 2698, 6], [1], [2699], [475, 475, 475, 109, 2700, 89], [13], [2701], [], [2702, 225], [2703, 6, 69, 2704], [169], [], [], [12], [4], [1218], [2705, 2706], [138], [591], [81, 2707], [2708], [61, 9, 2709], [248], [2710], [], [1219], [2711, 1], [197], [2712], [2713], [2714], [2715, 468], [22], [2], [], [138], [], [2716], [2717], [2718], [2], [800], [170], [], [1220], [], [2719], [1221], [2720], [128], [2721], [24], [2722], [592, 2723], [2724, 2725, 2726], [2727], [2728, 2729, 476], [473], [340], [2730], [], [], [2731], [2732], [2733], [], [2734], [55], [2735, 2736], [2], [3], [2737], [284], [2738], [1222], [2739, 2740], [43], [593, 6], [], [2741], [], [2742, 1, 2743, 1223], [], [2744], [], [2745, 2746], [1224], [], [4], [14], [801], [], [40], [84], [3], [3], [2747], [], [2748], [1225], [139], [2749, 2750], [], [], [2], [71], [74], [], [2751], [304], [2752], [2753], [], [187, 2754], [], [2755, 2756], [], [211], [4], [226], [2], [2757], [], [169], [171], [9, 2758], [227], [2759, 15, 1226], [], [87, 2760], [35], [802], [51], [], [3], [35], [], [2761], [2762, 2763, 2764, 2765, 1227, 1228, 2766, 2767, 2768], [19, 2769, 2770, 2771], [], [2772], [5], [594], [1], [3], [99], [25], [], [2773], [2774, 2775], [99], [348, 2776], [], [], [], [], [2777], [83], [2778, 1229, 172], [], [44, 173], [], [2779], [2780], [1230, 2781, 803, 96, 477], [2782, 2783], [165, 37, 2784, 6], [], [2785, 2786], [804], [], [2787], [2788], [2789, 2790, 2791], [4], [2792], [478, 2793], [52], [13], [2794, 5], [805], [23, 2795, 2796], [1231], [2797], [2798], [19, 21], [33], [44, 1232, 101], [], [], [22], [], [2799], [6], [2800], [2801], [], [2802], [2803], [2804], [2], [301], [], [306], [], [95], [2805, 91, 1233, 595], [], [5], [2806], [2807], [], [], [8], [254], [2808], [14], [2809], [2810], [2811], [2812], [806, 2813], [], [29], [103], [460], [2814, 2815], [106, 807], [2816], [2], [2817], [48], [], [2818], [], [2819], [2820], [2821], [2822], [20], [], [808, 2823, 2824], [349, 2825, 2826], [2827, 15, 479, 2828, 15, 2829, 2830, 2831], [2832], [2833, 2834], [12], [], [], [2835], [2836], [3], [2837, 809, 1234, 2838], [274], [50], [2], [2], [], [119, 1235], [2839], [188], [2], [], [158, 2840, 2841], [3], [2842], [], [2843, 596, 2844], [77, 129], [2845, 2846], [342], [14], [129], [], [810], [], [97], [2847, 597, 2848, 10, 2849, 2850], [1236, 2851], [2852, 2853], [], [2854], [1, 2855], [7, 2856], [480], [], [2857, 2858, 2859, 2860], [811], [2861], [2862], [2863], [], [], [3], [2864], [], [14], [306], [2865, 17], [], [69], [], [25], [124], [2866], [2867, 2868], [2869], [2870], [2871], [1159, 119, 1, 2872], [], [2873, 2874, 2875, 45, 2876], [598], [2877], [1237], [], [22], [], [], [2878], [], [34, 2879, 10, 1238, 2880], [1, 2881, 2882], [13], [350], [], [2883], [599], [812], [4], [34], [2884], [], [2885], [77], [], [], [2886], [], [], [], [772, 2887, 2888], [8], [], [1239, 153, 174], [], [], [6, 2889, 2890], [], [], [68], [], [], [2891], [], [813], [250], [], [41], [83], [464], [2892, 1240], [], [3], [], [600], [2893], [2894, 2895, 2896], [1241], [], [1242], [], [2897], [], [2898], [], [188], [], [2899], [2900], [2901], [7, 223, 2902, 212], [2903], [189, 9], [2904], [2905], [61], [2906, 2907], [42, 2908, 347, 2909, 2910], [], [], [2911], [30], [], [23, 2912, 2913], [2914], [54], [148], [2915], [116, 2916, 601, 307], [17], [], [2917], [22], [2918], [4], [2919], [814], [120], [], [2920], [2921, 2922, 481, 2923, 2924, 2925], [2926], [1243], [782], [175], [], [13], [7], [283], [2927], [6], [2928, 815, 2929], [469], [], [], [], [], [], [2930], [2931], [816, 88, 2932], [2933, 403], [], [2934, 1244, 6], [], [], [2935, 2936, 2937], [2938], [], [], [85], [2939], [50], [10], [2940], [2941], [], [2942], [2943, 2944, 2945], [2946, 2947, 2948, 602, 2949], [2950], [], [], [2951], [], [2952], [60], [5], [2953, 2954, 255, 1144, 2955], [], [603], [], [2956, 2957, 2958, 7, 87, 23, 101], [], [], [404, 2959], [], [95], [35], [2960], [604, 190, 2961], [140], [3], [45, 2962], [72], [50], [], [], [], [], [], [49], [], [41], [1, 2963], [2964], [2965], [], [1245], [], [2966], [32], [2967], [2968, 2969], [2970], [817, 2971], [2972], [], [2973, 256, 605, 2974], [], [11], [3], [405, 2975, 10, 121, 117, 2976, 45, 2977], [], [249], [606], [7, 2978], [285], [49], [2979], [2980], [308], [], [17], [2981], [482, 2982], [2983], [], [], [], [18, 1246], [], [], [6], [], [75], [], [3], [309], [12], [483], [], [130], [818, 2984], [], [1247], [], [], [2985], [], [67], [32], [40], [2986], [2987], [2988], [], [2989], [52], [2990], [19], [2991], [], [], [286], [72], [85], [1248], [4], [2992, 224], [2993], [2994], [], [2995], [2996], [], [16, 1249], [], [607], [26], [6], [], [2], [22], [], [2997, 2998], [3], [11], [], [51, 2999], [41], [3000], [13], [4], [169], [199], [], [15], [35], [3001], [3002, 3003], [310], [], [], [3004], [], [3005], [], [8], [3006], [3007], [3008], [228, 3009, 3010, 3011, 104], [], [3012], [5], [3013, 7], [3014, 484, 3015, 3016], [2], [], [3017], [406], [], [3018, 485, 257], [3019], [3020], [7, 351], [486], [2], [], [], [12], [3021, 3022], [3023], [3024], [], [3025], [], [3026, 10, 3027], [3028], [16, 229], [3029], [1, 3030], [], [3031], [3032, 3033, 176], [3034], [48, 487], [], [3035, 3036], [84], [3037], [], [], [3038, 3039, 3040, 3041], [1250], [53], [3042], [], [3043], [3044], [3045, 3046, 3047, 1251, 141], [77], [7], [1241], [11], [1252], [3048, 3049], [], [111], [3050], [3051, 3052, 3053, 602, 608, 3054], [3055], [407, 3056], [], [1253, 1254], [3057, 3058], [3059, 3060], [3061], [488], [], [25], [142], [819], [], [3062], [], [3063], [3064, 3065, 3066, 44, 3067], [3068, 3069, 1255], [820], [821], [3070, 607], [], [3071], [73], [116, 3072], [3073], [21], [3074], [1256], [3075, 3076, 177, 3077], [30, 9, 175], [282], [352], [3078], [18], [3079, 3080], [124], [3081], [1, 230], [609, 3082, 185, 609, 3083, 3084, 3085], [3086], [52], [3087], [6], [3088], [4], [14], [], [1257], [1258], [3089, 403, 3090], [26], [153, 174], [], [3091], [4], [], [1259], [15, 3092], [3093, 122], [610, 1260, 3094, 1261, 3095, 3096], [1262], [], [173], [3097], [142], [], [76], [1263], [3098], [258, 3099], [2], [1264], [13, 3100], [11], [1265, 3101, 3102, 489], [41], [], [349, 3103, 481, 15], [822], [3104, 3105], [3106], [42, 3107], [29], [3108], [13], [68], [3109], [3110], [3111, 350, 1266], [3112], [7, 223, 3113], [1, 3114], [408], [116, 3115], [35], [8], [], [7, 3116], [], [3117, 1267], [33], [823], [36], [3118], [], [1268], [353, 34], [409, 3119, 611], [], [3], [1269], [231], [], [107], [354], [], [3120], [13], [3121, 3122, 3123, 185], [93], [], [166], [3124], [], [3125, 117, 3126], [3127], [26], [350, 3128], [232], [789], [208], [3129, 3130], [], [6], [8], [65], [1270], [], [1271], [47], [3131], [128, 3132, 3133, 3134], [38], [], [5, 3135], [], [3136], [32], [], [3137, 3138], [2], [], [104], [3139], [3140], [], [], [576, 3141], [3142], [], [3143], [1272], [3144], [], [], [3], [], [], [3145], [410, 80], [3146], [1273], [], [24], [41], [], [3147], [], [127], [3148], [283], [824], [3149, 3150, 3151, 3152, 3153], [], [], [], [3154, 3155, 3156], [3157, 3158], [3159], [], [3160], [3161], [286], [43], [19, 21], [], [8], [3162], [3163], [3164], [3165, 3166, 3167], [110], [75], [16, 3168], [138], [18, 3169, 18, 3170], [], [355], [40], [], [], [145], [14], [3171], [4], [356], [118], [490, 43], [], [3172, 3173], [3174], [], [3175, 3176, 86], [], [612, 3177, 3178], [3179, 3180, 42], [60], [], [27, 3181], [], [38], [3182], [], [143], [3183], [825], [7, 613], [357, 3184, 826, 3185, 3186, 3187, 827, 3188], [309], [4], [], [], [3189], [], [23, 1274], [118], [828], [], [3190], [411], [], [14], [], [3191], [3192, 79], [3193], [24], [76], [], [3194, 3195], [27], [33], [], [1275], [17], [459, 1276], [3196], [829], [3197], [], [3198, 3199], [], [35], [], [], [3200], [3], [1277], [4], [3201], [], [3202], [3203], [1], [3204], [], [3205], [491, 3206], [3207, 102], [287], [], [3208, 10, 3209], [3210], [], [106, 1278, 107], [1], [830], [3211], [3212], [232], [3213, 1279], [3214], [3215], [831], [4], [], [408], [177], [3216], [148], [1280, 3217], [], [13], [], [492], [], [], [493], [200], [3218], [3219, 3220, 7], [832, 3221], [114], [833], [17], [3222], [3223], [3224], [3225], [33], [3226], [11], [3227], [3228], [], [], [5], [3229], [], [1281], [834], [835, 3230], [614, 1282, 3231], [56], [52], [102], [39], [836], [311], [3232], [], [575, 3233, 3234], [494], [3235], [], [59], [], [1, 3236], [], [3237, 3238, 3239], [], [43], [13], [], [3240, 3241, 312], [1283, 3242], [3243], [3244], [3245, 3246], [], [3247], [3248], [13], [495], [3249, 496], [], [52], [213], [], [3250], [3251, 3252, 348], [], [497, 3253], [3254], [498, 3255], [27, 1284, 351, 122], [], [11], [3256], [3257], [3258], [14], [3259, 3260], [259], [3261, 79, 3262, 3263, 1285], [], [], [3264], [615], [358, 64], [1286], [3265], [213], [], [3266], [1287], [62, 3267], [313], [], [], [3268], [3269, 3270, 9, 789, 3271], [62, 17], [3272], [], [3273, 102], [5], [3274], [1288], [499, 3275, 3276], [], [11], [9, 3277], [], [47], [7, 3278], [], [3279], [3280, 3281], [], [3282], [], [260], [], [124], [5], [], [1289], [1290], [3283], [3284], [], [], [837, 3285], [8], [3286, 44], [3287], [54], [3288, 3289], [3290], [3291, 3292, 3293], [201], [3294], [12], [3295], [3296], [3297, 60, 616, 3298], [149, 500], [9, 3299], [501], [254], [], [3300], [], [], [53], [], [3301, 3302], [3303, 3304], [], [], [10, 3305], [], [], [3306], [1], [], [13], [], [1291, 3307], [134], [], [3], [], [3308, 3309], [22], [3310], [], [], [45], [288, 3311], [], [1], [], [], [289], [8], [3312], [3313], [], [3314, 3315], [149], [359], [838], [], [], [1292], [8], [], [3316], [1293], [17], [], [3317, 3318], [3319, 3320, 3321], [3322], [], [], [3323, 3324], [3325], [], [], [360], [14], [14], [3326, 3327], [20], [3328, 62, 3329], [3330, 3331], [1, 3332, 3333, 3334], [], [2], [214], [3335], [3336], [], [], [3337], [3338, 3339], [11], [47], [], [47, 3340, 3341], [492], [3342], [10, 3343, 3344], [25], [], [], [3345], [], [18], [], [3346], [], [3347], [13], [], [], [3348], [], [], [304], [1294], [], [17], [55], [], [54], [3349, 3350], [3351], [185], [], [], [3352], [3353], [], [82, 131], [361], [18, 3354], [25], [502, 1295], [74], [], [2], [3355, 3356], [37, 3357], [3358, 3359], [3360, 3361, 3362], [3363], [3364], [28], [2], [8], [], [3365], [], [3366], [13], [], [], [37], [54], [184], [], [], [], [4], [], [3367], [1296], [3368], [3369], [3370], [], [259], [], [3371], [1294], [1297], [], [], [], [1298, 3372, 3373], [], [15, 3374], [3], [], [3375], [3376], [186], [412], [261], [3377, 3378, 3379], [3380, 3381, 3382, 3383], [1299], [], [38], [3384], [], [45, 503, 617], [3385], [13], [], [3386], [4], [17, 123], [839, 3387], [], [], [66], [3388], [186], [], [3389], [], [3390, 3391, 154, 3392], [1, 3393], [1300], [], [3394], [3395], [3396, 3397, 3398, 3399], [3400], [287], [3401], [], [1301], [11], [167], [], [2], [233], [77], [840], [1], [], [3402, 3403], [3404], [3405], [3406], [362], [], [], [1302], [], [3407], [28], [], [], [3408], [17], [43], [3409], [105], [82, 3410], [3411], [158, 3412], [], [3413, 6], [3414], [], [3415, 3416], [], [32], [], [47], [234], [20], [], [60], [1, 3417, 3418, 146, 104, 1303], [], [3419, 3420, 3421], [504], [5], [3422], [72, 3423], [3424, 3425], [11], [], [3426], [], [5], [], [3427], [138], [20], [116, 3428], [5], [3429], [133, 18, 3430], [], [], [24], [12], [3431, 235, 3432], [15, 479], [], [], [363], [3433, 31], [], [34], [618, 103, 103, 103], [3434], [27], [3435, 841], [139], [70], [482, 3436], [494], [3437, 3438, 3439], [460], [], [8], [], [], [257], [1304], [3440], [178], [236, 15, 3441], [1305], [], [], [3442], [3443], [30], [11], [], [3444], [3445, 3446, 290], [], [3447], [], [289], [], [10, 3448], [3449], [99], [], [3450], [3451, 3452], [1, 3453, 179, 3454], [], [361], [85], [3455], [291], [3456], [3457], [3458], [165, 410], [3459], [3460], [842, 3461], [3462], [], [619, 3463, 3464], [], [6, 3465], [3466, 3467, 3468], [], [3469], [843], [], [1306, 3470, 3471], [351, 413, 351], [3472, 3473, 3474], [3475], [1307, 844], [215], [3476], [1308], [3477], [314], [65], [89], [3478, 3479], [3480], [], [], [3481, 63], [], [], [5], [4], [], [8], [3482], [401], [], [], [3483], [776, 1309], [3484], [], [414], [159], [1310, 1311, 9, 845, 1310, 1311], [846], [], [], [3485, 847], [3486, 3487], [3488], [15, 272, 69], [], [3489], [3490], [3491], [24], [3], [505], [3492], [], [10, 152], [], [47], [188], [1312], [], [], [19, 21], [3493, 3494], [364], [23, 101], [], [], [155], [90, 3495], [175], [], [3496, 1313, 3497], [], [41], [3498], [25], [848, 1, 3499], [3500, 3501, 3502], [3503, 3504], [], [849], [620, 3505], [], [26, 415], [45, 3506, 3507, 3508, 1314, 3509, 17], [3510, 3511, 96], [850], [3512], [3513, 3514, 15], [3515, 3516], [3517], [3518], [3519], [3520], [3], [139], [3521], [6, 237], [3], [], [3522], [], [], [8], [3523], [3524], [3525], [3526], [], [3527], [], [], [], [621], [3528], [3529], [18, 3530], [], [1315], [34], [3531, 15], [622], [3532, 3533], [3534, 3535], [7, 3536], [], [3537, 851], [3538, 3539], [3540], [], [], [], [623, 3541], [1316], [315, 852], [2], [], [3542], [], [305], [3543], [3544, 3545], [624, 3546], [3547, 498, 3548], [3549, 117], [1317], [119, 3550], [1318], [14], [3551], [3552], [3553, 3554], [3555], [18], [], [1, 3556], [3557], [3558], [14], [6, 3559], [], [3560], [4], [172, 3561, 3562], [], [3563], [], [1, 3564], [3565, 3566], [3567], [1], [365], [], [], [8], [3568], [], [], [3569], [3570, 273, 476], [104], [], [3571, 3572], [275, 3573, 235, 3574, 40], [], [3575, 18, 3576], [3577, 3578], [], [8], [1319], [1320], [], [3579, 3580], [3581, 3582], [3583], [366, 69], [], [506], [507], [], [], [14], [3584], [499, 1321], [3585, 3586], [3587], [3588, 3589], [7, 625], [4], [481, 1298, 3590], [], [], [138], [], [71, 1, 1322, 583], [3591], [3592], [626], [3593], [], [13], [3594, 508, 3595], [1323], [1324], [3596], [3597, 6], [227], [3598], [8], [3599, 1197], [33], [], [1325, 3600], [23], [7, 3601], [46], [3602], [124], [], [3603, 38], [3604, 627], [], [198, 3605, 300], [58], [3606, 509], [416], [3607], [3608, 3609, 3610, 3611], [], [3612], [145], [99], [], [3613], [3614], [3615, 10], [160], [216], [], [3616], [510], [3617, 3618, 69], [19, 21], [1189, 10, 26], [8], [161], [], [], [89, 3619, 3620], [3621], [], [], [3622], [3623], [3624], [1326], [], [], [], [3625], [1327], [3626], [], [], [1328], [28], [3627], [502], [124], [3628, 3629, 3630, 6], [95], [3631], [47], [3632, 3633, 3634, 3635], [10, 3636, 3637], [511], [8], [417], [3638], [20], [3639, 3640, 367], [2], [], [30], [853], [1329], [110], [5], [], [55], [3641], [3642, 3643, 3644], [3645], [128, 3646], [1330, 3647], [23], [594], [], [], [], [3648], [292], [], [3649], [], [3650], [], [], [3651], [], [368], [3652], [628], [3653, 3654, 854], [1331], [93], [], [125], [3655], [], [3656], [3657], [104], [3658], [98, 3659], [14], [1332, 3660, 59], [512], [35], [147], [], [29], [1333], [], [], [58], [], [1334], [3661], [], [], [117, 67, 3662], [2], [3663], [3664], [110], [3665], [316], [217, 3666, 3667, 1335, 3668], [159], [45], [3669], [3670], [32], [3671, 3672], [9], [3673], [39], [3674, 3675], [585], [3676, 3677, 3678, 3679, 3680], [], [], [2], [], [65, 6], [3681], [3682], [], [], [3683], [3684], [14], [3685, 3686], [3687, 51, 3688], [16, 3689], [], [1336], [], [1337], [3690], [14], [], [3691], [3692], [3693], [855], [3694], [34], [39], [3695], [], [3696, 3697, 418], [1], [231], [1, 218, 1338], [8], [262], [3698, 477, 37, 279, 3699, 119, 3700], [16], [3701], [49], [8], [5], [], [3702], [3], [], [3703], [3704, 3705], [3706], [6, 3707], [93, 1339, 3708], [], [3709], [3710], [3711], [], [3712], [3713, 1340, 63], [3], [3714, 1341], [798], [3715], [162], [3716, 7], [3717], [3718, 3719], [3720], [], [], [61], [41], [494], [12], [3721], [], [3722, 3723], [3724], [36], [2], [28], [3725], [46], [], [17], [3726], [61], [81], [2], [856], [1342, 19, 21, 3727, 1334], [191], [1343], [3728], [3729], [577, 3730, 3731], [], [3732], [], [], [], [86], [419, 90], [], [], [3733], [], [24], [4], [39], [], [], [3734], [1344], [3735], [11], [7], [364], [105, 3736], [3737], [3738], [857], [3739], [3740, 3741], [3742], [18], [], [], [182, 3743], [218], [], [56], [190, 258, 3744, 1345], [21], [513], [], [], [3745], [6], [3746], [], [1149], [3747, 3748, 3749], [], [3750], [], [1346], [3751, 3752], [], [43], [], [], [3753], [4], [3754], [103], [231], [], [8], [], [3755], [12], [3756], [3757, 3758, 26], [3759, 3760, 1347], [3761, 3762], [3], [], [], [1], [3763], [369], [344, 629], [52], [3764, 420, 3765], [13], [], [3766], [], [3767], [], [], [], [], [], [55], [1348], [], [3768], [153, 174], [], [3769], [615, 3770], [], [25], [], [119, 1349], [], [3771], [35], [1336], [3772], [151], [3773], [630, 218, 3774], [3775], [], [1350], [370], [], [95], [], [], [], [149, 317], [3776, 3777], [304, 3778, 3779, 3780, 3781], [3782], [3783], [3784, 3785, 3786], [], [56], [], [], [34], [74], [3787], [3788], [3789, 858], [45], [3790], [], [3791], [2], [3792, 1, 7, 3793], [182], [631], [], [3794], [3795], [], [], [3796, 3797, 3798, 6], [54], [3799, 3800], [11], [3801], [], [165], [1351], [9, 3802], [859], [3803, 192], [3804], [3805, 3806, 3807, 3808, 3809], [3810, 3811], [35], [85], [104, 104], [], [], [261], [], [3812], [3813], [3814, 81], [3815], [1352], [], [], [], [632], [3816, 3817, 3818], [3819, 597], [3820], [], [18, 206], [], [68], [], [20], [127, 3821], [], [], [3822], [], [3823], [78], [60], [633], [], [3824], [], [], [3825], [], [1353], [], [826], [3826], [84], [3827], [237], [52, 1354], [77, 94], [4], [3828], [235, 3829], [834, 18], [1, 196], [3830], [5], [3831], [1355, 3832], [78], [17], [14], [2], [3833], [12], [238], [3834], [], [1356], [3835], [3836], [76], [12], [217, 3837], [11], [], [3838, 3839], [], [860], [1357], [634], [1358], [3], [3840], [], [11], [], [12], [3841, 1359], [], [3], [], [3842], [3843, 635], [1360, 3844], [23, 17, 177], [], [1361], [71, 143], [3845, 3846, 3847], [3848], [585], [279], [39], [3849], [514], [24], [], [3850], [43], [105, 636, 1], [39], [61], [3851], [247], [], [], [515], [38], [3852], [110], [3853, 3854], [12], [861], [], [93], [3855], [3856], [], [3857], [3858, 371, 3859], [], [3860, 146, 3861, 202, 3862], [3863, 862], [], [70], [3864], [1362], [3865], [156], [13], [3866, 1363, 3867, 318], [3868], [421], [38], [106, 3869, 1364, 3870], [372], [], [9], [3871], [39], [], [516], [9], [178, 3872, 3873], [3874], [3, 15, 21], [], [293], [3875, 863], [3876], [5], [3877], [43], [153, 174], [3878], [105], [864, 3879], [3880], [], [26], [3881, 3882, 150, 3883], [348, 850, 27], [3884], [14], [], [188], [3885], [11], [], [], [515], [3886], [43], [3887, 3888], [3889, 12], [], [3890], [3891, 3892], [76], [], [306], [], [3893], [284], [11], [], [3894], [], [3895], [58, 351], [112], [3896], [369], [], [132], [60, 3897], [489], [3898], [], [], [], [86], [3899], [3900], [865], [3901], [], [], [40], [3902, 175], [97], [3903], [1365], [3904, 9, 3905], [1, 3906], [6, 17], [], [3907], [637], [3908], [24], [17], [], [3909], [1366], [124], [], [319], [3910], [3911], [], [3912, 9, 1367], [3913], [249], [], [3914], [3915, 3916], [], [], [], [23], [3917], [], [45, 9, 1368, 288], [638], [2], [3918], [45, 3919, 3920], [], [3921], [3922], [3923, 3924], [], [5], [515], [309, 3925], [43], [], [3926], [130, 23], [3927, 3928], [19, 21], [13], [4], [106], [71, 8, 6], [3929], [24], [3930], [3931], [1369], [], [], [3932], [3933], [35], [3934, 3935, 17], [281], [], [71, 36], [50], [639], [263, 3936, 3937], [146, 3938], [3939], [3940], [422], [], [], [3], [3941, 10], [], [3942], [866], [3943], [3], [3944], [3945], [3946], [3947, 3948, 867, 3949, 63], [3950, 1, 3951, 480, 3952], [83], [3953], [], [3954], [64], [], [7], [68], [868], [39], [], [3955], [869, 1370], [], [126], [1371, 3956, 640, 3957, 3958], [4], [], [53], [3959], [], [3960, 173], [3961, 3962, 870, 3963], [253], [], [3964], [190], [], [19], [3965], [], [43], [], [7], [], [], [3966], [], [], [], [3967], [1372, 871], [3968, 3969], [74], [1373], [368, 3970], [2], [], [], [], [12], [3971], [3972], [], [1374], [3973, 3974, 3975], [4], [405], [4], [373], [138], [3976, 3977], [3978], [47], [], [3979, 3980, 1375], [156], [15, 3981, 320, 641], [28], [3982], [3983, 3984, 3985], [], [22], [], [10, 121], [], [3986], [3987, 517], [], [3988], [3989], [3990, 1376], [818], [3991, 119, 3992], [3993], [3994], [36], [], [], [21], [], [3995, 3996, 136], [3997], [], [39], [36], [], [3998], [3999, 6, 4000], [], [30], [1377, 4001, 4002, 4003], [771, 131], [642], [51, 4004, 4005, 4006, 4007], [], [145], [], [], [872], [1239], [4008], [4009], [4010], [4011, 4012], [82, 4013], [4014], [], [162], [4015], [4], [43], [4016, 4017, 873], [], [4018], [572], [], [239], [], [93, 15, 4019, 487], [124], [4020], [], [2], [4021], [4022], [], [4023], [4024, 27, 4025], [4026], [1, 4027, 4028, 874], [875, 15, 4029], [4030, 1256], [4031], [518], [1, 1378, 10, 643, 91, 1379], [4032], [177], [876], [877], [46], [], [45], [16], [4033, 4034, 4035], [769], [4036], [3], [1], [], [4037], [34], [4038, 609, 4039], [34], [4040], [4041, 160], [98], [4042], [], [374, 4043], [4044], [27], [5], [50], [52], [1380], [], [4045], [], [462], [], [82, 4046], [316], [4047, 4048], [3], [1354], [372], [4049], [878, 4050], [4051, 1381], [4052, 4053], [12], [1382], [], [4054], [4055], [4056], [4057, 4058], [169], [4059], [], [519], [4060, 4061, 4062, 4063, 4064], [4065, 4066], [4067], [], [], [121, 16, 4068, 4069, 4070], [38], [4071, 4072], [55], [3], [], [], [4073], [402], [], [16, 229], [13], [4074], [12], [43], [2], [160], [], [], [4075, 4076], [], [17, 65], [191], [4077], [], [4078], [], [], [187, 1383], [4079], [4080, 520], [61], [1384], [1385], [18, 4081], [4082], [4083], [802], [4084], [], [4085], [4086], [4087], [4088, 1386, 100], [192], [13], [4089], [4090], [], [17], [206], [6, 16, 4091], [4092, 4093], [482, 4094], [1304], [62, 4095], [521], [4096, 4097, 63, 4098], [644], [4099, 4100], [9, 4101], [53], [482], [879], [4102], [4103, 4104], [39], [4105], [72], [4106, 4107, 23], [4108, 26], [4109], [], [4110], [1387, 4111, 4112], [60], [4113, 109, 4114], [11], [24], [4115, 4116], [423], [1388], [4117], [4118], [110], [4119], [], [375], [], [4120], [], [4121], [28], [1389], [], [4122, 4123], [1390], [8], [1391, 1211], [4124], [4125], [4126], [4127], [40, 4128], [], [37], [216], [424], [], [289, 4129, 4130], [], [38], [4131], [52], [4132], [1392], [4133, 4134], [98], [4135], [], [248], [], [16, 880], [4136], [72], [4137], [4138, 1393, 4139, 4140, 4141], [264, 4142], [38], [], [37], [265], [4143], [6], [], [4], [4144, 425, 15], [639], [4145], [2], [881], [65, 117], [14], [4146, 4147], [4148], [4149], [97], [4150], [9], [], [109, 321, 421], [], [74], [4151], [], [], [200], [], [11], [1394], [22], [4152], [], [4153], [4154], [511], [], [], [882], [4155, 4156], [], [148], [], [522], [], [4157], [4158], [], [4159], [], [883], [], [4160], [], [240], [837, 4161], [778], [], [], [4162], [], [4163, 4164, 4165], [1, 4166], [5], [4167], [4168], [4169], [4170, 9, 4171, 884, 4172, 4173, 4174, 4175], [645], [], [87], [4176], [4177], [97], [], [], [4178], [], [4179, 4180, 4181], [4182], [98, 426], [12], [17], [], [], [], [4183], [40], [214], [4184, 4185], [126], [7, 4186], [35], [13], [4187], [11], [4188, 193, 4189], [20], [14], [], [4190], [4191, 4192], [4193], [4194, 42, 4195], [10], [4196], [], [4197, 4198, 4199], [4200, 4201], [], [4202], [], [1395], [4203], [4204, 4205], [79, 4206], [24], [3], [4207], [], [4208], [4209, 17], [], [4210], [368], [4211], [], [4212], [4213], [4214, 4215, 1396, 4216], [4217], [8, 4218], [523], [], [11], [], [2], [5], [33], [24], [4219], [4220], [9, 646], [885, 4221, 835, 357], [], [1397], [353], [4222], [4223, 278], [197], [4224, 4225], [600], [4226, 4227], [], [], [886], [], [12], [74], [14], [6], [4228], [4], [4229, 640, 4230], [4231], [219], [], [48, 524, 44], [376, 29], [], [4232, 300], [14], [4233, 4234, 1398], [], [16], [4235], [12], [], [4236], [4237], [4238], [], [30], [1399], [4239], [12], [647], [], [140], [1400], [], [4], [313], [], [22], [285], [887], [4240], [154, 4241], [], [6, 1401, 9, 4242], [4243], [4244], [85], [1402, 4245, 4246], [648], [], [4247], [4248, 649, 127, 650], [], [1403, 4249, 651, 4250, 1404], [1405], [10, 26, 4251, 4252], [9, 4253], [2], [], [6], [4254], [92], [4255], [1406], [], [2], [4256], [3], [4257], [79, 6], [], [144], [1], [252], [], [], [4258], [4259], [1407], [4], [15], [494], [], [210, 256], [1408, 4260], [], [16, 4261, 4262], [], [1409], [4263], [], [5], [1410], [4264], [], [], [64], [401], [4265], [206, 626], [4266, 4267], [4268], [4269, 6], [], [66], [91, 4270], [], [652, 280, 377, 4271, 63], [14], [653], [], [460], [654, 4272, 4273], [], [10, 4274], [4275, 870], [], [4276], [], [], [], [4277, 108, 4278, 108, 108, 108, 7, 4279], [], [471], [1411], [], [48, 77, 888], [], [49], [], [4280, 4281], [129], [4282], [4283], [34], [], [4284], [1184], [2], [4285, 1412, 4286], [], [4287, 4288, 4289], [], [4290], [259], [19, 1413], [5], [4291], [], [], [4292], [56], [8], [4293], [247], [], [], [4], [4294, 1], [38], [28], [17], [], [287], [1414], [162], [4295], [2], [4296], [4297], [18], [256], [1415], [110], [22], [1193], [110], [16, 858], [], [4298], [], [50], [4299], [4300, 238, 312, 4301], [358], [1], [22], [], [215, 4302], [4303, 10], [], [4304], [1416, 592, 1417, 210], [29], [], [], [20], [3, 4305, 4306, 123], [143], [], [71, 4307, 4308], [283, 655, 1418], [], [], [4309], [190, 4310], [52], [4311], [4312, 4313, 4314], [49], [4315], [4316], [525], [], [4317], [4318, 4319], [], [4320, 4321], [91], [4322], [58, 9, 4323], [4324], [191], [338], [4325], [], [889], [4326], [22], [], [4327, 890, 4328], [4329], [1419], [322, 310, 4330], [45, 13, 163, 4331], [4332, 4333], [], [2], [], [4], [4334, 526], [4335, 4336], [656], [], [], [362], [23, 116, 4337], [3], [4338], [1420], [], [], [], [64], [4339], [32], [38], [17, 4340], [378], [861], [4341], [891], [3], [4342, 4343, 4344], [624, 9], [4345], [], [], [4346, 4347], [18, 4348], [10, 527], [892, 109], [], [4349, 4350], [63], [3], [4351], [4352, 113, 4353, 4354, 1421], [657], [658], [4355], [4356], [4357], [4358], [4359, 4360], [], [528], [], [4361, 4362, 17, 18, 4363], [4364, 4365], [4366, 4367], [50], [4368], [115], [], [4369, 4370], [4371], [], [4372], [4373], [24], [44], [23, 4374], [4375], [1422], [], [4376], [], [], [4377, 4378], [4379], [4380], [4381, 198, 6], [4382], [20], [], [4383], [1, 4384], [4385], [], [47], [], [4386, 174], [4387], [], [659], [4388, 4389, 6], [32], [16, 4390], [4391, 4392, 1423, 17, 4393, 70, 4394], [4395], [4396], [1424], [4397], [24], [24], [], [], [25], [], [], [], [1, 4398], [4399], [4400, 4401, 379], [65], [4402, 4403, 893], [61], [272], [4404], [4405], [4406], [], [7], [4407, 4408, 4409, 129, 4410], [], [], [4411, 4412, 275], [], [894, 226], [218, 18, 416], [1425, 4413, 4414, 17, 1426, 4415, 1427], [4416], [4417], [14], [17, 31, 67], [299], [31, 3, 1428], [161], [1429], [], [], [], [4418, 4419, 4420, 4421, 6], [4422], [], [465], [4423, 4424], [4425, 51, 1430, 4426, 660], [14], [529], [4427, 4428, 17], [], [203], [4429], [5], [4430, 6], [8], [4431], [33], [], [3], [2], [895], [], [4432], [75], [], [4433], [4434], [72], [4435, 4436], [494], [4437], [], [], [], [4438], [169], [], [4439], [53], [], [], [], [4440], [192], [], [4441, 4442, 4443, 4444, 497, 4445, 4446], [34], [16, 220], [1, 896, 98, 4447], [4], [4448], [47], [4449, 1431], [27], [2], [48, 4450], [1432], [], [355], [4451], [], [4452], [4453], [4454], [4455, 7], [4456], [], [50, 316], [4457], [141, 4458], [1433, 8], [], [158], [4459], [4460, 4461], [4462], [4463], [], [87], [], [26], [4464], [4465], [36], [18, 152], [], [50], [], [75], [3], [5], [1434, 130], [783], [], [4466], [4467, 4468, 4469], [44, 661], [803, 4470], [], [4471], [31, 22, 1435, 897], [55], [], [], [], [], [], [], [46], [2], [45, 7, 1], [662, 478, 898, 380, 4472, 4473, 4474], [], [75], [], [530], [241], [417], [4475], [4476], [], [4477, 266], [25], [4478], [4479, 29, 2, 4480, 4481, 43, 45, 4482], [18], [23], [], [899, 4483], [193], [], [4484], [4485, 4486, 4487], [], [], [20], [23], [397], [4488, 4489], [75], [4490], [203], [4491], [4492, 4493, 257], [], [105, 4494, 900], [67, 285], [], [58, 4495, 8], [], [4496, 4497], [4498], [4499, 4500], [4501, 100, 163], [4502], [4503], [663], [1436], [4504], [4505], [4506], [], [4507], [46], [664], [51], [], [1437, 4508, 4509, 4510], [1438], [4511], [901], [], [221], [50], [], [29], [145], [4512], [76], [1439], [4513], [1440], [12], [20], [1], [], [], [4514, 4515], [4516, 4517, 4518], [4519], [], [11], [902], [125], [201], [], [130, 665, 4520, 1441, 1442], [71], [4521, 4522, 605], [], [4523], [4524], [4525], [39], [4526], [1], [], [], [], [6, 45, 218, 4527, 4528, 17, 4529], [4530], [], [], [14], [4531], [4532, 4533], [], [903, 1443, 4534], [4535], [], [4536], [492], [], [], [4537], [], [], [4538, 484, 4539], [], [4540], [4541, 4542], [], [4543], [49], [4544], [4545], [123], [4546], [], [], [4547], [], [67], [5], [12], [4548], [289], [4549, 23], [4550], [87], [4551], [4552, 531], [4553], [43], [4554], [491], [4555], [505, 15, 1226], [7, 4556], [4557], [109, 4558], [2], [], [4559, 1300], [], [4560], [], [4561], [], [171], [4562], [], [112], [4563], [904], [], [22], [], [], [], [4564, 176], [227], [4565], [4566], [], [4567], [4568], [4569, 17], [4570], [23, 23, 1444, 4571], [], [3], [4572, 4573], [4574], [10, 4575, 4576, 4577], [256], [4578], [4579], [4580], [2], [28], [13], [], [], [4581], [237], [4582], [4583, 31, 4584], [12], [64], [92], [170], [], [368], [4585], [151], [], [104], [4586], [905], [184], [43], [906], [4587, 15], [], [40], [4588], [3, 26, 4589, 4590, 4591], [4592], [4593, 4594], [4595, 4596, 315], [74], [4597], [], [4598, 4599], [], [4600, 191, 4601], [9, 1, 4602], [139, 242, 4603, 4604, 320, 322], [4605, 4606], [4607, 377, 4608], [4609], [4610], [427], [1445], [4611], [4612], [1, 4613], [4614], [4615], [4616, 4617, 1446, 907, 1447, 4618], [908], [161], [], [60], [113], [], [1448], [], [30, 4619], [7, 4620], [], [], [], [], [659], [4], [4621], [4622, 4623, 4624, 4625], [1449], [532, 1450], [428, 4626, 4627, 4628, 4629, 76], [13], [78], [6], [1451, 4630, 666, 4631], [], [], [4632], [156], [11], [4633], [4634, 351, 4635], [533], [4636], [], [4637, 4638], [209], [4639, 4640, 4641, 1, 4642], [1452], [4643, 4644], [4], [], [4645, 4646, 212, 4647], [4648], [31, 4649], [], [], [4650], [13], [1308, 534, 4651, 1453, 1453, 45, 4652], [], [29], [17], [4653], [4654, 4655], [], [4656, 137], [], [4657], [], [12, 157, 1454, 1455], [4658, 90], [4659], [], [236], [1456], [], [4660, 4661, 1457, 429], [430], [17, 4662, 877], [431, 4663, 113, 4664], [], [4665], [4666, 784], [294, 515], [4667], [89, 4668, 178], [], [], [], [1458], [502], [1459], [20], [277, 284], [], [4669], [89, 4670], [], [], [27], [5], [667, 4671], [], [1460], [617], [5], [4], [3], [], [4672], [], [], [432], [], [6], [4673], [4674], [4], [168], [4675], [4676], [4677], [4678, 21], [4679], [112], [7, 784], [4680], [459], [2], [], [14], [4681, 4682, 4683], [3], [1], [93], [45, 4684], [4685], [4686], [909], [4687, 4688, 4689, 4690], [], [4691], [4692], [4693], [4694, 44], [4695], [4696, 4697], [4698], [11], [4699, 4700], [4701], [], [4702, 149, 23, 232, 4703], [476], [], [6, 37, 44], [], [4704], [4705], [4706, 4707, 128, 4708], [], [4], [4709], [51], [4710], [], [], [], [4711], [4712, 48, 4713], [], [4714], [], [24], [4715, 157, 42, 4716], [1461, 4717], [], [668, 669, 668], [24], [41], [78], [87], [4718, 1462], [4719, 4720, 4721, 4722, 4723], [46], [43], [1463], [4724], [192], [4725], [], [4726], [4727, 4728], [4729], [535], [51, 4730], [179, 1464], [4731], [251], [2], [4732, 4733, 4734, 4735, 4736], [2], [2], [], [4737], [4738], [], [4739], [], [4740], [4741, 530, 1458, 4742], [1465, 4743], [4744, 433], [252, 4745], [], [670], [], [4746], [156], [], [], [], [20], [31, 4747], [9, 4748], [381], [4749], [434, 4750, 4751], [4752], [18, 910], [], [911, 59], [], [43], [4753], [], [], [], [4754], [4755], [15, 267, 4756, 307, 4757, 90], [], [174], [1461], [8], [14], [4758], [2], [199], [435], [258, 264], [4759, 4760], [91], [4761, 88], [], [4762], [], [4763, 1, 4764], [436], [47, 1, 791], [4765], [1160, 42], [1, 4766, 4767, 4768, 393], [], [71, 912, 8], [7], [3, 31, 854], [], [2], [4769], [], [4770], [4771], [25], [76], [8, 202, 4772, 129, 4773], [], [78], [577], [], [20], [4774, 4775, 640], [], [1, 323], [], [913, 4776], [78], [4777], [148], [49], [4778, 4779], [], [131], [], [], [], [207], [], [114], [45, 4780], [22], [1466, 4781], [3], [8], [], [1467], [214], [], [4782], [15, 4783, 534, 4784, 154], [1468], [4785], [4786], [350], [], [], [24], [3], [4787], [4788], [4789], [8], [153, 174], [104], [1469], [4790, 4791, 1], [4], [14], [536, 4792, 224], [], [4793, 4794], [4795], [4796], [], [4797], [], [], [2], [], [4798], [], [114], [4], [12], [854], [4799], [661, 273, 7, 4800], [4801, 4802], [671, 238], [16, 4803], [1470, 4804], [382], [], [4805], [], [4806], [1471, 166], [], [1472, 367, 27], [4807, 4808], [4809], [4810, 424], [4811], [15, 914, 141], [4812], [4813, 672], [4814], [4815], [4816], [4817, 773, 6], [4818], [1], [], [4819], [63, 673, 1473], [], [], [215], [216], [], [30, 4820], [], [], [], [4821, 4822, 1474], [], [4823], [2], [4824], [], [], [4825], [1475], [51], [8], [], [906], [4826], [], [15, 4827], [46], [], [], [214], [153, 1476], [], [], [13], [], [], [6, 60, 4828, 4829, 4830, 210], [915, 4831, 4832], [4833], [227], [], [], [4834, 16, 4835], [], [436], [], [48, 4836, 1477, 4837], [4838], [4839], [4840, 4841], [], [194, 4842, 4843], [4844, 347], [], [1478, 526], [4845], [4846], [], [916], [4847], [537], [4848, 4849], [4850, 4851], [], [4852], [674], [], [30, 9, 4853], [101], [383], [1479], [], [4854], [47], [511], [], [505], [629, 42, 4855, 4856, 4857], [], [1361], [], [4858], [324], [], [46], [4859], [], [139, 4860], [39], [36], [36], [4861], [819], [501], [4862, 4863], [21], [1480], [4864], [23, 4865], [170], [4866], [], [9, 4867], [3], [], [], [], [4868], [137], [4869], [117, 117], [1, 175], [], [3], [4870], [44, 128, 4871, 96], [4872], [99], [4873, 4874], [319], [26, 88, 4875, 16, 4876, 4877], [24], [4878], [4879], [4880, 4881, 4882], [4883], [4884], [4885, 4886], [4887], [69], [], [4888, 6], [250], [1481], [4889, 4890, 158, 4891, 4892], [4893, 4894, 4895], [4896, 69], [], [21, 4897], [22], [10], [4898], [], [66], [4899, 1, 538, 171, 4900], [68], [4901], [4902], [4903, 605], [39], [], [106], [], [49], [282], [], [254], [1482], [], [], [4904], [4905, 4906], [4907, 52], [122], [4], [1483], [4908], [917], [5], [675], [34], [1484], [1, 4909], [40], [4910], [159], [25], [61], [40], [4911, 4912], [4913], [], [4914], [4915], [], [], [202, 1485], [4], [11], [40], [4916, 4917], [147], [30], [4918], [], [], [4919], [4920], [4921, 115], [4922], [4923], [204], [4924, 4925], [], [], [], [53], [38, 4926, 166, 4927], [4928], [], [], [4929, 4930, 4931], [], [], [39, 1486], [1487], [], [24], [], [], [1488], [3], [1489], [19, 21], [25], [], [], [10, 152], [169], [], [4932, 4933], [4934, 4935], [13], [1490], [67, 918, 4936], [4937], [4938], [24], [204], [4939], [4940, 4941], [], [9, 196], [4942], [232], [4943], [], [2], [46], [4944], [493], [3], [4945, 4946], [], [4947, 4948], [4949], [9, 4950], [58], [4], [], [], [], [463], [4951, 325, 252, 4952], [], [4953], [68], [], [4954], [3], [187, 249], [14], [4955], [143], [41], [], [], [], [3], [2], [4956, 614], [47, 384], [4957], [4958], [4959], [1491], [4960], [4961, 4962], [7], [1317], [1492], [233], [249], [4963, 261], [4964], [], [20], [70], [31, 4965], [144], [], [], [], [], [268], [919], [4966], [106], [], [], [], [], [4967], [4968], [4969, 4970], [50], [15, 4971, 4972, 4973, 7], [53], [4974], [1493], [], [], [40], [], [603], [], [14], [33], [676, 4975], [], [4976], [33], [1494], [677], [], [4977], [], [173], [1424], [3], [], [4978], [4979], [7], [822], [135, 4980, 135], [1495], [], [4981], [89], [109, 4982, 4983, 4984], [50], [62], [], [55], [84], [2], [], [920], [45, 678, 4985], [921], [1496], [], [3], [100], [], [130, 4986], [4987], [4988], [25], [89], [4989, 4990, 4991], [1497, 4992], [], [7, 395], [1, 1217, 4993, 4994], [19, 21], [4995], [116, 4996], [], [1498], [1323], [4997, 4998, 4999], [4], [], [], [], [120], [5000], [68], [5001], [466], [5002], [], [111], [125], [5003], [1499, 5004, 5005], [14], [5006], [5007, 5008, 192], [], [922], [46], [5009], [], [], [5010], [71], [1], [574, 275], [539], [5011], [2], [6, 488], [535], [12], [5], [1500, 5012], [62], [5013, 5014, 5015, 5016], [291, 5017, 321], [923, 5018], [4], [5019, 5020, 5021, 1501, 5022, 1501], [], [], [924, 5023], [], [], [5024], [5025], [], [913], [6], [5026], [], [1502, 5027], [6, 45], [925], [1503], [], [5028, 5029], [1504], [], [1505, 5030], [3], [140], [5031, 5032], [926], [3, 5033], [5034], [55], [8], [], [5035], [205], [200], [41], [], [540], [25], [], [], [12], [5036], [1506], [], [5037], [42, 531, 927, 928], [5038], [], [5039], [12], [5040, 5041], [5042], [], [99, 178, 5043], [5044, 5045], [85], [5046], [113, 8], [], [5047], [5048, 5049, 5050, 5051, 5052], [], [], [11], [5053, 420], [5054, 150], [192], [929], [5055], [118], [33], [5], [5056], [5057], [], [99, 1447], [326, 1507, 905], [76], [5058, 5059], [1508], [320], [23], [142], [], [], [4], [242, 5060], [], [5061], [5062], [5063], [5064, 80, 5065], [5066], [1509, 1510], [36, 1511, 5067, 385], [], [4], [], [], [466], [5068, 5069], [5070], [5071, 1512], [], [1], [], [207], [], [823], [5072], [34], [1, 5073], [147], [5074], [5075], [129], [5076, 44, 172], [], [5077, 5078], [9, 1513, 180], [5079], [1514], [], [], [6], [44, 5080], [19, 21], [275, 5081, 5082], [930, 5083], [596], [29], [], [], [4], [3, 42, 5084], [799], [5085, 18, 5086], [], [5087], [5088], [], [5089, 5090, 5091], [5092, 5093, 5094], [], [265], [], [212, 1515], [5095], [5096], [], [60], [5097], [83], [], [889], [1167], [5098, 37, 5099, 679, 5100], [5101], [5102, 5103], [5104], [], [1516], [5105, 880], [3], [5106], [787], [5107], [85], [], [70], [5108, 5109, 931], [199], [15, 5110], [299], [1234], [5111], [], [5112], [5113], [5114], [5115], [680], [5116], [], [], [5117], [5118], [5119], [95], [], [], [5120], [5121, 5122], [5123, 886], [311], [237, 7], [34], [30], [], [5124], [8], [249], [5125], [14, 5126], [5], [9, 5127], [122], [5128], [], [], [5129], [5130, 932], [], [11], [5131, 5132], [38], [337], [5133, 808], [], [5134, 5135], [5136], [], [5137], [1517], [5138], [5139], [], [5140, 5141, 5142], [76], [5143], [894], [], [], [933], [], [934], [27, 5144], [34], [864], [12], [68], [153, 174], [1, 5145], [5146], [8], [], [5147], [11], [314, 5148], [], [9, 5149, 5150, 5151, 15, 5152, 5153, 42, 5154], [5155], [1518], [5156], [5157], [5158], [], [5159], [309, 5160], [5161, 5162], [], [217, 5163, 287], [5164], [1519], [], [5165, 5166, 160], [935, 137, 5167], [82, 5168], [5169], [], [5170], [541, 5171], [9], [5172], [5173], [5174], [5175, 5176], [12], [13], [936, 5177, 107], [5178], [33], [], [5179, 18, 5180], [84], [], [], [1520], [], [7, 278], [], [52], [386], [5181], [5182], [4], [5183], [3], [5184], [], [], [1521], [937], [], [26], [], [250, 5185], [], [3, 5186], [1, 5187], [5188, 5189, 5190], [938], [19, 21], [155], [138], [], [5191], [5192], [1522], [15, 5193], [437], [5194], [1523], [41], [83], [], [5195, 5196, 5197, 1524], [1525], [], [193], [], [7, 5198, 5199], [], [83], [5200], [], [222, 42], [], [5201], [30, 827, 5202, 5203, 5204], [3], [16, 5205], [], [645], [118], [5206], [5207], [66], [681, 5208, 1526, 5209], [], [5210, 5211, 5212, 5213], [4], [107, 5214], [5215], [], [136, 5216, 5217], [5218, 1489], [112], [101], [5219], [5220], [], [], [29], [5221, 10], [4], [5222, 5223], [5224], [375, 5225, 5226], [], [1527, 5227, 914], [], [26, 483], [50], [], [5228], [], [8], [5229], [23], [5230], [5231], [682, 5232], [], [104, 3], [5233], [7, 683, 5234], [5235], [], [125], [], [18, 910, 5236, 5237], [], [], [5238], [17], [5239, 5240], [5241], [9, 5242], [], [73], [], [], [5243], [5244], [5245, 5246, 5247], [144], [1528, 5248], [51, 5249, 5250], [5251], [103], [939], [5252, 5253], [9, 5254], [2], [], [684], [], [438], [5255, 5256, 18], [5257, 1143], [5258], [5259, 940], [75], [82, 220], [5260], [5261], [5262, 5263], [19, 1529], [24], [215], [5264], [], [28], [], [], [5265], [5266], [], [5267], [155], [5268, 5269], [118], [72], [5270], [], [2], [], [], [509, 5271], [5272, 137], [], [4], [5273, 59], [5274], [10], [4], [], [5275, 181], [1, 941], [22], [5276], [], [120], [], [], [11], [41], [942], [542], [], [5277], [221], [], [5278], [], [5], [], [5279], [115, 5280, 435, 5281], [], [], [4], [58], [5282], [], [5283], [184], [], [], [262], [1], [5284, 10, 1530], [52], [68], [5285], [95], [5286], [4], [1531, 5287], [], [685], [310], [], [43], [15, 1532], [134, 5288], [203], [], [4], [5289], [60, 1533], [5290, 5291], [71], [5292, 5293, 439, 5294, 439, 17], [5295], [], [62], [9], [282], [8], [5296, 5297, 775], [78], [], [5298, 5299], [5300], [], [5301, 5302, 5303, 1534], [], [5304], [24], [133], [5305, 5306], [5307], [5308, 5309, 5310, 5311], [943], [], [5312], [4], [5313], [5314, 1535], [], [], [85], [5315], [34], [543, 5316], [5317], [30], [2], [44], [15, 5318], [5319], [5320], [5321], [1536, 5322], [3], [237], [], [5323], [5324], [31], [], [461], [], [1537], [], [88, 5325, 88, 5326], [], [], [4], [73], [5327], [], [], [], [5328], [25], [5329, 5330, 16, 5331, 686], [5332, 5333], [26], [5334], [], [30], [82, 5335], [5336, 5337], [16, 5338], [5339, 5340, 17], [585], [27], [110], [5341], [57], [], [66], [5342], [], [10, 152], [5343], [25], [5344], [5345], [11], [1538], [], [5346], [5347], [269], [19], [5348, 1477], [663, 5349], [160], [42, 5350, 5351, 5352], [], [35], [5353], [5354], [524, 5355, 23, 382], [3], [5356, 88], [5357, 224], [5358], [5359, 5360, 5361], [5362], [5363], [], [5364, 5365], [], [5366], [5367], [], [227], [], [5368, 5369], [28], [5370], [606], [35], [], [5371], [1539], [234], [5372], [5373], [5374, 131], [4], [], [431], [5375, 1540], [5376], [5377], [3], [19, 21], [1541], [], [5378], [5379], [112], [5380, 1542, 5381], [90, 5382], [5383], [73], [30], [], [687], [5384, 5385], [13], [5386, 178, 5387, 1543, 1544], [1545], [1546, 5388], [7], [3], [], [5389], [], [], [5390, 102], [133], [42, 5391, 5392], [], [], [], [23, 81, 9], [5393, 5394], [241], [5], [5395, 5396, 154, 592], [17, 5397, 5398], [362], [2], [1547], [3], [], [64], [5399, 535], [], [], [26], [], [], [1548], [5400], [15, 5401], [5402, 16, 81], [83], [5403, 5404], [5405], [18, 944], [], [5406, 79], [5407, 5408, 63, 5409, 45, 1], [], [5410, 5411], [6], [], [243], [5412, 945, 172, 5413], [5414, 5415], [], [184], [2], [5416], [], [5417], [5418], [6, 5419], [5420], [5421, 5422], [20], [], [946], [1549, 5423], [5424, 373], [5425, 5426], [], [], [3], [], [46], [54], [947], [1550], [344], [5427], [5428], [365], [], [251], [5429], [5430], [], [], [7, 1232], [79, 5431], [5432, 5433, 257], [5434], [283], [], [], [948], [949], [], [688, 5435], [20], [1551], [95], [5436], [544], [5437, 5438], [5439], [5440], [109, 5441], [], [5442, 5443, 5444, 5445], [4], [5], [9, 1552], [56], [26, 5446], [5447], [], [4], [8], [], [], [], [], [5448], [], [5449], [5450, 400, 371], [5451], [274], [5452, 5453], [], [5454], [4], [5455, 5456, 5457, 5458], [1, 5459], [5460], [5461, 1553], [], [142], [950, 5462], [5463, 440, 5464, 5465], [5466], [5467], [1460, 5468], [105], [], [], [], [5469], [], [], [63, 5470], [], [1, 616, 5471], [5472, 5473, 5474], [5475], [42], [20], [184], [], [5476], [10, 121, 5477], [47], [951], [5478], [262], [5479], [], [1554], [5480], [5481], [5482], [], [1555, 26, 90], [], [327], [172], [], [5483, 42, 5484], [4], [1502], [1556, 19, 21], [43], [5], [5485], [5486, 5487], [], [], [1557], [5488, 1223], [5489, 27], [176, 5490], [5491], [], [5], [140], [17, 5492, 5493, 88, 5494, 5495, 69, 9], [5496], [952], [5497], [5498], [], [5499], [321], [598], [689, 5500, 5501], [], [5502], [953], [], [5503], [5504], [55], [5505], [5506], [923], [5507, 5508], [172, 413], [], [105, 5509], [], [23, 344, 1484, 320, 5510, 5511], [49], [36], [], [1, 5512], [5513], [], [44, 96, 325], [1558], [24], [5514, 5515], [], [5516, 528], [], [], [1], [545], [5517], [18], [253], [5518], [], [1559], [], [5519], [954], [1], [13], [], [1, 485], [12], [], [5520], [690], [830], [166, 5521], [5522], [], [5523], [691], [20], [6, 23, 37], [], [5], [44], [], [5524], [], [85], [5525], [22], [5526, 5527, 5528, 48, 5529], [], [5530, 5531, 5532], [], [], [9, 5533, 464], [29], [], [1560], [64], [91], [7], [441], [502, 5534, 88, 5535, 5536], [18, 69], [5537], [], [490], [955, 376, 5538, 10], [4], [29], [664, 956], [5539], [183, 512, 183], [25], [5540], [5541], [], [5542, 5543], [57], [5544], [5545], [5546], [5547, 5548], [], [5549, 5550], [], [170], [4], [1561, 5551], [5552, 5553], [], [410], [5554], [2], [5555], [19, 21], [24], [], [5556], [], [5557], [], [71], [5], [5558, 5559, 5560, 5561], [15, 267, 328], [239], [442], [], [5562], [], [], [], [5563, 817, 5564], [], [], [256], [5565], [], [], [], [207], [686], [5566, 1249], [1562], [1563], [12], [5567], [55], [495, 5568], [56], [5569, 5570], [76], [], [], [5571], [], [], [], [5], [], [5572], [], [443], [132], [1564], [], [5573, 5574], [4], [1565], [5575], [], [], [5576], [], [1566], [16, 957, 113, 5577, 5578], [5579], [5580, 444, 67], [5581], [5582], [], [5], [73], [47, 5583, 63], [], [289], [], [162], [77], [692, 5584, 90], [1567], [11], [67, 5585], [], [164], [5586], [5587], [5588], [], [], [], [], [5589], [], [5590, 1, 5591], [1568], [5592, 5593], [5594], [], [79], [], [28], [157], [], [251], [5595], [5596, 5597, 5598], [], [111], [1569, 146, 55], [153, 5599], [1570, 1571], [12], [], [1, 5600], [5601], [], [], [], [5602], [2], [268], [85], [], [5603, 428, 6, 5604, 693], [], [], [], [227], [], [1572], [], [5605], [5606], [], [1573, 5607, 5608, 1, 266], [5609], [5610], [42, 1192, 1574], [34], [5611], [], [], [1575], [203], [], [430], [], [5612], [1576], [], [148], [7, 5613], [3], [14], [], [5614], [5615], [11], [19, 21], [], [66], [10, 5616], [5617], [1186], [5618, 37, 5619, 5620], [396, 958, 959, 5621], [], [546, 5622], [4], [15], [], [349, 5623, 1577], [5624], [], [], [16, 5625], [1287], [13], [4], [10, 59, 347, 48, 5626], [181], [5627], [5628], [144], [], [5629], [5630], [140], [5631], [5632], [5633], [], [16, 5634], [], [], [1578, 5635, 5636], [5637], [5638], [5639], [], [4], [5640], [40], [], [20], [19], [], [], [5641, 5642, 5643], [46], [], [5644, 5645, 5646], [33], [5647], [5648], [], [5649, 5650, 5651], [], [1, 323], [5652], [], [5653], [], [4], [5654], [], [], [1579], [], [58, 1580, 15], [34], [5655], [5], [5656], [219], [5657, 547], [], [1, 5658], [11], [387], [32], [5659], [5660], [81], [], [5661, 137, 42], [289], [], [5662], [], [5663], [581], [2], [269], [5664], [5665], [5666], [55], [5667, 100], [], [1581, 694], [], [5668], [15, 5669], [5670, 5671], [664], [5672], [1176], [8], [5673, 5674], [131], [1582], [8], [15, 5675, 5676], [1276], [], [5677], [], [27], [5678, 5679], [695], [260], [88], [960], [5680], [29], [5681], [20], [5682], [42], [38], [4], [5683], [5684, 5685, 8], [], [181], [5686], [961], [5687], [167], [5688], [], [50], [258], [5689], [30, 962, 5690, 5691], [366, 1, 646], [5692, 5693], [3], [5694, 5695], [4], [], [], [5696], [362], [5697, 6], [5698], [5699, 9, 5700], [5701], [], [5702], [5703], [5704, 5705], [], [963], [4], [33], [], [], [4], [], [], [], [2], [4], [68], [12], [5706], [384], [5707], [], [], [1583], [5708], [5709, 5710], [5711], [], [], [5712], [964], [], [], [18], [5713], [], [2], [9, 1584], [5714], [13], [], [], [], [], [], [], [1585, 548, 5715], [42, 10, 121], [696], [2], [], [1586], [], [5716], [186], [], [], [], [204], [2], [], [1587], [17, 5717], [5718], [7, 223, 5719], [5720, 5721, 1588], [195], [47], [5722], [], [55], [44, 5723], [163], [209], [5724], [], [25], [648], [5725], [5726], [5727, 9, 5728], [1589], [5729, 62, 1590, 1591], [1592], [40], [], [39], [], [5730], [5731], [132], [93], [5732], [49], [4], [4], [5733, 5734, 5735, 5736], [5737], [1593], [5738, 1594], [1595], [69, 5739], [65], [3], [5], [5740], [20], [97], [], [5741, 965, 5742, 313, 5743], [5744], [549, 76], [], [], [192], [], [3], [5745], [33], [5746], [5747], [], [14], [4], [1596], [29], [5748], [22], [], [], [], [966], [2], [967], [], [75], [80], [5749, 5750, 5751], [9, 5752, 5753, 59], [11], [], [105], [8], [1597, 5754, 1597], [9], [35], [1598], [5755], [], [184], [20], [15, 1599, 5756, 550], [163], [64], [6], [], [118], [5757], [32], [41], [5758], [10, 5759], [4], [5760], [5761], [31, 5762, 5763, 5764], [381, 5765], [3, 5766, 7, 1600], [], [5767], [], [1601], [], [63, 5768, 9, 845], [1602], [5769], [5770], [1603], [], [8], [5771], [5772, 5773], [5774, 329], [303, 1309], [5775], [52], [5776], [30, 5777, 1604], [84], [], [72], [193], [], [3], [5778, 5779], [20], [160], [144], [5780], [968], [5781, 5782], [5783], [80], [5784], [164], [5785, 1, 5786, 969], [5787], [105], [2], [], [12], [52], [1605], [1606], [5788], [426, 1, 5789], [], [], [5790], [4], [], [5791], [1607], [], [5792, 5793, 5794], [31, 1608, 5795], [5796, 1609], [10, 5797], [5798], [], [32], [], [5799], [5800], [5801], [6], [5802, 5803, 5804, 394], [], [58, 1610], [5805], [23], [31, 5806], [224], [], [5807], [1611], [10, 5808], [], [5809], [5810], [5811, 5812, 5813], [61], [5814], [19, 5815, 5816], [5817], [5818], [], [1612, 5819, 583], [92], [970, 970, 5820], [151], [971, 17, 5821], [265], [32], [59, 42, 5822], [], [5823], [57], [5824, 5825, 5826], [22], [5827], [156], [5828], [], [41], [388], [5829, 5830, 5831, 5832, 5833, 5834, 5835, 5836, 5837], [5838], [], [5839], [], [13], [], [8], [], [], [], [5840], [85], [5841], [22], [1530], [5842, 5843], [5], [3, 1], [5844, 5845, 5846], [5847], [5848, 307], [], [677], [], [5849, 5850, 6], [550], [25], [4], [97], [312], [5851], [53], [5852], [162], [1522], [1613], [74], [], [11], [5853, 5854], [5855], [5856], [551, 5857], [22, 1614, 69], [5], [5858], [208, 328, 5859, 5860, 5861], [], [972], [], [688, 212, 5862], [1203, 89], [1615], [53], [5863, 250], [5864], [872, 37, 255, 5865], [5866], [], [], [17], [], [], [], [5867], [1227, 5868, 5869, 1228, 5870, 1204], [5871], [5872, 5873, 5874, 5875], [445, 5876], [], [], [90], [], [909], [5877], [285], [5878], [], [463], [], [2], [2], [5879], [], [], [582], [], [5880], [1156], [45], [77], [], [], [1616], [10], [973], [5881], [5882], [541], [5883], [], [5884, 5885], [5886], [], [5887], [], [697], [], [], [5888], [], [8], [974], [3], [35], [17, 5889], [5890], [26], [5891], [5892], [5893], [949], [], [5894, 4], [5895], [], [2], [5896], [5897], [], [5898], [24], [7], [310, 5899, 497, 5900, 5901, 198], [], [5902], [28], [7, 5903, 82, 1600, 5904], [], [], [16, 5905], [23], [], [217, 5906], [5907], [], [32], [23], [5908], [28], [], [201], [40], [5909, 79, 5910, 5911, 5912, 5913, 5914], [5915, 168], [5916], [5917], [8], [5918], [83], [], [5919], [881], [587], [], [], [7], [7], [], [698], [5920], [5921, 10], [], [539], [35], [5922], [5923, 5924, 5925, 5926, 5927, 202], [5928], [1392, 5929], [29], [], [125], [], [5930], [], [5931, 5932], [5933, 189], [91, 5934], [16, 5935], [1617], [5936], [2], [367, 5937, 5938], [241], [4], [1618], [1619, 1620], [205], [], [], [240], [212], [], [], [383], [66], [1621], [], [5939], [1622], [], [5940], [514, 5941], [5942], [832], [23, 5943], [14], [5944], [5945], [1375, 5946], [], [], [50], [5947, 382], [5948], [5949], [40, 5950, 5951], [85], [5952, 5953], [5954], [], [5955, 8], [5956], [], [], [73], [53], [], [29], [10, 5957], [19, 21], [5958], [5959], [], [], [5960, 5961, 5962, 5963, 5964, 5965], [5966], [5967, 5968, 5969], [], [], [], [1, 109], [], [18], [5970], [5971, 5972, 5973], [91, 5974], [18, 131], [], [1623], [1624], [4], [5975], [595, 5976], [36], [5977], [11], [438], [680], [16, 389], [], [], [], [], [5978], [5979], [370], [30, 5980], [5981], [], [5982], [199], [], [5983, 5984], [56], [13], [5985], [606], [5986, 5987, 5988, 5989], [1625], [113], [1626], [32], [503, 203], [], [5990, 5991], [5992, 5993], [5994], [5995], [5996], [7, 5997], [5998], [5999], [25], [29], [1627], [6000], [], [6001], [2], [975], [5], [6002], [], [6003, 6004, 6005], [6, 6006], [6007], [11], [1, 233], [6008], [1628, 1, 6009, 137], [2], [26, 976], [6010], [699, 294], [6011], [1224], [], [5], [2], [3], [327], [], [], [4], [30], [6012], [5], [], [], [], [6013], [], [6014], [], [6015], [], [552], [6016], [], [], [6017], [32], [6018, 893], [], [6019], [148], [], [6020], [6021], [6022], [6023, 6024, 6025], [6026, 6027], [700], [], [], [], [6028], [], [6029], [181], [], [11], [79], [6030], [6031, 856], [6032], [6033, 6], [], [6034], [11], [], [8], [6035], [], [6036], [6037, 6038], [1629], [317], [], [26], [132], [102, 6039], [], [6040], [6041], [6042, 6043], [1630], [2], [1, 6044], [47], [6045], [6046, 6047], [], [2], [41], [], [], [700], [6048], [6049], [63], [], [6050], [6051], [6052], [83], [30], [], [6053], [], [6054], [14], [6055], [6056], [], [1631], [553], [], [402], [13], [], [1157], [89], [6057], [1632, 172, 701], [], [], [6058], [6059], [], [], [4], [6060], [1362], [6061, 6062], [15], [], [6063, 6064], [], [977, 6065], [14], [91, 6066], [], [], [6067], [6068, 6069, 194], [471], [3], [6070], [], [6071], [6072], [44, 1], [], [292], [], [149, 6073, 6074], [6075], [], [], [5], [], [], [], [6076], [], [6077], [], [], [6078], [16], [6079], [1633, 6080], [2], [], [1634], [6081], [], [14], [], [6082], [49], [6083], [], [6084, 6085, 104], [72], [6086], [1603], [702], [6087, 1635], [315], [6088], [28], [], [6089], [], [], [14], [6090], [], [100], [65, 6091], [], [], [1636, 703, 3, 978], [979, 6092, 6093], [6094, 6095, 6096, 6097, 6098, 6099], [], [2], [], [], [2], [6100], [23], [6101, 6102, 6103], [], [], [13], [71, 6104], [], [10], [1216, 1, 6105], [], [], [4], [65, 1637], [644], [], [6106], [], [6107], [843], [], [6108], [], [6109, 6110, 1638], [290], [18], [6111], [6112], [6113, 6114], [28], [244], [], [6115, 6116, 26, 273], [51, 980, 1639, 97], [436], [18, 348, 6117], [6118], [], [330, 6119], [6120, 27, 86, 6121, 146], [], [892], [6122, 1], [6123], [2], [47], [110], [99], [6124], [], [3], [], [2], [], [5], [], [1640, 1640], [1641], [6125, 1, 202, 6126], [6127, 6128, 6129, 655], [5], [704, 845], [6130], [], [6131], [98, 1642], [], [6132, 490], [6133], [17, 6134, 6135, 6], [], [6136, 6137, 17], [176, 6138, 6139], [6140, 6141], [6142], [6143], [6144, 1643], [981, 6145], [164], [705, 6146, 6147, 6148, 6149, 6150], [155], [9, 6151, 6152], [], [11], [], [6153], [6154, 6155], [6156], [182], [49], [], [539], [], [3, 289, 183], [172, 6157], [308], [6158], [685], [6159], [6160], [6161], [6162], [6163], [61], [6164, 6165, 128, 6166], [80, 131], [982], [], [], [87, 31], [], [39], [6167], [6168], [6169], [13], [], [61], [6170], [6171], [41], [25], [6172, 6, 1, 6173], [706], [6174, 6175, 446, 6176, 6177], [6178], [25], [363, 62], [51, 6179], [382, 6180, 6181], [], [], [16, 229, 6182, 44, 6183], [6184], [74], [6185], [6186], [707], [6187], [24], [6188], [1250], [], [6189, 27], [], [441], [148], [10, 6190, 6191, 6192], [983], [22], [961, 6193], [6194], [1644], [1645], [78], [16, 1646], [17], [5], [893], [6195], [5], [6196, 6197, 6198, 6199, 6200], [6201, 15, 6202, 6203, 6204], [277, 6205, 6206], [114], [6207, 6208, 881, 672, 6209], [126], [6210], [], [], [], [160], [708, 6211], [6212], [], [6213], [6214], [6215], [6216], [6217, 77], [], [39], [53], [790], [], [9, 233], [18, 6218, 6219, 6220], [], [6221, 109, 6222], [], [6223, 6224], [], [21], [6225], [6226], [6227, 6228, 1647, 423], [5], [6229], [1648], [6230, 6231, 6232], [6233], [], [], [6234], [16, 389], [6235], [3], [6236, 1649], [6237], [252, 1154], [], [], [10], [74], [], [], [6238], [6239, 6240], [32], [179, 6241], [215, 6242], [6243, 6244], [6245], [30], [], [6246], [1, 1650], [810], [], [20], [6247], [6248], [16, 6249], [1651, 1364, 6250, 6], [], [47], [6251], [6252], [], [328], [13], [], [], [4], [6253], [6254], [19, 21], [10, 6255], [6256, 1], [96], [], [6257], [6258], [80], [23, 554], [6259, 6260], [76], [6261], [6262], [693], [], [6263], [74], [6264, 6265, 6266], [], [251], [22], [403], [], [6267], [7, 6268], [], [1, 1243], [], [201], [10], [529], [6269], [1281], [1348], [5], [6270], [6271], [], [6272], [], [], [406, 1652], [], [216], [], [1, 6273], [6274, 21], [195], [1205], [], [6275, 6276], [], [3], [46], [6277, 6278, 6279], [6280], [3], [6281], [2], [33], [7, 1469, 6282], [52], [6283], [6284, 6285, 6286], [130], [193], [10, 6287], [2], [6288], [6289], [6290], [6291], [2], [75], [67, 6292], [], [140], [6293, 6294, 1653, 6295, 6296, 6297, 1653, 100], [1654, 6298], [6299, 6300, 6301], [26, 6302], [6303, 1649, 6304], [984], [161], [8], [], [], [], [6305], [], [], [31], [555], [2], [444, 6306, 6307], [22], [1], [], [], [140], [], [10, 6308], [], [6309], [11], [13], [78], [6310], [6311, 815, 6312], [1579], [2], [6313], [4], [], [6314], [1456, 7], [56], [13], [6315], [6316, 6317], [36], [], [], [], [6318], [], [146], [6319], [6320], [6321, 1655], [628], [], [43], [106, 64, 6322, 6323], [], [54], [6324, 349], [], [6325], [], [292], [6326], [78], [], [591], [709], [8], [], [6327, 6328], [], [1656, 6329], [710], [165], [6330], [], [6331], [], [10, 121], [], [18, 6332], [210], [6333], [], [], [], [53], [6334, 6335], [1657], [5], [6336, 31, 6337], [], [6338, 6339, 6340], [], [6341], [1658], [6, 6342], [6343], [49], [1659], [3], [6344], [25], [235, 1660], [6345, 87], [23, 6346], [6347], [], [366, 671, 6348], [6349, 6350], [834], [6351, 6], [6352, 6353], [], [923], [19], [66], [2], [7], [6354], [1152], [49], [], [6355, 6356, 6357], [6358], [6359, 6360, 1492, 6361, 6362, 6363, 6364, 6365], [6366], [620, 6367, 1661], [6368, 1174], [1662], [1663, 6369, 985, 15, 6370], [], [6371, 6372], [849], [6373], [6374, 6375, 6376, 6377], [181, 6378], [31, 1664], [6379], [], [578], [22], [42], [6380, 6381], [], [], [], [6382, 158], [13], [6383, 6384, 6385, 6386], [87], [1], [6387], [206, 6388], [259], [6389, 6390], [], [986], [46], [319], [], [], [402], [6391], [6392, 1665], [6393], [6394, 6395], [], [6396], [13], [409], [], [522], [6397], [6398], [1666], [32], [6399, 1667, 6400, 263, 987, 6401], [154], [], [], [138], [], [], [], [], [74], [6402, 1668], [988, 6403], [], [771, 1669, 1670, 6], [], [15, 267], [], [556], [6404], [], [6405], [557], [118], [6406, 6407], [1671], [6408], [12], [253], [6409], [989, 944], [6410, 6411], [6412], [], [558], [], [45, 135, 6413, 17], [], [145], [6414], [], [248, 6415], [711, 6416], [], [6, 238], [], [], [6417], [6418, 1672, 200, 107], [6419], [], [30], [], [], [], [58, 6420, 6421], [199], [6422], [12], [], [], [18, 1673], [], [], [80, 470], [6423], [73], [263, 6424], [6425], [6426, 15], [1674], [6427], [6428, 945], [5], [362], [112], [6429, 6430], [6431, 6432, 6433, 6434, 910], [], [5], [9], [57], [269], [6435], [6436], [712], [], [], [16, 6437], [990], [11], [6438], [6439, 6440], [342], [6441, 6442], [6443, 6444], [161], [], [67], [], [68], [6445], [29], [], [1675], [3], [6446], [7, 6447], [1411], [43], [1676], [29], [6448], [6449], [6450], [], [27], [], [6451], [19, 21], [1677, 407], [], [], [6452, 6453, 328], [94], [6454, 1, 6455], [], [62, 6456, 6457, 6458], [], [17], [], [54], [], [], [38], [], [6459], [6460], [], [6461, 593, 713, 1678, 6462], [], [2], [1], [6463, 6464], [], [], [6465], [], [], [65], [39], [], [6466, 10, 6467], [6468, 6469], [6470], [6471], [6472], [], [1421], [3], [6473, 6474, 6475, 6476, 6477], [6478], [], [6479], [331], [185], [6480], [226], [75], [6481], [714], [166, 1679], [6482], [], [6483, 991, 6484], [1680, 1681, 6485], [8], [506], [6486, 6487], [1682], [6488], [], [19, 21], [], [153, 6489], [6490], [40], [132], [6491], [], [], [50], [1683], [6492, 629, 9, 6493], [6494, 6495], [6496, 6497], [], [49], [1684], [], [], [6498, 6499, 88], [715], [6500], [6501, 371, 202, 6502, 1685], [6503], [498, 206, 137, 6504], [], [70], [6505, 1686, 59], [1687, 187], [], [6506], [], [], [6507], [59], [], [], [10, 6508], [6509], [6510], [423], [46], [], [6511, 6512], [10, 6513], [607, 1688], [], [188], [6514], [500], [], [], [120], [], [352], [716], [1689, 6515, 6516, 6517, 1690, 992, 6518], [692, 6519], [6520, 6521, 6522], [4], [16], [6523], [6524], [6525], [1691], [6526], [6527, 6528], [361], [584], [], [25], [1, 6529], [2], [6530], [6531, 717], [6532, 6533], [6534], [6535, 6536, 328], [], [6537], [], [6538, 6539], [1683], [106, 6540, 6541], [6542, 6543, 6544], [6545], [6546], [718], [70], [221], [6547, 6548], [6549], [9, 6550, 6551], [], [], [13], [6552, 1, 6553, 6554], [557], [6555], [], [], [6556], [8], [6557, 1692, 146], [993, 6558, 225, 6559], [994, 6560, 6561, 6562], [447], [20], [], [2], [], [6563], [6564, 135, 6565, 1], [889], [], [1509, 1693], [], [], [506], [35], [6566], [14], [6567], [1694], [6568], [13], [3], [6569], [6570], [6571], [25], [], [783, 6572, 6573, 6574, 129], [], [6575, 995, 996, 1695, 6576, 6577], [], [203], [75], [6578], [6579], [978], [6580], [19, 21], [1435], [], [25], [997], [], [18, 390, 6581], [], [9, 6582], [], [], [1696], [], [49], [6583], [], [7], [6584], [70], [998], [6585, 6586], [33], [18, 1697], [14], [], [6587], [18], [110], [6588], [], [22], [], [], [], [6589, 6590], [6591], [6592], [], [6593], [6594], [1698], [31, 6595], [46], [], [6596], [], [6597], [6598], [], [448], [6599], [], [719], [354], [], [6600], [], [40], [], [1380], [6601], [642], [2], [1286], [5], [270], [], [6602], [260], [1383], [31], [1215, 235, 6603], [6604], [15, 267, 6605], [6606, 6607, 6608, 6609], [6610], [25], [6611], [], [], [6612], [6613, 6614, 1699], [5], [30, 1700, 6615], [6616], [6617], [10], [], [], [6618], [911, 6619], [11], [6620], [], [6621], [6622, 6623], [166], [6624], [], [], [444, 1], [], [6625], [16, 6626, 6627, 60], [1701, 478], [6628, 6629, 6], [6630], [31], [], [39], [160, 10, 6631], [6632, 444, 7, 6633, 6634], [93, 9, 6635, 6636, 6637, 19, 1702], [], [], [1315], [6638, 172, 999, 6639], [6640, 6641, 88], [4], [], [270], [], [1703], [10, 121], [11], [], [], [1704, 1, 6642], [], [1705], [], [6643], [], [67, 559, 15, 67, 1706, 6644], [], [6645, 80, 228, 1508, 6646, 6647], [93, 720], [21], [6648], [], [4], [6649, 721, 39, 232], [6650, 376, 6651], [1707], [], [6652, 6653], [6654], [241], [], [706], [81], [6655, 6656], [178, 1708], [20], [385], [115, 6657], [708], [11], [6658, 1709], [6659, 6660], [12], [6661, 26], [], [6662, 543], [], [6663], [], [6], [], [67], [383], [7], [6664], [6665], [], [89, 6666, 6667], [2], [], [1710], [6668], [920], [6669, 6670, 10, 98, 6], [5], [6671, 6672], [181], [], [11], [], [], [36], [8], [35], [6673], [6674], [35], [6675], [29], [104], [381], [128, 6676], [2], [47], [6677], [6678], [54], [219], [1], [6679, 6680, 683, 6681], [47], [12], [4, 6682, 6683], [1000, 270], [2], [90, 6684], [6685], [], [322], [], [6686], [93], [], [188], [], [], [], [], [6687], [6688], [560, 18], [52], [273], [147, 6689], [], [6690, 6691, 6692, 6693, 1711, 1711], [1712, 6694, 1001], [6695], [286], [6696], [70], [16], [66], [6697], [6698], [478], [90, 210, 6699], [13], [], [6700, 42], [260], [], [1713], [16, 6701, 6702], [], [6703, 6704], [6705], [55], [194, 6706], [6707], [19, 21], [], [], [138], [], [6708, 6709, 6710], [6711], [], [6712, 51, 1002], [6713, 115, 1003], [365], [], [97], [6714], [6715], [213], [6716, 6717], [6718, 6719], [548], [86], [1714], [6720], [6721], [], [4], [1715], [12], [6722], [34], [6723, 6724], [1716], [], [12], [1525], [6725], [256], [288], [6726, 6727], [195], [6728, 561], [6729], [], [154], [408], [1616, 345], [41], [6730, 6731], [48, 449], [], [383], [324], [6732], [6733], [], [1717, 6734, 6735, 1004], [354], [6736, 6737], [], [689, 6738, 6739, 1005], [1006], [6740], [], [], [6741], [10, 6742], [], [], [868], [], [6743], [7, 6744, 6745], [], [1201], [], [6746], [1], [1007], [402], [6747, 1718, 487, 1233], [], [], [5], [], [], [30], [1719], [6748], [23, 6749, 6750], [6751], [714, 21], [955], [], [], [68], [6752], [47, 6753], [6754], [825, 1, 63], [6755, 6756], [6757], [908], [6758, 6759], [], [6760, 6761, 6762], [], [201], [6763], [489], [243], [13], [4], [7, 1590, 6764], [3], [722], [6765], [6766], [6767], [533], [], [6768], [2], [6769, 6770], [295], [1008, 1008, 1008, 6771, 245, 6772, 1, 6773, 6], [12], [13], [6774], [1720], [6775], [95], [6776], [], [], [6777], [6778], [], [40], [240], [], [99], [443, 6779], [], [6780], [120], [], [], [207], [6781], [], [28], [1721], [], [6782, 6783], [217, 6784, 6785, 10, 6786, 723, 723], [], [], [6787, 1722], [396, 6788], [6789, 6790, 1, 6791], [6792], [6793, 332], [], [6794], [20], [27], [], [6795], [968], [6796], [6797], [], [92], [31, 1009, 6798], [6799], [3], [6800, 40, 6801], [1010, 6802, 6803], [70], [7], [2], [6804, 247, 246], [700], [], [35], [6805], [], [6806], [], [6], [], [], [], [177, 15, 6807], [58, 6808], [1011], [6809], [], [48], [4], [], [101, 6810], [1173], [6811, 353, 146], [6812], [25], [6813, 6, 82, 6814], [65, 69, 6815], [6816], [6817], [5], [2], [26, 6818], [31], [1723], [57], [], [6819, 17], [6820], [1, 6821, 6822], [6823, 1012, 6824, 6825], [], [6826], [6827], [6828], [6829], [6830, 6831], [374, 6832], [], [], [102], [6833, 9, 6834], [370], [183, 22, 9, 6835, 1], [129], [724], [87, 1, 725, 6836, 17], [22], [126, 6837], [15], [], [6838, 6839], [], [1013], [6840], [311], [11], [6841, 6842, 6843], [], [6844], [], [406, 6845], [23], [], [], [1014, 721], [3], [6846], [197], [6847, 158, 6848, 6849], [108, 6850], [6851], [596, 96], [6852, 333, 6853], [5], [3], [1015], [6854], [], [], [], [6855], [6856], [], [12], [], [6857, 6858], [5], [3], [], [139], [1724], [], [437], [37, 6859], [6], [6860], [], [6861], [7, 288, 1725], [58], [], [1, 6862], [14], [], [6863], [216], [], [], [], [125], [589, 6864], [44], [14], [213], [], [4], [6865], [1, 1002], [6866], [], [6867], [5], [], [], [28], [], [1], [370], [1016], [45, 30, 15, 6868], [], [6869], [276], [1667], [1], [], [3], [1005], [11], [187, 6870, 6871], [], [1726], [], [5], [726], [162], [], [48], [6872], [272], [], [], [77, 6873, 6874, 6875], [46], [], [], [], [], [6876], [6877, 915, 6878], [1017], [1636], [41], [73], [303, 1, 6879, 6880], [], [727], [6881], [20], [6882], [259], [1727], [293], [6883], [27], [674], [6884, 6885, 6886, 190, 6887, 6888], [62, 6889], [], [6890, 6891, 6892], [6893], [6894], [6895, 6896], [], [6897], [1728], [], [34], [6898], [44], [], [9, 6899], [], [], [72], [633], [79, 1729], [1730], [6900], [], [728, 6901], [6902], [47], [], [], [1018], [], [15], [], [526], [], [6903, 18, 6904, 6905, 6906], [729, 6907, 6908], [6909], [57], [], [], [709], [3], [6910, 1639, 623], [5], [1538], [6911], [1731], [], [], [31, 6912, 6913], [242, 6914, 1732, 1732], [6915], [6916], [], [6917, 6918], [6919], [216], [184], [], [6920], [], [856, 649, 730], [6921], [98, 384, 717], [6922], [138], [], [1], [6, 6923], [6924, 6925, 6926], [120, 1, 98], [6927], [], [6928], [1733], [44, 731], [6929, 6930], [], [], [], [414], [6931], [55], [6932], [6933, 6934], [1734, 6935, 6936], [6937, 17, 6938, 732], [144], [22], [], [], [6939], [418], [238, 238, 8, 3], [], [718], [219], [6940], [359], [6941], [], [], [], [676, 6942, 1735, 6943, 116], [1206], [209], [498, 1548], [6944], [], [1019], [33], [1587], [], [304], [6945], [], [36, 90], [139, 6946], [6947], [], [6948], [6949], [6950], [1504], [222, 6951, 6952, 6], [30, 6953], [], [29], [6954], [6955], [3], [], [6956, 6957, 90, 6958, 6959], [6960, 6961], [], [74], [9, 6962], [188], [], [62, 450, 6963, 6964], [6965, 6966, 6967, 185], [], [6968], [], [6969, 6970, 6971], [6972, 6973], [1736], [557], [53], [1], [6974], [195], [6975], [6976], [91], [6977, 6978], [6979], [76], [258, 6980, 6981], [6982], [], [6983], [], [6984], [], [824], [483], [43], [], [974], [6985, 6986, 391, 6987], [325], [85], [6, 6988, 6989, 6990], [10], [19, 6991, 6992], [4], [4], [9, 6993], [], [6994], [6995], [6996, 6997], [], [6998], [6999, 7000, 7001], [35], [1737], [], [1738], [7002], [7003, 7004, 671, 7005], [1172], [11], [7006, 7007, 7008], [31], [36], [1739], [6], [7009], [7010, 334], [], [82], [], [293], [], [7011], [1740, 7012], [7013], [7014], [5], [7015], [1741], [7016], [7017], [142], [7018], [3], [12], [409, 7019, 7020, 3], [], [9], [133], [], [17, 22], [60, 7021, 7022], [7023], [5], [7024], [414], [7025], [7026], [22], [127, 264, 7027], [486, 392], [7028], [], [7029], [], [2], [], [7030, 7031, 7032, 1742], [178], [7033], [25], [140], [], [7034], [], [633], [244], [], [7035], [1743, 320], [14], [44, 7036, 7037], [57], [7038], [7039], [75], [117], [2], [50], [7040, 21], [128], [7041], [113], [7042], [], [], [22], [654, 7043], [7044, 7045], [], [], [1], [], [7046], [7047, 7048, 1], [], [2], [179], [436], [], [7049], [7050], [], [7051], [7052, 16, 7053], [7054], [296], [553], [7055], [362], [], [343], [1020], [45, 7056, 597, 229, 7057], [7058, 7059, 1744, 7060, 7061], [], [7062], [76], [], [7063], [120], [], [212], [], [13, 1745], [26, 7064], [66], [], [], [7065], [7066], [7067], [91, 7068], [7069], [536, 7070], [730], [294, 7071], [1746], [], [7072, 7073, 7074], [], [], [7075, 7076, 6, 7077, 7078, 6], [46], [7079, 7080, 7081], [28], [7082], [373], [32], [22], [7083], [22, 7084], [], [], [7085], [7086], [113, 732], [], [14], [7087, 451, 7088], [7089, 86], [7090, 7091, 392, 7092], [68], [], [4], [2], [7093], [7094], [7095], [7096], [7097], [7098, 6], [], [35], [], [7099], [231], [407], [1425], [], [1021], [7100, 290], [], [530, 245, 7101], [], [7102], [], [7103, 7104], [], [7105, 7106, 508, 173, 7107], [7108], [39], [], [14], [7, 7, 7109], [7110], [], [], [276], [], [7111], [37, 7112, 7113], [], [1022], [7114], [1], [], [], [7115], [], [48, 449], [1698], [7116], [], [], [29], [], [1747], [7117, 1023], [12], [], [7118], [150, 1, 1024], [1748, 7119, 914, 7120], [54], [7121], [], [15, 7122], [7123], [7124], [11], [], [7125], [7126], [], [], [], [], [7127], [22], [7128], [733, 21], [30, 7129], [521], [], [], [600, 7130, 51, 57], [7131], [112], [7132], [27], [6, 7133], [71, 1749, 7134, 7135], [7136], [7137], [], [199], [], [7138], [7139, 7140, 7141], [19, 21], [], [7142], [135, 143], [7143], [929], [], [19, 21], [], [1750], [335, 7144], [33], [32], [91], [7145, 7146, 7147, 7148, 7149, 1751, 7150], [], [734], [7151, 7152, 7153], [7154], [3], [4, 40], [], [], [], [774], [53], [7155], [], [7156, 87], [7157], [83], [7158, 6], [7159], [7160], [33], [7161, 102], [193], [2], [33], [], [1752], [1369], [], [442, 7162, 7163], [18, 7164], [], [61], [228, 7165], [7166], [14], [7167], [], [124], [236, 7168, 7169], [1753], [7170, 7171, 7172, 871, 7173, 7174], [7175], [3, 3], [], [658], [7176], [7177], [13], [], [], [7178, 96, 7179, 7180, 96], [], [7181], [50, 7182], [], [111], [7183], [], [40], [4], [7184], [18, 7185], [7186], [7187], [7188, 6], [], [12], [], [], [], [326], [], [], [2], [7189], [7190], [7191], [288], [55], [19, 21, 7192, 7193, 7194, 212, 7195], [86], [219], [], [1, 7196], [12], [7197, 7198], [], [7199], [7200, 7201, 710], [7202], [7203, 7204, 1025], [10], [7205], [23], [7206], [35], [2], [156], [517], [7207], [3], [], [], [7208, 7209], [7210], [], [9, 7211, 1654], [7212, 7213], [7214], [40], [379], [381], [18, 121, 122, 7215], [7216, 1026, 7217, 119, 7218], [], [], [7219, 7220, 7221], [7222], [165, 1754], [], [3], [131], [56], [], [166, 7223, 7224, 7225, 80, 7226], [], [7227, 7228], [7229], [7230], [134], [7231, 371], [7232, 7233], [7234], [], [], [1517], [1755, 7235, 561], [7236], [186], [], [7237], [728, 7238], [341], [], [1756], [56], [], [7239], [7240], [1027], [], [504], [15, 7241], [2], [198, 7242], [7243, 1028, 1757, 878, 7, 7244], [], [286], [7245, 7246, 363, 7247, 115], [985, 7248, 7249, 7250], [], [38], [5], [1029, 7251], [7252], [], [], [], [7253], [], [4], [7254, 7255], [], [205], [7256, 7257], [292], [1758], [30, 7258], [7259], [1564], [4], [], [7260, 15, 7261], [7262], [1759, 1760], [], [7263], [7264, 7265], [1], [7266], [], [7267, 1761, 498], [], [150], [7268], [2], [7269], [7270], [], [11], [7271], [1030], [33], [], [3], [], [7272], [47], [1026], [106, 3], [], [432], [6, 10], [7273], [11], [], [380, 7274, 7275], [], [7276, 7277], [7278], [], [7, 7279], [201], [45, 142, 7280], [7281], [], [6, 7282, 141], [1762], [647], [], [28], [15, 267], [7283], [], [268, 7284], [7285], [487, 7286], [], [], [12], [7287], [4], [1], [329], [], [1018], [1031], [], [1032], [1763], [3, 1764], [7288], [9, 7289], [885], [], [], [], [35], [7290, 649, 7291, 1033, 7292, 7293], [71], [7294, 7295], [7296], [8, 117, 7297, 7298], [7299, 7300], [313], [194, 7301, 7302, 7303], [51, 1658], [7304], [36], [1, 1765], [43], [1766], [7305], [37, 7306, 172], [7307], [7308], [7309], [4], [7310, 7311, 7312], [2], [7313], [83], [495], [], [7314], [283], [36], [73], [7315], [], [7316], [18, 1019], [338, 7317], [164], [7318], [987], [7319, 1693], [7320], [29], [7321, 641], [], [4], [5], [1767], [28], [], [7322], [7323, 7324], [], [14], [], [], [7325, 7326, 7327], [19, 21], [164], [7328], [409], [], [246], [], [238, 7329], [11], [], [4], [179, 7330, 7331], [1768], [1, 1002, 7332], [7333], [9, 1769], [7334, 1, 7335], [7336, 6], [], [7337], [], [38], [5], [3], [], [14], [], [7338, 1770, 1771, 816], [9, 467], [7339, 1303], [1296, 146], [452], [7340], [7341], [1772], [12], [], [], [946], [], [186], [2], [2], [488], [7342], [], [53], [7343], [7344], [128, 7345], [7346, 7347], [7348, 7349], [7350, 7351, 7352, 7353, 7354, 177], [], [7355, 7356], [7357, 1700], [], [], [7358], [], [7359], [838], [], [], [], [372], [], [144], [], [1773], [151], [2], [1748, 7360], [7361], [], [477], [], [], [7362, 107], [7363], [7364], [7365, 7366, 7367], [185, 1774, 1775, 1775, 1774], [7368], [16, 7369], [7370], [32], [86], [7371], [35], [453], [19, 21], [], [], [7372, 7373, 7374, 7375, 7376, 7377, 7], [735], [30], [], [80], [41], [1776], [8], [7378], [7379, 21], [35], [], [2], [7380], [372], [7381, 7382], [670], [142], [699], [], [], [], [7383, 343], [12], [], [], [], [], [1777, 1777, 7384], [228], [], [7385], [7386], [7387], [13], [7388, 6], [], [5], [28], [7389], [], [7390], [7391], [7392, 7393, 7394, 7395], [], [], [], [], [86], [1343], [], [7396], [31], [], [], [7397], [], [1034], [7398, 6], [7399], [718], [1778], [7400, 321], [66], [7401, 7402, 7403, 7404], [1482], [7405, 7406, 240], [7407], [7408], [46], [13], [4], [36], [736], [1779], [], [111], [1, 1035], [7409], [673], [1036], [7410], [1037], [7411], [], [7412], [], [], [7413], [], [], [7414], [1780], [7415], [965], [7416], [388], [7417], [363, 7418], [], [56], [], [7419], [7420, 7421, 7422], [674], [28], [7423, 116, 7424, 79], [], [27], [], [226], [16, 7425], [72, 1, 938, 7426, 1], [1781], [], [], [4], [], [7427], [7428], [7429], [7430, 1655, 7431, 7432], [41], [7433], [], [7434], [12], [5], [], [1038], [32], [], [7435], [7436], [7437], [7438, 7439], [68], [7440], [7441], [7442], [], [], [7443, 1782], [1007], [4], [7444, 7445, 17], [], [], [], [], [7446, 7447, 7448], [3], [], [], [769], [55], [125], [7449], [7450], [], [370], [7451, 451, 7452], [], [7453], [7454], [1], [7455], [7456, 7457], [7458], [], [284], [3], [8], [], [113, 7459, 190, 7460, 7461], [555], [130], [74], [7462, 21], [], [29], [], [13], [7463], [562], [7464], [167], [39], [], [7465], [7466, 7467], [7468], [126], [7469, 7470], [], [819], [1783], [379], [], [7471], [7472], [594], [], [7473], [734], [55], [7474], [], [], [], [7475], [11], [7476, 7477, 827], [5], [7478], [22], [7479], [], [41], [], [7480], [65], [7481], [199], [7482, 7483], [1784], [136], [], [354], [7484], [168], [430], [], [31, 7485], [], [38], [123, 7486, 295, 1039], [7487], [7488], [7489, 117], [7490], [30], [187, 7491], [87, 192, 1, 7492, 17], [13], [20], [], [], [3], [7493], [], [7494, 550], [], [14], [20], [], [7495], [2], [], [270], [341], [7496], [69], [], [7497, 7498], [2], [1439], [], [87], [4], [152], [1, 7499, 1, 323], [7500], [1040, 157], [1785], [7501], [], [7502], [], [524], [7503, 7504, 7505], [562], [90, 7506, 101], [90, 7], [7507, 1, 7508, 59], [22], [1, 7509, 7510, 1, 7511, 7512], [1786, 7513], [7514], [], [], [737, 7515], [37], [73], [], [7516], [], [], [7517], [35, 1, 7518], [54], [7519], [286], [58], [4], [], [30], [61, 1], [7520], [7521], [7], [1], [7522], [], [26], [452], [], [], [454, 7523, 7524], [4], [], [7525], [7526, 7527, 7528, 7529], [7530, 7531], [7532, 7533, 541], [], [], [7534], [1787], [64], [7535], [348, 7536], [130, 7537], [81], [240, 7538], [], [25], [53], [4], [730], [1016], [7539], [4], [1560], [], [], [7540], [], [7541, 7542, 7543, 41, 146], [7544], [7], [47, 7545], [], [37, 1208], [7546, 7547, 7548], [306], [7549, 116], [1, 7550], [7551, 1041], [223, 7552], [7553], [482, 7554, 116, 7555, 7556, 7557], [1788], [], [34], [7558], [25], [], [7559, 7560], [7561], [506], [626, 7562], [13, 7563], [4], [7564], [1, 7565], [], [82, 7566], [31, 7567, 16, 7568], [36], [], [], [], [], [7569], [], [], [1291], [1010, 1166], [454, 7570], [], [685, 7571], [4], [7], [513], [7572, 7573, 1333], [75], [7574, 7575], [986], [7576], [89], [7577], [1789], [225, 7578, 343], [7579], [7580], [1657], [269], [7581, 6], [7582, 1790], [7583], [], [10, 590], [1151], [1791], [453], [5], [], [36], [], [7584], [], [5], [19, 21], [7585], [7586], [], [1735], [7587], [263, 666], [7588], [24], [], [7589, 7590, 7591, 7592], [], [], [7593], [72], [102, 7594], [54], [], [], [], [1042], [7595], [1792], [22], [], [48, 7596], [7597], [], [3], [23, 1, 175], [1240], [], [7598], [10, 16, 7599, 7600, 7601], [47], [2], [265], [7602], [], [7603], [1793], [1389], [24], [7604], [], [7605], [7606], [], [], [7607], [62], [7608, 7609], [], [], [], [7610], [7611], [], [96, 15], [7612, 7613], [1794], [7614], [7615], [], [], [12], [7616], [19, 7617, 920], [], [7618], [842, 7619], [7620, 7621, 100], [1231], [544, 7622, 7623, 7624, 7625], [73], [7626], [7627], [1043], [1795], [7628, 609, 7629, 440], [305], [], [38], [38], [7630], [], [7631, 7632], [7633, 1044], [6, 7634, 7635, 7636, 7637, 6], [125], [3], [], [90, 1796, 7638], [7639, 7640, 7641], [4], [], [125], [7, 332, 7642], [70], [114], [7643], [132], [1045, 7644], [187, 509], [], [], [7645], [], [1046], [31, 7646, 1, 7647], [7648], [7649], [2], [7650], [140, 7651, 7652, 7653, 7654], [7655], [7656], [], [7657], [7658], [], [], [7659], [3], [], [7660, 7661], [7662], [7663], [], [], [], [403], [7664], [12], [1797], [], [10], [222, 7665], [1798, 7666, 7667, 1798], [7668], [11], [7669], [4], [87, 1274], [83], [1799, 7670], [], [7671, 7672], [7673], [7674], [7675], [7676], [52], [360], [141], [], [31, 7677, 119, 7678, 16, 7679], [7680], [118], [], [26, 7681], [7682], [7683, 7684, 316], [24], [793, 7685, 7686], [62], [1800], [7687, 7688, 121], [5], [837], [], [], [], [], [22], [8], [407], [213], [1468, 81], [], [7689], [7690], [7691], [24], [128, 7692, 1765], [], [7693], [3], [7694, 7], [54], [178], [1801, 10, 152], [], [911, 113], [60, 175, 1047, 7695, 7696, 7697], [365], [], [3], [7698], [139], [], [7699, 125, 16, 7700], [76], [35], [289], [87, 7701, 204, 23], [7702, 7703, 795], [7704], [], [38], [7705, 7706, 7707], [51], [5], [], [35, 7708, 7709, 886], [7710], [16, 450], [1275], [1802, 7711, 7712, 137], [3], [40, 179, 738], [7713, 7714], [7715], [], [18, 1803, 7716], [7717, 1048], [27], [22], [], [57], [7718, 7719, 7720], [], [7721], [], [7722, 1804, 7723], [7724], [7725, 7726], [7727, 69, 7728], [], [7729], [1049, 48, 266], [], [7730, 7731], [3], [1805], [125], [25], [], [168, 178, 7732], [138], [259], [7733], [379, 129, 69, 1806], [], [7734], [23, 1807], [501, 345, 7735, 1808], [846], [3], [], [4], [22], [560, 7736], [7737], [], [235, 1660], [43], [7738], [7739, 252, 7740, 7741, 7742], [8], [7743], [7744], [38, 7745], [7746], [139], [1, 7747, 7748], [7749], [194, 336], [7750, 7751], [1809], [62, 220], [7752, 7753], [167], [], [7754], [7755], [], [7756], [563], [7757], [90], [], [], [6], [426], [23, 954, 7758], [680], [], [7759], [180, 7760], [7761], [35], [], [18], [7762], [1006], [], [], [9, 230], [7763], [], [], [7764], [13], [22], [257], [], [], [7765, 7766], [7767], [182], [1780], [], [], [7768, 7769, 7770], [164, 716], [247], [11], [431, 713], [334, 7, 7771], [7772], [161], [1433], [126], [7773], [7774, 7775, 7776], [], [7777], [7778], [], [369], [7779, 77], [141], [7780, 7781, 7782], [25], [4], [58, 7783, 71], [22], [7784], [702], [66], [7785], [], [7786, 294], [5], [], [], [37, 7787, 7788], [7789], [7790, 7791, 7792, 7793, 489, 17], [], [], [1714], [334, 7794], [7795, 7796, 173, 1810], [7797], [7], [90, 735], [], [7798], [70], [7799], [7800], [244], [7801], [7802], [3], [52], [], [14], [], [14], [1811], [7803, 7804], [52], [22], [7805, 82, 7806], [47], [76], [13], [7807], [], [7808], [7809], [7810], [], [72], [7811, 7812, 51, 7813, 7814, 6], [13], [], [1812, 7815, 1812], [7816], [], [], [32], [18, 7817], [], [7818], [20], [7819, 7820], [49], [], [7821], [], [], [61], [35], [7822], [7823], [7824], [7825], [], [7826, 7827], [1645], [7828], [272, 7829, 725], [], [], [7830], [7831, 7832], [3], [17, 1], [], [7833], [7834], [], [165], [], [7835], [47], [7, 613], [], [], [36], [7836, 7837, 839], [7838], [], [7839], [54], [74], [83], [7840, 7841, 7842, 7843, 6], [7844], [363], [], [], [8], [1, 7845], [276], [83], [20], [7846, 7847, 1465, 7848, 7849, 731], [13], [689, 7850, 7851, 7852, 7853], [9, 7854], [75], [9], [], [110], [7855], [216], [7856], [2, 307], [154, 7857], [37], [23, 23, 711], [7858], [1813, 1814], [], [], [], [7859], [], [715], [7860], [7861, 7862, 7863, 7864], [7865, 1604, 1005, 7866], [7867], [], [149], [221], [1474], [7868], [7869], [27], [], [7870], [1815], [7871], [], [28], [7872], [308], [10, 152], [7873], [163, 107], [265], [7874], [7875, 10, 121, 1], [], [], [], [14], [], [1050], [6], [], [298], [], [], [], [], [7876], [7877], [], [7878, 7879], [], [7880], [7881], [1314, 7882], [10], [10], [31], [7883, 7884], [7885], [670], [7886, 7887], [42, 7888], [402], [], [7889, 7890, 1816, 7891, 7892], [], [], [7893, 7894], [8], [], [799], [7895], [], [70], [636, 7896, 7897], [244], [68], [1496], [7898, 21], [9], [5], [50], [14], [7899], [24], [], [474, 86], [1, 318], [7900], [7901, 218, 7902, 7903], [1613], [], [49], [8], [], [4], [111], [772], [22], [507], [], [7904, 7905, 7906, 7907, 7908], [7909, 7910], [40], [7911], [291, 7912], [2], [18], [4], [7913, 7914], [7915, 7916, 7917], [7918, 7919], [739], [], [6], [7920], [7921, 7922, 7923, 7924, 7925], [], [7926], [7927], [7928], [7929], [39], [7930], [], [], [7931], [64], [159], [7932], [3], [4], [], [14], [], [10, 1817], [16, 7933, 7934, 122], [359], [7935], [7936], [7937], [], [1818], [], [], [], [], [427], [1819], [7938, 7939], [82, 7940], [], [144], [265], [7941], [], [7942], [3], [7943], [7944], [32], [7945, 176], [311], [], [], [], [7946], [435], [7947], [], [], [], [7948, 1820, 7949], [], [7950, 7951, 7952], [1051], [7953], [7954, 7955], [8], [], [7956], [407], [7957], [1040, 1718, 7958, 7959, 9, 484], [3], [], [7960, 7961], [1821, 62], [], [7962], [1042], [7963], [], [7964, 7965, 7966], [71, 1052], [7967, 7968], [84], [], [7969, 7970], [24], [], [1, 7971, 7972, 7973, 7974], [7975], [49], [7976], [7977], [7978], [7979], [7980], [1822], [], [7981, 7982, 176], [203], [102], [1], [1823], [54], [7983], [], [18, 1824], [7984], [7985], [], [364], [7986], [26], [1825], [646], [56], [539], [72], [7987], [7988], [7989], [7990], [], [7991, 7992, 7993, 1826, 7994, 1826, 7995], [], [7996], [70], [7997], [7998], [4], [7999], [], [], [], [26], [8000, 8001], [6], [], [1827], [4], [8002], [7, 8003], [], [], [8004, 194], [2], [], [1828], [46], [8005, 8006, 418], [], [8007], [8008], [8009], [], [], [21], [], [], [8010], [8011], [538, 8012, 8013, 295, 8014, 650], [], [314, 94, 8015], [1699], [691, 150, 150], [8016, 8017], [8018], [8019, 1, 8020, 1164, 1, 8021, 8022], [1053, 1829, 8023], [51, 519, 593], [180, 8024], [], [8025], [8026, 8027, 8028], [77, 770], [], [1546, 573, 7], [106], [], [8029], [660], [], [8030, 102], [52], [20], [1054], [8031], [8032], [2], [8033, 1830], [], [66], [25], [2], [8034], [], [740], [], [283], [], [], [], [20], [], [8035, 113], [22], [1, 8036, 8037], [8038], [990, 8039, 1, 646, 8040, 8041], [8042], [8043, 8044], [42, 1831], [], [141, 8045, 1819], [285], [], [], [8046], [3], [8047], [], [8048, 1832], [164], [140], [], [], [83], [8049], [], [264, 51], [1833], [98, 1834], [8050], [], [8051], [85], [8052], [], [170], [8053], [8054], [231], [5], [2], [8055], [8056], [1835], [8057], [8058], [], [8059], [48, 1836, 8060, 8061], [8062, 8063], [741], [25], [], [8064], [8065], [], [37, 698], [], [208], [], [44], [1284, 8066, 8067, 131], [8068], [104], [], [299], [8069, 564, 8070], [], [8071], [], [211], [1622, 1837], [387], [23, 8072], [8073, 8074], [], [10], [72], [165], [], [1000], [8075], [8076], [8077], [8078, 8079, 8080, 8081], [8082], [294], [], [192], [1838], [8083], [], [8084], [], [1839], [8085], [8086], [], [], [8087, 51], [948], [8088], [2], [1840], [1841], [232], [8089], [85], [], [], [8090, 278], [], [1148], [8091], [37, 158], [99], [8092], [8093], [], [], [510], [], [4], [8094], [], [5], [68], [1536], [16, 223], [], [8095], [26, 8096, 152], [8097, 8098], [1821], [8099], [22], [], [715, 489, 8100], [], [37, 288], [], [47, 8101, 8102], [8103], [1, 725, 8104, 8105], [8106, 297], [8107, 403], [500], [255, 1280], [70], [8108], [742], [8109, 202, 8110, 664], [], [], [4], [8111], [26], [8112, 8113], [166, 8114, 8115, 8116, 8117, 103], [8118], [], [8119, 8120], [], [139], [8121], [8122, 8123], [8124], [60, 8125], [8126], [64], [8127], [161], [8128], [1842], [554], [8129], [5], [23, 44], [], [32], [8130, 8131], [8132], [8133, 8], [120], [1843], [8134], [127, 8135, 173, 98], [48, 8136, 6], [170], [8137, 8138], [8139], [], [8], [8140], [8141], [8142, 8143], [8144, 1306, 1150], [1, 8145], [], [8146], [8147], [8148], [50], [921], [1055], [25], [8149], [301], [8150, 991], [62, 984], [199], [], [], [4], [2], [], [237, 8151], [386], [438], [8152, 8153], [], [], [8154], [8155], [8156], [], [857], [8157, 8158], [8159, 8160, 1, 8161, 8162], [], [], [8163], [], [8164], [776], [455, 8165], [42, 8166], [275, 8167], [], [8168], [8169, 367], [205], [], [8170], [5], [8171], [8172, 8173, 1844], [188], [8174, 285], [8175], [8176], [8177], [546], [1056], [], [], [1057], [8178], [], [8179, 8180], [], [8181, 8182], [1845], [33], [2], [8183], [8184], [8185], [8186, 743, 63, 8187, 297], [622, 1041], [8188], [], [8189], [8190], [], [11], [8191, 966], [9, 230, 8192, 181], [8193], [], [1710], [5], [8194], [], [148], [8195], [76], [8196], [13], [8197, 8198], [5], [862], [57], [1846], [396, 8199, 8200], [8201, 8202], [8203], [8204], [25], [8205], [], [], [1847], [4], [8206], [], [], [], [], [5], [17, 8207], [8208, 8209], [12], [8210], [8211], [128], [], [158], [1848], [], [8212], [136, 271, 8213], [8214], [], [347, 8215], [17], [], [8216], [8217, 8218, 8219], [8220], [243], [8221], [], [3], [1058, 8222], [8223, 20, 1849], [1543], [1615], [23, 1850, 8224], [91, 8225, 561], [], [8226], [8], [], [84], [1, 941], [8227], [8228], [], [], [], [], [8229], [8230], [19, 309], [263], [], [105, 8231, 101], [1059], [364], [8232, 8233], [49], [8234], [], [8235, 8236], [241], [8237], [77], [], [], [8238, 8239], [53], [41], [8240, 240], [1270], [57], [8241], [], [], [966, 1851, 697], [744], [8242], [57], [8243], [], [8244], [], [2], [49, 8245, 1852], [8246], [388], [24], [], [190], [23, 1434], [3], [8247], [], [8248], [], [8249], [], [8250], [162], [8251, 994], [27, 1153], [542], [8252], [13], [8253, 8254, 63], [65, 623], [15, 267], [], [8255], [234], [8256], [8257], [], [8258, 8259], [], [8260], [8261], [38], [], [902], [67], [], [8262, 79, 8263, 8264], [], [], [], [8265], [9], [9, 8266], [8267], [36], [29], [], [436], [8268], [8269], [274], [1060], [8270, 8271], [934], [], [], [745], [659], [8272], [], [8273], [], [8274, 8275], [], [20], [746], [8276], [], [8277], [1, 455, 8278, 119, 8279], [8280], [12], [], [8281, 8282], [1853], [], [35], [8283], [56], [34], [13], [1500], [8284, 198], [8285], [1212, 65], [90, 90, 8286, 1854, 8287], [8288], [265], [1855], [647], [8289, 8290], [8291, 8292, 8293, 8294, 100, 8295], [8296], [259], [95], [], [], [8297], [8298], [8299], [3], [2], [], [178, 8300], [335, 1, 1856], [355], [], [8301], [], [], [], [], [13], [990], [162], [12], [255, 8302, 8303], [], [1857], [], [1858], [49], [], [4], [1, 1859, 277, 8304, 90], [14], [11], [8305], [189], [465], [207], [8306], [3], [], [8307, 8308], [], [], [66], [20], [1860], [73], [8309, 8310], [], [81, 245, 8311, 741, 8312], [1, 8313, 8314], [8315], [], [], [], [], [8316], [8317], [1861], [405, 1825], [27], [8318], [8319], [8320, 8321], [4], [27], [1061, 8322], [], [226], [8323], [16, 8324, 1, 8325], [8326], [], [72], [8327, 8328], [800], [], [], [1762], [38], [33], [8329], [], [], [208], [8330], [603], [], [180], [], [], [1225], [472], [], [8331], [8332], [95], [8333, 8334, 8335], [8336], [658], [6], [8337], [106], [8338], [], [], [4], [8339], [], [10], [], [], [8340], [1862], [12], [5], [25], [413], [], [7, 8341], [8342], [1052], [], [], [8343], [], [299], [8344], [491], [78], [8345, 1863, 8346], [65], [4], [8347], [14], [364], [8348], [37, 8349], [], [57], [120], [67], [8350, 8351, 8352], [13], [8353, 451, 8354], [8355], [722], [], [], [8356], [], [26], [], [8357], [4], [8358], [8359, 59], [], [8360], [39], [8361], [128, 8362], [7, 625], [155], [1864, 8363, 6], [1519, 8364], [8365], [14], [3], [236, 117, 8366], [35, 340], [], [8367], [53], [], [8368], [], [70], [134], [], [], [], [8369, 8370], [8371], [], [39], [883], [8372], [], [8373], [], [], [], [8374], [], [4], [8375, 1062, 8376, 42], [8377, 1540], [20], [80], [8378], [8379], [8380, 8381], [], [4], [12], [], [39], [933], [14], [8382, 8383], [], [1063], [42], [8384], [], [], [373], [178, 181], [5], [], [], [8385, 8386, 788], [724], [2], [55], [95], [40], [], [], [], [], [8387, 8388], [8, 166], [8389, 239, 8390, 8391, 8392, 8393, 8394, 8395, 8396], [8397], [40], [8398], [], [3], [504], [], [193], [8399], [8400], [47, 8401, 8402, 8403], [8404], [1865, 120, 8405, 8406, 177], [5], [859], [214], [8407], [], [], [199], [], [8408], [698, 8409, 8410], [689], [12], [8411], [53], [27, 6], [324], [83], [8412], [8413, 96], [], [8414], [80, 1400], [8415], [8416], [12], [], [279], [344, 8417, 8418, 8419], [8420], [8421], [32], [5], [8422], [], [2], [1784], [8423, 8424], [53], [], [1, 284], [747], [8425, 8426, 173, 1, 8427], [8], [58, 333, 8428], [8429], [6, 8430, 67, 6], [8431], [91], [], [], [8432], [32], [], [8433, 8434], [5], [36], [8435, 8436, 15, 1147], [156], [], [21], [], [], [], [8437], [8438, 899], [], [296], [], [], [4], [1064], [25], [8439, 8440, 8441, 8442], [8443], [88, 8444, 8445], [8446], [], [8447, 8448, 8449, 8450], [], [8451], [], [8452], [], [1617], [1145], [8453], [8454, 8455, 88], [8456], [8457, 8458], [8459], [6], [1, 8460], [9, 484, 8461], [8462], [3], [8463, 8464], [], [], [], [8465], [1406], [53], [1866], [68], [33], [24], [8], [8466, 8467], [1065], [8468, 8469], [216], [195], [40], [8470, 8471], [10, 8472, 8473], [], [19], [1867, 8474], [1066], [1], [102, 310, 79], [8475, 18, 8476, 8477, 6], [8478], [8479, 6], [8480], [36], [29], [], [3, 8481], [], [11], [29], [2], [], [], [319], [11], [8482, 8483], [8484], [], [8485], [8486, 8487, 8488], [8489], [8490], [], [], [1868], [8491, 8492], [1254], [159], [79, 51], [8493, 291, 8494], [8495], [123, 8496], [], [1715], [326], [2], [8497], [8498], [142], [8499], [8500], [12], [8501], [134], [3], [], [], [8502], [8503], [8504, 8505], [8506, 8507, 8508, 8509], [], [8510, 8511, 8], [1869, 8512], [20], [8513], [1305], [150, 7, 8514, 8515], [8516], [20], [], [8517, 8518], [8519], [8520], [1, 8521], [16, 8522, 103, 8523], [561, 8524], [19, 21], [917], [8525], [8526], [8527, 290], [1870], [151], [8528], [8529, 115], [8530], [8531], [], [446, 130, 8532, 8533], [8534], [8535, 1067], [1396, 8536, 8537], [8538], [6], [61], [8539], [44, 8540], [], [8541], [26, 8542], [26], [8543], [104], [8544], [75], [], [8545, 8546], [8547], [8548], [8549], [], [22], [27, 114, 15, 8550, 8551], [50], [], [8552], [8553, 1035], [8554, 8555], [52], [8556], [962, 8557, 8558], [8559], [8560], [8561], [8562], [8563], [], [], [3, 8564], [], [87, 8565], [41], [9, 1035, 62], [8566, 1871], [], [875], [344], [8567], [155], [1, 8568], [309], [41], [8569], [], [8570, 10], [8571, 8572], [1014], [], [1168, 1769], [47, 8573], [8574], [], [], [930], [8575], [8576], [203], [8577], [], [], [37, 8578], [8579], [1316], [], [39], [37, 8580], [353, 80], [901], [36], [792], [272], [378], [], [4], [109], [1, 8581], [1], [8582], [], [1021], [326], [124], [80, 146, 180], [8583], [1068], [], [81], [8584], [8585, 8586, 8587], [8588, 8589, 1, 8590, 8591], [9, 233], [8592], [], [], [12], [8593], [1, 8594], [8595], [745], [8596], [8597], [1018], [340, 133], [], [8598, 8599, 8600], [], [8601], [18, 8602, 1, 8603], [8604, 8605], [], [8606], [], [1815], [], [499, 8607, 8608], [8609], [84], [1069], [8610, 8611], [178], [252, 8612, 224, 8613], [8614, 917], [1842], [], [8615, 8616], [8617, 450], [], [3], [], [8618], [8619], [], [8620], [16, 8621], [200], [8622], [], [6], [], [22], [], [], [8623], [1872], [75], [8624, 8625], [], [224, 8626], [], [67, 559], [1873], [380], [231], [], [], [8627, 8628, 17], [], [8629], [], [24], [1], [8630, 8631], [25], [11], [14], [8632], [], [], [159], [112], [8633], [704, 8634], [8635], [11], [8636, 166, 8637], [], [648], [], [8638], [8639], [702, 8640, 245], [25], [8641], [8642], [8643], [35], [80, 8644], [], [6], [11], [], [1397, 8645, 1, 8646], [94], [1, 8647, 617], [8648, 8649, 8650, 6], [1], [69], [8651], [], [161], [], [10], [108, 108, 108], [8652, 258, 1874, 8653], [8654], [], [610, 302, 8655], [1595], [68], [], [8656, 8657], [8658], [8659], [435], [8660, 8661, 935, 8662, 8663], [8664], [8], [8665], [8666], [320, 8667], [92], [], [564, 8668, 108, 8669], [8670], [8671], [181], [381, 8672], [4], [8673], [40], [4], [2], [1875], [8674], [8675, 8676, 10], [14], [], [8677], [8678], [30], [1196, 8679, 8680, 222, 8681], [], [43], [1437], [939], [], [43], [42], [1, 8682, 479], [8683], [], [448], [8684, 8685], [8686], [8687], [8688], [8689], [28], [8690], [38], [1832, 8691], [8692], [8], [], [835, 8693, 8694, 8695, 8696], [8697], [8698], [8699], [8700], [], [8701, 8702, 8703], [], [3, 1198], [638, 23], [8704, 190, 82, 8705, 8706], [], [8707, 8708, 8709], [14], [], [], [], [8710, 21], [8711, 1004], [8712], [8713], [], [19], [], [2], [], [], [8714, 158], [1876], [8715, 1070], [20], [14], [2], [20], [12], [8716], [], [33], [32], [1871, 8717], [8718], [8719, 104, 8720, 8721], [], [1877], [48, 127], [1573], [169], [637], [733, 1413], [795], [305], [8722], [], [7, 8723], [19, 21], [189], [], [], [8724], [1878], [31, 8725], [748], [8726, 8727], [], [651], [327], [8728], [45], [8729, 8730], [8731], [8732, 8733, 37, 8734, 8735], [], [], [], [8736], [8737, 8738], [3], [], [10], [8739], [40, 8740], [1, 1879, 1, 725, 8741], [], [8742], [2], [2], [8743, 8744], [8745, 8746, 8747, 302, 302, 302], [], [194], [8748], [], [1], [1289, 8749], [], [8750], [8751, 1071, 8752, 63], [3], [19, 21], [58], [8753, 8754], [30], [16, 8755, 1880], [], [8756], [28], [8757], [8758], [], [8759], [151], [], [8760], [8761], [3], [8762], [99], [116], [4], [1881, 62], [], [3], [14], [1, 8763], [], [8764], [8765], [11], [8766], [8767, 8768], [], [8769], [8770], [8771], [], [8772, 8773, 8774], [], [], [106, 499, 8775, 1882, 8776], [419], [], [1, 8777], [243], [8778], [5], [14], [], [8779], [1883], [1884], [102], [8780, 8781], [5], [8782, 8783], [33], [17], [8784], [], [8785], [8786, 8787, 8788], [24], [41], [610, 8789, 8790], [139, 9, 706], [913], [8791], [], [], [], [], [], [8792, 1282, 150], [8793], [8794], [935, 1, 1229], [1072], [], [8], [8795], [], [1885, 8796], [749], [8797], [], [35], [8798, 959], [], [8799], [], [], [8800, 8801], [8802], [8803, 688, 8804, 59], [], [142, 8805], [], [215], [], [1886], [], [], [109], [8806], [8807], [378], [], [20], [1877], [8808], [8809], [8810], [8811, 8812], [], [], [1682], [8813], [], [], [], [], [8814], [94], [], [8815], [], [15, 8816], [2], [8817, 8818, 841, 8819], [], [8820], [73], [122], [159], [], [750], [8821, 8822, 8823], [8824], [224, 8825, 8826], [38], [], [], [45, 8827, 69, 8828], [], [337], [8829], [3], [], [], [8830], [8831, 1073], [101, 8832], [422], [496], [1887, 978], [1690], [], [2], [1888], [8833], [], [], [8834], [8835], [], [5], [746], [35], [138], [8836, 1, 1074, 8837], [8838], [8839, 8840], [459, 8841, 8842], [43], [1751], [5], [], [211], [8843, 1075], [55], [8844, 8845], [186, 8846], [], [8847], [291, 124, 8848], [988], [8849], [3], [8850], [8851], [807, 1889, 18, 1697], [1565], [8852, 15], [1031], [5], [3], [1890], [], [32], [], [8853], [8854], [441], [22], [34], [22], [], [8855], [8856], [3], [8857], [], [7, 8858], [], [8859], [], [55], [8860], [221], [8861], [1076], [], [66], [52], [8862], [8863, 8864], [8], [8865, 8866, 171, 6, 8867], [], [], [8868], [8869], [102, 8870], [12], [533], [1891, 1892, 928], [981, 8, 42, 8871, 8872], [7], [136, 1893, 8873, 1637], [], [241], [], [246], [8874, 152], [], [882, 8875], [25], [], [801], [1606], [8876], [2], [8877], [], [1894], [264, 1895, 852], [1896], [], [12], [1544], [4], [8878, 8879], [], [8880], [1897, 8881, 109, 176], [8882, 8883], [68], [8884], [], [1586], [], [], [8885], [1, 8886], [8887, 8888], [1898], [1899], [], [3], [], [8889], [8890], [34], [8891, 8892, 417], [199], [8893], [734], [8894], [8895], [8896, 8897], [], [8898], [], [1900, 176], [], [10, 8899], [106, 1, 230, 7, 8900, 230], [897, 8901], [8902, 42], [692], [8903, 8904, 627], [13], [], [14], [8905], [1901], [8906], [8907, 8908], [8909], [521], [], [], [13], [8910, 8911, 8912], [8913], [14], [36], [8914], [8915], [25], [], [455, 1363, 8916, 1703], [8917], [8918], [8919], [], [36], [8920], [], [], [8921], [42], [1902], [48, 266], [8922], [135, 8923, 8924], [8925], [], [8926], [8927], [8928], [8929, 8930], [], [8931, 113], [], [6], [8932, 42, 88, 652, 8933], [], [72], [], [], [], [8934, 1673], [456], [8935], [], [474], [], [38], [8936], [8937], [80], [], [8938], [], [], [44, 1608, 8939], [8940, 8941], [8942], [], [8943], [], [8944], [92], [], [75], [8945, 1077], [8946], [], [8947], [], [], [1078], [95], [94], [8948], [], [4], [68], [1031], [8949], [], [684, 1903], [8950], [15, 1904, 7, 8951], [426, 8952, 16, 8953], [890], [], [], [8954, 1399], [1905], [8955], [8956], [1487], [22], [8957], [8958], [8959], [29], [8960], [8961], [1407], [15, 8962], [], [1, 770], [], [597, 8963], [38], [], [54], [8964], [8965], [13], [8966, 8967, 8968], [], [965], [8969], [191], [1313, 8970, 8971, 663, 59, 8972], [], [8973, 8974, 681, 1598, 8975], [8976], [65, 1, 8977, 8978], [25], [], [61], [8979], [122], [8980, 1237], [], [1906, 8981], [8982], [8983, 1, 8984, 8985], [], [8986, 8987], [8988], [], [187], [8989], [8990, 440, 8991, 679], [8992, 8993, 8994, 8995], [], [335], [8996], [71, 8997, 8998], [1262], [52], [24], [], [], [565, 88], [], [51], [82, 1643], [26, 8999], [], [2], [13], [9000], [51, 9001, 9002], [], [30, 9003, 9004], [], [], [687], [155], [131, 137, 1907], [], [9005], [154, 9006], [9007], [27], [9008, 18, 1725], [124], [9009], [], [9010], [9011], [54], [9012], [9013, 588, 163], [9014, 693], [9015, 9016], [330], [9017], [9018], [9019], [1908], [9020], [24], [9021], [9022, 9023, 9024, 9025], [9026], [82, 9027], [56], [27], [], [9028], [1909, 415], [], [19, 21, 9029, 9030, 822, 9031], [9032], [8], [9033], [9034], [9035], [], [9036], [192], [9037, 9038], [9039], [9040], [28], [345], [1910], [], [], [140], [], [], [11], [53], [9041], [29], [347, 1079, 457, 9042, 9043], [], [9044], [], [751, 751, 751], [9045], [963], [], [], [9046], [], [9047], [1911], [1912], [], [9048, 665], [9049], [], [9050], [36], [951], [731, 9051, 9052, 9053], [], [676, 9054], [8], [9055], [], [9056], [9057, 51], [9058], [35, 1913, 752], [], [], [91, 1609], [9059], [9060, 9061], [9062], [9063, 9064], [64], [9065, 9066], [9067], [9068, 9069], [9070], [675], [1419], [4], [9071, 76, 98], [1914], [], [5], [9072], [15, 9073], [977], [9074], [], [9075], [92], [], [9076, 9077], [1915], [], [673], [], [9078], [34], [68], [], [529], [106, 9079], [9080, 1372], [358], [22], [], [44], [5], [243], [488], [750], [], [456], [], [18, 9081, 9082], [1], [3], [], [18, 9083, 9084], [], [9085], [9086, 9087, 9088], [5], [18, 9089], [9090], [9091, 9092], [140], [2], [9093, 9094, 9095], [9096, 9097], [147, 258], [88], [9098], [13], [9099, 9100, 847], [39], [9101], [9102], [], [9103, 1080], [9104], [9105], [177, 9106], [9107], [653], [205], [], [518], [4], [601, 166], [1916, 9108, 154, 9109, 1444], [491], [9110], [1081, 9111], [4], [469], [9112, 9113], [], [177, 9114, 1837], [], [9115], [1065, 60], [57], [441], [9116], [9117, 9118, 9119], [9120], [1277], [922], [9121], [118], [83], [801], [9122], [], [55], [19, 21], [9123], [216], [9124], [180, 9125], [327], [], [9126], [1, 9127], [29], [9128], [628], [9129], [1023], [9, 537], [251], [9130], [1046], [], [1909, 9131], [9132], [317], [9133, 6], [], [25], [1, 233], [9134, 9135], [114], [9136], [], [9137], [], [9138], [], [9139], [], [105, 9140], [544], [64], [9141, 9142], [419], [709], [], [9143], [], [14], [11], [9144], [218, 9145, 9146], [9147, 1917], [112], [9148], [879], [], [1844], [], [12], [], [], [5], [28], [331], [], [11], [2], [1524, 9149], [41], [], [9150], [], [], [], [9151], [], [68], [1918], [2], [9152, 9153, 9154, 9155], [], [], [362], [9156], [100], [176, 9157, 9158, 694], [9159], [61], [72], [191], [9160], [9161, 9162, 9163], [], [25], [668, 740, 44], [], [155], [71], [], [1082], [], [9164, 9165], [1083], [1897, 317], [], [9166], [13], [], [9167], [], [9168], [1919, 1009, 9169], [9170], [9171], [249], [9172], [], [1], [9173], [9174, 9175], [192], [490], [9176, 9177], [], [], [], [88], [], [9178, 9179], [20], [541], [9180], [9181, 9182, 863, 9183], [9184, 9185, 9186], [], [9187, 9188], [], [9189], [9190, 9191], [149, 1], [35], [753], [], [], [9192], [143, 9193], [9194], [9195], [9196], [], [], [55], [60], [9197, 8, 1, 9198, 9199], [], [], [], [], [9200, 9201, 690], [206], [9202, 444, 9203], [5], [9204], [9205], [96, 9206], [9207, 737], [9208], [9209], [262], [9210], [586], [9211, 9212], [828, 9213], [3], [], [], [11], [9214], [9215], [1920], [130, 9216], [578], [9217], [100, 9218], [41], [9219], [22], [], [], [68], [9220, 9221, 9222], [], [], [1921], [1922, 9223, 4, 1555], [9224], [139], [9225], [24], [42, 9226, 9227, 1, 9228, 9229], [210], [142], [5], [3], [9230, 9231], [219], [404, 9232], [9233], [58, 15, 9234, 9235, 9236, 754], [209], [], [1923], [9237], [], [9238, 137, 391, 9239], [114], [], [9240], [9241], [9242], [9243], [20], [31], [336, 9244, 9245], [9246, 9247], [9248, 9249, 7, 1181], [9250], [], [143, 9251, 9252], [85], [9253], [133], [], [863], [9254], [], [9255], [], [103], [355], [], [], [], [9256], [50], [9257], [9258], [9259, 312], [4], [6], [11], [16, 9260, 13], [54], [9261], [], [9262], [820], [], [1888], [205], [], [65, 1924, 9263], [], [9264], [9265, 136], [], [1925], [119, 318], [622, 88], [9266], [], [83], [9267, 9268], [66], [9269], [], [27], [], [9270], [], [9271], [], [9272], [9273, 9274, 9275], [], [9276], [], [], [15, 9277], [69], [1896], [157], [52], [], [42, 1760], [9278], [], [60, 400], [149], [1042], [9279], [9280], [9281], [58, 1926, 9282], [], [], [9283], [], [1927], [], [9284], [5], [9285], [116], [9286, 434, 9287], [744, 9288, 9289, 42, 96], [429, 5], [35], [9290, 129], [], [9291], [9292], [9293, 9294], [], [3], [3], [9295, 1, 9296], [56], [], [9297, 9298], [32], [123], [16, 220], [24], [162], [9299], [], [8], [9300, 6, 9301, 9302], [86], [19, 9303], [], [], [], [1627], [41], [537], [139, 35], [], [9304, 9305], [133], [853], [9306], [], [23, 1928], [9307], [15], [9308, 295], [1452], [3], [12], [9309], [46], [12], [9310, 9311, 18, 9312, 323], [9313], [864, 9314, 9315], [28], [9316, 526, 727], [9317, 9318], [], [9319], [13], [9320], [9321], [9322, 1084], [29], [9323, 9324], [9325], [246], [1793], [804], [9326], [86], [], [], [9327, 196], [9328], [25], [148], [], [], [], [1929], [], [], [9329, 31, 9330], [], [], [45], [], [], [6], [983], [9331], [9332], [9333], [], [1800], [], [9334], [9335, 109, 9336], [726], [36], [], [], [27], [], [], [9337, 313], [], [9338], [], [9339], [], [], [], [1085], [], [9340], [], [194], [26], [250, 9341], [377, 346, 173], [9342], [9343, 9344, 239, 9345], [], [1556], [113], [8], [9346], [9347], [], [9348], [9349, 9350], [563], [10, 9351, 9352], [9353, 9354], [9355], [9356, 284], [33], [755], [1930, 1930, 9357, 9358], [9359], [13], [724], [9360, 9361], [9362], [329], [9363], [9364], [], [214], [], [91], [9365], [3], [1302], [134], [2], [1931], [1012], [], [], [], [], [9366], [4], [31, 9367, 9368, 9369, 9370], [542], [1932, 9371, 9372, 9373, 1086], [1591, 9374], [9375], [4], [64], [9376], [69, 9377], [113, 23, 237, 477], [9378, 9379], [], [156], [209], [13], [22], [53], [9380, 9381], [1083], [161], [9382], [9383, 345], [9384], [9385], [9386], [], [692], [87, 9387, 9388, 9389], [], [218, 1081, 9390], [228, 9391, 9392, 931, 545], [373], [40], [1675], [9393], [9394], [5], [78], [], [], [11], [700], [388], [973], [9395], [9396, 9397], [756], [75], [885, 9398], [], [], [9399, 9400], [757, 1056], [9401], [9402], [9403], [], [], [13], [9404, 9405, 103], [], [], [], [], [9406], [9407, 1933], [284], [9408], [1620, 9409, 236, 9410, 226], [93], [], [9411], [9412], [24], [1934, 6], [9413], [235, 9414], [9415], [9416], [9417], [76], [12], [], [1539, 9418], [9419], [5], [9420], [27, 9421, 9422, 1935], [9423, 9424], [], [9425], [], [47, 93, 59], [1936], [], [32], [], [], [9426, 9427], [334, 9428], [9429], [18, 121, 1864], [], [63], [], [9430, 9431, 315], [9432], [9433], [32], [], [], [77], [], [221], [17], [20], [], [101, 9434, 1087], [9435], [1063], [107, 1937], [32], [9436, 9437, 9438, 268], [1087], [690], [1938, 9439, 194, 9440, 9441], [101, 1088], [566], [339], [8], [493], [], [], [49], [577, 234], [9442], [1900, 261], [76], [106, 9, 844], [129], [9443], [682], [9444, 323], [107], [49], [], [1089], [185, 9445], [9446], [], [27], [9447, 9448, 995, 1075, 9449], [], [7, 220], [46], [9450, 9451, 405], [58, 9452, 272], [9453], [9454], [9455, 1939], [111], [22], [], [9456], [125], [4], [], [62, 9457], [83], [9458], [9459, 567, 9460, 9461, 9462, 9463], [], [9464], [134], [110], [1, 9465], [998], [9466], [5], [1, 896], [62, 9467], [4], [9468], [355, 9469, 329, 9470, 9471], [9, 271, 1940, 9472], [9473], [9474], [], [146, 9475], [4], [], [], [34], [9476], [], [19, 21], [], [404], [9477], [], [9478], [7, 278], [136], [9479], [61], [], [297], [41], [9480, 9481], [3], [], [9482, 9483, 9484], [292], [26], [506], [427], [9485], [9486], [9487], [], [31, 51, 9488, 194, 1430], [9489], [193], [9490], [5], [10], [9491, 9492, 16, 9493], [9494], [1, 9495, 6], [], [], [], [5], [23], [], [3, 9496], [], [9497, 1941], [], [9498], [423, 9499], [9500], [11], [9501], [606], [548], [869, 9502], [387], [], [203], [5], [9503], [1942], [442, 9504, 426, 10], [56], [165, 3, 9505], [], [429, 9506], [56], [1943], [], [999, 1807], [53], [260], [386], [73], [5], [9507], [], [24], [14], [], [9508], [], [9509, 96], [50], [9510], [9511, 9512], [9513], [9514], [], [9515], [9516], [], [9517, 9518], [], [], [], [9519], [9520], [9521], [9522], [9523], [], [9524, 1852], [62, 9525, 450], [932, 9526, 9527], [94, 9528], [26, 1090, 559], [1], [], [9529], [9530], [9531], [9532], [2], [9533], [107], [], [], [9534, 9535], [5], [181], [9536], [56], [9537], [9538], [246], [1367], [259], [286], [], [4, 115, 102], [79], [55], [9539], [9540], [9541], [], [1091], [9542], [9543, 9544], [2], [], [707], [], [4], [], [135, 180, 268], [18], [9545], [1944, 15, 9546], [], [9547], [76], [], [9548], [207], [], [], [1782], [48, 449, 9549], [], [], [9550], [], [9551], [40], [311], [14], [1925], [9552], [9553], [], [9554], [378], [9555], [], [93, 996, 9556], [9557], [9558, 878, 9559], [34], [9560], [], [270], [5], [4], [], [9561], [9562], [], [1029, 9563, 439, 1945, 439, 1946, 439, 534, 439, 1947], [434, 374, 9564, 329, 251, 9565, 655, 550, 44], [9566], [9567], [16, 9568], [], [14], [9569, 9570], [], [9571], [], [29], [], [3], [66], [19, 9572], [9573, 1913, 9574, 9575], [], [], [74], [9576], [], [411], [], [9577], [9578, 15, 9579], [5], [133], [9580], [30], [11], [15, 9581], [], [26], [52], [9582, 3, 9583], [9584, 9585], [], [1948, 9586], [76], [2], [9587], [9588], [1947], [39], [31], [], [9589], [9590, 115], [9591], [50], [], [659], [9592], [], [9593], [182, 9594], [], [9595, 9596], [9597, 9598], [], [135, 9599], [], [9600], [9601], [9602], [142], [9603], [], [23], [48, 9604], [], [1949, 9605, 542, 9606], [1030], [408], [41], [], [1092, 9607, 9608, 100], [9609], [707], [175], [601], [9610, 9611, 9612, 23], [9613], [9614, 9615, 357, 9616, 9617], [1052, 1809, 9618, 9619, 6], [1374], [], [22], [9620], [], [], [94, 9, 9621], [], [9622], [9623, 9624], [9625], [9626], [49], [10], [89, 9, 9627, 9, 9628], [], [9629], [9630], [2], [758], [19, 21], [], [], [], [1, 280], [73], [126], [9631, 9632], [9633], [9634], [9635], [335, 1, 1856], [9636], [1804, 1194], [9637, 9638], [9639], [4], [97], [], [], [411], [13], [9640], [9641, 9642], [12], [124], [], [9643, 9644, 979], [], [], [9645], [77], [9646, 9647, 9648, 9649], [9650], [], [9651], [], [3], [], [1373], [9652], [9653, 182, 9654, 9655], [791], [], [9656, 1485], [168], [2], [5], [], [9657], [9658], [], [39], [9659], [242, 9660], [], [75, 9661, 9662, 29, 354, 416, 23, 9663], [927, 9664], [4], [9665], [3], [9666], [24], [9667, 9668, 9669], [11], [9670, 9671], [2], [891], [9672, 91], [9673], [9674], [6, 833, 9675], [468, 101], [9676], [4], [9677, 704], [9678], [], [9679], [457, 9680], [], [9681, 9682], [1950], [41], [759, 713], [9683], [9684, 251, 1951], [57], [9685], [9686, 1787], [9687], [9688], [89], [], [9689], [], [9690], [9691, 9692, 9693], [12], [5], [901], [], [549, 48, 9694, 9695, 9696], [], [1692], [], [9697], [344], [], [17], [19, 9698, 9699], [13], [150], [9700], [33], [120], [1952], [], [1953], [234], [], [77], [], [23], [322, 9701], [], [3], [5], [25], [458], [9702], [], [], [39, 9703], [10], [30], [9704, 9705], [39], [9706], [9707], [162], [], [9708], [94], [1093], [34], [1623], [38], [9709], [], [9710], [9711], [55], [66], [35], [], [], [1051], [9712, 9713, 264], [1954], [14], [39], [71, 9714], [23], [], [9715, 9716, 9717], [4], [9718], [], [3], [], [9719, 1955, 9720], [], [47], [], [], [9721, 9722, 9723], [9724, 9725, 944], [301], [701], [9726, 336, 9727], [], [153, 174], [9728], [9729], [9730], [137], [], [1956], [9731, 9732], [575], [9733], [27, 9734, 9735], [], [9736], [], [140], [9737, 9738, 9739], [], [], [], [9740, 9741], [6, 9742], [16, 9743], [], [2], [30], [451], [9744, 9745, 9746, 9747], [354], [], [73], [33], [5], [9748], [9749], [], [46], [12], [], [1851, 198], [9750, 727], [3], [9751], [], [86], [9752], [29], [], [20], [9753], [9754], [967], [2], [19, 21], [9755], [], [14], [], [], [427, 9756], [85], [32], [9757], [9758], [], [9759], [1], [1957, 9760], [447, 1958], [19, 21], [9761], [1436, 9762, 9763], [3], [56], [204], [34], [93, 3, 51, 9764, 9765, 178], [9766, 9767], [9768], [163], [], [9769], [93, 9770], [9771], [13], [9772, 69], [], [9773, 9774], [79, 9775], [5], [9776], [368], [6], [23, 9777, 394], [9778, 748, 9779], [9780, 16, 957, 9781], [], [], [350, 9782], [18, 9783], [], [74], [], [1750], [9784], [9785, 9786], [9787, 9788, 9789, 9790, 9791, 9792], [], [9793], [], [41], [101], [9794], [9795], [], [25], [], [9796], [9797], [9798], [117], [1395], [276], [296], [1959], [9799], [407], [952], [73], [9800], [541], [887], [9801], [3], [36], [], [9802], [], [], [9803], [], [], [26, 634], [380], [1733, 126], [9804], [1960], [], [6], [221], [9805], [], [], [], [9806], [9807], [1961], [9808], [11], [], [224], [127, 650], [9809, 433], [2], [2], [401], [], [1962, 313], [], [9810], [], [9811], [26], [9812, 6], [5], [], [9813], [], [9814, 9815, 9816], [31, 9817], [], [390, 9818, 445], [9819, 1882, 9820, 9821, 6], [9822], [9823], [], [9824, 595], [9825], [], [9826], [19, 21], [91], [9827], [20], [85], [2], [9828, 9829], [16, 9830, 9831], [9832], [39], [9833], [23, 60, 1293], [9834, 9835, 9836, 335, 54, 1075], [9837], [29], [9838, 9839, 1345], [9840], [9841], [], [8], [], [37, 135], [9842], [9843], [12], [], [1162, 9844, 9845], [7, 9846, 611], [], [462], [9847], [], [202, 9848], [71, 9849, 9850, 9851], [162], [], [1867], [9852], [], [], [9853], [9854], [9855], [2], [], [1632, 182, 9856, 50], [1963, 9857, 9858], [10, 1, 9859], [43], [74], [9860], [11], [9861], [9862], [], [], [28], [81, 532], [], [], [], [12, 1964], [330, 1695], [], [1094], [], [9863], [9864, 224, 888], [50, 9865], [9866], [], [], [9867], [127], [20], [9868], [2], [], [9869], [], [37], [543], [32], [9870], [1520], [], [9871], [78], [], [9872], [9873], [158, 41], [], [9874], [], [], [17], [17, 9875], [19, 21], [], [9876], [], [8], [9877], [1221], [9, 9878], [30], [], [9879], [72], [], [11], [2], [], [9880, 9881], [9882], [], [1, 9883, 1965, 6, 119, 9884, 1, 9885, 9886], [9887, 9888, 176], [177], [9889], [], [9890], [67], [], [9891], [77], [], [9892], [67, 9893, 312, 9894, 9895], [9896, 9897], [], [982], [], [9898], [9899], [], [9900, 9901], [9902, 9903, 1966], [], [9904], [], [9905], [], [4], [], [4], [9906], [3], [], [282], [3], [30, 9907], [], [8], [], [161], [1967], [39], [9908], [9909], [], [9910], [6, 40], [9911, 9912], [9913, 9914, 9915, 9916, 1202, 9917], [1037], [72], [3], [9918, 9919], [66], [20], [133], [391, 9920], [52], [], [], [9921], [], [1020], [9922], [9923], [2], [20], [543, 9924], [9925], [], [29], [107], [], [], [9926], [51, 9927], [64], [28], [], [], [], [9928, 9929], [9930], [9931], [244], [143, 9932], [33], [9933], [], [1043], [92], [434, 9934], [9935, 357], [1558], [1, 9936, 9937], [], [], [75], [9938], [], [3], [], [242, 9939], [9940], [406], [9941, 9942], [], [107], [86], [], [9, 9943], [486, 9944, 9945], [9946], [156], [31], [65, 9947, 63], [133], [9948], [3], [107], [33], [], [91], [], [], [], [2], [9949, 9950, 9951, 9952, 1576], [227], [9953], [], [9954], [9955], [9956], [9957, 1968], [690], [9958, 9959, 147, 147], [20], [37], [9960], [9961], [], [114], [30, 9962, 9963, 9964, 1969], [45, 9965, 9966], [9967, 9968], [581], [156], [9969, 6, 9970], [], [9971], [9972, 9973, 9974], [9975], [124], [199], [9976, 108], [], [9977], [9978, 9979, 1528], [], [], [9980, 9981, 9982, 1970], [1971], [9983], [57], [], [9984, 9985], [9986], [9987], [6], [], [111], [9988, 59, 9989, 393], [9990], [193], [], [9991], [9992], [], [619, 1972], [242, 1533], [9993, 9994, 9995], [9996], [9997], [], [9998], [9999], [5], [133], [165, 10000], [331], [10001], [10002, 10003], [10004], [10005], [], [411], [10006, 6], [158], [], [282], [40], [], [10007], [], [], [], [31], [10008], [45, 10009], [], [10010], [591], [], [25], [10011], [760, 10012, 10013, 10014, 10015, 10016], [], [6, 10017, 10018], [94], [243], [1973], [], [1898], [396], [10019], [31, 157], [10020, 6], [], [], [66], [51, 10021], [10022], [10023, 10024], [10025, 245], [10026, 315], [10027], [10028, 10029], [10030], [525, 10031], [34], [601, 10032], [], [51, 1974], [], [], [10033], [761, 10034, 10035], [], [3], [17, 10036, 10037, 10038], [5, 10039, 10040], [365], [568], [107], [321, 10041], [97], [10042, 173], [24], [4], [10043], [], [5], [10044, 10045, 10046], [], [10047], [36], [], [], [8], [125], [10048], [1953], [], [1975], [46], [9], [442], [297, 10049], [471], [10050], [3], [97], [10051, 946, 1095], [], [10052], [], [10053, 10054, 10055, 10056], [39], [10057], [36], [44], [1, 10058], [385], [1068], [10059], [10060], [], [10061], [77, 10062, 10063, 643], [50], [10064], [10065], [], [167], [10066], [33], [191], [10067], [1950], [562, 168], [260], [10068], [10069, 10070], [3], [40], [1329], [83], [75], [10071], [15, 10072], [95], [13], [10073], [682, 10074, 1709], [10075], [857], [], [], [608, 694], [10076], [], [], [], [10077], [10078], [10079, 280], [], [], [], [], [5], [92], [196], [], [10080, 10081], [726], [388, 6], [], [262, 10082], [1178], [61], [10, 10083], [], [1802], [153, 174], [7], [10084], [647, 10085], [112], [4], [10086], [10087], [], [], [3], [], [10088], [], [], [20], [10089, 10090, 1, 1976, 1977, 483], [1290], [314, 1978], [], [10091], [10092], [10093, 10094], [10095], [10096], [68], [33], [963], [], [], [5], [10097, 10098, 10099, 10100, 10101, 10102, 10103, 10104, 10105, 10106], [21], [10107], [10108, 10109], [16, 10110, 10111, 10112], [10113, 10114], [10115, 10116, 1, 10117, 10118, 10119], [703, 1979, 1980, 10120], [44, 179], [10121, 100, 10122], [253], [], [1, 10123], [10124, 131], [2], [], [58, 1938], [], [1981], [], [165], [246], [], [10125], [115], [27], [10126], [377], [10127], [10128, 10129, 96], [294], [10130], [10131], [1096], [10132], [10133], [10134, 510, 130, 10135, 10136], [8], [4], [10137, 7, 10138], [327], [], [], [10139, 10140], [], [57], [268], [10141], [], [10142], [], [], [], [624, 10143, 16], [502], [], [2], [2], [], [], [], [10144], [], [5], [15, 10145], [10146, 1870], [], [], [282], [32], [11], [10147], [], [], [], [22], [10148], [10149], [], [], [103], [20], [10150, 10151], [10152], [], [10153, 10154], [10155], [], [38], [], [23], [25], [], [10156, 10157], [10158, 10159], [], [10160], [], [10161, 762, 10162], [247], [10163], [], [], [1982], [], [10164], [1566], [10165], [848], [10166], [], [41], [10167], [10168], [43], [], [211], [11], [], [27, 35], [22], [6, 1394], [243], [69], [123], [74], [1799], [], [10169], [], [10170], [5], [], [10171], [10172], [10173, 10174, 10175, 10176], [10177, 1859, 10178, 10179, 1983], [255], [72], [10180], [23, 142], [], [10181], [], [10182], [8], [1368, 10183, 10184, 10185], [10186], [], [363, 10187, 10188, 10189], [33], [], [10190], [4], [211], [13], [565], [310, 10191], [419], [1480], [], [], [1984], [10192], [113, 10193], [58, 9, 10194, 10195, 1985], [787], [7, 389, 130, 10196, 100], [], [10197, 7, 10198], [], [17], [], [144], [12], [5], [447, 487, 10199], [], [13], [2], [10200], [], [], [10201], [10202], [], [10203], [10204], [10205, 10206], [41], [40], [10207, 1986], [21, 391, 1987], [10208], [10209], [], [10210], [1948], [], [], [10211, 10212], [], [10213, 21], [], [50], [], [39], [], [], [10214, 1988, 10215, 1988, 10216], [], [1], [1067], [10217], [12], [10218], [], [293], [], [10219, 457, 1989], [10220, 10221], [10222], [1003], [10223, 1, 10224], [], [10225], [1], [], [260], [10226], [10227, 10228, 7, 10229], [], [], [], [4], [46], [], [5], [10230], [10231], [10232], [10233, 10234, 10235], [1990, 10236], [], [10237], [10238, 17], [10239], [10240, 10241], [10242], [10243], [10244, 10245], [10246], [], [575], [], [1707], [], [15], [10247], [10248, 10249], [10250, 10251, 6], [10252], [10253, 10254, 1386], [466, 10255], [111], [10256, 6], [10257], [4], [195], [475, 63, 10258], [10259], [10260, 10261], [12], [11], [53, 10262], [10263], [], [1479, 10264, 10265], [1991], [], [92], [74], [], [1992], [10266], [], [], [10267], [53], [48, 10268], [1320], [1993, 266], [10269, 10270, 10271], [10272], [10273], [10274], [106, 228, 12], [10275], [], [1994], [10276], [], [28], [308], [10277], [200, 1878], [], [10278], [], [461], [10279], [13], [1995], [249], [558], [1], [1893], [33], [10280], [10281], [10282], [201], [10283], [91], [1996], [32], [10284], [225, 873], [10285], [], [], [922], [10286, 1, 10287], [10288], [10289, 10290], [10291, 302, 82, 10292], [], [34], [30], [110], [1911, 10293], [10294, 1997, 1997], [80], [186], [10295, 10296], [29], [10297], [10298], [], [10299, 6], [], [10300], [], [293], [34], [], [1078], [95], [117, 10301, 10302], [], [49], [10303], [], [10304], [], [10305, 10306, 10307], [], [30, 179, 10308], [], [64], [10309], [], [], [74], [860], [111], [1393], [443], [10310], [10311, 10312], [], [], [], [], [10313], [10314], [10315], [], [10316], [1998, 10317, 10318, 1], [797], [], [], [13], [4], [20], [10319], [10320], [3], [], [360], [19, 21], [68], [9, 15, 10321], [], [54], [], [10322], [10323], [], [10324, 10325], [1633], [10326], [10327], [29], [111], [], [17, 981, 6], [], [77], [10328], [], [555], [10329], [10330], [10331], [10332], [10333], [], [], [10334, 172], [8], [], [10335], [330], [10336], [495, 10337], [8], [448], [1], [34], [20], [65], [], [10338], [1037], [10339], [10340, 10341], [10342], [123, 10343], [], [1, 1455], [10344], [10345], [1749, 10346, 180, 10347, 10348], [], [175], [3], [10349], [], [], [], [149, 10350, 10351], [], [10352, 547, 959, 185, 10353, 10354], [1999], [10355], [10356], [10357, 10358], [2000, 10359, 198, 51, 10360], [2001], [], [10361], [2002], [1, 10362], [10363], [4], [10364], [4], [10365, 356, 356], [], [10366], [10367, 340], [1097], [], [], [206, 10368], [10369, 280, 319], [3], [269], [2003], [2], [2004], [], [], [], [59], [10370], [41], [10371], [299], [10372], [], [128, 10373], [], [19, 21], [10374], [41], [], [10375, 1, 10376, 10377], [401], [10378], [], [10379], [91, 10380, 10381], [10382], [107], [], [10383], [], [], [], [10384], [778, 7, 109], [41], [], [], [37, 67, 202, 10385], [10386, 825], [10387], [10388, 257], [], [10389, 10390, 69, 10391], [4], [10392], [2], [161], [], [], [244], [], [168], [], [], [10393, 1756], [], [21], [], [5], [3, 10394, 1, 10395], [67], [], [51, 10396, 10397, 10398], [1098, 1098, 1098], [], [11], [], [8], [10399], [10400], [], [10401], [753], [], [49], [10402, 240], [10403], [10404], [10405], [97], [7, 10406], [], [254], [10407], [8], [1634], [32], [10408], [2], [4], [10409, 1665], [10410], [10411], [28], [10412], [10413], [], [10414], [], [1191, 2005], [11], [2006], [22], [31, 10415], [10416], [1, 10417, 6, 78], [74], [], [], [], [8], [50], [10418], [722, 1, 10419, 98, 119], [1677, 1099, 7, 1099, 10420, 1099], [], [114], [], [], [254], [4], [10421, 10422], [10423], [284], [10424, 10425], [23], [7, 220], [17, 10426], [36], [10427], [], [], [10, 121], [2], [], [10428], [3], [45, 10429, 394], [10430, 10431, 10432], [10433, 10434, 10435], [14], [10436], [72], [443], [80, 10437, 390], [10438], [10439], [], [10440], [65, 10441, 122], [99], [], [16, 229], [10442], [8], [10443], [9, 9, 10444], [1881, 547], [10445], [10446], [140], [410, 735], [], [], [10447], [10448], [14], [], [], [281], [], [222, 10449, 10450, 1412], [10451], [2], [2007], [], [10452], [314, 10453], [], [10454], [353], [552, 59, 10455], [], [10456], [10457, 10458], [10459], [34], [2], [112], [1259], [10460], [10461, 83, 10, 121], [461], [], [10462], [98], [10463], [4], [], [10464, 1952, 45, 10465, 21], [2008], [10466], [10467], [], [22], [231], [10468, 468], [71, 1, 10469], [10470, 10471], [33], [], [52], [10472], [10473], [10474, 10475], [82], [631], [71], [], [9, 10476], [10477, 10478], [6], [10479, 1962, 10480, 1561], [], [2], [], [], [], [322, 1033], [10481], [10482], [215, 10483], [7], [201], [], [10484], [552], [83], [10485, 69, 10486], [10487, 2009, 10488], [2010], [25], [95], [1717, 10489, 10490], [10491, 316], [10492], [14], [10493], [11], [12], [], [], [], [293], [37, 10494], [], [38], [145], [10], [], [], [10495], [], [10496, 10497], [], [12], [], [10498, 525, 10499], [36], [42], [217, 10500, 10501], [39], [], [], [23, 42, 10502], [], [184], [], [], [155], [10503, 1, 136, 10504, 10505], [2011], [446], [], [38], [10506, 339, 10507], [10508, 10509, 10510, 10511], [2012], [10512, 2013, 2013], [10513, 761], [74], [22], [], [45, 150], [71, 10514], [180, 1376, 10515, 10516, 10517, 380], [38], [34], [10518], [10519], [], [2014, 10520, 987, 10521, 10522, 96, 10523, 10524, 10525, 10526, 10527, 96, 10528, 1451, 10529, 10530, 10531, 10532, 10533], [10534], [10535], [53], [10536, 10537, 10538], [], [], [10539], [], [10540], [10541, 10542], [683], [23, 563], [10543], [2], [18], [], [322], [10544, 10545, 10546, 7, 10547], [10548], [10549], [10550, 339, 10551, 10552, 10553], [589], [10554, 2005, 10555], [14], [10556], [1366], [292], [28], [], [100], [326], [], [10557, 10558], [], [15], [], [], [10559], [16], [10560], [1418, 15, 10561, 7, 10562], [10563], [10564, 10565], [1339, 10566], [], [55], [], [2015], [69, 10567], [], [], [9, 10568], [10569], [757], [21, 1053, 10570], [10571, 10572], [10573], [430], [531, 10574, 10575], [10576, 10577, 10578], [33], [32], [10579, 10580], [10581, 10582], [599], [356], [18, 10583], [118], [110], [10584], [712], [10585], [130], [516], [10586, 10587], [50], [10588, 312, 10589, 100], [], [10590], [679], [10591, 64, 10592], [4], [31, 179, 291, 1047, 723, 1744, 10593], [64], [7, 389], [], [1, 10594], [], [], [64], [955, 10595, 1070], [], [1575], [10596], [10597], [106], [10598, 267], [4], [10599], [], [10600, 36], [10601], [65, 10602, 366], [10603, 206], [10604, 10605, 277, 10606, 10607, 10608, 10609], [46], [], [10610, 10611], [456], [10612], [10613], [], [10614, 99], [197], [465], [10615, 413, 10616], [3], [160], [10617, 10618], [10619, 77, 1079], [118], [99], [11], [138], [10620], [], [26], [3], [], [], [4], [10621], [5], [377], [10622, 10623], [], [13], [10624, 10625, 10626], [13], [4], [92], [10627], [], [], [10628], [], [4], [10629], [4], [10630], [10631, 10632], [14], [9], [246], [10633, 10634, 21, 10], [37, 37, 1462], [10635], [65, 178, 10636], [10637], [], [10638], [10639], [10640], [84], [10641, 1100], [10642], [], [10643, 10644], [8], [25], [818], [], [24], [10645], [10646, 10647], [10648], [10649, 271], [17], [10650], [386], [], [3], [], [10651], [], [10652, 10653], [1], [10654], [10655], [30], [871, 27], [], [10656, 10657], [70], [535], [10658], [], [1828], [2016], [], [2017, 1371, 176], [14], [10659], [], [10660], [], [187, 10661], [], [10662], [123], [10663], [], [], [], [], [], [1091, 94], [10664], [10665], [10666, 10667, 10668], [29], [36], [10669], [9, 10670, 94], [10671], [84], [10672], [1], [10673], [10674, 177], [], [], [53], [10675, 619], [10676], [9, 230], [], [], [10677, 44], [10678], [10679, 10680], [193], [10681], [10682], [1101], [10683], [10684], [60], [], [10685, 10686, 10687, 1721], [993, 10688, 10689, 38], [39], [9, 230, 96, 2018], [], [], [10690], [], [], [], [355], [20], [10691], [75], [2019], [], [19], [], [10692, 10693], [38], [], [15, 479], [], [311], [10694, 10695], [10696], [641], [28], [2], [2020], [6], [10697], [47, 10698], [26], [797, 7, 61], [621], [5], [1994], [1849, 10699], [], [573], [2021], [1097], [10700], [30], [10701], [28], [92], [], [10702, 10703], [], [], [20], [13], [2], [560, 10704], [1319], [10705], [10706], [20], [19, 21], [23], [432], [10707, 508], [1607], [4], [], [10708], [], [132], [], [42, 10709, 10710, 10711, 10712, 10713, 10714, 10715, 10716], [43], [10717, 10718], [608, 10719], [10720, 10721], [], [1503, 10722], [2], [1248], [], [75], [10723], [], [], [2022], [323], [1265, 10724], [305], [70], [], [10725, 10726, 702, 10727, 10728, 10729], [13], [10730], [10731, 257], [10732, 10733], [206], [10734, 10735], [], [20], [78], [10736], [36], [11], [10737], [], [368], [30, 24], [1505, 10738], [], [17], [], [], [], [10739], [47, 10740, 10741, 1992, 333, 10742, 82, 10743, 11], [], [], [257], [2007], [264, 10744, 423, 62, 1874], [10745], [10746, 10747], [26], [10748], [604], [138], [10749], [], [64], [25], [], [], [269], [29], [4], [], [], [10750], [199], [100, 10751], [10752], [], [], [37], [10753, 2023, 10754], [7], [3], [10755], [], [151], [61], [10756, 1069, 4, 115], [], [17], [10, 10757, 173], [], [10758], [10759, 10760], [56], [16, 220], [10761], [10762, 6], [10763], [], [10764], [24], [10765], [10766], [], [], [7], [10767], [13], [105], [8], [], [10768, 10769], [10770], [10771], [3], [], [10772], [10773], [52], [], [10774], [2024], [1, 896], [10775], [11], [10776], [], [10777, 10778, 339], [8], [480, 10779, 88], [3], [62], [1904], [7, 10780, 740], [], [1102], [252, 278], [7, 10781], [10782], [], [3], [], [1761, 212, 96, 10783], [259], [], [10784], [10785, 59], [10786], [], [10787], [], [10788], [24], [63, 136, 10789], [10790, 79], [], [2025], [10791], [101], [10792], [], [10793], [10794, 545], [20], [1467], [366, 10795, 10796, 10797], [1103], [31, 10798, 10799, 10800], [83], [], [67], [10801, 10802, 300], [49], [10803], [10804], [], [], [4], [], [10805, 179], [], [], [1797], [10806], [81, 337], [], [18, 10807, 10808, 10809], [93, 10810], [15], [306], [1554], [], [10811], [232], [29], [], [47], [], [2026], [], [10812, 667, 10813, 10814, 31, 10815], [10816, 10817], [10818], [10819], [387], [10820], [8], [], [], [61], [70], [], [10821, 10822], [179], [], [232], [661], [14], [], [], [260], [], [], [10, 10823], [], [2], [11], [44, 10824, 10825], [1102], [293], [10826], [50], [9], [9, 2027], [], [10827], [408], [10828], [10829], [], [], [10830, 454, 10831], [], [127], [10832], [], [74], [29], [5], [2028], [5], [1678, 7], [], [10833], [43], [10834], [2029, 10835, 757, 13], [25], [2030, 2031, 10836], [], [10837], [1104], [], [], [5], [], [1006], [], [], [1642], [], [], [10838], [10839], [], [10840, 10841, 10842, 732, 1977], [10843, 10844, 554], [21], [10845], [10846], [1], [10847], [10848], [222, 10849, 103], [2032], [1017], [733, 10850], [2033], [], [], [10851], [10852, 882, 10853, 189], [], [1942], [556], [10854, 10855, 10856, 10857, 113, 10858], [10859], [5], [44], [10860], [], [1039], [32], [1, 2034], [168], [10861], [], [10862], [10863, 10864], [19], [10865], [], [10866], [], [10867, 10868, 10869], [10870, 10871], [90, 10872, 10873], [10874, 10875, 10876], [85], [579], [], [34], [], [], [10877, 10878], [78], [], [10879, 10880, 10881], [841, 720], [10882], [22], [10883, 10884], [10885], [10886], [], [10887, 10888], [], [], [304], [66], [10889], [10890], [], [269], [10891], [81], [10892], [26, 824, 10893, 2035], [10894], [10895], [1095], [2], [1199], [333, 544, 10896, 10897, 1417], [10898], [], [], [], [22], [73], [936, 537], [10899], [], [1542, 16, 223], [1], [], [], [10900], [2036], [], [10901], [10902, 10903], [10904], [150, 163, 1105], [10905], [10906, 10907, 10908], [10909], [1014, 10910], [], [], [63, 7, 2037, 2038, 10911, 2038], [4], [24], [829], [48, 9, 10912], [2039], [5], [], [1574], [10913, 10914], [92], [], [557], [1, 10915], [], [1], [10916], [10917], [10918], [1, 10919], [110], [10920], [10921, 10922], [10923], [10924], [3], [1, 10925], [10926, 10927], [10928], [102, 109, 10929, 10930, 10931], [56], [217, 10932, 1783], [1614, 10933, 10934], [10935], [29], [1779], [125], [], [14], [1146], [10936], [10937, 10938], [10939], [10940], [10941, 10942, 10943], [10944], [10945], [], [3], [10946], [], [2040], [77], [1550], [15, 1532], [117, 208, 48, 9, 10947], [10948], [10949, 10950, 10951, 21], [], [], [], [40], [258], [10952], [], [10953], [192], [624], [27], [2], [10954, 1944, 971], [10955], [95], [10956, 79, 86], [754], [10957, 10958], [10959], [], [2], [10960], [10961], [10962], [10963], [], [10964], [867], [], [], [], [10965], [10966, 10967], [], [], [], [46], [68], [20], [119, 10968, 10969], [], [924], [], [65, 211], [74], [10970, 183], [10971], [10972, 10973], [319], [10974], [642], [], [15, 10975], [10976, 10977, 649], [22], [], [3], [36], [], [], [2041], [330, 27, 10978], [], [2], [], [513], [10979], [10980], [10981], [167], [], [1013], [4], [10982], [10983], [11], [297, 10984, 10985], [763], [], [72], [], [], [8, 157, 78], [10986], [], [], [10987], [107], [49], [10988, 10989, 10990], [10991], [], [2042, 10992], [200], [123], [], [7, 10993], [1067], [75], [], [], [1, 1074, 10994, 18, 10995], [10996, 10997], [10, 1817], [], [52], [], [10], [1045, 10998, 10999], [], [1497], [12], [], [], [11000], [19, 21], [1, 11001], [11002, 11003, 11004, 11005], [1571], [895], [11006, 11007], [], [], [11008], [11009], [735], [11010], [231], [860], [11011], [11012], [], [11013], [15, 267], [11014], [161], [859], [452], [201], [633], [], [11015, 27, 11016], [964], [510], [], [], [11017, 442, 11018], [7], [11019], [12], [4], [11020, 130], [45, 11021], [118], [20], [], [395], [615, 11022, 2043], [11023, 11024, 11025], [11026, 1398], [16], [84], [], [], [], [11027], [458], [11028], [307], [], [11029, 11030], [11031], [94, 11032], [57], [], [11033], [3], [], [57], [11034, 2001, 11035], [2], [], [46], [343], [1222, 11036], [11037, 11038, 11039], [], [], [11040], [49], [222, 11041, 230, 7], [1106], [11042, 11043], [11044], [11045], [11046, 6], [276], [11047], [], [11048, 1076], [208], [43], [11049, 1955], [], [11050, 213], [1, 11051, 11052, 11053, 11054, 11055, 11056], [5], [], [11057, 11058], [11059], [11060, 79], [1734, 11061], [2044], [11062, 11063], [60], [], [], [904], [427], [11064], [1103], [11065], [], [70], [11], [1169, 11066, 11067, 417], [], [11068], [11069], [], [523], [], [12], [], [739], [], [11070, 154, 11071, 11072, 11073], [11074], [141, 11075], [87, 31, 279], [11076], [95], [11077, 11078], [11079], [], [36], [], [11080], [158, 11081], [4], [], [81, 16, 11082], [11083, 11084], [149, 481, 1107, 11085], [2045], [1101], [556], [], [11086, 11087], [1960], [11088], [11089, 11090], [], [11091, 11092], [855], [], [11093], [], [1034], [1182], [50], [1051], [68], [], [79], [11094, 11095, 11096, 11097], [11098], [11099], [11100], [219], [1], [183, 11101], [], [11102], [84], [11103, 11104, 27, 757], [], [], [11105, 11106, 11107], [2046, 2047, 2048, 1, 1084, 907], [1094], [34], [11108, 6, 1754], [290, 63, 11109, 1838, 11110], [2049, 2050], [148], [117, 117, 809], [], [813], [], [39], [11111], [], [5], [817, 171], [11112, 11113], [], [], [11114], [179, 11115], [2], [1263, 11116], [11117], [695], [65, 2051, 1062], [1346, 11118, 11119], [11120], [11121, 9], [132], [], [11122], [11123, 7, 130, 11124, 315], [29], [314], [46], [11125], [], [20], [8], [341], [], [11126], [213], [], [12], [68], [40], [], [11127, 11128], [26], [4], [2010, 11129, 11130, 82, 1360, 897, 898, 596], [9, 1024, 11131, 451, 3], [438], [11132], [], [], [], [11133], [11134, 613], [], [28], [738, 11135], [11136], [192], [9, 11137, 11138], [11139], [164], [3], [], [2052, 2052], [6], [6, 11140, 524, 11141, 11142, 11143], [], [108], [164], [1108], [11144, 1266], [232], [], [1, 11145, 11146], [11147], [939], [13], [1499], [11148], [36], [703], [437], [32], [11149], [4], [236, 630], [49], [], [], [10, 11150], [], [11151, 11152], [11153], [91], [11154], [1772], [11155, 11156], [], [2], [], [1490], [233], [11157, 11158, 11159, 11160, 11161, 11162], [11163], [1, 400, 69], [], [281], [], [11164], [1, 11165, 11166], [305], [236, 1850, 11167], [10, 11168], [11169, 11170], [11171], [11172], [], [733, 11173], [80, 131], [], [], [11174], [11175, 11176, 666, 11177], [11178], [11179], [], [11180], [11181], [], [], [11], [], [2053, 11182], [], [], [26, 319], [415], [3], [51, 1974], [], [25], [11183, 48, 11184], [187, 11185], [73], [937], [1083], [], [840], [13], [], [], [62, 11186], [722, 1109, 64], [48, 11187, 94], [249], [869, 11188], [493], [23, 11189, 88, 1344, 11190, 11191, 11192], [11193], [11194, 11195], [5], [1048], [383], [], [134], [50], [], [55, 11196], [11197], [11198, 1720], [11199], [1495], [2054], [805], [], [11200, 11201], [184], [514, 11202], [43], [33], [11203], [], [11204], [11205], [26, 11206, 166], [11207], [11208], [11209, 19, 788, 11210], [8], [], [11211], [], [29], [15], [352], [11212], [], [], [1267, 11213], [], [11214], [239], [], [11215], [11216], [11217, 234], [1858], [], [11218], [11219, 435, 11220, 11221, 11222, 11223, 11224], [], [11225, 11226, 2055], [11227], [12], [11228], [1331, 1, 11229, 11230, 2035], [], [11231], [], [231, 302], [151], [28], [12], [11232, 11233], [41], [87, 11234, 11235], [], [11236], [], [29], [216], [], [1813, 1814], [14], [11237], [11238], [11239], [11240, 11241], [], [], [405], [2056], [191], [], [], [239, 11242], [], [2012], [8], [], [46], [11243], [], [26, 11244, 72], [2057], [11245], [], [36], [14, 11246], [11247], [11248], [], [139], [11249], [11250, 11251, 11252], [84], [], [1332], [2058], [56], [11253, 1110, 11254, 11255, 11256], [11257], [11258], [287], [], [274], [13], [11259, 654, 11260], [11261], [], [574], [4], [4], [11262], [11263], [11264, 396, 454, 11265, 880, 454, 21, 587, 11266, 587], [11267], [], [], [1, 11268, 11269], [661], [2], [89, 11270, 11271], [69], [43], [4], [], [], [11272], [74], [4], [22], [14], [11273], [], [85], [], [1111], [11274], [20], [32], [1685, 543], [11275, 1073], [11276], [38, 764], [11277], [77, 16, 1510, 16, 11278], [11279], [422], [11280], [11281], [10, 121], [], [11282], [11283], [11284, 11285, 11286], [22], [11287, 15], [2059], [11288], [11289], [1112], [5], [1917], [89], [11290], [11291], [168], [], [148], [11292], [350, 11293], [1, 11294], [11295], [], [68], [], [], [18], [53], [1924, 11296, 3], [11297], [11298], [2], [], [11299, 11300], [50], [12], [11301], [], [1072, 1605], [], [99], [], [47, 1, 11302, 11303], [408], [2060], [327], [11304], [11305], [823], [7, 389, 2061], [23, 1, 2062], [11306], [], [], [11307], [33], [398, 677, 11308], [1687], [64], [41], [518], [26], [11309], [], [11310], [], [], [11311], [11312, 11313], [80, 11314], [6], [11315], [11316], [11317], [11318], [49], [1], [92], [7, 2063], [11319, 473], [11320, 42, 11321], [11322], [11], [2], [52], [11323, 11324], [341], [], [11325], [24], [], [], [], [], [11326], [11327, 11328, 1, 11329], [11330], [10, 11331], [11332], [], [], [4], [1158], [], [11333], [1, 11334], [], [11335, 157], [11336], [11337, 313], [1260, 731], [528], [11338], [11339], [34], [], [11340], [25], [242], [], [11341], [2064], [1], [], [], [11342], [11343], [11344, 1285], [11345, 122, 11346, 11347], [11348, 141], [], [164], [4], [], [], [11349], [11350, 2065, 11351, 11352], [399], [604], [], [376], [], [], [18, 11353], [1113, 11354], [11355, 11356], [35], [11357], [3], [], [1064, 11358], [1, 1, 11359], [2], [11360, 192, 11361], [1860], [], [11362], [2066], [93], [11363], [], [656], [11364], [], [11365], [25], [2067], [648], [11366], [11367], [385], [], [2068, 11368], [1727], [11369], [], [89, 1921], [11370], [38], [], [], [11371], [47], [], [11372], [], [11373], [], [11374, 424], [11375, 11376, 98, 60, 11377, 803], [], [1, 2069, 765, 11378], [11379], [2070], [11380, 342, 210, 11381, 11382], [], [11383, 11384], [], [32], [84, 1737, 11385], [11386, 204], [8, 11387, 710, 11388], [11389], [11390], [43], [317], [3], [], [], [132], [], [8], [3], [515], [11391], [9], [1055], [], [14], [11392, 11393, 11394], [11395], [], [], [], [8], [11396], [2071, 141, 11397], [2], [79], [], [], [10, 152, 11398, 11399], [27, 765], [], [1350], [742], [3], [], [1307, 11400], [195], [11], [11401], [2072], [11402, 11403], [4], [10, 2073], [], [235, 11404, 69, 11405], [11406], [], [2074], [63], [36], [2075, 218], [34], [], [], [11407], [11408], [11409], [14], [11410], [11411], [2], [276], [8], [11412], [125], [35], [], [], [], [], [153, 174, 520, 332], [149], [115], [11413, 75], [998, 11414, 11415, 11416], [11417], [], [1114], [27], [], [11418], [376, 11419], [], [26], [11420], [], [24], [4], [11421], [4], [11422, 11423, 1820, 11424, 16], [], [2], [11425], [11426], [11427, 1115, 11428], [142], [110], [], [30], [189, 9, 11429, 240, 11430, 394], [1], [11431], [1846], [1330, 11432, 7], [61], [11433], [13], [74], [1405, 11434], [1, 11435], [565], [], [11436], [12], [697], [], [4], [], [988], [1635], [2076, 530, 520], [11437], [11438], [], [11439, 171], [11440], [1689, 11441], [1868], [], [245], [], [], [11442], [448, 11443, 3], [2077, 11444], [], [189, 11445, 123], [], [8], [274], [], [13], [976, 11446, 11447], [11448], [11449], [11450], [11451, 100], [1], [196], [392], [1, 11452], [4], [], [175], [11453], [5], [11454], [11455], [3], [], [1432], [], [286], [11456, 11457], [22], [632], [], [454, 1488], [2], [11458, 11459], [2078], [76], [222, 2079], [11460], [32], [], [2], [11461], [1918], [11462], [11463, 728, 11464], [11465], [29], [1743], [71], [11466, 11467, 107], [11468], [], [11469, 67, 11470, 11471], [11472], [64], [11473, 11474], [49], [11475, 11476], [14], [75], [184], [], [1416, 15], [66], [11477], [11478], [11479, 11480], [11481, 11482], [11483], [], [296], [], [], [924, 11484], [], [], [11485], [24], [338], [11486, 11487, 11488, 2080], [], [523], [], [25], [], [], [36], [1357], [], [512], [25], [41], [75], [], [1072], [], [107], [60, 335, 1092], [11489], [11490], [175], [], [], [10], [22], [11491], [11492], [883], [11493], [1054], [49], [17], [248], [], [2], [], [], [11494], [422], [57], [5], [11495], [11496], [4], [], [11497, 11498, 11499, 345, 11500], [11501], [11502], [189], [], [], [1312], [11503], [], [90, 369], [30, 2022], [11504], [11505, 11506, 11507], [14], [11508], [11509], [25], [], [4], [11510, 11511], [139], [5], [72], [11512], [1551], [], [], [90], [8], [370], [], [11513], [37, 11514, 1493, 11515, 11516, 11517], [11518], [], [], [1029], [], [], [3, 11519], [11520], [], [11521], [15, 11522], [20], [1931, 1, 11523], [1318], [], [11524], [144], [38], [11525], [11526, 11527, 11528], [], [11529], [], [11530], [11531], [], [11532], [11533, 11534, 832], [], [82], [11535], [927], [], [960], [301], [11536], [23], [141], [93], [307, 11537, 11538, 11539, 11540, 11541], [], [11542, 11543], [304], [11544], [], [], [109, 11545], [11546], [2], [11547, 11548], [], [], [281], [], [517], [1091], [54], [528], [32], [40], [942], [139, 129], [], [2081], [], [11549], [58], [5], [11550], [37], [11551], [], [456], [], [11552, 667], [], [11553], [248], [], [11554], [1391], [3], [], [], [16], [], [145], [11555], [11556, 931], [9], [904, 11557], [11558, 1, 11559], [32], [], [], [11560, 11561], [2082], [11562], [11563], [], [], [], [11564], [2083], [513], [634], [], [539], [11565, 11566], [], [43], [], [11567], [11568], [6], [357], [428], [427], [11569], [], [47], [], [70], [356], [11570], [11571, 212], [11572], [], [718], [5], [11573], [11574], [11575], [29], [366], [], [], [360], [6, 11576], [63], [46], [11577, 11578], [1112], [], [18], [2031], [11579, 11580], [390], [207], [40], [], [11581], [11582, 11583, 478, 607], [11584], [11585, 1], [], [], [11586], [11587, 11588], [], [11589], [], [226], [11590], [11591], [], [12], [], [98], [11592], [], [512, 11593, 11594, 569, 38], [], [710], [], [11595, 11596, 7], [1327], [24], [675], [], [33], [], [], [11597], [653], [163], [], [], [1422], [18, 11598, 11599, 11600], [1220], [], [5], [11601], [], [], [18, 152, 2076], [2], [843], [11], [], [102], [], [90, 11602, 67, 11603, 11604, 11605, 11606], [11607], [], [1767], [301], [11608], [], [], [], [11609], [43, 11610, 7], [], [], [11611], [52], [1, 11612, 11613, 11614], [11615, 11616, 10, 11617], [160], [2], [11618], [], [44, 177], [11619], [1890], [5], [115], [11620], [1454], [11621, 11622], [11623], [11624, 11625, 11626, 11627, 11628, 11629, 1511, 11630, 63], [], [33], [8], [11631], [1], [], [101], [24], [1585, 11632], [], [1810], [170], [11633], [9, 11634], [97], [1097, 11635], [], [875], [1382], [6], [236, 11636, 350, 11637], [254], [11638], [55], [], [11639], [412], [61], [11640, 7], [11641], [2084], [11642], [], [2], [11643, 11644], [14], [], [40], [1790], [65, 11645], [11646], [], [11647], [11648], [], [], [211], [11649], [215, 11650, 1068], [11651, 348], [46], [11652], [796, 11653, 11654], [744], [108, 108, 108], [11655], [11656], [11657, 508], [], [11658, 1, 323], [43], [89], [65], [], [11659], [11660], [452], [1941], [7, 11661, 11662], [594], [], [], [8], [2085, 570, 1116], [1730], [], [4], [11663, 11664], [11665, 70, 39, 11666], [3], [11667], [3], [11668], [11669, 11670, 11671, 11672], [11673, 11674], [2], [11], [1915], [419], [11675], [46], [], [53], [11676, 63, 11677], [11678], [265], [11679, 27, 382, 346, 11680, 11681, 11682], [1161], [3], [11683, 1117], [11684], [715, 11685, 11686], [6], [186], [], [11687], [11688], [5], [11689, 80], [94], [11690], [4], [22], [11691], [], [10], [11692], [33], [11693, 135, 11694], [11695], [11696], [615], [234, 572, 238], [11697], [11698], [11699, 11700, 87], [11701], [11702], [11703], [47], [441], [1385], [397], [11704], [148], [36], [1118], [77, 11705, 11706], [33], [], [], [11707, 11708, 11709], [11710], [11711], [4], [11712], [162], [], [70], [11713], [11714], [397], [11715], [2], [], [14], [714, 21], [11716], [12], [11717, 11718], [1578, 11719, 137, 9, 11720, 1457], [510, 131], [11721], [11722, 41], [], [], [66], [11723, 109, 11724], [4], [], [167], [], [43], [11725], [], [2086, 598, 11726, 11727], [15], [1], [34], [4], [358, 404], [11728], [11729], [11730], [11731], [11732, 11733, 42], [36], [2087], [11734, 42, 11735], [2088], [11736], [11737, 862], [], [1557], [2], [286], [], [11738, 26], [], [245], [251], [11739], [], [118], [6, 782], [11740, 71, 405, 18, 11741], [11742], [29], [11743], [1, 11744], [11745], [681], [31, 11746, 11747, 11748, 31, 291, 115], [205], [635], [], [11749, 509], [244], [11750], [], [11751, 11752, 37], [11753], [11754], [], [2089, 11755], [7], [], [11756, 189], [], [11757, 630, 11758, 969], [551, 11759], [2090, 181], [5], [], [8], [], [111], [56], [11760], [95], [], [], [11761, 11762, 11763], [8], [166, 395], [11764], [11765], [1050, 11766], [416], [], [11767, 11768, 766], [11769, 11770], [11771], [11772], [11773, 11774], [], [11775, 468], [11], [2091], [11776], [8], [188], [], [1, 11777, 11778], [11779], [], [], [], [2092], [638], [], [11780], [], [10, 11781], [11782], [11783], [11784, 11785], [1739], [], [119, 11786], [11787, 11788], [11789, 867], [], [11790, 559], [16, 11791], [556], [2], [11792], [11793, 158, 11794], [11795], [1847], [], [122], [11796, 11797], [11798], [2068, 11799], [], [538, 11800], [], [11801, 185, 11802], [], [], [], [11803, 11804], [112], [11805, 1119], [], [13], [11806], [11807], [11808], [900, 11809, 11810], [11811], [], [], [], [11812, 87], [11813, 11814, 11815, 271], [11816, 11817, 11818, 1594], [11819], [], [11820], [11821], [], [41], [197], [11822], [], [80, 11823], [512], [], [268], [11824], [11825, 11826, 1956], [], [829], [11827], [11828], [11829], [11830], [84], [], [11831, 11832, 11833], [32], [11834], [11835], [], [194, 11836], [276], [], [37, 11837, 9, 2087, 17], [11838], [], [5], [303, 11839], [11840], [3], [707], [240], [11841], [24], [], [11842, 11843, 1120, 11844, 11845], [5], [2093], [], [25], [22], [2], [2], [98], [628], [11846, 11847], [35], [332, 9], [], [11848], [11849, 6], [11850], [44], [11851], [162], [173], [78], [8], [11852], [11853], [108, 108, 11854, 11855], [5], [], [11856, 11857], [], [6], [], [11858], [11859], [51], [], [97], [11860, 11861, 1806, 11862], [4], [59], [11863, 11864], [2057], [4], [104], [11865], [11866], [34], [11867, 403], [], [11], [215, 11868, 11869, 11870], [], [], [], [4], [11871], [99], [11872], [8], [], [20], [2094], [11873], [241], [11874, 11875, 1121, 154, 11876], [], [11877], [], [519], [], [189, 546], [104], [], [86], [36], [], [708], [11878], [254], [], [210], [11879], [11880], [], [11881], [11882], [58, 11883, 103], [11884], [11885], [30], [11886], [3], [190, 11887], [4], [321], [44, 637, 80, 2063], [292], [11888, 1443, 319], [], [538, 11889], [86, 11890], [11891], [11892], [], [], [215, 11893, 11894, 31, 540], [], [4], [11895], [20], [11896], [24], [], [193], [36], [211], [], [86], [570], [], [11897], [942], [11898], [30], [], [11899, 1177], [11900, 11901, 18], [11902, 1568], [27], [], [10, 121], [5], [16, 11903, 11904], [], [2095], [], [11905], [11906], [11907], [676], [129], [11908], [11909], [636, 302], [], [11910], [18, 11911], [622], [92], [691, 11912], [144], [1326, 11913], [72], [118], [11914], [3, 1471, 11915], [], [], [], [68], [15, 11916], [], [134], [11917], [13], [851], [2], [2], [11918], [120], [11919, 11920, 11921, 11922, 295, 11923], [5], [11924], [11925], [11], [], [4], [1914], [11926, 525, 11927, 766], [59], [5], [1025], [13], [214], [483], [11928, 444], [69, 11929], [], [11930, 11931], [1671], [14], [97], [12], [11932], [20], [], [11933], [11934], [], [620], [11935], [11936, 11937], [11938], [39], [951], [11939], [11940], [11941, 11942, 11943], [11944, 11945], [11946], [11947], [467], [1659], [], [695], [], [28], [11948], [], [11949], [], [11950], [6, 11951], [14], [9, 11952], [11], [32], [11953], [11954], [3], [11955], [], [7, 11956], [2096], [11957], [11958], [49], [11959], [47], [11960, 11961, 11962, 420, 705], [3, 7, 6], [43], [], [973], [20], [], [], [11963], [11964], [712, 9], [7, 220], [], [11965], [11966], [7], [11967], [453, 1251], [1531], [11968], [11969, 11970, 11971, 11972, 11973, 740], [48, 266], [1082], [], [], [8], [11974], [95], [11975], [189, 385, 1084], [11976, 11977, 59], [9, 11978], [48, 449], [11979, 180], [11980], [], [48], [], [], [], [], [255], [13, 11981], [41], [1301], [], [4], [], [11982], [22], [11983, 11984], [11985], [86], [179, 11986], [1, 2027], [19], [11987], [262], [11988], [], [7, 223, 11989], [196], [161], [147, 80, 11990], [11991, 11992, 11993], [292], [747], [1926], [1001], [11994], [11], [11995, 11996], [97], [11997], [11998], [11999, 3], [27], [66], [3], [], [41], [298, 298], [28], [], [12000], [114], [12001, 113], [], [12002], [12003], [12004], [], [4], [12005, 12006], [14], [12007], [1119], [12008, 12009], [105, 245, 571], [12010], [], [12011, 12012, 12013], [], [37, 12014, 1342], [12015], [1247], [171], [301], [1122], [85], [], [], [12016], [12017], [44, 2097, 2097, 12018, 12019], [1937], [12020], [12021], [5], [12022], [1122], [12023], [], [], [], [], [12024], [101], [], [], [12025, 12026], [54], [12027], [71, 248, 1705], [12028], [5], [], [12029], [557], [812, 12030, 2043], [147, 12031, 16], [2], [36], [346], [37, 55], [696], [12032], [12033], [12034], [12035], [12036, 131], [1610], [631], [66], [53], [12037], [32], [226], [12038, 12039], [50], [25], [], [1848], [], [], [], [89, 2098, 1340], [30, 15, 12040, 196], [73], [], [9, 12041, 26], [12042, 12043, 2099, 12044, 421], [12045], [1101, 141], [12046], [143, 12047, 12048], [], [], [12049, 874], [], [], [2093], [], [12050, 12051], [12052], [53], [45, 12053, 2100], [12054], [5], [12055], [12056, 98], [237, 69, 12057], [169], [], [132], [739], [925], [38], [12058], [125], [1], [12059], [57], [], [], [3], [306], [78], [25], [], [17], [12060], [12061, 12062, 290, 1], [12063], [12064], [132], [12065], [], [112], [], [], [7, 12066], [12067], [12068], [12069, 12070], [12071], [], [49], [12072], [12073], [12074], [], [], [12075], [], [12076], [], [], [12077, 12078], [], [12079, 12080], [12081, 1985], [3], [1602], [2], [], [19, 21], [12082], [12083, 48, 62], [], [20], [12084], [12085], [673], [50], [7], [], [12086], [12087, 332], [12088], [519, 1415], [12089, 640, 12090, 328], [13], [12091], [12092], [96], [39, 39], [12093], [12094], [27], [25], [12095, 602], [12096, 12097], [12098, 12099, 187, 12100], [263, 2101], [], [91], [19, 1529], [1981], [], [22], [], [12101], [2102], [12102], [1053, 12103], [5], [2], [12104], [], [26, 18, 12105], [12106], [], [], [43], [12107, 412, 12108, 12109, 115], [121], [], [12110], [164], [], [12111, 12112, 12113, 12114], [97], [12115], [], [], [436], [12116], [12117], [41], [], [], [], [12118], [1123], [56], [352], [612], [], [12119, 12120], [39], [], [], [414], [15, 12121, 1880, 12122], [37], [], [2103], [3], [123], [], [12123, 12124], [12125, 2104, 2105], [2106, 12126], [30], [4], [458], [6], [25], [], [23, 65, 60], [12127], [78], [36], [1438, 12128, 12129], [], [], [660, 12130], [], [1119, 384], [], [12131, 870], [57], [12132], [], [12133, 1124, 486], [12134], [], [1885], [12135, 1404], [10], [89, 12136], [], [], [12137], [52], [12138], [43], [134], [50], [12139], [116], [12140, 12141], [], [12142], [12], [], [], [12143], [], [70], [12144], [12145, 236], [2107, 544], [54], [], [18], [5], [243], [], [], [227], [12146], [138], [], [12147, 12148, 3], [12149], [12150, 2108], [1572, 12151], [45, 36], [12152, 12153], [16], [2109], [9, 12154], [], [12155], [12156], [], [12157], [751], [], [1794], [12158, 130, 48, 1836, 45, 23], [], [], [12159], [123, 12160, 261], [], [86], [], [], [12161, 12162, 12163, 12164, 12165, 12166, 1719], [], [12167], [12168, 12169], [12170, 26, 12171, 12172, 12173, 12174, 421], [12175], [], [160], [12176], [], [1123], [28], [12177], [12178, 12179, 271, 12180], [926], [12181], [12182], [24], [12183], [4], [12184, 300, 12185], [137, 642], [14], [12186], [], [8], [2060], [1792], [], [], [3], [], [12187], [27, 12188], [8], [28], [], [], [], [], [12189], [9, 12190], [12191], [12192], [236], [12193], [1441, 12194, 12195, 12196], [12197, 12198, 780], [331], [1, 2110, 12199], [], [], [12200], [12201], [12202, 12203], [31, 12204], [16], [3], [], [12205], [972], [54], [12206], [20], [160], [699], [12207], [12208], [688, 12209], [12210], [], [297], [12211], [12212, 12213], [], [32], [19], [9], [], [], [81, 12214], [1902], [12215, 12216], [], [], [12217], [130, 12218], [12219], [12220], [12221, 12222], [26], [], [12223], [12224], [12225], [12226], [12227], [4], [12228], [], [], [7, 12229], [14], [767], [], [], [12230, 732], [], [12231], [2111], [12232, 325], [132], [], [552], [452], [12233, 12234], [228, 12235, 12236, 451, 12237, 12238, 12239], [1, 280, 12240, 69, 12241], [12242], [12243], [12244, 12245, 12246, 290], [12247], [28], [12248, 390], [114], [443], [], [35], [], [12249], [12250, 12251], [155], [9, 12252], [12253], [12254], [], [12255], [12256], [12257], [], [44], [12258, 12259], [12260], [12261], [12262], [2], [12263], [12264, 12265], [1845], [12266], [375], [], [12267, 12268, 12269], [], [12270, 12271], [12272], [], [], [], [164], [12273, 12274, 147], [12275], [], [12276], [10, 527], [], [], [12277, 48], [12278], [12279, 12280, 12281], [240], [1195, 1979, 497], [12282], [12283], [12284], [10], [1726], [3], [12285, 12286, 12287], [53, 15], [56], [12288], [1155], [12289], [12290], [], [12291], [296], [12292], [627], [12293], [12294, 2112], [7, 12295, 12296], [12297], [12298, 12299, 12300, 12301], [738], [], [12302], [12303], [12304], [281], [], [33], [374], [296], [95], [12305], [74], [], [12306], [12307, 12308, 12309, 12310], [94], [12311], [12312, 1, 12313], [57], [12314], [12315, 1044, 1753, 12316], [12317], [12318, 12319], [], [2], [1030], [], [], [12320], [12321, 6], [73], [1], [274], [12322], [], [], [], [61], [12323, 229, 12324], [12325], [], [12326], [12327], [12328], [12329], [4], [12330, 12331], [12332, 12333], [12334, 12335], [1125, 12336, 12337, 12338, 421], [12339], [47, 63, 12340, 127], [30], [12341, 12342], [38], [12343], [1], [12344], [12345], [76], [81, 384, 12346, 153, 174], [78], [], [], [12], [12347], [], [12348, 1701], [31, 665], [12349], [], [], [12350, 12351, 12352, 12353], [1017], [330, 12354], [12355], [], [2113], [], [], [12356, 12357, 12358, 12359], [], [111], [28], [64], [34], [12360], [143], [33], [4], [33], [24], [2], [61, 250, 157, 1], [], [244], [2], [12361, 385, 9, 12362], [], [12363], [12364], [15], [12365], [], [2], [142], [11], [], [12366], [14], [16], [], [50], [], [], [12367, 12368], [12369], [3], [], [73], [12370], [677], [], [], [], [12371], [19, 21], [12372], [], [12373], [], [132], [517], [], [8], [], [472], [12374], [12375], [12376], [1, 12377, 1, 12378], [12379], [12380, 763, 275], [12381], [12382], [76], [12383], [12384], [12385, 12386, 12387, 12388, 12389, 12390, 12391], [], [94, 12392], [747, 12393, 12394], [27], [12395], [82, 12396], [1, 12397, 165, 2114, 12398], [12399], [133], [13], [2115], [12400], [1288], [], [], [], [13], [], [12401], [207], [12402, 1126, 12403], [186], [12404], [], [], [34], [12405, 334, 12406], [4], [], [], [12407], [12408, 96, 329], [], [12409], [], [12410], [82, 858], [12411], [56], [8], [12412, 17, 7], [], [12413, 12414, 12415], [12416], [12417], [], [92], [12418], [584], [1059], [1352], [26, 749], [9, 844], [133], [181], [], [12419], [44, 1, 318], [10], [12420], [12421, 12422, 1047, 234], [], [12423], [12424, 12425, 12426, 12427, 12428, 694, 12429, 811, 88], [], [12430], [12431], [], [12432], [12433], [12434, 12435, 12436], [], [], [], [12437], [12438, 12439], [228, 12440], [12441], [12442, 12443, 12444, 12445], [12446], [651], [90, 7], [12447, 12448], [12449], [12450, 12451], [5], [12452], [], [12453, 12454], [12455], [204], [12456], [1264], [], [], [], [12457], [397], [4], [], [28], [12458, 12459], [962], [17], [1498], [12460, 12461], [10, 12462, 12463], [], [], [1127], [365], [12464], [12465], [7, 12466], [], [12467], [1121], [], [9, 196], [59], [12468, 51, 12469], [1993, 266], [12470, 12471], [8], [1940, 12472], [], [], [], [221], [12473], [12474], [], [221], [2], [195], [18, 12475], [], [], [12476], [1123], [12477], [1082], [12478], [12479, 12480, 12481], [12482], [], [73], [12483], [], [38], [536], [], [28], [], [17], [], [27], [], [], [12484, 21], [12485], [9], [20], [], [12486], [], [], [], [], [], [12487], [19, 21], [123], [22], [1038], [115], [12488], [12489], [12490], [3], [22], [1, 2116], [12491, 12492, 17], [12493], [12494, 2100, 336, 12495, 12496], [], [2106, 12497], [2], [88], [], [12498, 12499, 228, 418], [2], [983], [2], [619, 12500, 2117], [12501], [40], [12502, 12503], [12504], [12505], [], [12506], [12507], [], [12508, 576, 12509, 1865], [568], [15, 12510], [324], [12511], [74], [], [], [12512], [], [], [12513, 12514, 69, 12515], [8, 12516], [], [12517], [], [12518], [1, 12519, 12520], [], [2118, 12521, 12522], [2119], [], [2120, 13], [12523, 131], [12524, 173], [38, 764], [], [12525, 12526, 12527, 12528], [12529, 12530], [], [13], [19, 412, 12531, 15, 12532, 12533], [], [70], [20], [28], [], [12534], [12535], [7, 12536], [], [9], [1102], [926], [516], [], [212, 12537, 172, 12538], [], [], [12539, 44], [12540, 12541], [12542], [12543], [12544], [12545], [], [129], [1236, 1113], [239, 96, 12546], [4], [], [44, 12547, 12548], [], [], [], [2114], [3], [], [29], [21], [12549], [12550], [], [], [2121, 1, 1706, 831, 176, 892], [12551], [83], [], [101], [], [11], [], [14], [798], [2019], [], [12552, 12553], [12554], [], [207], [20], [12555, 12556, 12557, 1686, 588], [1], [], [19], [209, 62, 12558], [919], [23, 12559], [9, 12560], [], [12561, 12562, 116, 333], [12563], [38], [12564, 12565, 12566, 59], [12567, 12568, 12569, 12570, 12571], [1128], [], [], [], [], [114], [], [12572, 12573], [12574], [12575], [], [12576, 12577, 679, 12578], [2122], [], [12579], [1857], [1129], [12580], [76], [326], [4], [], [12581], [], [], [92], [282], [], [12582], [3], [151], [123], [24], [12583], [], [317], [], [13], [], [12584], [4], [], [12585], [], [701], [12586], [107], [99], [12587], [12588], [12589], [12590, 12591], [12592], [], [805], [], [], [1, 196], [1000], [], [99], [1644], [906], [], [64], [17, 12593], [12594, 2123], [80, 12595, 12596, 476, 12597, 940], [], [], [], [711, 280], [], [12598], [1003], [], [12599, 12600, 12601], [], [12602], [], [4], [], [2079], [12603, 12604, 12605], [12606], [], [], [34], [], [2124], [11], [12607, 12608], [11], [167], [], [1114], [], [12609], [12610, 12611, 839, 12612, 12613], [12614, 12615, 12616, 12617, 136, 12618], [], [1978], [57], [16, 12619], [462], [12620], [12621], [2], [], [500], [12622], [352], [12623], [12624], [12625], [582], [13], [12626, 12627], [4], [214], [], [1, 467], [], [], [2125], [], [35], [], [1063, 390], [], [12628], [1130, 1946, 104, 12629, 12630], [], [101, 531, 12631], [746], [338], [1, 284], [12632], [12633, 12634], [12635], [], [12636], [12637], [980], [12638], [], [12639, 545], [], [12640, 12641], [13], [5], [12642], [], [148], [171], [], [12643, 1446], [12644], [1, 12645], [145], [253], [12646, 12647], [162], [], [12648], [12649], [1681], [12650, 12651], [26], [2126], [12652], [12653], [1995, 2065], [7, 12654], [], [1050], [], [12655], [], [140], [45, 743], [], [], [264, 12656], [], [12657, 12658], [], [737], [32], [12659], [31, 9, 12660], [12661, 166], [2127], [], [45, 12662, 81], [], [12663], [2128, 116, 12664], [], [33], [], [2129], [22], [22], [6], [], [], [12665, 12666], [12667], [27], [2130], [12668], [79, 12669], [5], [], [571, 12670, 12671, 12672], [53], [], [], [9, 12673, 12674, 1079], [27], [12675], [33], [12676], [], [522], [12677], [335, 12678], [12679], [], [], [56], [12680, 567, 315, 12681], [217], [26, 16, 6], [], [], [12682, 12683, 312], [], [], [44, 1, 12684], [12685], [12686], [], [12687], [64], [], [], [12688, 626], [64], [111], [12689], [64], [2], [42, 12690], [119, 12691], [12692], [324], [12693], [2131], [], [], [112], [], [], [2132], [12694, 12695, 12696, 12697], [12698], [3], [20], [15, 267], [70], [529], [12699], [161], [254], [6, 12700, 12701, 12702], [140], [523], [259], [123, 12703, 12704, 393], [], [59], [], [12705, 12706], [929], [12707, 1080, 12708], [12709], [2], [50], [12710], [24], [], [], [30, 2126], [], [6, 12711, 12712, 12713, 12714, 154], [4], [], [12715], [], [12716, 218, 12717], [228, 12718], [], [11], [], [4], [1, 12719, 18, 12720, 12721], [12722], [33], [], [54], [12723, 12724, 297, 339, 806, 21], [947, 12725, 1553], [32], [45, 16, 12726, 6], [12727], [227], [12728], [12729], [93], [13], [763], [12730], [], [2], [3], [12731], [12732], [10], [62, 450], [264, 12733, 12734, 12735], [], [12736, 12737], [4, 12738, 79, 12739, 12740], [345, 12741, 12742, 12743], [], [], [12744], [84], [458], [], [188], [156], [36], [1873], [4], [12], [], [551, 1, 12745], [10, 1246], [387], [12746], [51, 12747], [12748, 12749, 12750], [], [12751], [27], [194], [], [], [532, 12752, 12753], [27], [12754], [1650], [12755], [12756, 12757, 12758, 235], [12759, 1131, 12760], [12761], [51, 12762], [12763, 9, 12764, 12765], [535, 12766, 12767], [306], [508], [331], [170], [277, 12768, 12769], [], [12770, 12771, 62, 87], [12772], [1862, 12773, 12774], [12775], [12776], [], [], [], [], [81], [1943], [12777], [], [12778], [13], [846], [], [30, 12779, 42, 18, 121], [42, 12780], [12781], [8], [147], [12782], [1583], [891], [82], [35], [4], [190, 10, 12783, 12784], [], [8], [3], [31, 1464], [12785], [879], [], [287], [10, 12786], [12787], [12788], [], [12789], [202], [], [3], [], [37], [28], [1752], [], [12790, 12791], [12792, 12793], [92], [12794], [], [12795, 1907, 1], [12796, 180, 12797], [645, 322, 12798, 2133, 12799, 625, 12800], [45], [], [1093], [12801], [12802], [38], [12803, 12804, 12805], [12806, 12807], [], [65, 12808, 277], [12809, 12810, 1132], [12811, 198], [], [137, 12812], [], [12813], [], [24], [60], [], [], [], [324], [], [34], [5], [12814, 12815, 12816, 82, 12817], [2134], [12818, 449], [66], [], [], [], [12819, 768], [24], [2135, 12820, 12821, 12822], [12823, 12824], [62, 12825], [], [1040], [1998], [34], [12826], [151], [], [], [45, 31, 2112], [12827], [16, 12828, 12829, 376, 23, 12830, 12831, 12832], [49], [12833], [686], [], [22], [699], [12834, 69, 12835], [], [12836], [12837, 26], [12838], [52], [], [], [12839], [12840], [12841, 12842, 7, 12843], [12844], [1786], [80, 12845], [12846], [], [12847, 12848], [1910, 12849, 12850], [35], [], [62, 2136], [], [], [], [], [12851], [12852], [1771], [22], [], [12853], [1835], [12854], [32], [159], [12855], [], [1785], [826], [], [57], [5], [27], [12856], [105, 9, 12857, 7, 9, 2137], [105, 279], [12858], [29], [64], [12859, 2138], [12860, 12861, 12862, 12863, 12864], [12865], [12866], [], [7, 278, 12867, 190, 790], [41], [], [12868], [234, 12869, 12870, 12871, 12872, 12873, 1096], [33], [969, 12874], [34], [114], [12875, 12876, 1255, 12877, 12878, 12879, 12880, 12881, 12882, 12883], [1295, 12884, 12885], [2104, 91, 12886, 1132], [12887, 12888], [12889, 12890, 12891], [662], [12892], [], [9, 2116], [], [], [1355, 12893, 12894], [], [12895], [1830], [12896], [12897], [1133], [12898, 58], [145], [289], [1356], [12899], [], [1090, 12900], [12901], [12902], [126], [191], [12903, 14, 12904, 12905, 807, 12906, 12907, 667, 171, 12908, 717], [], [12909], [12910], [], [], [3], [], [1325, 90], [446, 12911], [], [452], [12912, 12913, 12914], [18, 12915], [12916], [12917, 12918], [820], [81, 12919], [255, 12920], [], [2139], [5], [8, 12921], [71, 1, 1322, 583, 12922], [12923], [26], [], [12924], [], [12925], [848], [134], [12926], [12927, 12928], [12929], [], [], [12930, 12931, 12932, 12933], [12934, 1076], [12935], [12936], [2140], [1, 12937], [27], [12938], [248], [7], [12939], [86], [177], [565], [], [], [12940], [1134], [22], [62, 2037, 6], [32], [2141], [], [12941], [12942], [29], [12943, 183], [], [], [12944], [12945], [], [], [], [12946, 12947, 12948], [8], [13], [38], [125], [276], [], [205], [], [12949], [97], [12950], [111], [], [90], [], [1135], [12951], [12952], [], [1], [1475], [12953, 526], [], [42, 12954, 1894], [1136], [222, 12955], [375, 12956], [12957], [12958], [2045], [12959], [], [12960], [], [12961, 295], [12962], [19, 12963], [12964, 1009, 12965], [12966], [241], [12967], [], [12968, 12969], [25], [12970], [3, 213], [43], [67, 12971], [32], [71], [34], [], [934], [], [12972], [12973], [], [12974, 12975, 261], [12976], [19, 21, 12977], [12978, 12979, 2142], [118], [5], [187, 12980], [12981], [], [12982], [12983], [28], [12984, 258], [1124, 12985], [], [3], [12986, 102], [50], [277, 12987, 12988], [27], [763, 16], [12989], [1656, 12990], [], [382, 12991], [1403], [309], [472, 18, 21], [209, 44], [9, 12992], [210, 12993], [12994], [], [12995], [12996], [637], [19, 21], [38], [12997], [], [5], [3], [12998], [], [], [12999], [13000, 13001], [459, 13002, 2084, 13003, 13004], [54], [13], [13005], [503], [], [52], [1883], [13006], [], [244], [13007, 59], [2], [4], [518], [], [13008, 13009], [], [15], [13010], [14], [], [13011, 13012, 13013], [13014, 13015, 13016], [13017, 13018], [], [13019], [], [13020, 371, 13021], [208], [13022], [15, 13023], [35, 13024], [99], [], [], [], [13025], [], [16], [46], [20], [501, 7, 220, 794, 13026, 1512, 13027], [53], [13028, 13029], [], [13030], [], [13031, 7], [13032], [9, 13033], [19], [13], [], [13034], [120], [503], [32], [13035], [], [], [13036], [15], [148, 716], [555], [18, 13037], [13038, 13039, 13040], [13041], [13042, 13043, 157, 62, 13044, 63], [13045], [19, 21], [13046], [13047], [2143], [], [13048, 1758, 13049], [13050], [2], [], [7, 13051], [], [111, 35], [], [13052], [13053, 168], [], [], [], [13054], [464, 1297], [], [13055, 13056], [], [16, 13057], [], [], [558], [189, 2009], [13058], [13059], [], [], [13060], [13061], [13062], [39], [27], [13063], [], [], [14], [13064, 13065, 13066, 752], [22], [], [144], [13067], [19, 21], [13068], [13069, 13070], [75], [], [], [], [124], [830], [], [13071, 2132], [13072], [27], [], [13073], [], [13074, 13075], [20], [97], [13076, 1210, 13077, 13078], [], [13079], [13080, 13081, 1420, 13082], [13083, 13084], [326], [], [], [1], [], [185], [2144], [], [20], [13085], [1470], [1414], [214], [], [], [201], [814, 13086], [], [], [], [200], [], [13087, 13088], [13089], [13090], [456], [], [13091], [13092, 13093, 2145, 13094, 13095, 13096], [], [26, 2015], [13097, 13098], [], [2008], [], [1105, 13099, 13100, 89], [], [1175], [48, 13101], [1028, 13102, 13103], [1], [17], [5], [], [13104, 561, 660, 13105, 320, 13106], [25], [1514], [13107], [107], [], [13108], [60, 13109, 13110], [3], [13111], [13], [], [], [13112], [13113, 1025], [13114, 19], [], [13115, 17, 35], [], [], [1278], [471], [2], [13116], [13117], [5], [13118], [23], [13119], [], [12], [8], [], [], [1061], [13120], [13121], [30], [], [8], [12], [7], [13122], [415], [], [1648], [13123], [], [1011], [2146], [1016], [38], [16, 229], [], [38, 3], [101], [2141, 13124, 13125], [325], [2], [], [1244], [13126], [13127, 126, 129], [3], [13128, 13129], [205], [13130], [], [], [], [5], [], [], [1], [], [1668], [8], [13131, 13132], [2], [13133], [13134], [], [26], [13135], [13136, 13137], [75], [37], [13138], [13139], [13140], [40], [48, 13141], [308], [13142], [13143, 13144], [43, 13145], [13146, 13147], [31], [17], [13148], [], [], [13149], [], [], [2], [], [13150], [29], [13151], [2], [245], [], [27], [17, 13152], [13153], [], [], [13154, 13155], [519], [], [31], [425], [], [13156], [], [], [13157], [], [14], [2049, 2050], [610, 122], [4], [13158], [2], [13159], [24], [], [98], [], [116], [13160], [], [13161], [13162], [170], [13163], [46], [13164], [1078], [2], [31, 1], [], [41], [13165], [], [], [], [13166, 13167], [], [13168, 13169, 13170], [12], [], [235, 1476], [13171], [13172, 13173], [13174], [13175], [5], [2119, 569, 333], [74], [118], [], [107], [], [13176], [840, 13177], [6], [], [1723], [], [13178, 641], [13179], [842, 13180], [13181, 212, 13182], [], [13183], [13184], [13185], [741], [11], [13186], [13187, 13188, 1, 13189], [2074], [], [167], [], [], [5], [726], [51, 13190], [12], [469], [13191], [30, 13192], [], [16], [4], [120], [645, 13193, 39], [111], [120], [866], [13194], [18, 13195], [77], [], [13196, 13197, 13198, 13199, 18], [3], [2023, 13200, 13201], [61], [13202, 13203], [104], [], [3], [33], [13204], [], [], [13205], [13206], [], [13207], [13208], [], [3], [], [1, 17, 618, 103, 1581], [17], [], [], [], [2143, 147, 13209], [595], [2147], [106], [13210], [300], [35], [], [13211], [13212], [], [2], [13213, 669, 13214], [], [2139, 400], [13215], [4], [13216], [], [31, 13217], [200], [55], [], [13218, 13219], [], [], [3], [], [], [14], [228, 13220], [132], [70], [], [13221, 956], [1, 63, 238, 13222], [354], [13223, 336, 748, 13224, 59], [2148], [13225], [560], [], [13226, 13227], [], [936, 13228, 13229], [], [82, 13230], [29], [112, 13231], [], [13232], [127], [], [13233, 13234, 128], [5], [8], [13235], [13236, 13237, 874], [9, 230], [13238], [13239, 13240], [], [], [14], [5], [14], [13241, 13242, 1057], [156], [13243], [13244], [], [], [], [13245], [225, 40], [], [], [13246, 13247, 107, 13248], [3], [], [4], [222, 989, 1449, 13249], [13250, 185], [], [], [13251], [13252, 48, 266], [13253], [13254], [], [], [], [57], [], [13255, 10], [24], [], [32], [13256], [], [1795], [], [1922, 13257], [], [104], [321], [13258, 102], [214], [13259], [13260], [13261], [56], [61], [], [13262], [24], [13263, 13264], [1652, 13265, 13266, 13267], [], [13268, 781, 13269], [143, 618], [13270], [114], [1863, 13271], [12], [27], [445], [1716], [13272], [568], [13273, 63], [36], [14], [29], [68], [225, 13274], [], [], [2, 520], [], [11], [13275], [13276], [12], [13277, 143], [13278], [13279, 31], [47], [2135], [13280], [13281, 13282], [1129], [], [13283], [], [118], [], [13284], [2133], [13285], [], [13286, 899], [55], [22], [2072], [], [13287], [836], [3], [669, 79, 425, 146, 13288, 13289], [], [190], [], [65], [31], [], [2029, 13290, 13291, 10, 13292], [], [13293, 1027], [13294], [1612, 2149, 2149], [13295], [], [265], [145], [], [], [13296, 59], [2130], [], [13297], [654, 13298, 13299, 13300], [13301, 13302], [13303, 567], [160], [162], [176, 13304], [26, 13305, 13306, 13307], [], [13308, 233], [19], [2042, 256], [13309], [24], [730], [504], [7, 450], [], [5], [13310, 13311], [], [24], [13312], [150, 13313], [], [], [13314], [184], [357, 13315], [], [13316], [13317], [1085], [51], [2], [13318], [13319], [], [17], [98], [8], [3, 1833], [65, 67], [], [204], [13320], [13321], [256], [], [13322], [13323], [103], [], [34], [13324], [27], [], [13325], [], [4], [1179], [87], [13326], [1789], [], [], [], [13327], [13328, 13329], [3], [13330], [1990, 13331], [97], [8], [15, 13332], [78], [13333], [33], [49], [], [], [38], [241], [54], [], [164], [13334], [], [], [], [13335], [717], [13336], [2], [13337], [13338, 13339, 13340], [], [13341], [13342], [26], [106, 129, 13343, 13344, 13345], [13346, 13347, 13348], [13349], [13350, 42, 13351, 13352, 669], [165, 13353], [], [13354], [2026], [13355, 6], [], [], [], [317], [13356, 13357], [1628, 13358], [], [77], [504], [], [96], [574, 13359], [18, 152, 13360], [442, 40], [41], [12], [], [1104], [], [80], [533], [], [], [54], [13361, 13362], [27, 884, 270, 157], [], [10, 7, 759, 13363, 295], [214], [598], [], [], [17], [602, 2080], [13364, 13365], [11], [13366, 13367], [], [13368, 3], [1292, 13369], [], [13370, 13371], [], [], [182], [], [3], [13372], [13373], [231], [14], [], [1899, 764], [6], [13374], [13375], [767], [119, 941], [13376, 88, 13377], [54, 13378, 662, 13379, 13380, 13381], [12], [13382], [41], [], [208], [13383], [], [1338], [1058, 13384], [27], [], [13], [13385], [13386, 13387, 551, 10, 13388], [13389], [], [674], [69, 13390], [13391, 13392], [64], [], [], [5], [13393], [13394], [12], [], [52], [2150, 16, 13395, 1, 13396], [28], [1712], [13397], [13398, 42], [13399, 13400], [], [81, 13401], [13402], [13403, 91, 10, 13404], [360], [18, 2151], [221], [31], [195], [], [1126], [], [13405, 13406, 429, 5, 2152, 13407], [39], [], [127], [22], [], [24], [413], [13408], [1128], [537], [], [126, 412, 13409, 67], [4], [13410], [13411], [], [13412], [1165], [13413, 13414], [558], [], [1766], [], [], [], [104], [], [13415], [20], [5], [13416], [445], [], [], [], [13417, 13418], [17, 15, 2153, 13419, 15, 13420, 13421], [7], [], [2], [13422, 953], [13423], [], [13424, 13425, 13426], [191], [145], [810], [13427, 13428, 1, 13429], [], [13430, 13431], [13432], [13433], [1442], [], [13434], [13435], [13436], [1866, 13437], [130], [], [13438], [20], [], [41], [13439], [13440], [114], [120], [13441, 572, 13442], [16], [13443], [1630], [141], [], [], [329], [2154], [], [], [110], [13444], [28], [], [13445, 13446, 13447], [17], [], [13448, 13449, 13450, 13451], [591], [], [], [13], [], [], [167], [], [13452], [348, 13453], [118], [2155], [13454, 13455, 1036], [13456, 13457, 13458], [], [179], [2156], [13459], [45, 13460, 1, 2157, 122], [550, 13461], [1954], [19], [197], [33], [13462], [54], [], [113], [], [3], [1518], [13463], [1569, 146], [], [], [13464], [22], [255, 29, 13465, 50], [13466], [236, 126], [], [13467], [], [32], [], [13468], [13469], [47], [4], [12], [13470], [118], [887], [14], [13471], [47], [13472], [25], [13473, 3], [13474], [], [], [13475, 2158], [], [705], [280], [13476], [1, 13477], [13478], [], [2159], [13479], [13480], [1472, 128, 13481], [2159], [], [38], [44, 13482, 13483, 13484], [], [1111], [], [262], [], [13485, 2064, 13486], [13487, 13488], [], [13489], [], [426], [13490], [3], [], [13491], [27], [], [], [13492, 13493, 1841, 13494, 13495, 13496, 681], [], [], [1920], [], [13497, 13498, 950, 13499], [219], [13500, 13501, 655, 13502], [13503], [13504], [2083], [13505, 13506], [13507], [997], [], [124], [13508], [989], [173], [32], [], [14], [2160], [], [13509, 705], [], [13510, 13511, 6], [1680], [2129], [2085], [1980], [188], [], [39], [743], [816], [382, 13512], [756], [604], [13513], [13514], [13515], [], [754], [13516, 13517, 13518, 13519, 13520, 13521], [106, 13522], [566], [75], [13523], [13524, 13525], [64], [13526], [13527], [12], [2067], [3], [13528, 1258, 13529], [], [89], [], [], [17, 2030], [4], [326, 1507, 905, 13530], [], [18], [13531], [4], [13532, 13533], [13534], [13535], [], [80, 13536], [], [13537], [13538, 13539], [13540, 13541, 13542], [56], [516], [781], [], [12], [5], [13543], [1843], [], [], [13544], [], [13545], [], [], [145], [972], [13546, 13547], [3], [13548, 13549, 13550], [25], [], [14], [13551], [2161], [364], [1365], [24], [13552, 13553], [13554], [2], [], [2011], [], [18], [11], [13555], [], [51, 13556], [2162], [13557], [635], [], [8], [13558, 163, 13559], [], [13560], [11], [10, 13561], [197, 2109], [13562, 6], [186], [155], [], [1724], [1982], [], [111], [742], [33], [], [1066], [], [13563], [1674], [1549, 13564], [13565], [13566], [92], [13567], [], [11], [221], [10, 590], [4], [], [13568, 13569], [355], [13570], [], [], [13571], [13572, 63, 213, 13573], [28], [], [13574], [8], [], [70], [], [13575, 13576], [], [13577], [13578], [], [358], [], [555], [2], [828, 60, 13579], [56], [13580], [1746], [], [], [], [], [13581], [], [], [13582], [1116], [2124], [162], [], [202], [13583], [13584], [384], [22], [391], [], [13585, 13586, 2163, 13587, 13588], [13589], [], [], [13590], [246], [13591], [], [], [13592, 13593, 117, 42], [], [28], [111], [13594], [333], [], [2], [13595, 13596, 13597], [87, 44, 238, 163, 13598], [1, 13599, 64, 13600, 124], [255], [138], [13601], [60], [303], [13602], [1989, 13], [13603, 13604], [66], [13605, 13606], [], [13607], [148], [], [13608, 13609], [3], [13610, 13611, 13612], [13613], [13614, 2107, 888, 13615], [], [2164, 13616, 13617], [2165], [], [13618, 13619, 13620], [118], [145], [], [13621], [], [340], [18, 1238], [13622, 13623, 13624], [1778], [46], [], [13625, 13626, 13627, 13628], [], [928], [13629], [1136], [13630, 497, 2166], [1112], [13631], [], [13632, 325, 13633], [13634], [56], [15, 13635], [], [13636, 13637, 13638, 592], [1137], [2120], [13639], [], [13640, 13641, 13642, 13643], [13644], [13645, 13646], [46], [13647], [8], [13648, 116], [714], [13649, 13650], [361], [4], [], [], [2167, 13651, 13652, 13653], [226], [], [3, 217, 13654], [], [89, 13655, 13656, 13657, 9], [1011], [6, 13658], [84], [2125], [13659, 2168], [], [760, 13660], [43], [1626], [1, 1074, 13661, 13662], [709], [13663], [13664], [5], [13665], [1096], [], [13666], [13667], [], [388], [13668], [24], [13669], [13670, 13671], [13672], [3], [], [], [13673], [1, 13674], [13675], [], [], [13676, 13677, 13678], [5], [1032], [], [], [1135], [4], [13679, 13680], [13681], [13682, 13683], [13684, 23, 79], [], [], [2], [124], [45, 109, 13685, 611], [], [106, 2169], [13686], [7], [13687, 134], [13688], [13689], [], [13690, 175], [], [2131], [975, 499], [14], [16, 223], [10], [], [11], [], [], [4], [], [13691], [], [], [2066], [1127], [97], [219], [84], [1562], [], [13692], [], [35], [15, 13693, 13694], [8], [13695], [], [30, 76], [13696], [13697], [16, 220], [30], [64], [36], [13698], [], [], [], [81, 103, 2118, 13699], [16, 229], [1961, 180], [13700, 13701, 321], [1738], [13702], [33], [5], [], [1065], [13703], [13704, 727], [], [28], [108], [258, 13705], [13706], [792], [], [13707], [159], [219], [10, 103], [46], [], [89, 1131, 13708], [13709], [13710, 13711], [238], [13712], [13713], [13714], [599], [13715], [144], [13716], [13717], [865, 270], [], [], [], [1696], [], [], [1969], [511], [13718], [13719, 13720], [438], [], [], [359], [2156], [], [13721, 13722], [], [35], [13723, 332], [], [], [38], [], [76], [298, 298, 298], [13724, 13725], [116, 13726], [149], [13727], [13728], [13729, 13730], [40], [], [13731], [13732], [383], [], [130], [141], [], [13733, 13734], [], [], [13735], [5], [], [], [13736], [13737, 13738], [2170, 9, 13739, 2171, 217, 325], [22], [90, 63], [], [1638], [13740], [], [13741], [13742, 13743], [13744], [], [414], [7, 13745], [685], [13746], [], [12], [13747], [], [77, 391], [13748], [186], [13749], [7], [56], [133], [13750], [14], [], [13751, 13752, 13753], [], [13754, 13755], [], [], [28], [13756], [307], [], [13], [11], [13757], [13758], [46], [13759], [1138], [5], [13760], [13761], [13762, 13763, 13764], [13765, 13766], [13767, 137], [], [5], [30, 62], [1351], [247], [], [112], [], [1093], [13768], [13769], [43], [1729], [13770, 13771], [26, 13772, 1, 616, 13773, 157, 13774], [13775], [13776, 13777], [134], [], [1, 13778, 240], [1126, 13779], [13780], [19, 21], [], [], [], [16, 229], [13781, 232], [13782, 100], [], [734, 13783, 13784], [1116, 13785], [], [13786, 13787], [141], [13788], [103, 13789], [804], [13790], [2172], [109, 377], [], [], [], [379], [458], [13791], [126], [], [], [28], [27], [2173], [], [], [], [13792, 13793], [13794], [35], [], [], [24], [13795], [32], [13796], [], [13797], [138], [13798, 13799, 1951, 758, 13800, 13801, 13802, 12], [13803], [736], [13804, 13805, 13806, 13807], [15], [34], [], [13808, 13809, 13810], [13811], [], [13812, 13813], [13814], [208], [10], [1839, 536], [], [13815], [13816], [456], [116], [53], [6, 13817, 13818], [13819], [], [634], [8], [3], [13820], [], [614, 793], [27, 13821], [2070], [13822], [], [13823], [745], [25], [13], [], [], [13824], [13825], [110], [13826], [42, 13827, 122], [1283], [84], [2], [8], [], [10, 13828, 13829, 13830, 13831], [], [1353, 13832, 13833, 13834, 13835], [492], [167], [], [2], [13836, 13837], [134], [28], [], [33], [13838], [13839], [976], [], [392, 152], [], [270], [768, 86], [13840, 13841], [73], [99], [13842], [], [13843], [150], [], [1, 13844], [13845], [13846], [13847, 13848], [678], [13849], [13850], [13851], [476], [61], [2174, 1, 13852], [20], [], [127], [13853], [13854], [1081], [149, 13855], [], [13856], [13857, 180, 13858], [13859, 1516], [386], [1663, 13860, 752], [13861, 13862], [], [457, 13863, 1593, 13864, 918, 62, 13865, 527, 2157], [45], [], [13866], [28], [249], [13867], [13868], [], [720, 96, 13869], [13870], [365], [], [], [], [253], [26], [2], [82, 13871], [13872], [13873], [13874], [13875], [], [], [13876], [13877], [], [19, 21], [], [13878], [11], [13879], [466], [461], [], [13880, 13881, 13882], [13883], [13884], [2056], [13885], [7], [13], [13886, 13887, 13888, 13889], [13890, 13891], [1118], [19, 21], [378], [13892], [18, 13893], [], [44, 18], [1742, 1115], [524, 13894, 13895], [2], [72], [13896, 13897], [34], [13898], [13899], [8], [13900], [], [18, 13901], [169], [13902, 13903], [13904], [13905], [13906], [12], [13907, 13908, 13909, 13910], [13911, 13912], [58, 13913], [13914], [13915, 13916, 13917, 13918], [], [13919], [13920], [1923], [72], [13921], [50], [2175], [13922], [13923, 13924], [1984], [13925], [13926], [13927], [], [13928], [13929], [13930, 23, 13931], [], [2092], [13932], [5], [], [], [1129], [13933], [231], [20], [89, 13934, 13935], [13936], [13937, 10, 13938], [13939], [13940, 13941], [363, 13942, 115], [], [13943], [54], [14], [13944], [61], [614, 13945, 13946], [149, 13947], [13948, 13949, 315, 13950], [5], [13951], [13952], [1268], [13953, 1073], [], [32], [], [12], [58, 1916, 44, 13954, 1912], [13955], [13956], [], [], [19, 21], [1055], [], [], [], [], [13957], [], [13958], [], [200, 13959, 391, 1987, 172, 15, 13960, 15, 13961, 13962], [68], [], [523], [], [], [4], [13963], [13964], [66], [422], [252, 13965], [47], [13], [34], [13966], [352], [141], [], [13967], [43], [13968], [2004], [13969, 13970], [13971], [13972], [], [13973], [13974], [1066], [13975], [94], [743], [310, 13976, 1077], [11], [], [915, 13977], [], [], [], [], [952], [], [13978, 13979, 1272], [26, 13980], [], [294], [44], [18, 13981, 2044], [11], [13982, 13983], [], [13984], [], [190], [], [13985], [13986], [13987, 102], [], [243], [13988, 13989], [], [5], [13990], [1975], [], [13991, 6, 851, 5, 754, 13992, 13993], [], [3], [384, 13994, 2176], [95], [1092, 13995], [], [912], [13996], [13997], [13998], [201], [4], [], [10, 121], [13], [13999], [17], [14000], [87], [24], [14001], [14002], [], [128], [635], [14003], [1049], [1128], [14004], [], [26], [118], [467], [14005], [], [14006], [102, 876, 14007], [], [14008, 86, 14009], [], [164], [80, 14010], [83], [14011], [14012], [12], [14013], [14014], [14015], [13], [967], [14016, 14017, 40, 14018, 415, 297], [], [14019], [], [50], [455], [14020, 14021, 14022], [], [], [14023], [14024, 1854], [], [], [14025, 50, 14026, 14027, 14028], [14029, 1708, 8], [14], [14030, 14031, 14032, 14033, 14034, 14035], [2], [], [4], [678], [521], [56], [586], [14036, 14037], [569], [1060], [14038], [], [14039], [14040], [2033], [14041], [10, 152], [5], [14042], [571, 14043, 14044], [], [386], [287], [], [], [178, 2177], [], [14045], [], [14046, 14047], [4], [11], [14048], [], [], [159], [14049, 250, 14050], [], [], [32], [], [3], [14051], [14052, 14053], [306], [], [1853], [], [41], [14054, 14055], [60, 14056], [56], [14057], [], [135, 275, 15], [17], [14058], [31, 14059, 14060], [2017, 1906, 346, 14061, 217, 14062, 14063], [3], [52], [14064], [2032], [], [53], [39], [], [], [2152], [14065], [], [2061], [14066], [14067], [14068], [14069], [32], [], [], [14070], [], [40], [10, 14071], [1621], [12], [], [], [], [], [211], [14072], [133], [], [14073], [14074, 14075, 14076, 14077], [14078], [14079], [], [14080, 14081, 336, 14082], [14083, 14084, 14085], [], [], [14086], [14087], [14088], [26], [1, 14089], [], [14090], [], [14091], [25], [774], [14092], [14093, 14094], [108, 14095], [], [14096, 14097], [14098], [34], [110], [], [5], [14099], [], [3], [5], [14100, 14101], [], [73], [14102], [], [], [], [], [262], [1390], [14103], [140], [], [14104], [93], [28], [14105], [433], [50], [14106], [14107], [14108], [28], [553], [14109, 119], [], [36], [], [14110], [6, 14111], [14112, 1213, 14113, 2051, 14114], [4], [94], [253], [], [14115], [14116], [1973], [149], [14117, 2164], [14118, 14119], [3], [], [14120], [777], [27], [], [34], [14121], [92], [14122], [46], [], [14123, 14124, 14125], [], [], [14126, 14127], [], [2], [14128], [1713], [14129, 14130, 14131], [1759, 14132], [14133], [14134], [761], [14135], [], [14136, 14137], [14138], [13], [14139], [14], [14140], [14141, 14142], [912, 14143], [432], [14144, 14145], [14146], [], [], [296], [40], [14147], [14148], [14149], [81, 14150, 14151, 18], [14152], [], [27], [], [14153], [2178], [14154], [], [19, 21], [563, 14155], [1676], [], [39], [14156], [3], [14157], [14158], [14159], [20], [1060, 14160], [14161], [14162, 14163, 14164, 14165], [14166], [95], [943], [14167], [337, 10, 14168], [14169], [], [14170], [11], [14171, 14172, 7], [14173], [1056], [4], [14174], [14175, 172], [], [14176], [145], [2179], [41], [14177], [433], [22], [701], [5], [56], [8], [14178], [], [2180], [3], [141], [12], [], [14179, 14180, 81], [14181], [6, 14182], [], [14183], [14184], [14185], [], [14186], [14187], [97], [36], [14188], [14189], [14190], [], [14191, 14192], [14193, 14194, 1269, 14195], [170], [1130], [54], [14196], [900, 14197], [], [37], [14198, 14199], [14200], [], [], [14201], [399], [82, 14202], [68], [], [687], [308], [14203, 220], [8], [], [1125, 14204, 100, 14205], [], [14206, 14207], [207], [1347], [14208, 14209], [14210, 14211, 14212], [], [41], [14213], [107], [], [14214], [], [225, 40], [52], [55], [], [14215], [2], [2181, 940, 2181, 14216], [14217], [1218], [532, 1235], [14218, 67], [548, 713], [], [14219, 181], [14220, 14221], [11], [84], [], [14222], [30], [], [14223, 1939, 59], [], [61, 14224], [256], [14225, 1934, 1, 175], [], [1054], [], [1299], [], [247], [14226, 14227, 2166], [5], [14], [167], [14228], [48], [14229], [14], [], [38], [], [9, 196], [14230], [14231], [299], [14232], [14233], [60, 14234], [14235, 1694, 14236, 62], [14237, 14238], [], [], [], [14239], [14240], [14241], [14242], [1185], [1089, 14243, 358, 14244], [617, 14245, 202], [], [14246], [14247], [314, 14248, 88, 14249, 14250], [4], [102, 213, 2040, 14251], [14252], [528], [449], [4], [132], [14253], [76], [14254], [367], [425, 1023, 14255, 14256, 14257], [], [28], [14258, 271, 958, 2182, 14259], [], [346, 420, 14260], [14261], [177], [6, 14262, 59], [14263], [19, 21], [14264], [], [14265], [], [], [14266], [], [], [], [151], [126], [38], [14267], [20], [], [], [11], [1478], [], [14268, 14269], [14270], [14271], [14272], [], [], [135, 14273, 14274], [14275], [14276], [], [106, 14277], [45, 14278], [], [14279], [14280, 14281], [14282], [], [], [14283], [14284, 14285], [138], [14286, 14287], [470], [186], [14288, 71], [14289], [10, 14290, 14291], [48, 266, 1580, 14292], [1130], [8], [], [14293, 14294, 14295, 14296, 393], [657], [1796], [14297, 31], [1059], [2099, 14298], [14299], [14300, 23], [], [], [14301, 1929], [250], [], [], [95], [], [164], [14302], [425, 14303], [], [], [14304], [], [25], [51, 14305, 14306, 1010, 14307, 14308, 14309], [], [11], [4], [], [440, 14310, 14311], [14312, 1494], [14313], [14314], [2], [92], [4], [], [], [14315], [69], [14316], [813], [14317], [], [], [388], [410], [], [865], [14318], [], [], [14319, 14320], [], [14321, 14322], [14323], [14324, 1, 918, 153, 174], [], [14325, 14326], [14327, 423], [14328], [66], [2169], [], [14329, 14330, 14331], [14332], [658], [], [14333], [14334, 1], [2], [], [14335, 14336], [222], [18], [29], [14337], [14338], [29], [], [2], [], [14339], [895], [], [], [154, 14340, 16, 14341, 14342], [6, 14343], [2], [14344], [14345], [3], [14346], [4], [14347], [14348], [1341], [1570, 206, 14349, 14350, 629, 14351, 1062], [14352, 14353], [19, 21], [14354], [381], [14355, 14356, 14357], [46], [578], [14358, 14359, 14360], [], [14361], [], [14362, 14363, 14364], [147, 14365], [6, 2183], [14366], [14367], [14368, 14369], [14370], [14371, 14372], [7, 223], [14373, 14374], [], [14375], [], [], [2184, 2185], [58, 14376, 14377, 2062, 14378], [1876], [19, 14379], [48, 2186], [1535], [14380, 14381], [], [36], [14382, 332], [14383], [], [74], [3], [14384], [], [64], [], [11, 96], [14385], [89, 14386], [14387], [1015], [14388], [], [2], [], [13], [514, 14389], [], [14390], [], [1, 14391], [993, 14392], [437], [151], [14393], [], [2187], [346, 14394], [14395], [17, 22, 14396, 14397, 14398, 14399], [], [5], [1823, 14400], [36], [14401], [14402, 14403], [], [97], [14404], [14405], [14406], [], [78], [328], [916], [277], [14407], [507], [14408, 495, 812], [14409], [1, 196], [14410, 14411, 14412], [14413, 123, 126, 14414, 398, 14415], [71, 14416, 14417], [], [304], [5], [736], [9, 14418], [14419], [14420, 1, 14421], [24], [14422], [14423, 14424], [153, 2, 14425], [], [14426], [], [14427], [14428], [14429, 14430], [14431], [11], [], [55], [], [14432], [], [14433, 18, 14434], [], [14435], [], [], [14436], [57], [8], [209, 14437], [4], [986], [], [14438, 14439], [14440], [11], [22], [14441], [14442], [58, 14443], [], [13], [14444, 14445], [14446], [14447], [12], [14448, 14449], [14450, 14451], [14452, 14453], [], [12], [2], [], [14454], [14455], [], [14456, 984], [12], [14457, 2151], [], [1085], [], [14458], [2020], [1, 14459], [141], [719], [35, 1021], [13], [14460], [], [19, 21], [144], [14461, 14462], [], [1106], [], [], [5], [6], [73], [12], [516], [753], [14463, 80, 14464, 14465, 671, 14466], [7, 223, 14467], [53], [1409], [40], [14468], [], [453], [14469], [14470], [630, 136], [12], [37, 23, 14471], [1, 14472], [11], [14473], [756, 14474], [1, 14475], [14476], [2188], [], [14477, 6, 14478], [414], [14479, 14480, 100], [1466], [168], [185], [], [13], [14481, 14482], [5], [29], [14483], [14484], [], [], [14485, 1190], [8], [14486], [14487], [1861], [14488], [], [2173], [242, 14489], [116, 14490], [8], [], [14491], [216], [14492], [14493], [8], [], [1020], [123], [639, 109, 14494], [6, 14495], [14496, 14497, 14498], [101, 199, 6], [5], [142], [14499], [331], [14500], [14501], [12], [14502, 290, 14503], [14504], [14505], [31, 14506], [], [14507, 14508], [755], [73], [14509], [14510], [110], [120], [16, 14511], [], [570], [14512, 59], [], [14513, 14514, 14515], [], [], [14516], [14517, 14518], [], [14519, 14520], [], [30], [285], [], [14521], [], [155], [4], [], [14522], [2179, 14523, 696], [92], [28], [14524], [139, 14525, 14526], [], [29], [], [14527, 14528], [153, 174], [14529, 14530], [45], [4], [17], [14531], [], [141], [14532, 14533, 14534], [14535], [], [2144], [111], [17, 14536, 183, 14537], [14538], [501], [14539, 687], [], [14540, 257], [], [13], [14541], [14542], [422], [14543], [930], [8], [148], [], [61], [19, 1702], [2], [14544], [14545, 14546, 14547], [473, 14548], [14549, 14550], [], [1408], [52], [5], [14551], [7], [1624, 14552, 14553], [], [2189, 60, 2137], [], [14554], [85], [32], [14555, 14556], [], [14557], [33], [1999, 60, 14558], [14559], [27], [14560, 14561], [14562, 14563], [26, 14564, 14565], [2069], [], [], [], [14566], [14567, 332, 1895], [45, 14568, 45], [758, 14569], [57], [], [14570, 1108], [14571], [703], [], [14], [14572, 14573], [14574, 395], [], [4], [97], [262, 353], [3], [], [43], [], [], [14575], [], [305], [4], [14576], [14577], [244], [14578], [12], [57], [14579, 14580], [7], [279], [14581], [14582, 14583, 147, 2190, 14584, 14585], [621], [132], [], [1122], [], [234], [24], [], [], [35], [32], [], [], [14586], [4], [25], [164], [2024], [14587, 14588], [14589], [719], [], [14590], [132], [], [562], [27, 2191, 271, 2071, 1491, 1, 400], [71, 14591, 14592, 14593, 272], [13], [84], [], [14594, 14595, 14596], [1684], [1, 1, 1879, 14597], [3], [], [58, 14598, 14599, 119, 14600, 14601], [250], [14602, 14603], [14604], [6], [14605, 14606], [14607, 14608], [], [], [], [14609, 14610], [14611], [], [2192], [14612], [739], [14613], [268], [14614, 14615], [140], [12], [2], [14616], [14617], [48], [14618], [380], [14619, 6, 14620], [193], [30], [], [14621], [9, 14622], [79], [], [14623], [821], [14624, 14625], [343], [], [261, 370], [], [], [1139], [14626], [374, 470], [14627, 1, 14628], [547], [570, 27, 182, 6], [14629, 313], [14630], [1088, 1140, 122], [985], [], [554, 14631], [58, 1070], [2193], [], [], [], [522], [3], [14632], [1104], [], [1596, 10, 14633, 958], [14634], [9, 14635], [336, 465, 14636], [387], [14637], [], [36], [14638, 14639], [77], [14640], [1, 1811, 14641, 421, 16], [58, 18], [9, 14642], [], [19, 21], [14643], [35], [14644], [154, 14645], [163, 14646, 17, 14647], [14648, 14649], [14650], [14651], [14652, 752], [32], [14653], [14654], [2028], [14655, 14656, 14657], [], [14658], [14659, 14660, 14661], [14662], [14663, 14664], [14665, 14666], [14667], [], [34], [1945, 14668, 14669, 14670], [14671], [760, 23, 2077, 14672, 14673], [], [14674], [14675], [], [14676], [1757], [13], [3], [14677, 1335, 14678], [], [14679, 1, 14680], [32], [14681], [17], [14682], [7], [3], [114], [], [4], [14683, 14684, 14685, 14686], [], [], [14687], [], [14688], [14689], [14690], [14691], [], [14692], [767], [492], [14693], [14694], [14695], [19, 21], [], [], [], [14696, 14697], [5], [1387, 416, 14698, 65, 975], [23], [14699], [369], [373, 14700, 639], [14701], [1046], [9], [2014], [54], [14702], [134], [14703, 14704], [2], [], [3], [], [], [], [156], [], [14705], [14706], [14707], [1, 318], [], [14708, 63], [1253], [3], [45], [14709], [14710, 14711, 16, 14712], [14713], [14714, 14715, 14716, 14717, 14718], [], [14719], [], [360], [], [], [], [14720], [2194], [1100, 14721], [14722], [14723, 551], [], [14724], [14725], [1107, 1107, 580], [180, 14726], [2041, 14727, 14728], [70], [12], [14729], [14730, 775], [14731], [85], [14732, 14733, 616], [14734], [73], [3], [14735], [93], [], [14736], [14737, 14738, 14739, 14740], [], [2], [5], [14741], [14742], [39], [14743], [2], [14744], [22], [], [], [], [58], [2192], [14745], [14746], [14747], [12], [204], [55], [], [], [], [14748, 566], [49], [], [1219], [30, 14749], [14750], [1001], [11], [19, 21, 14751], [14752], [203], [9, 14753], [148], [1563], [3], [], [14754, 14755], [431, 131], [768, 14756], [52], [1007], [14757], [14758], [14759, 14760, 14761], [], [3], [], [], [14762, 14763], [977], [33], [], [2], [14764], [1337], [46], [14765], [4], [], [149], [14766, 14767], [14768, 14769, 14770, 14771, 14772], [542], [663], [14773], [736], [11], [14774], [2], [14775, 26, 14776, 14777], [], [14778, 14779, 14780, 14781], [], [], [], [165, 86], [14782, 14783], [409, 14784, 1619, 14785], [], [], [14786], [325], [2108], [14787, 14788, 14789, 14790, 785], [14791], [], [14792, 14793], [], [14794], [], [14795, 14796], [755], [], [469], [22], [], [14797], [14798], [2039], [14799, 18, 6], [], [2190, 14800, 14801, 14802, 14803], [], [], [], [], [1359, 14804, 2195, 14805], [11], [], [2196, 14806], [14807], [14808], [14809], [47], [133], [14810, 171, 14811, 779], [14812], [359], [750], [808], [1188], [65, 116, 264], [14813], [14814], [160], [], [2196, 14815], [], [14816], [77, 72], [14817, 14818, 14819], [], [11], [432], [2197, 785], [1666], [], [78], [], [15, 14820], [263], [29], [], [18], [14821], [631], [], [14822], [5], [], [14823], [14824], [14825], [], [14826, 416, 2086, 1028], [], [14827], [14828], [14829], [14830], [766], [], [50], [1704], [], [14831], [2198, 14832], [14833], [4], [], [1105], [], [], [66], [14834, 14835, 131], [167], [28], [14836, 14837], [13], [], [], [1840], [], [14838], [], [14839], [14840, 14841, 14842], [14843, 14844], [], [72], [], [], [108], [], [], [84], [954, 261], [], [14845], [14846, 14847], [14848, 113], [1927], [2], [12], [974], [14849, 14850], [14851], [14852, 14853], [14854], [11], [14855], [58], [22], [349], [], [1827], [14856, 14857, 88, 14858, 14859, 14860, 14861], [57], [], [14862], [729, 14863, 406, 14864, 762, 14865], [], [19, 21], [293], [29], [], [14866, 14867, 14868], [], [1822], [], [14869, 14870], [], [447], [14871], [], [], [14872, 14873], [14874], [32], [254], [14875], [], [9, 196], [14876], [836], [26], [14877], [], [428, 14878], [], [], [57], [14879, 14880], [14881], [2], [14882, 143], [97], [14883], [], [653], [14884, 100, 14885], [14886, 14887, 14888], [14889], [2199], [], [511], [], [14890], [], [14891], [4], [], [], [], [], [4], [248, 14892], [14893], [14894], [14895, 14896, 14897, 283, 14898], [191], [14], [1], [6, 37], [2059], [12], [5], [20], [605, 14899, 101], [1086], [45, 14900], [14901, 14902], [], [14903, 14904], [14905], [14906], [349, 652, 14907], [14908, 14], [14909], [3], [], [], [66], [], [14910], [14911], [14912], [147, 14913], [14914], [397], [], [14915], [644], [1855], [14916], [14917], [14918, 14919], [4], [520, 14920, 14921, 14922], [14923, 14924], [2200], [14925, 877], [], [], [14926], [], [14927], [2201], [212], [], [], [16, 625], [57], [14928, 1892, 14929], [23, 194, 14930, 420, 14931, 420, 14932, 14933, 14934, 579], [14935, 2174, 14936], [161], [114], [], [], [14937], [], [292], [15, 267], [2], [9, 14938], [2], [356], [52], [14939, 14940], [375, 14941, 2034, 1534, 14942], [806, 21], [1141, 14943, 14944, 14945], [14946], [14947], [14948], [], [], [14949, 14950], [14951, 2202, 14952], [42], [14953, 2183], [], [2046, 2047, 2048, 14954, 907], [29], [], [14955], [88, 371], [762, 14956], [14957], [177], [204], [139], [14958], [], [112], [14959], [14960], [], [14961], [1661], [], [14962], [14963, 14964], [2165, 794, 14965], [], [97], [14966], [22], [415], [399], [8], [], [], [66], [14967], [1506], [14968], [14969], [], [14970, 312, 14971], [], [], [14972, 14973], [14974], [2016, 343], [], [], [14975], [], [14976], [375], [106, 1970, 14977], [14978, 999], [14979, 59, 14980], [4], [14981], [1245], [8], [12], [269], [], [14982, 380, 3, 14983], [14984, 143], [462], [14985, 14986], [14987], [695], [1, 143, 1], [14988], [], [19, 21], [195], [8], [14989], [352], [14990], [2103], [8], [], [], [], [], [], [7, 278, 14991, 417], [7, 14992], [], [14993], [14994], [], [86], [], [43], [749], [], [14995, 724], [14996], [252, 14997], [49], [14998, 14999], [15000], [15001], [15002, 15003, 571, 15004, 15005], [327], [1991], [356], [548, 15006], [83], [], [17], [1], [4], [15007], [], [9, 15008], [15009], [], [10, 1824], [], [15010], [15011, 15012], [251], [15013], [], [14], [566], [15014, 744], [15015], [37, 15016], [372], [], [49], [], [15017, 15018], [], [20], [948], [], [17, 193, 15019], [15020, 23, 15021, 15022, 17], [191], [15023, 15024], [67], [22], [15025], [15026], [], [246], [57], [53], [779], [15027, 15028], [27, 15029], [331], [15030], [], [686, 31, 15031, 127], [71, 65], [], [15032, 66], [28], [], [15033], [], [15034, 15035, 16], [15036, 15037, 15038], [15039, 82, 15040, 87, 127, 903], [1089], [15041], [15042], [15043], [17], [15044], [15045], [120], [15046], [15047], [485], [15048], [15049, 1651], [57], [15050], [15051, 15052, 15053, 15054], [5], [70], [15055], [15056], [1124], [8], [909], [11], [197], [15057], [14], [796], [15058, 18, 1431, 15059], [2203], [], [15060, 15061, 15062, 1117, 15063, 15064], [15065], [15066], [15067, 2122], [15068, 15069, 15070], [], [5], [], [], [15071], [], [73], [15072, 340], [15073], [475, 63, 158], [222], [15074, 15075, 15076], [], [183, 15077, 117, 9, 15078], [15079, 15080, 120, 15081, 15082, 15083], [], [2], [], [433], [], [], [15084], [15085], [431, 1588], [3], [15086], [], [], [15087], [13], [419], [15088, 26], [146], [7, 129], [698, 527], [27], [4], [15089], [627, 15090, 15091, 15092, 15093], [155], [27], [], [15094, 613], [], [8], [15095], [15096, 15097], [15098], [15099], [], [], [925], [7], [335], [2200], [15100], [2], [], [], [], [15101], [15102], [8], [4], [15103], [], [3], [], [349], [], [], [15104], [15105, 389], [], [3], [15106], [507], [72], [15107, 146, 239, 136, 15108, 536, 496], [15109], [11], [15110], [30, 15111, 15112, 15113], [5], [2115], [], [44, 1142], [15114], [2006, 15115, 15116, 15117], [15118, 15119], [], [], [15120], [1], [15121], [140], [], [208], [15, 15122], [18], [2204], [], [], [47], [579], [], [], [], [1095], [227], [15123], [1983], [5], [1], [15124, 45, 45, 237, 15125], [], [40], [], [15126], [15127, 503], [9], [], [15128], [], [15129], [], [412, 15130], [], [20], [1887], [], [13], [], [15131], [15132], [75], [], [15133, 15134], [52], [15135, 15136], [], [15137], [855, 143, 2142], [15138], [], [15139], [], [], [], [15140], [], [1728], [549], [15141], [15142, 15143, 716, 440, 15144], [15145], [182, 1103], [15146, 15147], [15148, 15149, 15150, 15151, 15152, 15153], [2], [7], [], [], [657], [2203, 15154, 15155], [15156, 88], [341], [], [], [15157], [4], [], [], [15158], [15159], [], [], [13], [34], [15160], [15161, 470, 42], [170], [], [157, 15162], [455, 33], [15163, 198], [], [22], [15164], [15165], [149], [39], [194, 643], [], [], [], [36], [26], [15166, 154, 15167], [57], [15168, 316], [20], [1691], [], [], [15169], [15170], [15171, 15172], [], [], [15173], [15174], [91, 15175], [], [15176], [20], [115], [15177, 1829], [438], [15178], [15179], [191], [60, 15180], [93, 9, 15181, 15182, 15183], [], [15184], [15185], [34], [2058, 6, 10, 15186], [15187, 15188], [28], [15189, 15190], [1109], [15191], [], [15192, 15193, 15194, 15195, 15196], [], [], [], [7, 15197], [81], [15198, 15199], [945], [], [], [], [15200], [19, 21, 1377, 15201, 964], [15202, 15203], [183], [], [104], [15204], [4], [1547], [], [], [123], [15205, 15206, 15207, 525], [696], [2], [15208], [5], [170], [956, 741], [15209], [98], [2180], [], [], [15210], [], [20], [], [1601], [15211], [], [15212], [28], [], [115], [19, 21], [2205, 88, 15213, 15214, 15215, 15216, 15217], [4], [15218], [], [12], [15219], [], [11], [163], [42, 15220], [50], [], [], [15221], [1483], [15222], [15223], [244], [], [15224], [15225], [4], [430], [], [97], [15226], [15227, 158, 103], [], [15228, 15229], [], [20], [2], [], [263, 2101], [15230], [28], [188], [296], [4], [15231], [100], [5], [15232], [], [15233], [15234, 15235, 15236, 15237, 15238, 15239, 273, 15240], [303, 15241, 15242], [159], [15243], [], [], [1261], [15244], [], [15245], [], [15246], [], [2089], [], [55], [15247, 15248], [15249, 122], [], [], [15250], [15251, 10], [15252], [5], [282], [3], [2], [15253], [], [111, 35], [1481], [15254, 15255, 79], [], [532, 1450], [15256, 15257], [675], [15258, 15259, 15260], [15261], [15262, 15263], [], [30], [721], [241], [230], [15264], [15265], [15266, 15267], [15268], [15269, 15270], [15271, 1463], [2025], [24], [], [15272], [15273, 1599], [11], [15274, 3, 15275], [2094], [15276, 105, 1559], [15277, 15278], [680], [49], [15279, 15280, 54, 15281, 1545, 852], [281], [15282, 15283, 15284], [507], [65, 480, 15285], [505], [232], [2], [15286], [], [15287, 15288, 15289], [15290, 15291, 947], [15292], [], [15293, 15294, 15295], [112], [15296], [434], [431, 2073], [491], [59], [], [], [15297], [15298, 15299, 6], [3], [1869], [5], [156], [], [], [], [], [37, 15300, 15301], [1207, 15302], [500], [15303, 15304], [16, 220], [], [15305, 1965], [], [15306], [15307], [159], [3], [5], [15308], [], [353, 553], [15309], [379], [7], [10, 15310], [418], [36], [15311], [41], [132], [15312], [197], [], [], [247], [], [15313], [], [182, 15314], [15315], [4], [], [2], [12], [838], [15316], [15317], [15318], [2199], [15319, 15320, 15321, 15322, 30, 1427, 150, 982, 15323], [15324], [], [15325, 15326, 15327], [15328, 9, 15329, 424], [15330], [651, 15331, 18], [1886], [], [15332], [], [15333], [], [], [20], [15334], [4], [], [15335], [15336], [15337], [15338], [15339, 1402], [15340], [11], [], [15341], [16, 15342], [15343, 15344, 693], [3], [15345], [], [17, 15346, 15347, 15348, 15349, 15350], [15351], [288], [903, 15352], [], [154], [15353], [81], [15354], [15355], [15356, 35], [533], [529], [1142], [15357, 15358], [13], [3], [105, 15359, 15360], [15361, 1986, 15362], [15363], [269], [2123], [182], [15364, 2182], [15365], [17, 3, 15366, 6, 15367], [15368], [], [], [15369], [294, 18], [], [445], [], [623], [360], [15370], [180, 15371], [15372, 63, 15373, 15374], [1], [908], [], [15375, 15376], [], [342], [15377], [15378, 15379, 2187], [], [1200, 672, 15380, 392, 17, 15381, 15382, 656], [1, 15383, 15384, 21, 376, 1818, 316], [15385], [15386], [15387], [], [15388], [151], [15389], [281], [1049, 15390], [], [15391], [], [949], [35], [], [3], [15, 15392], [2193], [], [2], [24], [15393], [15394, 1, 15], [269], [361], [], [15395], [46], [15396], [15397], [], [15398, 15399, 8], [15400], [], [2206, 15401, 15402], [15403, 15404], [], [248], [26], [291, 15405], [15406], [15407], [15408], [15409], [334], [366, 40], [30, 15410], [2134], [15411], [15412], [], [15413], [260], [], [], [], [1064, 15414, 15415], [47], [], [1358], [66], [15416], [190, 15417], [15418], [169], [15419], [15420, 15421], [1136], [], [15422], [47], [61, 67], [15423, 37, 15424], [1958], [200], [], [15425], [15426], [10, 15427], [1094], [15428, 16, 15429], [15430, 15431], [15432, 15433], [490], [1, 15434], [18, 15435], [148], [15436, 21], [210, 15437], [15438], [], [15439], [], [], [], [], [], [], [296], [], [], [15440], [2], [15], [15441], [644], [15442], [15443], [], [15444], [119, 15445], [15446, 307, 15447], [15448, 2194, 15449, 564], [72], [], [15450], [15451, 15452, 15, 122], [2207, 15453], [15454], [13], [26], [57], [15455], [], [15456], [15457, 15458], [15459], [15460, 6], [15461], [15462], [2], [15463], [15464, 15465], [15466], [15467], [], [52], [], [15468, 15469, 59, 15470], [15471], [15472], [], [], [], [15473, 15474], [], [1567, 15475], [15476, 15477, 300], [24], [531, 15478], [1963], [56], [1971], [], [1741, 15479], [107], [], [15480], [1032], [], [239], [15481], [], [15482], [], [15483], [15484, 1423, 15485], [2], [15486], [3, 1428, 697], [], [15487], [15488], [], [15489, 15490], [], [15491, 54, 1100, 6], [], [], [15492], [195], [15493, 15494], [], [589, 15495], [612], [15496, 15497, 15498, 15499, 1110], [104], [15500, 15501], [368], [15502], [15503, 280], [14], [], [], [53], [15504], [], [27], [], [15505], [545, 15506], [761], [36], [19, 15507], [2], [15508], [], [15509], [15510], [15511, 15512], [294, 8], [], [15513], [10, 15514], [1279], [15515], [], [], [1770], [1090, 15516], [15517], [1972], [], [15518], [1631], [61], [22], [], [15519], [1515, 15520], [], [], [15521], [], [], [16, 389], [15522, 18], [20], [15523, 15524, 136], [], [29, 29, 29, 80, 15525, 15526, 15527, 15528], [2], [], [], [], [330], [15529], [15530], [15531, 433], [1662], [126, 15532, 15533, 15534], [15535], [15536], [3], [15537], [], [], [15538, 31], [418], [], [28], [15539], [], [15540], [15541], [15542], [], [5], [295], [4], [15543, 15544], [33], [246], [58], [195], [15545], [833], [19, 21], [], [], [], [1137], [], [15546, 15547], [15548], [18, 15549], [5], [], [15550], [242, 1552], [25], [], [15551], [92], [129], [15552, 786], [2], [], [9, 230], [15553, 3], [15554], [15555, 15556], [15557], [15558], [46], [], [15559], [], [], [15560, 15561, 15562], [2208], [], [1426, 15563, 6], [15564], [], [15565], [], [15566, 15567, 15568], [], [15569], [15570], [78], [15571], [15572], [], [15573, 76], [4], [91], [15574], [], [], [23], [15575, 131], [85], [2], [15576], [253], [15577], [], [15578], [16, 15579], [205], [], [], [], [437], [15580, 15581], [15582], [15583, 15584, 567, 15585], [15586], [17], [15587], [411], [], [15588], [309], [759], [15589], [], [15590, 15591, 15592], [], [334, 15593], [2], [15594, 63, 48, 266, 291, 15595, 15596, 30, 15597, 15598, 15599], [33], [2201], [493], [2], [2], [], [15600], [42], [], [22], [20], [568], [15601], [47], [29], [15602, 15603, 15604], [18, 160], [], [1114, 15605], [], [1111], [2121], [2], [15606], [15607, 15608], [242], [15609, 137], [15610, 652, 15611], [16, 15612, 15613], [15614], [4], [15615], [361], [5], [39], [], [11], [15616], [1, 15617], [], [15618], [2078, 2176, 15619, 15620, 185], [2209], [15621, 15622, 15623], [72], [], [], [994, 369], [15624], [36], [15625, 15626, 15], [287], [34], [], [15627], [154], [], [15628], [15629], [970], [], [621], [15630], [921], [], [85], [], [23], [1875], [513], [], [52], [4], [43], [15631], [15632, 15633], [15634], [546], [], [15635, 15636, 2150], [], [], [678, 992, 15637, 6], [], [163], [15638], [], [], [67, 15639], [15640], [], [16, 1646], [15641], [342, 15642, 15643], [1891, 15644, 15645], [1069], [], [34], [15646], [], [15647], [], [15648], [15649], [1, 15650], [15651], [1022], [15652], [], [570, 15653], [15654], [], [682], [480, 122], [15655], [], [], [15656], [201], [], [15657], [271, 15658], [], [15659], [], [15660], [16, 15661, 15662, 15663], [742], [113], [62], [15664], [1788, 15665], [], [], [77, 37], [15666], [26], [], [2147, 15667], [15668], [], [48, 15669], [], [33], [15670, 1], [], [2091], [15671], [89, 15672], [1, 15673], [], [15674, 2210], [463], [], [15675, 15676, 15677, 15678], [359], [15679], [15680, 15681, 15682], [496], [15683, 15684, 15685], [15686], [], [15687, 207], [], [15688], [8], [35], [15689], [241], [15690], [1], [15691], [2], [], [15692], [15693, 522], [15694], [225], [13], [15695, 1808], [26], [], [155], [15696], [15697], [15698, 330], [15699, 9], [15700], [239], [15701, 15702, 15703], [19, 21], [], [40], [8], [15704], [2209], [5], [], [133], [15], [], [15705], [16, 229], [], [], [15706], [337], [84], [5], [347, 15707, 16, 15708, 15709], [144], [15710], [15711, 15712, 15713], [786], [15714], [15715], [84, 15716, 15717, 1], [15718], [15719], [15720], [15721, 800], [15722, 15723, 15724], [15725, 15726], [20], [374], [15727], [219], [12], [12], [213], [53], [], [11], [15728, 15729], [15730, 271, 15731, 15732, 15733], [15734, 15735, 15736], [11], [15737], [], [30, 15738], [], [15739, 15740], [11], [484], [612, 15741, 15742, 1061], [15743, 108], [], [15744], [], [201], [15745, 1, 559, 15746, 15747], [114], [15748], [], [15749, 6], [], [765], [], [15750], [], [], [242, 15751, 1324], [], [656], [2], [15752], [], [15753, 496], [15754], [15755, 15756], [39], [], [], [], [12], [3], [5], [2211], [15757], [], [23], [10, 152, 15758, 15759], [1125, 15760], [34], [], [15761], [303, 15762, 15763], [], [], [], [310, 15764, 15765], [66], [20], [1736], [15766], [94], [], [15767], [15768, 15769, 15770, 300], [15771], [], [170], [472], [49], [15772, 15773, 15774, 15775], [144], [], [15776], [1967], [15777], [], [1801], [15778, 15779, 15780], [66], [70], [], [1271], [], [15781, 15782], [23, 15783], [69, 15784], [3], [39], [3], [5], [28], [], [15785], [15786], [6], [], [15787, 108], [15788, 15789], [15790], [2153], [15791], [], [2], [15792], [15793], [6, 15794], [155], [15795], [], [], [], [189, 15796, 884, 15797], [40], [15798], [], [15799, 15800], [], [170], [15801], [15802, 15803], [], [7], [15804, 15805], [15806], [868], [132], [], [15807], [15808], [142], [15809], [], [], [1429], [15810], [120], [19, 1041], [247], [], [15811], [], [], [171], [15812, 45], [15813], [2148], [], [], [15814], [], [15815], [15816], [1, 15817], [29], [48, 116, 1121], [], [], [3], [], [], [], [], [], [2], [15818], [44, 15819], [67, 15820], [1486, 15821, 15822, 15823], [15824], [], [73], [70], [3], [15825, 15826, 15827], [15], [1, 15828], [16, 15829, 42], [], [237], [15830], [15831], [15832], [195], [15833], [], [4], [15834], [], [239, 96, 136], [15835], [1755, 15836], [441], [15837], [299], [], [768], [890], [], [1170], [15838, 15839], [], [15840], [308], [], [2], [105], [2211], [23], [], [2], [15841], [285], [546], [15842, 9], [15843], [15844], [1087, 3], [7], [2], [8], [], [132], [15845, 219, 15846, 113, 15847], [84], [], [], [35], [], [2088], [15848, 101], [], [15849], [15850, 16, 957, 15851], [15852], [15853], [1448], [], [], [2205], [34], [9, 233], [463], [], [1], [15854, 373], [15855], [980, 15856, 1183], [], [], [15857, 1672], [2], [15858, 569, 1647, 15859], [15860], [47], [1611], [15861], [], [], [15862], [15863, 15864, 392], [15865, 485], [15866], [55], [], [1872], [15867, 15868, 218], [84], [15869], [7, 15870], [381], [15871], [392], [15872], [15873, 15874, 446, 1], [], [15875], [], [145], [8], [2], [288], [43], [15876], [], [15877], [314, 665], [3], [], [15878], [15879], [1582], [15880, 15881], [], [], [], [49], [124], [15882], [4], [15883], [34], [15884, 15885, 18, 15886, 15887, 48, 15888], [137, 15889], [], [], [], [1], [], [15890], [], [15891, 15892, 15893], [], [], [15894], [], [], [15895], [15896], [15897], [15898, 15899], [9, 2110], [4], [15900, 2145], [15901], [], [15902], [15903], [15904], [2036], [5], [15905, 63], [15906], [15907], [], [15908], [], [128], [337, 15909, 87], [15910, 15911], [], [], [169], [39], [12], [], [719], [142], [22], [], [], [1584], [15912, 1901, 15913, 588], [320, 447, 15914], [749], [], [], [15915], [10, 15916, 1523], [12], [15917, 1036], [226], [], [15918], [70], [], [15919], [195], [15920], [15921], [15922], [], [53], [15, 137], [15923], [], [288], [1141, 15924, 15925, 15926], [15927], [], [], [15928, 51, 15929, 15930, 15931], [15932, 15933, 15934, 15935], [208, 123], [15936, 157, 15937, 15938, 2189], [10, 15939], [298], [15940], [6, 15941, 7, 15942], [], [15943], [15944, 179, 1966], [756], [15945], [176], [361], [], [29], [15946, 203], [53], [], [75], [], [], [13], [256], [85], [20], [5], [35], [15947], [15948], [15949, 424], [], [15950, 15951], [15952, 15953], [127], [19, 15954, 15955, 15956], [], [], [15957], [92], [112], [15958], [92], [15959, 1328], [], [], [], [], [15960], [15961], [15962, 15963], [51], [188], [1, 1378, 10, 643, 91, 1379], [15964, 134], [18, 109, 15965], [], [7], [15966, 1764], [15967], [], [], [15968], [15969, 15970, 15971], [2113, 94, 15972], [15973], [89], [], [], [], [15974], [95], [], [15975], [15976], [112], [34], [15977], [], [15978], [15979, 15980, 136, 136, 15981, 136, 136], [518], [], [], [], [447, 15982], [61], [15983], [14], [15984], [], [1933], [], [584], [], [15985, 15986], [], [15987], [15988], [], [745], [758], [13], [15989], [], [1141], [15990], [15991, 398], [15992, 15993], [919], [], [], [599], [15994], [15995], [15996, 15997], [8], [15998, 15999], [16000], [112], [16001], [], [305], [16002], [], [850], [], [15, 16003, 16004, 16005], [], [2212, 814, 16006], [16007], [16008, 16009], [2198], [12], [666, 16010, 263], [16011], [79], [16012, 872], [16013], [16014], [16015], [2204], [], [41], [979, 16016], [568], [], [16017], [16018, 16019, 1113], [], [16020], [], [73], [], [], [273], [], [], [432], [], [], [5], [9, 30], [], [], [17, 16021, 16022], [16023, 16024], [16025], [2], [], [7], [16026], [12], [16027], [], [], [147, 16028, 16029, 16030], [], [1127], [2140], [], [16031], [], [16032], [16033, 16034], [16035], [1664], [4], [16036], [10], [16037], [16038], [16039], [37], [12], [1763], [], [14], [99], [58, 128, 16040], [16041], [], [16042, 2213, 2213, 16043], [58, 17, 105, 16044, 17], [29], [7, 446], [996, 16045], [1, 1024, 16046], [16047], [25], [16048], [1077], [155], [16049], [2], [39], [968], [103], [], [16050], [16051], [], [48], [16052], [], [16053], [20], [], [8], [135, 16054, 2177], [1722], [], [52], [], [], [268], [15], [149, 16055], [16056, 765, 1349, 16057], [], [39], [8], [16058], [], [16059], [], [16060], [], [16061, 16062], [38], [16063, 16064, 16065, 16066], [16067], [8], [873], [28], [2], [86, 16068], [], [46], [], [10, 121], [204], [3], [16069], [372], [16070, 147], [9], [60], [16071], [187], [], [961, 16072, 16073], [37, 16074], [204], [16075], [16076, 16077, 16078, 611], [16079], [], [77, 103], [16080], [5], [7, 16081], [281], [6], [2128, 16082, 44, 1], [], [16083], [], [], [16084], [], [16085], [16086], [4], [10, 1781], [16087, 16088], [1058, 88], [], [16089, 16090], [91], [114], [], [1935], [33], [16091], [], [], [211], [1, 16092], [], [], [16093, 16094, 2214, 393, 16095], [16096], [16097, 209], [16098], [704, 175], [], [16099, 16100, 69, 16101], [79], [], [12], [2215, 65, 2215], [], [16102], [16103], [1], [], [16104, 16105], [16106, 1321], [], [16107, 16108], [1589], [], [86], [26], [16109, 16110], [], [1, 16111], [16112], [16113], [16114], [47], [], [11], [], [16115], [], [83], [16116], [1905], [16117], [], [], [16118, 16119, 16120], [23, 16121, 1889], [16122], [], [24], [18, 16123, 16124], [105, 1140, 16125, 6], [], [1, 16126, 16127, 16128], [16129], [], [1142, 1964], [34], [16130, 171], [], [16131], [16132], [], [], [46], [], [1791], [], [25], [], [16133, 16134, 16135], [16136], [303], [], [16137], [], [16138, 16139, 2178], [435], [33], [60, 60, 16140, 172, 16141], [8, 1740, 6, 16142, 16143], [16144, 103], [159], [1026, 16145, 1381, 429], [1521], [16146], [2216], [], [], [17, 16147, 16148], [16149], [16150, 102], [410], [16151], [16152, 16153, 16154, 16155], [12], [2105], [], [632, 16156, 16157], [5], [2208], [16158, 16159], [3, 16160, 218, 6], [4], [19, 21], [16161], [16162, 16163, 71, 6], [16164], [41], [4], [16165, 59], [], [46], [16166, 16167, 16168, 569, 50], [1019], [3], [16169], [15], [338], [], [], [16170, 16171], [16172], [], [16173], [16174], [], [16175], [15, 16176], [], [272], [13], [16177], [16178, 106, 60], [16179], [16180], [16181], [], [540, 16182], [16183], [221], [], [16184, 16185], [], [1388], [], [932, 16186], [], [336, 271], [5], [70], [2], [16187, 16188, 6], [16189], [47, 2055, 16190, 16191], [], [16192, 16193, 153, 174], [16194], [], [308], [], [], [81, 759, 152, 16195], [16196, 474], [16197], [], [61], [], [16198], [25], [], [], [143], [226], [16199], [99], [573, 7, 16200, 16201], [78], [], [1071, 108, 108, 108], [165, 135], [1138, 16202], [], [22, 1745, 16203, 168], [16204, 176], [16205], [4], [], [662], [16206], [16207, 171, 225, 40], [5], [28], [479, 16208], [2155], [42, 16209], [6], [105], [167], [16210], [11], [], [], [16, 16211, 16212, 15], [], [54], [], [], [], [], [28], [341], [16213], [14], [], [17, 554, 16214, 16215], [434], [], [], [1773], [], [16216], [1625], [16217], [16218], [], [453], [1, 538, 171], [138], [16219], [], [530, 16220], [8], [71, 9, 16221], [151], [16222, 16223], [31, 16224], [11], [], [16225], [], [2168], [16226, 16227, 16228, 16229], [16230, 2207, 540, 16231], [16232, 16233, 16234], [16235], [16236, 16237, 324, 16238], [481], [16239], [16240], [29], [], [372], [16241], [], [16242], [163], [16243, 16244, 6], [413, 16245], [], [], [245, 16246, 16247, 16248], [32], [815, 16249], [253], [], [18], [9, 33], [581], [16250], [16251], [83], [], [16252], [18, 527], [16253], [16254], [15], [11], [16255], [16256], [], [65, 562], [16257], [2], [1, 16, 16258, 113], [1045], [46], [60, 16259], [], [1257], [16260], [488], [16261], [], [2195], [], [16262], [16263], [92], [16264], [620], [104], [16265], [], [16266, 268, 15, 16267, 691], [16268, 48, 117, 117, 16269], [16270, 16271], [324], [], [], [16272], [16273], [1252], [2053], [113, 16274], [], [2170, 746, 31, 102], [], [1139], [], [93], [9, 938, 72], [], [58, 16275], [773], [50], [], [], [254], [580, 390], [16276, 2000, 16277], [205], [], [1688], [16278, 16279], [16280], [1013], [11], [460], [16281], [3], [213], [6], [811], [18, 121], [16282], [13], [], [16283, 42], [], [16284], [16285], [204], [], [16286], [], [], [22], [], [2172], [708], [1, 16287, 143], [112], [22], [12], [], [85], [3], [], [16288, 485], [16289], [16290], [10, 16291, 16292], [16293], [30], [], [], [279, 279], [29], [16294, 1459], [1133], [], [77, 16295], [16296], [54], [270], [], [82, 16297], [16298], [181], [], [], [], [159], [16299], [214], [383], [369], [16300, 51], [16301, 16302, 567, 290], [], [16303], [582], [16304], [2138], [16305], [16306], [243], [12], [2217], [], [16307, 16308], [1134], [16309], [45, 38], [169], [16310, 16311], [377, 16312, 16313, 16314, 16315, 4, 16316, 802], [16317], [1], [203], [27], [], [17, 16318, 295], [104], [1027, 16319], [1131, 16320], [5], [], [54], [23, 16321, 117, 1012], [], [1140, 1088], [563, 1, 16322], [], [16323], [16324], [246], [16325, 16326], [], [43], [328], [16327, 16328], [16329], [16, 1679], [], [], [127, 285, 16330, 1, 16331], [16332], [16333], [], [], [129], [61], [505], [], [1180], [225, 115], [16334, 16335], [], [16336], [16337], [1949], [78], [429], [16338], [89, 753, 16339, 650, 9, 16340], [16341], [16342, 16343], [16344], [16345], [117, 1], [32], [16346], [16347], [16348], [46], [16349], [], [], [18, 1214], [16350, 16351], [5], [16352, 19, 21], [], [5], [7, 16353], [16354], [16355], [16356], [636], [2111], [2], [16357], [], [16358], [], [], [16359], [287], [], [135, 16360], [], [16361], [], [], [317], [16362, 16363], [], [1230], [16364], [2218], [], [], [16365], [], [], [2175], [33], [82, 849], [112], [16366, 16367, 16368, 16369], [16370], [16371], [1171], [142], [130, 16372], [], [16373, 509], [16374], [16375], [2146], [777], [], [54], [], [16376], [16377], [6, 16378], [16379], [364], [1015], [16380], [72, 16381], [992, 16382, 367, 16383, 16384], [260], [560], [], [22], [], [61, 16385], [], [16], [747, 16386, 16387, 16388], [], [16389], [], [], [16390], [], [16391], [16392], [2216], [], [16393], [76], [16394], [25], [28], [16395, 1526, 16396], [123], [], [387], [684, 1903, 16397, 684, 1834], [286], [158, 16398], [16399], [], [399], [15, 1831], [16400, 16401], [16402], [], [], [37, 2219, 122], [16403, 1080], [6, 16404], [], [16405, 7], [853], [1959], [16406], [16407], [], [16408], [16409], [16410, 100], [16411, 16412], [16413], [16414, 16415], [16416, 16417], [2082], [], [2], [16418], [], [16419], [16420, 2220], [16421], [342], [26], [77, 16422], [], [16], [], [2221], [20], [16423], [46], [16424], [16425, 16426, 9, 16427, 16428], [7, 16429], [1, 2206, 580, 16430, 16431, 16432, 215], [22], [1445], [16433, 101], [4], [111], [16434], [78], [16435], [], [29], [], [], [34], [16436], [], [33], [1976], [3], [16437], [11], [49], [1996], [16438, 16439], [], [16440, 38], [], [], [16441, 16442], [16443, 16444], [16445], [16446], [], [16447], [120], [16448], [16449], [17, 16450, 440], [], [49], [16451], [73], [1537], [], [], [54], [16452], [16453, 16454], [78], [170], [], [], [169], [], [], [38], [198, 16455], [16456], [297], [], [1120, 16457, 16458, 16459, 428, 16460], [], [46], [4], [16461], [187, 16462], [], [], [], [14], [95], [67], [2184, 2185], [16463], [16464, 16465, 16466, 16467], [16468, 1242], [16469, 16470, 16471, 16472], [16473, 16474], [16475], [16476, 16477], [16478], [], [3], [11], [16479, 3], [16480], [30], [16481], [4], [2], [937], [16482, 16483, 16484, 1209, 16485], [2], [], [40], [24], [131], [103], [953], [16486], [16487], [], [], [16488], [16489], [2075, 16490, 235, 16491, 333], [12], [], [6], [], [], [16492, 16493], [183, 16494, 15, 711, 16495], [84, 15, 16496, 424, 16497], [16498], [16499], [331], [94], [16500], [16501], [398], [16502, 1004], [2217], [16503], [], [139], [7], [91], [16504], [712], [16505, 2222, 119, 16506], [64], [16507], [16508, 16509, 2158], [205], [], [16510], [], [16511], [16512, 48, 16513], [], [16514, 16515, 571], [16516], [28], [], [65], [1118], [398], [156], [], [16517, 766], [16518], [474, 16519], [25], [2], [25], [16520], [87, 16521, 16522, 105], [], [16523], [16524, 263, 16525, 16526, 16527, 98], [16528, 16529], [16530, 79], [16531], [780, 9], [1, 16532, 16533, 16534], [], [558], [46], [1731], [16535], [16536], [55, 16537], [203], [16538, 16539], [16540], [], [125], [16541], [9, 233], [], [28], [], [16542], [], [], [2], [1108], [], [2096], [378], [16543], [16544], [16545], [16546], [16547], [455, 233], [], [], [262], [], [2161], [18, 16548, 16549], [], [16550], [], [359], [16551], [16552, 632, 16553, 16554], [448], [374, 16555], [], [737], [], [193], [], [16556], [243], [16557], [16558], [], [7], [16559, 16560], [16561], [], [404], [12], [3], [437], [991, 9], [2], [16562], [1120, 16563, 16564, 16565, 16566, 16567, 16568], [], [2102], [16569], [997], [34], [71, 16570, 16571], [], [16572], [], [16573], [2127, 668], [1, 16574], [], [1592], [16575, 1048], [16576], [], [8], [], [29], [145], [37, 51, 1115, 80, 16577], [37, 42, 16578, 16579], [], [16580, 16581, 534], [], [], [], [16582], [16583], [16584], [], [], [1473], [191], [28], [514, 16585, 2160], [24], [], [16586], [16, 16587], [16588, 16589, 128, 16590], [], [16591], [261], [564, 16592, 16593], [], [159], [81, 131], [17, 16594, 17], [16595], [87], [200], [16596], [53], [], [16597, 96, 16598], [], [16599], [16600], [127, 16601], [16602], [16603, 1], [430], [], [], [27], [], [1670], [16604], [16605], [], [], [], [16606], [16607, 16608], [], [], [19, 21], [12], [16609], [], [916], [1, 16610], [32], [378], [3], [8], [16611], [2], [53], [81, 16612], [16613, 173, 16614, 394], [], [9, 14], [205, 16615, 150], [], [729], [], [], [547], [], [16616, 16617], [16618, 44, 16619], [1043], [16620], [16621], [], [16622], [28], [], [37], [], [16623], [728], [16624, 16625], [], [553], [16626], [16627], [95], [28], [78], [], [], [], [760], [2], [227], [93], [1132, 16628], [16629], [16630], [75], [16631], [16632], [], [184], [16633], [125], [16634, 16635], [16636, 2188, 16637, 16638], [1137], [], [750], [40], [14], [1768], [16639], [], [16640, 16641], [], [16642, 59], [], [14], [], [], [], [85], [16643, 16644, 2219], [16645], [215, 67, 16646, 477], [], [16647], [16648], [], [16649], [], [], [160], [2218], [], [16650, 1776], [16651], [16652], [16653, 2202, 17, 16654], [], [2], [764], [18, 395], [16655], [1039], [], [50], [3], [], [], [16656], [16657], [10, 16658], [11], [2222], [2], [], [9, 16659, 1044, 257], [], [10], [], [], [], [], [16660], [16661], [16662], [1], [2], [], [5], [16663], [861], [], [16], [10], [124], [], [], [], [], [16664], [71, 134], [16665], [16666], [821], [234], [16667], [1919], [], [76], [32], [5], [16668], [16669], [265], [549, 40], [16670], [], [670], [], [16671, 16672, 16673], [16674, 16675, 94, 79, 16676, 16677], [49], [8], [], [902], [521], [457], [16678], [16679], [143, 6], [16680], [33], [16681], [6], [16682], [], [16683, 59, 16684], [16685], [], [1629], [16686], [16687], [], [16688], [], [5], [586], [16689], [20], [16690], [16691], [1968], [6], [16692], [], [28], [], [1, 16693, 16694], [24], [], [16695, 16696, 16697], [16698, 16699], [], [767], [16700], [16701], [16702], [], [], [16703], [], [866], [311], [], [8], [], [16704], [2021], [45, 81, 80, 16705], [99], [8], [16706], [], [16707, 48], [16708], [], [16709, 2186], [94], [2], [], [], [16710, 16711], [], [], [16712, 16, 16713], [16714], [], [1106], [565], [], [16715, 16716, 1370, 115], [16717], [16718], [16719], [16720], [16721], [16722, 16723], [], [16724], [876], [19, 16725], [16726], [], [16727], [], [16728, 16729, 16730, 16731], [16, 16732], [198], [], [27], [1057, 16733, 16734], [33], [293], [16735, 329], [16736, 16737], [], [1805], [181, 16738], [16739], [], [847], [16740], [], [], [16741], [98], [197], [19, 21], [1138], [16742], [316], [16743], [53], [], [16744], [], [16745], [16746, 37, 67], [933], [127], [16747], [1, 16748], [], [16749], [84], [274], [16750, 16751], [9, 1513, 16752, 16753, 16754, 44], [16755, 16756], [16757, 16758], [26, 7], [12], [16759], [411], [], [197], [8], [401], [16760], [16761], [16762], [16763, 16764], [], [1, 16765, 1033], [], [540], [16766], [], [3], [209], [], [], [], [85], [16767], [49], [409], [16768], [16769], [16770], [], [], [31], [44, 16771, 122], [57], [16772, 960], [200], [1, 63, 16773, 16774, 16775, 16776, 17, 618, 103], [16777], [16778], [], [85], [114], [16779], [16780, 16781, 1273], [16782], [], [28], [16783, 16784], [1038], [9], [], [16785], [16786], [], [35], [], [1, 323], [11], [24], [334, 16787], [16788], [16789, 16790, 16791, 16792, 16793], [], [17, 16794, 16795, 16796], [], [3], [], [8], [], [], [], [], [54], [16797], [56], [371, 16798], [9], [404, 2197, 16799, 1, 16800], [], [425, 1957, 16801], [168], [31, 9, 16802, 1928], [720], [], [2], [327], [], [18, 16803], [7], [18, 2136, 16804], [], [8], [86], [1401], [16805], [255, 16806], [], [16807], [1163, 16808], [14], [50], [16809], [16810, 16811], [], [10, 121], [99], [16812], [], [16, 229], [], [], [], [10, 16813], [1139], [566], [], [159], [16814], [16, 16815], [1410], [738, 16816], [26], [37, 16817], [2095], [], [16818], [16819], [16820], [16821], [2163], [151], [16822, 16823, 1110], [], [16824], [84], [16825], [16826], [16827, 457, 16828, 16829, 16830], [], [216], [25], [16831, 943], [16832, 16833, 16834, 683, 898], [16835], [16836], [448], [657], [3, 16837], [16838], [32], [], [261], [155], [], [16839], [16840], [16841, 16842, 16843, 16844], [16845], [16846, 16847], [29], [23, 1], [3], [16848], [51, 318, 6, 51, 729], [29], [], [16849, 16850], [4], [12], [2], [145], [6, 16851, 128], [], [51, 16852, 16853], [831], [], [], [68], [16854], [1577, 16855], [576], [31], [2221], [], [672], [15, 16856, 9, 175], [17, 1, 16857, 42, 16858, 16859], [1117], [], [16860], [16861], [386], [], [211], [16862], [30, 16863, 723, 1, 16864, 406, 2210], [16865], [], [], [], [], [89, 16866], [1, 16867], [19, 21], [16868], [417], [2191], [126], [16869, 16870], [94, 54, 385], [16871, 16872], [14], [], [16873, 1816, 16874, 16875, 171, 2223], [16876], [2214, 16877], [3], [], [], [51, 16878], [5], [20], [16879], [16880, 16881, 748, 16882], [3], [16883, 16884], [16885, 2098], [4], [], [17], [16886], [], [], [16887, 51, 16888], [16889], [237, 7, 6], [27, 16890, 16891], [322, 16892], [29], [], [25], [16893, 16894, 16895], [16896], [16897], [16898], [16899], [16900, 16901, 16902, 16903, 16904, 16905, 12], [118], [1384], [16906], [10], [351, 367, 1, 318, 63], [10, 122, 16907], [16908], [1747], [17, 971], [169], [16909], [16910], [], [16911], [], [16912], [16913], [], [], [], [16914], [2], [16915], [161], [], [2], [], [68], [1908], [16916, 2003], [16917, 16918], [16919], [], [], [69, 809], [16920], [11], [16921], [], [443], [24], [93], [16922], [6, 210], [], [1, 16923, 16924], [16925, 379], [], [10, 590], [22], [17, 16926], [], [16927], [], [43], [], [103], [10], [16928], [], [16929], [16930], [52], [16931], [16932], [77, 16933], [], [1022], [755], [517], [19, 21], [41], [], [458], [16934, 16935, 16936], [486, 16937], [16938], [1641], [], [], [1071], [], [48, 16939], [16940], [], [16941, 16942], [7, 278], [22], [225, 16943], [16944], [37, 16945], [608, 16946], [358], [], [16947], [16948, 16949], [], [], [16950, 428], [16951, 593, 1803, 2117], [53], [188], [1932, 16952, 96, 2018, 1936, 16953, 16954, 1086], [], [16955], [], [16956], [6], [18, 16957], [16958], [16959, 16960], [5], [], [], [68], [13], [16961], [16962], [72], [16963], [24], [4], [1109], [20], [], [7, 2002], [], [4], [16964, 16965, 16966, 762, 16967, 339, 16968, 16969], [17], [16970], [31, 31], [], [16971], [211], [], [], [16972], [16973, 16974], [], [], [16975], [301], [], [16976], [16977], [16978, 202, 16979, 1135], [18, 16980], [357, 16981, 7], [], [2162], [16982], [], [2167, 16983], [], [16984], [1541], [2171, 1527], [16985], [], [], [], [15], [16986, 16987], [2220], [16988], [], [1440], [22], [16989], [16990], [163, 16991, 16992], [1034], [706, 1], [186], [], [16993], [16994, 16995], [4], [16996], [], [16997], [1884, 16998, 51], [9, 16999, 17000], [93, 23, 17001], [197], [], [17002], [], [603], [399], [], [142], [17003, 2081], [217, 1669], [37, 17004], [55], [17005], [], [], [], [5], [17006, 2212], [2, 17007, 102], [2], [111], [638], [311], [], [17008], [245, 950, 17009, 564], [], [], [28], [17010], [3], [549, 17011], [], [338], [17012], [17013, 17014, 17015, 445], [17016], [], [], [2154], [144], [2090, 17017], [], [27], [17018, 17019], [17020], [], [17021], [105, 17022, 17023], [], [], [79, 1133, 17024], [], [600, 17025, 16, 2054], [], [], [85], [17026], [17027], [], [17028], [17029], [1134], [17030], [17031], [17032, 552], [30, 17033], [17034], [2], [270], [], [556], [], [18], [17035, 17036, 453, 721], [17037, 534], [], [17038], [17039], [894], [], [], [17040], [17041], [17042], [17043, 17044, 17045], [375], [183], [189, 17046, 318, 17047], [1618], [], [17048, 17049, 17050], [], [], [17051], [17052, 17053, 995], [1, 17054], [15], [], [], [], [17055], [4], [17056, 6], [3], [20], [11], [17057], [52], [17058, 17059, 224, 17060, 17061, 17062], [84], [], [], [17063], [17064], [17065], [], [17066], [52], [17067], [16, 17068], [], [2223], [17069, 27, 129]]\n",
            "(27481, 200)\n"
          ],
          "name": "stdout"
        }
      ]
    },
    {
      "cell_type": "code",
      "metadata": {
        "colab": {
          "base_uri": "https://localhost:8080/"
        },
        "id": "2aIiuqZbAjIC",
        "outputId": "9e449aa9-4a59-419b-df7e-e6abbcc25e12"
      },
      "source": [
        "# load the whole embedding into memory\n",
        "embeddings_index = dict()\n",
        "f = open('glove.6B.200d.txt')\n",
        "for line in f:\n",
        "\tvalues = line.split()\n",
        "\tword = values[0]\n",
        "\tcoefs = np.asarray(values[1:], dtype='float32')\n",
        "\tembeddings_index[word] = coefs\n",
        "f.close()\n",
        "print('Loaded %s word vectors.' % len(embeddings_index))"
      ],
      "execution_count": 28,
      "outputs": [
        {
          "output_type": "stream",
          "text": [
            "Loaded 400000 word vectors.\n"
          ],
          "name": "stdout"
        }
      ]
    },
    {
      "cell_type": "code",
      "metadata": {
        "id": "rdF-t5GgBtFv"
      },
      "source": [
        "# create a weight matrix for words in training docs\n",
        "embedding_matrix = np.zeros((vocab_size, 200))\n",
        "for word, i in t.word_index.items():\n",
        "\tembedding_vector = embeddings_index.get(word)\n",
        "\tif embedding_vector is not None:\n",
        "\t\tembedding_matrix[i] = embedding_vector"
      ],
      "execution_count": 40,
      "outputs": []
    },
    {
      "cell_type": "code",
      "metadata": {
        "colab": {
          "base_uri": "https://localhost:8080/"
        },
        "id": "5snHDtsNPRGt",
        "outputId": "acd6adb2-03ec-4eb9-88d9-2f54aa1b35a0"
      },
      "source": [
        "#Splitting the data\n",
        "X_train, X_test, y_train, y_test = train_test_split(padded_docs,labels, random_state=0)\n",
        "print (len(X_train),len(X_test),len(y_train),len(y_test))"
      ],
      "execution_count": 41,
      "outputs": [
        {
          "output_type": "stream",
          "text": [
            "20610 6871 20610 6871\n"
          ],
          "name": "stdout"
        }
      ]
    },
    {
      "cell_type": "code",
      "metadata": {
        "colab": {
          "base_uri": "https://localhost:8080/"
        },
        "id": "GAKxfv5bCG89",
        "outputId": "2b4297fe-c6a9-4742-e9c7-c2f6bff7aa73"
      },
      "source": [
        "#Define model \n",
        "from keras.layers import Embedding, Dense, Flatten\n",
        "\n",
        "\n",
        "model0 = Sequential()\n",
        "e = Embedding(vocab_size, 200, weights=[embedding_matrix], input_length=200, trainable=False)\n",
        "model0.add(e)\n",
        "model0.add(Flatten())\n",
        "model0.add(Dense(3, activation='softmax'))\n",
        "\n",
        "\n",
        "\n",
        "print(model0.summary())\n",
        "plot_model(model0, to_file='model0-lstm.png')\n",
        "\n",
        "\n",
        "#compile model \n",
        "model0.compile(optimizer='rmsprop',loss='categorical_crossentropy', metrics=['accuracy'])\n",
        "\n",
        "# fit the model\n",
        "model0.fit(X_train, y_train, epochs=1,validation_data=(X_test, y_test))"
      ],
      "execution_count": 48,
      "outputs": [
        {
          "output_type": "stream",
          "text": [
            "Model: \"sequential_5\"\n",
            "_________________________________________________________________\n",
            "Layer (type)                 Output Shape              Param #   \n",
            "=================================================================\n",
            "embedding_4 (Embedding)      (None, 200, 200)          3414000   \n",
            "_________________________________________________________________\n",
            "flatten_1 (Flatten)          (None, 40000)             0         \n",
            "_________________________________________________________________\n",
            "dense_1 (Dense)              (None, 3)                 120003    \n",
            "=================================================================\n",
            "Total params: 3,534,003\n",
            "Trainable params: 120,003\n",
            "Non-trainable params: 3,414,000\n",
            "_________________________________________________________________\n",
            "None\n",
            "645/645 [==============================] - 15s 11ms/step - loss: 0.9446 - accuracy: 0.5756 - val_loss: 0.8457 - val_accuracy: 0.6037\n"
          ],
          "name": "stdout"
        },
        {
          "output_type": "execute_result",
          "data": {
            "text/plain": [
              "<keras.callbacks.History at 0x7fcff3f6e050>"
            ]
          },
          "metadata": {
            "tags": []
          },
          "execution_count": 48
        }
      ]
    },
    {
      "cell_type": "code",
      "metadata": {
        "colab": {
          "base_uri": "https://localhost:8080/"
        },
        "id": "ur07plmbRZPM",
        "outputId": "8a3375be-1361-416d-b33e-dfe6125393c6"
      },
      "source": [
        "#Define LSTM model \n",
        "\n",
        "model1 = Sequential()\n",
        "e = Embedding(vocab_size, 200, weights=[embedding_matrix], input_length=200, trainable=False)\n",
        "model1.add(e)\n",
        "model0.add(Flatten())\n",
        "model1.add(layers.LSTM(15,dropout=0.5))\n",
        "model1.add(layers.Dense(3,activation='softmax'))\n",
        "\n",
        "print(model1.summary())"
      ],
      "execution_count": 53,
      "outputs": [
        {
          "output_type": "stream",
          "text": [
            "Model: \"sequential_9\"\n",
            "_________________________________________________________________\n",
            "Layer (type)                 Output Shape              Param #   \n",
            "=================================================================\n",
            "embedding_8 (Embedding)      (None, 200, 200)          3414000   \n",
            "_________________________________________________________________\n",
            "lstm_1 (LSTM)                (None, 15)                12960     \n",
            "_________________________________________________________________\n",
            "dense_3 (Dense)              (None, 3)                 48        \n",
            "=================================================================\n",
            "Total params: 3,427,008\n",
            "Trainable params: 13,008\n",
            "Non-trainable params: 3,414,000\n",
            "_________________________________________________________________\n",
            "None\n"
          ],
          "name": "stdout"
        }
      ]
    },
    {
      "cell_type": "code",
      "metadata": {
        "colab": {
          "base_uri": "https://localhost:8080/"
        },
        "id": "dZk-DwVJR_Qm",
        "outputId": "be4d1d82-4c1b-4cd7-b44b-fe6263dcc8bd"
      },
      "source": [
        "model1.compile(optimizer='rmsprop',loss='categorical_crossentropy', metrics=['accuracy'])\n",
        "#Implementing model checkpoins to save the best metric and do not lose it on training.\n",
        "checkpoint1 = ModelCheckpoint(\"best_model1.hdf5\", monitor='val_accuracy', verbose=1,save_best_only=True, mode='auto', period=1,save_weights_only=False)\n",
        "history = model1.fit(X_train, y_train, epochs=1,validation_data=(X_test, y_test),callbacks=[checkpoint1])"
      ],
      "execution_count": 54,
      "outputs": [
        {
          "output_type": "stream",
          "text": [
            "WARNING:tensorflow:`period` argument is deprecated. Please use `save_freq` to specify the frequency in number of batches seen.\n",
            "645/645 [==============================] - 64s 96ms/step - loss: 1.0895 - accuracy: 0.4019 - val_loss: 1.0888 - val_accuracy: 0.3979\n",
            "\n",
            "Epoch 00001: val_accuracy improved from -inf to 0.39790, saving model to best_model1.hdf5\n"
          ],
          "name": "stdout"
        }
      ]
    },
    {
      "cell_type": "code",
      "metadata": {
        "colab": {
          "base_uri": "https://localhost:8080/"
        },
        "id": "GmGAymqHT9_g",
        "outputId": "84dce66f-5297-43ad-d7ad-60517effac8d"
      },
      "source": [
        "# Define bi-directional LSTM \n",
        "model2 = Sequential()\n",
        "e = Embedding(vocab_size, 200, weights=[embedding_matrix], input_length=200, trainable=False)\n",
        "model2.add(e)\n",
        "model2.add(layers.Bidirectional(layers.LSTM(20,dropout=0.6)))\n",
        "model2.add(layers.Dense(3,activation='softmax'))\n",
        "\n",
        "print(model2.summary())"
      ],
      "execution_count": 58,
      "outputs": [
        {
          "output_type": "stream",
          "text": [
            "Model: \"sequential_12\"\n",
            "_________________________________________________________________\n",
            "Layer (type)                 Output Shape              Param #   \n",
            "=================================================================\n",
            "embedding_11 (Embedding)     (None, 200, 200)          3414000   \n",
            "_________________________________________________________________\n",
            "bidirectional (Bidirectional (None, 40)                35360     \n",
            "_________________________________________________________________\n",
            "dense_6 (Dense)              (None, 3)                 123       \n",
            "=================================================================\n",
            "Total params: 3,449,483\n",
            "Trainable params: 35,483\n",
            "Non-trainable params: 3,414,000\n",
            "_________________________________________________________________\n",
            "None\n"
          ],
          "name": "stdout"
        }
      ]
    },
    {
      "cell_type": "code",
      "metadata": {
        "colab": {
          "base_uri": "https://localhost:8080/"
        },
        "id": "Fo4ipAvQUQd5",
        "outputId": "d441d687-db47-4ec4-d628-9c7498c2e0d8"
      },
      "source": [
        "model2.compile(optimizer='rmsprop',loss='categorical_crossentropy', metrics=['accuracy'])\n",
        "checkpoint2 = ModelCheckpoint(\"best_model2.hdf5\", monitor='val_accuracy', verbose=1,save_best_only=True, mode='auto', period=1,save_weights_only=False)\n",
        "history = model2.fit(X_train, y_train, epochs=1,validation_data=(X_test, y_test),callbacks=[checkpoint2])"
      ],
      "execution_count": 59,
      "outputs": [
        {
          "output_type": "stream",
          "text": [
            "WARNING:tensorflow:`period` argument is deprecated. Please use `save_freq` to specify the frequency in number of batches seen.\n",
            "645/645 [==============================] - 112s 165ms/step - loss: 0.9856 - accuracy: 0.5330 - val_loss: 0.8417 - val_accuracy: 0.5996\n",
            "\n",
            "Epoch 00001: val_accuracy improved from -inf to 0.59962, saving model to best_model2.hdf5\n"
          ],
          "name": "stdout"
        }
      ]
    },
    {
      "cell_type": "code",
      "metadata": {
        "colab": {
          "base_uri": "https://localhost:8080/"
        },
        "id": "OHaQ6lyzS1Ad",
        "outputId": "5b542eb2-305c-468b-d8a0-e5ed316923c2"
      },
      "source": [
        "#Define 1D CNN\n",
        "from keras import regularizers\n",
        "\n",
        "model3 = Sequential()\n",
        "e = Embedding(vocab_size, 200, weights=[embedding_matrix], input_length=200, trainable=False)\n",
        "model3.add(e)\n",
        "model3.add(layers.Conv1D(20, 6, activation='relu',kernel_regularizer=regularizers.l1_l2(l1=2e-3, l2=2e-3),bias_regularizer=regularizers.l2(2e-3)))\n",
        "model3.add(layers.MaxPooling1D(5))\n",
        "model3.add(layers.Conv1D(20, 6, activation='relu',kernel_regularizer=regularizers.l1_l2(l1=2e-3, l2=2e-3),bias_regularizer=regularizers.l2(2e-3)))\n",
        "model3.add(layers.GlobalMaxPooling1D())\n",
        "model3.add(layers.Dense(3,activation='softmax'))\n",
        "\n",
        "print(model3.summary())"
      ],
      "execution_count": 56,
      "outputs": [
        {
          "output_type": "stream",
          "text": [
            "Model: \"sequential_11\"\n",
            "_________________________________________________________________\n",
            "Layer (type)                 Output Shape              Param #   \n",
            "=================================================================\n",
            "embedding_10 (Embedding)     (None, 200, 200)          3414000   \n",
            "_________________________________________________________________\n",
            "conv1d_2 (Conv1D)            (None, 195, 20)           24020     \n",
            "_________________________________________________________________\n",
            "max_pooling1d_1 (MaxPooling1 (None, 39, 20)            0         \n",
            "_________________________________________________________________\n",
            "conv1d_3 (Conv1D)            (None, 34, 20)            2420      \n",
            "_________________________________________________________________\n",
            "global_max_pooling1d_1 (Glob (None, 20)                0         \n",
            "_________________________________________________________________\n",
            "dense_5 (Dense)              (None, 3)                 63        \n",
            "=================================================================\n",
            "Total params: 3,440,503\n",
            "Trainable params: 26,503\n",
            "Non-trainable params: 3,414,000\n",
            "_________________________________________________________________\n",
            "None\n"
          ],
          "name": "stdout"
        }
      ]
    },
    {
      "cell_type": "code",
      "metadata": {
        "colab": {
          "base_uri": "https://localhost:8080/"
        },
        "id": "K9WazxUxTTu4",
        "outputId": "73a34993-ffdb-4e76-a48a-fd06ad07d93f"
      },
      "source": [
        "model3.compile(optimizer='rmsprop',loss='categorical_crossentropy',metrics=['acc'])\n",
        "checkpoint3 = ModelCheckpoint(\"best_model3.hdf5\", monitor='val_accuracy', verbose=1,save_best_only=True, mode='auto', period=1,save_weights_only=False)\n",
        "history = model3.fit(X_train, y_train, epochs=1,validation_data=(X_test, y_test),callbacks=[checkpoint3])"
      ],
      "execution_count": 57,
      "outputs": [
        {
          "output_type": "stream",
          "text": [
            "WARNING:tensorflow:`period` argument is deprecated. Please use `save_freq` to specify the frequency in number of batches seen.\n",
            "645/645 [==============================] - 35s 50ms/step - loss: 1.3560 - acc: 0.5179 - val_loss: 0.9848 - val_acc: 0.5934\n",
            "WARNING:tensorflow:Can save best model only with val_accuracy available, skipping.\n"
          ],
          "name": "stdout"
        }
      ]
    },
    {
      "cell_type": "code",
      "metadata": {
        "id": "VmPlzjr2Tp4x"
      },
      "source": [
        ""
      ],
      "execution_count": null,
      "outputs": []
    },
    {
      "cell_type": "markdown",
      "metadata": {
        "id": "FPl4dYODxBIb"
      },
      "source": [
        "###Model Building\n",
        "\n",
        "\n",
        "\n"
      ]
    },
    {
      "cell_type": "markdown",
      "metadata": {
        "id": "n5wnUFJ5k-Na"
      },
      "source": [
        "### Single LSTM"
      ]
    },
    {
      "cell_type": "code",
      "metadata": {
        "colab": {
          "base_uri": "https://localhost:8080/"
        },
        "id": "rquAmzoavCEu",
        "outputId": "80447a89-7aed-4bf2-ede3-6a6eff01930b"
      },
      "source": [
        "model1 = Sequential()\n",
        "model1.add(layers.Embedding(max_words, 20))\n",
        "model1.add(layers.LSTM(15,dropout=0.5))\n",
        "model1.add(layers.Dense(3,activation='softmax'))\n",
        "\n",
        "print(model1.summary())"
      ],
      "execution_count": null,
      "outputs": [
        {
          "output_type": "stream",
          "text": [
            "Model: \"sequential_9\"\n",
            "_________________________________________________________________\n",
            "Layer (type)                 Output Shape              Param #   \n",
            "=================================================================\n",
            "embedding_88 (Embedding)     (None, None, 20)          100000    \n",
            "_________________________________________________________________\n",
            "lstm_3 (LSTM)                (None, 15)                2160      \n",
            "_________________________________________________________________\n",
            "dense_52 (Dense)             (None, 3)                 48        \n",
            "=================================================================\n",
            "Total params: 102,208\n",
            "Trainable params: 102,208\n",
            "Non-trainable params: 0\n",
            "_________________________________________________________________\n",
            "None\n"
          ],
          "name": "stdout"
        }
      ]
    },
    {
      "cell_type": "code",
      "metadata": {
        "colab": {
          "base_uri": "https://localhost:8080/"
        },
        "id": "g0zl98BUzenS",
        "outputId": "c6ceeadb-b62b-47c2-e30b-a97cc88e45fb"
      },
      "source": [
        "model1.compile(optimizer='rmsprop',loss='categorical_crossentropy', metrics=['accuracy'])\n",
        "#Implementing model checkpoins to save the best metric and do not lose it on training.\n",
        "checkpoint1 = ModelCheckpoint(\"best_model1.hdf5\", monitor='val_accuracy', verbose=1,save_best_only=True, mode='auto', period=1,save_weights_only=False)\n",
        "history = model1.fit(X_train, y_train, epochs=1,validation_data=(X_test, y_test),callbacks=[checkpoint1])"
      ],
      "execution_count": null,
      "outputs": [
        {
          "output_type": "stream",
          "text": [
            "WARNING:tensorflow:`period` argument is deprecated. Please use `save_freq` to specify the frequency in number of batches seen.\n",
            "645/645 [==============================] - 48s 71ms/step - loss: 1.0728 - accuracy: 0.4190 - val_loss: 0.9501 - val_accuracy: 0.5372\n",
            "\n",
            "Epoch 00001: val_accuracy improved from -inf to 0.53719, saving model to best_model1.hdf5\n"
          ],
          "name": "stdout"
        }
      ]
    },
    {
      "cell_type": "code",
      "metadata": {
        "id": "Tq6880qi0NB-"
      },
      "source": [
        "#model.save('model-nvidia-augmented.h5')\n",
        "#from google.colab import files \n",
        "#files.download('best_model1.hdf5')"
      ],
      "execution_count": null,
      "outputs": []
    },
    {
      "cell_type": "markdown",
      "metadata": {
        "id": "qtCnQPs144SL"
      },
      "source": [
        "###1D CNN"
      ]
    },
    {
      "cell_type": "code",
      "metadata": {
        "id": "O4ZmDfVU436M"
      },
      "source": [
        "from keras import regularizers\n",
        "model3 = Sequential()\n",
        "model3.add(layers.Embedding(max_words, 40, input_length=max_len))\n",
        "model3.add(layers.Conv1D(20, 6, activation='relu',kernel_regularizer=regularizers.l1_l2(l1=2e-3, l2=2e-3),bias_regularizer=regularizers.l2(2e-3)))\n",
        "model3.add(layers.MaxPooling1D(5))\n",
        "model3.add(layers.Conv1D(20, 6, activation='relu',kernel_regularizer=regularizers.l1_l2(l1=2e-3, l2=2e-3),bias_regularizer=regularizers.l2(2e-3)))\n",
        "model3.add(layers.GlobalMaxPooling1D())\n",
        "model3.add(layers.Dense(3,activation='softmax'))\n"
      ],
      "execution_count": null,
      "outputs": []
    },
    {
      "cell_type": "code",
      "metadata": {
        "colab": {
          "base_uri": "https://localhost:8080/"
        },
        "id": "h7C2IXJ95FoP",
        "outputId": "135a42ea-81d3-4294-e546-d14da4973747"
      },
      "source": [
        "print(model3.summary())"
      ],
      "execution_count": null,
      "outputs": [
        {
          "output_type": "stream",
          "text": [
            "Model: \"sequential_10\"\n",
            "_________________________________________________________________\n",
            "Layer (type)                 Output Shape              Param #   \n",
            "=================================================================\n",
            "embedding_89 (Embedding)     (None, 200, 40)           200000    \n",
            "_________________________________________________________________\n",
            "conv1d_87 (Conv1D)           (None, 195, 20)           4820      \n",
            "_________________________________________________________________\n",
            "max_pooling1d_83 (MaxPooling (None, 39, 20)            0         \n",
            "_________________________________________________________________\n",
            "conv1d_88 (Conv1D)           (None, 34, 20)            2420      \n",
            "_________________________________________________________________\n",
            "global_max_pooling1d_2 (Glob (None, 20)                0         \n",
            "_________________________________________________________________\n",
            "dense_53 (Dense)             (None, 3)                 63        \n",
            "=================================================================\n",
            "Total params: 207,303\n",
            "Trainable params: 207,303\n",
            "Non-trainable params: 0\n",
            "_________________________________________________________________\n",
            "None\n"
          ],
          "name": "stdout"
        }
      ]
    },
    {
      "cell_type": "code",
      "metadata": {
        "colab": {
          "base_uri": "https://localhost:8080/"
        },
        "id": "Y9WBosAa5CPT",
        "outputId": "955cc3ae-5316-4b7c-9e96-7986b127101a"
      },
      "source": [
        "model3.compile(optimizer='rmsprop',loss='categorical_crossentropy',metrics=['acc'])\n",
        "checkpoint3 = ModelCheckpoint(\"best_model3.hdf5\", monitor='val_accuracy', verbose=1,save_best_only=True, mode='auto', period=1,save_weights_only=False)\n",
        "history = model3.fit(X_train, y_train, epochs=1,validation_data=(X_test, y_test),callbacks=[checkpoint3])"
      ],
      "execution_count": null,
      "outputs": [
        {
          "output_type": "stream",
          "text": [
            "WARNING:tensorflow:`period` argument is deprecated. Please use `save_freq` to specify the frequency in number of batches seen.\n",
            "645/645 [==============================] - 22s 31ms/step - loss: 1.3243 - acc: 0.4016 - val_loss: 1.0992 - val_acc: 0.3979\n",
            "WARNING:tensorflow:Can save best model only with val_accuracy available, skipping.\n"
          ],
          "name": "stdout"
        }
      ]
    },
    {
      "cell_type": "markdown",
      "metadata": {
        "id": "KPkCsBhQ-HQQ"
      },
      "source": [
        "###Multichannel CNN\n"
      ]
    },
    {
      "cell_type": "code",
      "metadata": {
        "id": "lZWuhFO7WX-2"
      },
      "source": [
        "  from keras import regularizers\n",
        "  from keras.layers import Flatten\n",
        "  from keras.layers import Input\n",
        "  from keras.layers import Embedding\n",
        "  from keras.layers import Dense\n",
        "  from keras.layers import Flatten \n",
        "  from keras.layers import Dropout\n",
        "  from keras.layers.convolutional import Conv1D\n",
        "  from keras.layers.convolutional import MaxPooling1D\n",
        "  from keras.layers.merge import concatenate\n",
        "  from keras.utils.vis_utils import plot_model\n",
        "  from keras.models import Model\n"
      ],
      "execution_count": null,
      "outputs": []
    },
    {
      "cell_type": "code",
      "metadata": {
        "colab": {
          "base_uri": "https://localhost:8080/",
          "height": 741
        },
        "id": "FK2z-_GNbemW",
        "outputId": "45b66112-09fc-46ff-91d4-32d728f7a7ec"
      },
      "source": [
        "  #channel 1\n",
        "  input1 = Input(shape=(max_len,))\n",
        "  embd1 = Embedding(max_words, 40)(input1)\n",
        "  conv1 = Conv1D(20, 6, activation='relu')(embd1)\n",
        "  drop1 = Dropout(0.5)(conv1)\n",
        "  pool1 = MaxPooling1D(5)(drop1)\n",
        "  flat1 = Flatten()(pool1)\n",
        "\n",
        "  #channel 2\n",
        "  input2 = Input(shape=(max_len,))\n",
        "  embd2 = Embedding(max_words, 40)(input2)\n",
        "  conv2 = Conv1D(20, 6, activation='relu')(embd2)\n",
        "  drop2 = Dropout(0.5)(conv2)\n",
        "  pool2 = MaxPooling1D(5)(drop2)\n",
        "  flat2 = Flatten()(pool2)\n",
        "\n",
        "  #channel 3\n",
        "  input3 = Input(shape=(max_len,))\n",
        "  embd3 = Embedding(max_words, 40)(input3)\n",
        "  conv3 = Conv1D(20, 6, activation='relu')(embd3)\n",
        "  drop3 = Dropout(0.5)(conv3)\n",
        "  pool3 = MaxPooling1D(5)(drop3)\n",
        "  flat3 = Flatten()(pool3)\n",
        "\n",
        "    #merge \n",
        "  merged = concatenate([flat1, flat2, flat3])\n",
        "  \n",
        "  #Interpretation \n",
        "  dense1 = Dense(10, activation='relu')(merged)\n",
        "  outputs = Dense(3,activation='softmax')(dense1)\n",
        "\n",
        "  model5 = Model(inputs=[input1, input2, input3],outputs=outputs)\n",
        "\n",
        "  plot_model(model5, show_shapes=True, to_file='model5.png')"
      ],
      "execution_count": null,
      "outputs": [
        {
          "output_type": "execute_result",
          "data": {
            "image/png": "[encoded data removed]",
            "text/plain": [
              "<IPython.core.display.Image object>"
            ]
          },
          "metadata": {
            "tags": []
          },
          "execution_count": 220
        }
      ]
    },
    {
      "cell_type": "code",
      "metadata": {
        "colab": {
          "base_uri": "https://localhost:8080/"
        },
        "id": "0Brhbsj2b4jE",
        "outputId": "1ad8f2d0-655d-4f01-9923-8f3bdb4fde63"
      },
      "source": [
        "\n",
        "model5.compile(optimizer='Adam',loss='categorical_crossentropy',metrics=['acc'])\n",
        "checkpoint5 = ModelCheckpoint(\"best_model5.hdf5\", monitor='val_accuracy', verbose=1,save_best_only=True, mode='auto', period=1,save_weights_only=False)\n",
        "input_tensor = [X_train, X_train, X_train]\n",
        "history = model5.fit(input_tensor, y_train, epochs=1, validation_data=([X_test,X_test,X_test],y_test), callbacks=checkpoint5)"
      ],
      "execution_count": null,
      "outputs": [
        {
          "output_type": "stream",
          "text": [
            "WARNING:tensorflow:`period` argument is deprecated. Please use `save_freq` to specify the frequency in number of batches seen.\n",
            "645/645 [==============================] - 38s 56ms/step - loss: 1.0322 - acc: 0.4522 - val_loss: 0.8232 - val_acc: 0.6270\n",
            "WARNING:tensorflow:Can save best model only with val_accuracy available, skipping.\n"
          ],
          "name": "stdout"
        }
      ]
    },
    {
      "cell_type": "code",
      "metadata": {
        "colab": {
          "base_uri": "https://localhost:8080/"
        },
        "id": "gj15kKZ5np_l",
        "outputId": "1e7bf276-04e2-4ed2-c3a1-fa32f9428aa2"
      },
      "source": [
        "test = [X_test,X_test,X_test]\n",
        "\n",
        "test_loss, test_acc = model5.evaluate(test, y_test, verbose=2)"
      ],
      "execution_count": null,
      "outputs": [
        {
          "output_type": "stream",
          "text": [
            "215/215 - 2s - loss: 0.8232 - acc: 0.6270\n"
          ],
          "name": "stdout"
        }
      ]
    },
    {
      "cell_type": "markdown",
      "metadata": {
        "id": "T514ZbmsbpfI"
      },
      "source": [
        "### Multi-Layer Perceptron"
      ]
    },
    {
      "cell_type": "code",
      "metadata": {
        "colab": {
          "base_uri": "https://localhost:8080/",
          "height": 772
        },
        "id": "Rq9J8Y8nbopb",
        "outputId": "afcdacd8-6063-4933-9aca-618b36d68479"
      },
      "source": [
        "visible = Input(shape=(max_len,)) #Add embedding layer \n",
        "hidden1 = Dense(10, activation='relu')(visible)\n",
        "hidden2 = Dense(20, activation='relu')(hidden1)\n",
        "hidden3 = Dense(10, activation='relu')(hidden2)\n",
        "output = Dense(3, activation='softmax')(hidden3)\n",
        "model4 = Model(inputs= visible, outputs=output)\n",
        "model4.summary()\n",
        "plot_model(model4, to_file='model4-mlp.png')"
      ],
      "execution_count": null,
      "outputs": [
        {
          "output_type": "stream",
          "text": [
            "Model: \"model_17\"\n",
            "_________________________________________________________________\n",
            "Layer (type)                 Output Shape              Param #   \n",
            "=================================================================\n",
            "input_83 (InputLayer)        [(None, 200)]             0         \n",
            "_________________________________________________________________\n",
            "dense_57 (Dense)             (None, 10)                2010      \n",
            "_________________________________________________________________\n",
            "dense_58 (Dense)             (None, 20)                220       \n",
            "_________________________________________________________________\n",
            "dense_59 (Dense)             (None, 10)                210       \n",
            "_________________________________________________________________\n",
            "dense_60 (Dense)             (None, 3)                 33        \n",
            "=================================================================\n",
            "Total params: 2,473\n",
            "Trainable params: 2,473\n",
            "Non-trainable params: 0\n",
            "_________________________________________________________________\n"
          ],
          "name": "stdout"
        },
        {
          "output_type": "execute_result",
          "data": {
            "image/png": "[encoded data removed]",
            "text/plain": [
              "<IPython.core.display.Image object>"
            ]
          },
          "metadata": {
            "tags": []
          },
          "execution_count": 254
        }
      ]
    },
    {
      "cell_type": "code",
      "metadata": {
        "colab": {
          "base_uri": "https://localhost:8080/"
        },
        "id": "MnYqu8Vdcl8l",
        "outputId": "9d33313e-8de8-4176-92c7-e9a9566568e5"
      },
      "source": [
        "model4.compile(optimizer='rmsprop',loss='categorical_crossentropy', metrics=['accuracy'])\n",
        "#Implementing model checkpoins to save the best metric and do not lose it on training.\n",
        "checkpoint4 = ModelCheckpoint(\"best_model4.hdf5\", monitor='val_accuracy', verbose=1,save_best_only=True, mode='auto', period=1,save_weights_only=False)\n",
        "history = model4.fit(X_train, y_train, epochs=1,validation_data=(X_test, y_test),callbacks=[checkpoint4])"
      ],
      "execution_count": null,
      "outputs": [
        {
          "output_type": "stream",
          "text": [
            "WARNING:tensorflow:`period` argument is deprecated. Please use `save_freq` to specify the frequency in number of batches seen.\n",
            "645/645 [==============================] - 3s 2ms/step - loss: 1.9358 - accuracy: 0.3927 - val_loss: 1.1577 - val_accuracy: 0.3960\n",
            "\n",
            "Epoch 00001: val_accuracy improved from -inf to 0.39601, saving model to best_model4.hdf5\n"
          ],
          "name": "stdout"
        }
      ]
    },
    {
      "cell_type": "markdown",
      "metadata": {
        "id": "x0bkKdRU51nv"
      },
      "source": [
        "### Bi-Directional LSTM"
      ]
    },
    {
      "cell_type": "code",
      "metadata": {
        "id": "Tj4yT23t51Ps"
      },
      "source": [
        "model2 = Sequential()\n",
        "model2.add(layers.Embedding(max_words, 40, input_length=max_len))\n",
        "model2.add(layers.Bidirectional(layers.LSTM(20,dropout=0.6)))\n",
        "model2.add(layers.Dense(3,activation='softmax'))\n"
      ],
      "execution_count": null,
      "outputs": []
    },
    {
      "cell_type": "code",
      "metadata": {
        "colab": {
          "base_uri": "https://localhost:8080/"
        },
        "id": "1By_JIF957jA",
        "outputId": "5773ae19-4b40-4c99-a427-e658c7e1547f"
      },
      "source": [
        "print(model2.summary())"
      ],
      "execution_count": null,
      "outputs": [
        {
          "output_type": "stream",
          "text": [
            "Model: \"sequential_11\"\n",
            "_________________________________________________________________\n",
            "Layer (type)                 Output Shape              Param #   \n",
            "=================================================================\n",
            "embedding_93 (Embedding)     (None, 200, 40)           200000    \n",
            "_________________________________________________________________\n",
            "bidirectional_1 (Bidirection (None, 40)                9760      \n",
            "_________________________________________________________________\n",
            "dense_56 (Dense)             (None, 3)                 123       \n",
            "=================================================================\n",
            "Total params: 209,883\n",
            "Trainable params: 209,883\n",
            "Non-trainable params: 0\n",
            "_________________________________________________________________\n",
            "None\n"
          ],
          "name": "stdout"
        }
      ]
    },
    {
      "cell_type": "code",
      "metadata": {
        "colab": {
          "base_uri": "https://localhost:8080/"
        },
        "id": "NNNqV48Q56uu",
        "outputId": "a9d2a264-7b3f-4be2-e1ed-bbc3354642f5"
      },
      "source": [
        "model2.compile(optimizer='rmsprop',loss='categorical_crossentropy', metrics=['accuracy'])\n",
        "#Implementing model checkpoins to save the best metric and do not lose it on training.\n",
        "#model2 = keras.models.load_model('./best_model2.hdf5')\n",
        "checkpoint2 = ModelCheckpoint(\"best_model2.hdf5\", monitor='val_accuracy', verbose=1,save_best_only=True, mode='auto', period=1,save_weights_only=False)\n",
        "history = model2.fit(X_train, y_train, epochs=1,validation_data=(X_test, y_test),callbacks=[checkpoint2])"
      ],
      "execution_count": null,
      "outputs": [
        {
          "output_type": "stream",
          "text": [
            "WARNING:tensorflow:`period` argument is deprecated. Please use `save_freq` to specify the frequency in number of batches seen.\n",
            "645/645 [==============================] - 82s 121ms/step - loss: 1.0682 - accuracy: 0.4236 - val_loss: 0.9429 - val_accuracy: 0.5693\n",
            "\n",
            "Epoch 00001: val_accuracy improved from -inf to 0.56935, saving model to best_model2.hdf5\n"
          ],
          "name": "stdout"
        }
      ]
    },
    {
      "cell_type": "code",
      "metadata": {
        "id": "ZKHWVQE5fH4G"
      },
      "source": [
        ""
      ],
      "execution_count": null,
      "outputs": []
    },
    {
      "cell_type": "markdown",
      "metadata": {
        "id": "Vg8MJMZUoyT1"
      },
      "source": [
        "### Model Evaluate "
      ]
    },
    {
      "cell_type": "markdown",
      "metadata": {
        "id": "owiVl80GfKLS"
      },
      "source": [
        "### Hyperparameter tuning "
      ]
    },
    {
      "cell_type": "code",
      "metadata": {
        "id": "M6ZC1jm7fn4D"
      },
      "source": [
        "'''\n",
        "X_train, y_train = svm_features.reshape(300,7*7*512), svm_labels\n",
        "\n",
        "param = [{\n",
        "          \"C\": [0.01, 0.1, 1, 10, 100]\n",
        "         }]\n",
        " \n",
        "svm = LinearSVC(penalty='l2', loss='squared_hinge')  # As in Tang (2013)\n",
        "clf = GridSearchCV(svm, param, cv=10)\n",
        "clf.fit(X_train, y_train)\n",
        "'''"
      ],
      "execution_count": null,
      "outputs": []
    },
    {
      "cell_type": "code",
      "metadata": {
        "colab": {
          "base_uri": "https://localhost:8080/"
        },
        "id": "T8VBJalBfNld",
        "outputId": "f7610401-0b6e-4d3d-97f9-5cd04c8c5b09"
      },
      "source": [
        "#Import libraries\n",
        "\n",
        "from sklearn.model_selection import GridSearchCV\n",
        "from keras.models import Sequential\n",
        "from keras.layers import Dense\n",
        "from keras.layers import Dropout\n",
        "from keras.layers import GlobalMaxPooling1D\n",
        "from keras.wrappers.scikit_learn import KerasClassifier\n",
        "\n",
        "#1D CNN Model \n",
        "def create_model(dropout_rate=0.0):\n",
        "\t# create model\n",
        "  model3 = Sequential()\n",
        "  model3.add(Embedding(max_words, 40, input_length=max_len))\n",
        "  model3.add(Conv1D(20, 6, activation='relu'))\n",
        "  model3.add(MaxPooling1D(5))\n",
        "  model3.add(Conv1D(20, 6, activation='relu'))\n",
        "  model3.add(Dropout(dropout_rate))\n",
        "  model3.add(GlobalMaxPooling1D())\n",
        "  model3.add(Dense(3,activation='softmax'))\n",
        "\t# Compile model\n",
        "  model3.compile(optimizer='rmsprop',loss='categorical_crossentropy',metrics=['acc'])\n",
        "  return model3\n",
        "\n",
        "\n",
        "# fix random seed for reproducibility\n",
        "seed = 7\n",
        "np.random.seed(seed)\n",
        "# load dataset\n",
        "\n",
        "# create model\n",
        "model = KerasClassifier(build_fn=create_model, epochs=5, verbose=2)\n",
        "\n",
        "dropout_rate = [0.0, 0.1, 0.2, 0.3, 0.4, 0.5, 0.6, 0.7, 0.8, 0.9]\n",
        "param_grid = dict(dropout_rate=dropout_rate)\n",
        "grid = GridSearchCV(estimator=model, param_grid=param_grid, n_jobs=-1, cv=3)\n",
        "grid_result = grid.fit(X_train, y_train)\n",
        "\n",
        "\n",
        "\n",
        "# summarize results\n",
        "print(\"Best: %f using %s\" % (grid_result.best_score_, grid_result.best_params_))\n",
        "means = grid_result.cv_results_['mean_test_score']\n",
        "stds = grid_result.cv_results_['std_test_score']\n",
        "params = grid_result.cv_results_['params']\n",
        "for mean, stdev, param in zip(means, stds, params):\n",
        "    print(\"%f (%f) with: %r\" % (mean, stdev, param))"
      ],
      "execution_count": null,
      "outputs": [
        {
          "output_type": "stream",
          "text": [
            "Epoch 1/5\n",
            "645/645 - 13s - loss: 0.9910 - acc: 0.4962\n",
            "Epoch 2/5\n",
            "645/645 - 12s - loss: 0.8206 - acc: 0.6291\n",
            "Epoch 3/5\n",
            "645/645 - 12s - loss: 0.7678 - acc: 0.6655\n",
            "Epoch 4/5\n",
            "645/645 - 12s - loss: 0.7352 - acc: 0.6846\n",
            "Epoch 5/5\n",
            "645/645 - 12s - loss: 0.7157 - acc: 0.6948\n",
            "Best: 0.632703 using {'dropout_rate': 0.2}\n",
            "0.630665 (0.009527) with: {'dropout_rate': 0.0}\n",
            "0.631781 (0.003245) with: {'dropout_rate': 0.1}\n",
            "0.632703 (0.002703) with: {'dropout_rate': 0.2}\n",
            "0.631732 (0.008154) with: {'dropout_rate': 0.3}\n",
            "0.626880 (0.004857) with: {'dropout_rate': 0.4}\n",
            "0.628627 (0.008971) with: {'dropout_rate': 0.5}\n",
            "0.628869 (0.004907) with: {'dropout_rate': 0.6}\n",
            "0.621883 (0.014018) with: {'dropout_rate': 0.7}\n",
            "0.568947 (0.072960) with: {'dropout_rate': 0.8}\n",
            "0.544639 (0.013431) with: {'dropout_rate': 0.9}\n"
          ],
          "name": "stdout"
        }
      ]
    },
    {
      "cell_type": "markdown",
      "metadata": {
        "id": "ksZs60agpCJn"
      },
      "source": [
        "### Confusion Matrix "
      ]
    },
    {
      "cell_type": "code",
      "metadata": {
        "id": "duWKUOJfox-g"
      },
      "source": [
        "predictions = model5.predict([X_test,X_test,X_test])"
      ],
      "execution_count": null,
      "outputs": []
    },
    {
      "cell_type": "code",
      "metadata": {
        "colab": {
          "base_uri": "https://localhost:8080/",
          "height": 880
        },
        "id": "vCRhcjDM1lDQ",
        "outputId": "5f7641d7-6295-4391-acab-dcb8ad9e5caf"
      },
      "source": [
        "matrix = confusion_matrix(y_test.argmax(axis=1), np.around(predictions, decimals=0).argmax(axis=1))\n",
        "conf_matrix = pd.DataFrame(matrix, index = ['Neutral','Negative','Positive'],columns = ['Neutral','Negative','Positive'])\n",
        "#Normalizing\n",
        "conf_matrix = conf_matrix.astype('float') / conf_matrix.sum(axis=1)[:, np.newaxis]\n",
        "plt.figure(figsize = (15,15))\n",
        "seaborn.heatmap(conf_matrix, annot=True, annot_kws={\"size\": 15})"
      ],
      "execution_count": null,
      "outputs": [
        {
          "output_type": "execute_result",
          "data": {
            "text/plain": [
              "<matplotlib.axes._subplots.AxesSubplot at 0x7fede413ae50>"
            ]
          },
          "metadata": {
            "tags": []
          },
          "execution_count": 233
        },
        {
          "output_type": "display_data",
          "data": {
            "image/png": "[encoded data removed]",
            "text/plain": [
              "<Figure size 1080x1080 with 2 Axes>"
            ]
          },
          "metadata": {
            "tags": [],
            "needs_background": "light"
          }
        }
      ]
    },
    {
      "cell_type": "code",
      "metadata": {
        "id": "6HpNIlmbpNQy"
      },
      "source": [
        "sentiment = ['Neutral','Negative','Positive']"
      ],
      "execution_count": null,
      "outputs": []
    },
    {
      "cell_type": "code",
      "metadata": {
        "colab": {
          "base_uri": "https://localhost:8080/",
          "height": 35
        },
        "id": "MCpRmGIYpWJ-",
        "outputId": "75ae8b0c-41e8-4816-9a79-873a4926f1a6"
      },
      "source": [
        "sequence = tokenizer.texts_to_sequences(['the trump administration failed to deliver on vaccine promises shocker covidiots coronavirus covidvaccine'])\n",
        "test = pad_sequences(sequence, maxlen=max_len)\n",
        "sentiment[np.around(model5.predict([test,test,test]), decimals=0).argmax(axis=1)[0]]"
      ],
      "execution_count": null,
      "outputs": [
        {
          "output_type": "execute_result",
          "data": {
            "application/vnd.google.colaboratory.intrinsic+json": {
              "type": "string"
            },
            "text/plain": [
              "'Neutral'"
            ]
          },
          "metadata": {
            "tags": []
          },
          "execution_count": 237
        }
      ]
    },
    {
      "cell_type": "code",
      "metadata": {
        "colab": {
          "base_uri": "https://localhost:8080/",
          "height": 35
        },
        "id": "ThPwJZQPpbCZ",
        "outputId": "684ce9b5-e816-4d0a-cd58-d07c76d8720b"
      },
      "source": [
        "sequence = tokenizer.texts_to_sequences(['this data science article is the best ever'])\n",
        "test2 = pad_sequences(sequence, maxlen=max_len)\n",
        "sentiment[np.around(model5.predict([test2, test2, test2]), decimals=0).argmax(axis=1)[0]]"
      ],
      "execution_count": null,
      "outputs": [
        {
          "output_type": "execute_result",
          "data": {
            "application/vnd.google.colaboratory.intrinsic+json": {
              "type": "string"
            },
            "text/plain": [
              "'Positive'"
            ]
          },
          "metadata": {
            "tags": []
          },
          "execution_count": 238
        }
      ]
    },
    {
      "cell_type": "code",
      "metadata": {
        "colab": {
          "base_uri": "https://localhost:8080/",
          "height": 35
        },
        "id": "wq3KAeu-prPJ",
        "outputId": "3df2e52b-36ad-4034-e65e-c6682ca83033"
      },
      "source": [
        "sequence = tokenizer.texts_to_sequences(['i hate youtube ads, they are annoying'])\n",
        "test3 = pad_sequences(sequence, maxlen=max_len)\n",
        "sentiment[np.around(model5.predict([test3,test3,test3]), decimals=0).argmax(axis=1)[0]]"
      ],
      "execution_count": null,
      "outputs": [
        {
          "output_type": "execute_result",
          "data": {
            "application/vnd.google.colaboratory.intrinsic+json": {
              "type": "string"
            },
            "text/plain": [
              "'Negative'"
            ]
          },
          "metadata": {
            "tags": []
          },
          "execution_count": 242
        }
      ]
    },
    {
      "cell_type": "code",
      "metadata": {
        "colab": {
          "base_uri": "https://localhost:8080/",
          "height": 35
        },
        "id": "jUnbKN2TpyiB",
        "outputId": "e1e85cf7-0ca9-43a5-c173-1e2c68f06862"
      },
      "source": [
        "sequence = tokenizer.texts_to_sequences(['i really loved how the technician helped me with the issue that i had'])\n",
        "test4 = pad_sequences(sequence, maxlen=max_len)\n",
        "sentiment[np.around(best_model.predict([test4, test4, test4]), decimals=0).argmax(axis=1)[0]]"
      ],
      "execution_count": null,
      "outputs": [
        {
          "output_type": "execute_result",
          "data": {
            "application/vnd.google.colaboratory.intrinsic+json": {
              "type": "string"
            },
            "text/plain": [
              "'Neutral'"
            ]
          },
          "metadata": {
            "tags": []
          },
          "execution_count": 243
        }
      ]
    },
    {
      "cell_type": "markdown",
      "metadata": {
        "id": "mXW1VHvNq-Lm"
      },
      "source": [
        "### Covid-19 Vaccine Tweet Dataset "
      ]
    },
    {
      "cell_type": "code",
      "metadata": {
        "colab": {
          "base_uri": "https://localhost:8080/",
          "height": 855
        },
        "id": "lrP5_udYqBiH",
        "outputId": "83b7313a-9ee6-4081-f7e3-1c9cb4cf56c7"
      },
      "source": [
        "#Load data \n",
        "\n",
        "covidtweets = pd.read_csv(os.path.join(datadir, 'vaccination_all_tweets.csv'))\n",
        "covidtweets.head(10)"
      ],
      "execution_count": null,
      "outputs": [
        {
          "output_type": "execute_result",
          "data": {
            "text/html": [
              "<div>\n",
              "<style scoped>\n",
              "    .dataframe tbody tr th:only-of-type {\n",
              "        vertical-align: middle;\n",
              "    }\n",
              "\n",
              "    .dataframe tbody tr th {\n",
              "        vertical-align: top;\n",
              "    }\n",
              "\n",
              "    .dataframe thead th {\n",
              "        text-align: right;\n",
              "    }\n",
              "</style>\n",
              "<table border=\"1\" class=\"dataframe\">\n",
              "  <thead>\n",
              "    <tr style=\"text-align: right;\">\n",
              "      <th></th>\n",
              "      <th>id</th>\n",
              "      <th>user_name</th>\n",
              "      <th>user_location</th>\n",
              "      <th>user_description</th>\n",
              "      <th>user_created</th>\n",
              "      <th>user_followers</th>\n",
              "      <th>user_friends</th>\n",
              "      <th>user_favourites</th>\n",
              "      <th>user_verified</th>\n",
              "      <th>date</th>\n",
              "      <th>text</th>\n",
              "      <th>hashtags</th>\n",
              "      <th>source</th>\n",
              "      <th>retweets</th>\n",
              "      <th>favorites</th>\n",
              "      <th>is_retweet</th>\n",
              "    </tr>\n",
              "  </thead>\n",
              "  <tbody>\n",
              "    <tr>\n",
              "      <th>0</th>\n",
              "      <td>1340539111971516416</td>\n",
              "      <td>Rachel Roh</td>\n",
              "      <td>La Crescenta-Montrose, CA</td>\n",
              "      <td>Aggregator of Asian American news; scanning di...</td>\n",
              "      <td>2009-04-08 17:52:46</td>\n",
              "      <td>405</td>\n",
              "      <td>1692</td>\n",
              "      <td>3247</td>\n",
              "      <td>False</td>\n",
              "      <td>2020-12-20 06:06:44</td>\n",
              "      <td>Same folks said daikon paste could treat a cyt...</td>\n",
              "      <td>['PfizerBioNTech']</td>\n",
              "      <td>Twitter for Android</td>\n",
              "      <td>0</td>\n",
              "      <td>0</td>\n",
              "      <td>False</td>\n",
              "    </tr>\n",
              "    <tr>\n",
              "      <th>1</th>\n",
              "      <td>1338158543359250433</td>\n",
              "      <td>Albert Fong</td>\n",
              "      <td>San Francisco, CA</td>\n",
              "      <td>Marketing dude, tech geek, heavy metal &amp; '80s ...</td>\n",
              "      <td>2009-09-21 15:27:30</td>\n",
              "      <td>834</td>\n",
              "      <td>666</td>\n",
              "      <td>178</td>\n",
              "      <td>False</td>\n",
              "      <td>2020-12-13 16:27:13</td>\n",
              "      <td>While the world has been on the wrong side of ...</td>\n",
              "      <td>NaN</td>\n",
              "      <td>Twitter Web App</td>\n",
              "      <td>1</td>\n",
              "      <td>1</td>\n",
              "      <td>False</td>\n",
              "    </tr>\n",
              "    <tr>\n",
              "      <th>2</th>\n",
              "      <td>1337858199140118533</td>\n",
              "      <td>eli🇱🇹🇪🇺👌</td>\n",
              "      <td>Your Bed</td>\n",
              "      <td>heil, hydra 🖐☺</td>\n",
              "      <td>2020-06-25 23:30:28</td>\n",
              "      <td>10</td>\n",
              "      <td>88</td>\n",
              "      <td>155</td>\n",
              "      <td>False</td>\n",
              "      <td>2020-12-12 20:33:45</td>\n",
              "      <td>#coronavirus #SputnikV #AstraZeneca #PfizerBio...</td>\n",
              "      <td>['coronavirus', 'SputnikV', 'AstraZeneca', 'Pf...</td>\n",
              "      <td>Twitter for Android</td>\n",
              "      <td>0</td>\n",
              "      <td>0</td>\n",
              "      <td>False</td>\n",
              "    </tr>\n",
              "    <tr>\n",
              "      <th>3</th>\n",
              "      <td>1337855739918835717</td>\n",
              "      <td>Charles Adler</td>\n",
              "      <td>Vancouver, BC - Canada</td>\n",
              "      <td>Hosting \"CharlesAdlerTonight\" Global News Radi...</td>\n",
              "      <td>2008-09-10 11:28:53</td>\n",
              "      <td>49165</td>\n",
              "      <td>3933</td>\n",
              "      <td>21853</td>\n",
              "      <td>True</td>\n",
              "      <td>2020-12-12 20:23:59</td>\n",
              "      <td>Facts are immutable, Senator, even when you're...</td>\n",
              "      <td>NaN</td>\n",
              "      <td>Twitter Web App</td>\n",
              "      <td>446</td>\n",
              "      <td>2129</td>\n",
              "      <td>False</td>\n",
              "    </tr>\n",
              "    <tr>\n",
              "      <th>4</th>\n",
              "      <td>1337854064604966912</td>\n",
              "      <td>Citizen News Channel</td>\n",
              "      <td>NaN</td>\n",
              "      <td>Citizen News Channel bringing you an alternati...</td>\n",
              "      <td>2020-04-23 17:58:42</td>\n",
              "      <td>152</td>\n",
              "      <td>580</td>\n",
              "      <td>1473</td>\n",
              "      <td>False</td>\n",
              "      <td>2020-12-12 20:17:19</td>\n",
              "      <td>Explain to me again why we need a vaccine @Bor...</td>\n",
              "      <td>['whereareallthesickpeople', 'PfizerBioNTech']</td>\n",
              "      <td>Twitter for iPhone</td>\n",
              "      <td>0</td>\n",
              "      <td>0</td>\n",
              "      <td>False</td>\n",
              "    </tr>\n",
              "    <tr>\n",
              "      <th>5</th>\n",
              "      <td>1337852648389832708</td>\n",
              "      <td>Dee</td>\n",
              "      <td>Birmingham, England</td>\n",
              "      <td>Gastroenterology trainee, Clinical Research Fe...</td>\n",
              "      <td>2020-01-26 21:43:12</td>\n",
              "      <td>105</td>\n",
              "      <td>108</td>\n",
              "      <td>106</td>\n",
              "      <td>False</td>\n",
              "      <td>2020-12-12 20:11:42</td>\n",
              "      <td>Does anyone have any useful advice/guidance fo...</td>\n",
              "      <td>NaN</td>\n",
              "      <td>Twitter for iPhone</td>\n",
              "      <td>0</td>\n",
              "      <td>0</td>\n",
              "      <td>False</td>\n",
              "    </tr>\n",
              "    <tr>\n",
              "      <th>6</th>\n",
              "      <td>1337851215875608579</td>\n",
              "      <td>Gunther Fehlinger</td>\n",
              "      <td>Austria, Ukraine and Kosovo</td>\n",
              "      <td>End North Stream 2 now - the pipeline of corru...</td>\n",
              "      <td>2013-06-10 17:49:22</td>\n",
              "      <td>2731</td>\n",
              "      <td>5001</td>\n",
              "      <td>69344</td>\n",
              "      <td>False</td>\n",
              "      <td>2020-12-12 20:06:00</td>\n",
              "      <td>it is a bit sad to claim the fame for success ...</td>\n",
              "      <td>['vaccination']</td>\n",
              "      <td>Twitter Web App</td>\n",
              "      <td>0</td>\n",
              "      <td>4</td>\n",
              "      <td>False</td>\n",
              "    </tr>\n",
              "    <tr>\n",
              "      <th>7</th>\n",
              "      <td>1337850832256176136</td>\n",
              "      <td>Dr.Krutika Kuppalli</td>\n",
              "      <td>NaN</td>\n",
              "      <td>ID, Global Health, VHF, Pandemic Prep, Emergin...</td>\n",
              "      <td>2019-03-25 04:14:29</td>\n",
              "      <td>21924</td>\n",
              "      <td>593</td>\n",
              "      <td>7815</td>\n",
              "      <td>True</td>\n",
              "      <td>2020-12-12 20:04:29</td>\n",
              "      <td>There have not been many bright days in 2020 b...</td>\n",
              "      <td>['BidenHarris', 'Election2020']</td>\n",
              "      <td>Twitter for iPhone</td>\n",
              "      <td>2</td>\n",
              "      <td>22</td>\n",
              "      <td>False</td>\n",
              "    </tr>\n",
              "    <tr>\n",
              "      <th>8</th>\n",
              "      <td>1337850023531347969</td>\n",
              "      <td>Erin Despas</td>\n",
              "      <td>NaN</td>\n",
              "      <td>Designing&amp;selling on Teespring. Like 90s Disne...</td>\n",
              "      <td>2009-10-30 17:53:54</td>\n",
              "      <td>887</td>\n",
              "      <td>1515</td>\n",
              "      <td>9639</td>\n",
              "      <td>False</td>\n",
              "      <td>2020-12-12 20:01:16</td>\n",
              "      <td>Covid vaccine; You getting it?\\n\\n #CovidVacci...</td>\n",
              "      <td>['CovidVaccine', 'covid19', 'PfizerBioNTech', ...</td>\n",
              "      <td>Twitter Web App</td>\n",
              "      <td>2</td>\n",
              "      <td>1</td>\n",
              "      <td>False</td>\n",
              "    </tr>\n",
              "    <tr>\n",
              "      <th>9</th>\n",
              "      <td>1337842295857623042</td>\n",
              "      <td>Ch.Amjad Ali</td>\n",
              "      <td>Islamabad</td>\n",
              "      <td>#ProudPakistani #LovePakArmy #PMIK @insafiansp...</td>\n",
              "      <td>2012-11-12 04:18:12</td>\n",
              "      <td>671</td>\n",
              "      <td>2368</td>\n",
              "      <td>20469</td>\n",
              "      <td>False</td>\n",
              "      <td>2020-12-12 19:30:33</td>\n",
              "      <td>#CovidVaccine \\n\\nStates will start getting #C...</td>\n",
              "      <td>['CovidVaccine', 'COVID19Vaccine', 'US', 'paku...</td>\n",
              "      <td>Twitter Web App</td>\n",
              "      <td>0</td>\n",
              "      <td>0</td>\n",
              "      <td>False</td>\n",
              "    </tr>\n",
              "  </tbody>\n",
              "</table>\n",
              "</div>"
            ],
            "text/plain": [
              "                    id             user_name  ... favorites is_retweet\n",
              "0  1340539111971516416            Rachel Roh  ...         0      False\n",
              "1  1338158543359250433           Albert Fong  ...         1      False\n",
              "2  1337858199140118533              eli🇱🇹🇪🇺👌  ...         0      False\n",
              "3  1337855739918835717         Charles Adler  ...      2129      False\n",
              "4  1337854064604966912  Citizen News Channel  ...         0      False\n",
              "5  1337852648389832708                   Dee  ...         0      False\n",
              "6  1337851215875608579     Gunther Fehlinger  ...         4      False\n",
              "7  1337850832256176136   Dr.Krutika Kuppalli  ...        22      False\n",
              "8  1337850023531347969           Erin Despas  ...         1      False\n",
              "9  1337842295857623042          Ch.Amjad Ali  ...         0      False\n",
              "\n",
              "[10 rows x 16 columns]"
            ]
          },
          "metadata": {
            "tags": []
          },
          "execution_count": 245
        }
      ]
    },
    {
      "cell_type": "markdown",
      "metadata": {
        "id": "Cr5_PWCZt1oP"
      },
      "source": [
        "###Preprocessing "
      ]
    },
    {
      "cell_type": "code",
      "metadata": {
        "colab": {
          "base_uri": "https://localhost:8080/"
        },
        "id": "FQCewxwwrecC",
        "outputId": "fdd7e2f0-6396-4ad3-b615-830c9eb2e9a6"
      },
      "source": [
        "temp = []\n",
        "#Splitting pd.Series to list\n",
        "data_to_list = covidtweets[\"text\"].values.tolist()\n",
        "for i in range(len(data_to_list)):\n",
        "    temp.append(preproces_data(data_to_list[i]))\n",
        "list(temp[:5])\n",
        "\n",
        "\n",
        "data_words = list(sent_to_words(temp))\n",
        "print(data_words[:10])\n",
        "\n",
        "\n",
        "data = []\n",
        "for i in range(len(data_words)):\n",
        "    \n",
        "    #for j in range(len(data_words[i])):\n",
        "        #stemming\n",
        "        #data_words[i][j] = lancaster.stem(data_words[i][j])\n",
        "        #lemmatization\n",
        "        #data_words[i][j] = data_words[i][j].format(data_words[i][j],wordnet_lemmatizer.lemmatize(data_words[i][j]))\n",
        "        \n",
        "    data.append(detokenize(data_words[i]))\n",
        "print(data[:5])\n",
        "\n",
        "data = np.array(data)\n",
        "\n",
        "#adding empty sentiment column\n",
        "covidtweets[\"sentiment\"] = np.nan"
      ],
      "execution_count": null,
      "outputs": [
        {
          "output_type": "stream",
          "text": [
            "[['pfizerbiontech'], ['hopefully'], ['coronavirus', 'sputnikv', 'astrazeneca', 'pfizerbiontech', 'moderna', 'covid_', 'years'], ['senator', 'youwereborni'], ['pfizerbiontech'], [], ['canada', 'ukand'], ['election'], ['covidvaccine', 'yougettingit', 'covidvaccine', 'covid', 'pfizerbiontech', 'moderna'], ['covid', 'vaccinemonday', 'ussays', 'pakustv', 'nyc', 'healthcare', 'globalgoals']]\n",
            "['pfizerbiontech', 'hopefully', 'coronavirus sputnikv astrazeneca pfizerbiontech moderna covid_ years', 'senator youwereborni', 'pfizerbiontech']\n"
          ],
          "name": "stdout"
        }
      ]
    },
    {
      "cell_type": "markdown",
      "metadata": {
        "id": "-OnlQI0euXFM"
      },
      "source": [
        "### Applying multichannel cnn to covid-19 vaccine tweets dataset"
      ]
    },
    {
      "cell_type": "code",
      "metadata": {
        "colab": {
          "base_uri": "https://localhost:8080/"
        },
        "id": "vRvPyTTUuKcE",
        "outputId": "0ecba4e3-083d-402d-b2e9-c719ae2f3e63"
      },
      "source": [
        "#covidtweets[\"sentiment\"] = best_model.predict_classes(data)]\n",
        "for i in range(len(temp)):\n",
        "    sequence = tokenizer.texts_to_sequences([temp[i]])\n",
        "    test = pad_sequences(sequence, maxlen=max_len)\n",
        "    covidtweets[\"sentiment\"][i] = sentiment[np.around(model5.predict([test, test, test]), decimals=0).argmax(axis=1)[0]]\n",
        "    if (i % 461 == 0):\n",
        "        percentage = i/len(temp) * 100\n",
        "        formatted_percentage = \"{:.0f}\".format(percentage)\n",
        "        print(formatted_percentage,\"%\")"
      ],
      "execution_count": null,
      "outputs": [
        {
          "output_type": "stream",
          "text": [
            "0 %\n",
            "0 %\n",
            "1 %\n",
            "1 %\n",
            "1 %\n",
            "2 %\n",
            "2 %\n",
            "2 %\n",
            "3 %\n",
            "3 %\n",
            "3 %\n",
            "3 %\n",
            "4 %\n",
            "4 %\n",
            "4 %\n",
            "5 %\n",
            "5 %\n",
            "5 %\n",
            "6 %\n",
            "6 %\n",
            "6 %\n",
            "7 %\n",
            "7 %\n",
            "7 %\n",
            "8 %\n",
            "8 %\n",
            "8 %\n",
            "9 %\n",
            "9 %\n",
            "9 %\n",
            "10 %\n",
            "10 %\n",
            "10 %\n",
            "10 %\n",
            "11 %\n",
            "11 %\n",
            "11 %\n",
            "12 %\n",
            "12 %\n",
            "12 %\n",
            "13 %\n",
            "13 %\n",
            "13 %\n",
            "14 %\n",
            "14 %\n",
            "14 %\n",
            "15 %\n",
            "15 %\n",
            "15 %\n",
            "16 %\n",
            "16 %\n",
            "16 %\n",
            "17 %\n",
            "17 %\n",
            "17 %\n",
            "17 %\n",
            "18 %\n",
            "18 %\n",
            "18 %\n",
            "19 %\n",
            "19 %\n",
            "19 %\n",
            "20 %\n",
            "20 %\n",
            "20 %\n",
            "21 %\n",
            "21 %\n",
            "21 %\n",
            "22 %\n",
            "22 %\n",
            "22 %\n",
            "23 %\n",
            "23 %\n",
            "23 %\n",
            "24 %\n",
            "24 %\n",
            "24 %\n",
            "24 %\n",
            "25 %\n",
            "25 %\n",
            "25 %\n",
            "26 %\n",
            "26 %\n",
            "26 %\n",
            "27 %\n",
            "27 %\n",
            "27 %\n",
            "28 %\n",
            "28 %\n",
            "28 %\n",
            "29 %\n",
            "29 %\n",
            "29 %\n",
            "30 %\n",
            "30 %\n",
            "30 %\n",
            "31 %\n",
            "31 %\n",
            "31 %\n",
            "31 %\n",
            "32 %\n",
            "32 %\n",
            "32 %\n",
            "33 %\n",
            "33 %\n",
            "33 %\n",
            "34 %\n",
            "34 %\n",
            "34 %\n",
            "35 %\n",
            "35 %\n",
            "35 %\n",
            "36 %\n",
            "36 %\n",
            "36 %\n",
            "37 %\n",
            "37 %\n",
            "37 %\n",
            "38 %\n",
            "38 %\n",
            "38 %\n",
            "38 %\n",
            "39 %\n",
            "39 %\n",
            "39 %\n",
            "40 %\n",
            "40 %\n",
            "40 %\n",
            "41 %\n",
            "41 %\n",
            "41 %\n",
            "42 %\n",
            "42 %\n",
            "42 %\n",
            "43 %\n",
            "43 %\n",
            "43 %\n",
            "44 %\n",
            "44 %\n",
            "44 %\n",
            "45 %\n",
            "45 %\n",
            "45 %\n",
            "45 %\n",
            "46 %\n",
            "46 %\n",
            "46 %\n",
            "47 %\n",
            "47 %\n",
            "47 %\n",
            "48 %\n",
            "48 %\n",
            "48 %\n",
            "49 %\n",
            "49 %\n",
            "49 %\n",
            "50 %\n",
            "50 %\n",
            "50 %\n",
            "51 %\n",
            "51 %\n",
            "51 %\n",
            "51 %\n",
            "52 %\n",
            "52 %\n",
            "52 %\n",
            "53 %\n",
            "53 %\n",
            "53 %\n",
            "54 %\n",
            "54 %\n",
            "54 %\n",
            "55 %\n",
            "55 %\n",
            "55 %\n",
            "56 %\n",
            "56 %\n",
            "56 %\n",
            "57 %\n",
            "57 %\n",
            "57 %\n",
            "58 %\n",
            "58 %\n",
            "58 %\n",
            "58 %\n",
            "59 %\n",
            "59 %\n",
            "59 %\n",
            "60 %\n",
            "60 %\n",
            "60 %\n",
            "61 %\n",
            "61 %\n",
            "61 %\n",
            "62 %\n",
            "62 %\n",
            "62 %\n",
            "63 %\n",
            "63 %\n",
            "63 %\n",
            "64 %\n",
            "64 %\n",
            "64 %\n",
            "65 %\n",
            "65 %\n",
            "65 %\n",
            "65 %\n",
            "66 %\n",
            "66 %\n",
            "66 %\n",
            "67 %\n",
            "67 %\n",
            "67 %\n",
            "68 %\n",
            "68 %\n",
            "68 %\n",
            "69 %\n",
            "69 %\n",
            "69 %\n",
            "70 %\n",
            "70 %\n",
            "70 %\n",
            "71 %\n",
            "71 %\n",
            "71 %\n",
            "72 %\n",
            "72 %\n",
            "72 %\n",
            "72 %\n",
            "73 %\n",
            "73 %\n",
            "73 %\n",
            "74 %\n",
            "74 %\n",
            "74 %\n",
            "75 %\n",
            "75 %\n",
            "75 %\n",
            "76 %\n",
            "76 %\n",
            "76 %\n",
            "77 %\n",
            "77 %\n",
            "77 %\n",
            "78 %\n",
            "78 %\n",
            "78 %\n",
            "79 %\n",
            "79 %\n",
            "79 %\n",
            "79 %\n",
            "80 %\n",
            "80 %\n",
            "80 %\n",
            "81 %\n",
            "81 %\n",
            "81 %\n",
            "82 %\n",
            "82 %\n",
            "82 %\n",
            "83 %\n",
            "83 %\n",
            "83 %\n",
            "84 %\n",
            "84 %\n",
            "84 %\n",
            "85 %\n",
            "85 %\n",
            "85 %\n",
            "86 %\n",
            "86 %\n",
            "86 %\n",
            "86 %\n",
            "87 %\n",
            "87 %\n",
            "87 %\n",
            "88 %\n",
            "88 %\n",
            "88 %\n",
            "89 %\n",
            "89 %\n",
            "89 %\n",
            "90 %\n",
            "90 %\n",
            "90 %\n",
            "91 %\n",
            "91 %\n",
            "91 %\n",
            "92 %\n",
            "92 %\n",
            "92 %\n",
            "93 %\n",
            "93 %\n",
            "93 %\n",
            "93 %\n",
            "94 %\n",
            "94 %\n",
            "94 %\n",
            "95 %\n",
            "95 %\n",
            "95 %\n",
            "96 %\n",
            "96 %\n",
            "96 %\n",
            "97 %\n",
            "97 %\n",
            "97 %\n",
            "98 %\n",
            "98 %\n",
            "98 %\n",
            "99 %\n",
            "99 %\n",
            "99 %\n",
            "99 %\n",
            "100 %\n"
          ],
          "name": "stdout"
        }
      ]
    },
    {
      "cell_type": "markdown",
      "metadata": {
        "id": "jdz6TKTATHiq"
      },
      "source": [
        "#### Model time to train - 2 hours"
      ]
    },
    {
      "cell_type": "code",
      "metadata": {
        "colab": {
          "base_uri": "https://localhost:8080/",
          "height": 1000
        },
        "id": "97bUCVd6ugzZ",
        "outputId": "0bc7f755-8d8f-47db-9d07-873566a8808d"
      },
      "source": [
        "pd.set_option('display.max_colwidth', None)\n",
        "covidtweets[[\"text\", \"sentiment\"]].head(50)"
      ],
      "execution_count": null,
      "outputs": [
        {
          "output_type": "execute_result",
          "data": {
            "text/html": [
              "<div>\n",
              "<style scoped>\n",
              "    .dataframe tbody tr th:only-of-type {\n",
              "        vertical-align: middle;\n",
              "    }\n",
              "\n",
              "    .dataframe tbody tr th {\n",
              "        vertical-align: top;\n",
              "    }\n",
              "\n",
              "    .dataframe thead th {\n",
              "        text-align: right;\n",
              "    }\n",
              "</style>\n",
              "<table border=\"1\" class=\"dataframe\">\n",
              "  <thead>\n",
              "    <tr style=\"text-align: right;\">\n",
              "      <th></th>\n",
              "      <th>text</th>\n",
              "      <th>sentiment</th>\n",
              "    </tr>\n",
              "  </thead>\n",
              "  <tbody>\n",
              "    <tr>\n",
              "      <th>0</th>\n",
              "      <td>Same folks said daikon paste could treat a cytokine storm #PfizerBioNTech https://t.co/xeHhIMg1kF</td>\n",
              "      <td>Neutral</td>\n",
              "    </tr>\n",
              "    <tr>\n",
              "      <th>1</th>\n",
              "      <td>While the world has been on the wrong side of history this year, hopefully, the biggest vaccination effort we've ev… https://t.co/dlCHrZjkhm</td>\n",
              "      <td>Positive</td>\n",
              "    </tr>\n",
              "    <tr>\n",
              "      <th>2</th>\n",
              "      <td>#coronavirus #SputnikV #AstraZeneca #PfizerBioNTech #Moderna #Covid_19 Russian vaccine is created to last 2-4 years… https://t.co/ieYlCKBr8P</td>\n",
              "      <td>Neutral</td>\n",
              "    </tr>\n",
              "    <tr>\n",
              "      <th>3</th>\n",
              "      <td>Facts are immutable, Senator, even when you're not ethically sturdy enough to acknowledge them. (1) You were born i… https://t.co/jqgV18kch4</td>\n",
              "      <td>Neutral</td>\n",
              "    </tr>\n",
              "    <tr>\n",
              "      <th>4</th>\n",
              "      <td>Explain to me again why we need a vaccine @BorisJohnson @MattHancock #whereareallthesickpeople #PfizerBioNTech… https://t.co/KxbSRoBEHq</td>\n",
              "      <td>Neutral</td>\n",
              "    </tr>\n",
              "    <tr>\n",
              "      <th>5</th>\n",
              "      <td>Does anyone have any useful advice/guidance for whether the COVID vaccine is safe whilst breastfeeding?… https://t.co/EifsyQoeKN</td>\n",
              "      <td>Neutral</td>\n",
              "    </tr>\n",
              "    <tr>\n",
              "      <th>6</th>\n",
              "      <td>it is a bit sad to claim the fame for success of #vaccination on patriotic competition between USA, Canada, UK and… https://t.co/IfMrAyGyTP</td>\n",
              "      <td>Neutral</td>\n",
              "    </tr>\n",
              "    <tr>\n",
              "      <th>7</th>\n",
              "      <td>There have not been many bright days in 2020 but here are some of the best \\n1. #BidenHarris winning #Election2020… https://t.co/77u4f8XXfx</td>\n",
              "      <td>Neutral</td>\n",
              "    </tr>\n",
              "    <tr>\n",
              "      <th>8</th>\n",
              "      <td>Covid vaccine; You getting it?\\n\\n #CovidVaccine #covid19 #PfizerBioNTech #Moderna</td>\n",
              "      <td>Neutral</td>\n",
              "    </tr>\n",
              "    <tr>\n",
              "      <th>9</th>\n",
              "      <td>#CovidVaccine \\n\\nStates will start getting #COVID19Vaccine Monday, #US says \\n#pakustv #NYC #Healthcare #GlobalGoals… https://t.co/MksOvBvs5w</td>\n",
              "      <td>Neutral</td>\n",
              "    </tr>\n",
              "    <tr>\n",
              "      <th>10</th>\n",
              "      <td>while deaths are closing in on the 300,000 mark... millions of people wait #PfizerBioNTech #Vaccine !\\n-\\nThe first U… https://t.co/uQ3A2f7SVP</td>\n",
              "      <td>Neutral</td>\n",
              "    </tr>\n",
              "    <tr>\n",
              "      <th>11</th>\n",
              "      <td>@cnnbrk #COVID19 #CovidVaccine #vaccine #Corona   #PfizerBioNTech #bbcnews #NYTimes #BBCNews Best wishes to the US… https://t.co/9xWmfU3LZj</td>\n",
              "      <td>Neutral</td>\n",
              "    </tr>\n",
              "    <tr>\n",
              "      <th>12</th>\n",
              "      <td>The agency also released new information for health care providers and for patients as the US shipped millions of d… https://t.co/sG6BtD7jD9</td>\n",
              "      <td>Neutral</td>\n",
              "    </tr>\n",
              "    <tr>\n",
              "      <th>13</th>\n",
              "      <td>For all the women and healthcare providers who have been asking about the safety of the #PfizerBioNTech… https://t.co/ow0Pglkwte</td>\n",
              "      <td>Neutral</td>\n",
              "    </tr>\n",
              "    <tr>\n",
              "      <th>14</th>\n",
              "      <td>\"Expect 145 sites across all the states to receive vaccine on Monday, another 425 sites on Tuesday,\" said the offic… https://t.co/HiUVYJzOBY</td>\n",
              "      <td>Neutral</td>\n",
              "    </tr>\n",
              "    <tr>\n",
              "      <th>15</th>\n",
              "      <td>Trump announces #vaccine rollout 'in less than 24 hours'\\n\\nThe first Americans will be vaccinated against… https://t.co/2FzQSMnhoY</td>\n",
              "      <td>Neutral</td>\n",
              "    </tr>\n",
              "    <tr>\n",
              "      <th>16</th>\n",
              "      <td>UPDATED: #YellowFever &amp;amp; #COVID19 #ImmunityPassports - Part Two\\n\\n#SARSCoV2 #PfizerBioNtech #Britain #December… https://t.co/qKT7Rst9aW</td>\n",
              "      <td>Neutral</td>\n",
              "    </tr>\n",
              "    <tr>\n",
              "      <th>17</th>\n",
              "      <td>Coronavirus: Iran reports 8,201 new cases, 221 deaths in the last 24 hours #Iran #coronavirus #PfizerBioNTech… https://t.co/mwDNAdmb7F</td>\n",
              "      <td>Neutral</td>\n",
              "    </tr>\n",
              "    <tr>\n",
              "      <th>18</th>\n",
              "      <td>.@Pfizer will rake in billions from its expensive #CovidVaccine but @AlbertBourla refuses to cut the price for lowe… https://t.co/eC94w3TUl0</td>\n",
              "      <td>Neutral</td>\n",
              "    </tr>\n",
              "    <tr>\n",
              "      <th>19</th>\n",
              "      <td>The trump administration failed to deliver on vaccine promises, *shocker* #COVIDIOTS #coronavirus #CovidVaccine… https://t.co/hew6eHTUrD</td>\n",
              "      <td>Neutral</td>\n",
              "    </tr>\n",
              "    <tr>\n",
              "      <th>20</th>\n",
              "      <td>How much did the #fda get paid to approve this all of a sudden now? money makes the world go around. #vaccine… https://t.co/GT9qVVNbKj</td>\n",
              "      <td>Neutral</td>\n",
              "    </tr>\n",
              "    <tr>\n",
              "      <th>21</th>\n",
              "      <td>Anyone wondering why day after #PfizerBioNTech approval in the UK people were getting vaccinated but all we are tol… https://t.co/tPSyL9CUYE</td>\n",
              "      <td>Neutral</td>\n",
              "    </tr>\n",
              "    <tr>\n",
              "      <th>22</th>\n",
              "      <td>Trump announces #vaccine rollout 'in less than 24 hours'\\n\\nThe first Americans will be vaccinated against… https://t.co/P9esXr3zpS</td>\n",
              "      <td>Neutral</td>\n",
              "    </tr>\n",
              "    <tr>\n",
              "      <th>23</th>\n",
              "      <td>The US Food and Drug Administration (FDA) has granted emergency use authorization to Pfizer-BioNTech's mRNA… https://t.co/dPLokxGtBa</td>\n",
              "      <td>Neutral</td>\n",
              "    </tr>\n",
              "    <tr>\n",
              "      <th>24</th>\n",
              "      <td>Presenting you the top Medical News/Advancement of the past week you don't want to miss!\\n\\n#docnosofficial #covid19… https://t.co/qOd5TPLYvA</td>\n",
              "      <td>Neutral</td>\n",
              "    </tr>\n",
              "    <tr>\n",
              "      <th>25</th>\n",
              "      <td>No.1 of 2 done.\\n\\n#ThankYouNHS @NHSuk @MHRAgovuk and #PfizerBioNTech @pfizer for making the #CovidVaccine dream poss… https://t.co/3KvJ7UP432</td>\n",
              "      <td>Neutral</td>\n",
              "    </tr>\n",
              "    <tr>\n",
              "      <th>26</th>\n",
              "      <td>Wear a mask, wash your hands, and remain socially distant when possible. #stayhome #StayAtHome #StayAtHomeSaveLives… https://t.co/Jrlrg6bm0w</td>\n",
              "      <td>Neutral</td>\n",
              "    </tr>\n",
              "    <tr>\n",
              "      <th>27</th>\n",
              "      <td>⁦@AvgerinosMoscow⁩ #PfizerBioNTech #FDA approval Apprentice Style!\\n⁦@realDonaldTrump⁩: “Approve the #vaccine or you… https://t.co/f64cOP5DV6</td>\n",
              "      <td>Neutral</td>\n",
              "    </tr>\n",
              "    <tr>\n",
              "      <th>28</th>\n",
              "      <td>Interesting and very detailed article showing up how a well tested #supplychain, with #sharedvisibility will help d… https://t.co/yt3vn67mVg</td>\n",
              "      <td>Neutral</td>\n",
              "    </tr>\n",
              "    <tr>\n",
              "      <th>29</th>\n",
              "      <td>💉 #Vaccine #TrumpVaccine #AstraZeneca #PfizerBioNTech #Pfizervaccine #PfizerCovidVaccine  #Pfizer's COVID-19 belong… https://t.co/ldxQhN6uix</td>\n",
              "      <td>Neutral</td>\n",
              "    </tr>\n",
              "    <tr>\n",
              "      <th>30</th>\n",
              "      <td>@ZubyMusic 6 deaths so far. \\nIt's only death, nothing to worry about then 🤔\\n#CovidVaccines\\n#Pfizervaccine… https://t.co/HkGTDM5J3f</td>\n",
              "      <td>Neutral</td>\n",
              "    </tr>\n",
              "    <tr>\n",
              "      <th>31</th>\n",
              "      <td>@sbnumb3 @nytimes Please don’t spread fake news! There is no evidence that these cases are linked to the… https://t.co/bMcAhIPR5g</td>\n",
              "      <td>Neutral</td>\n",
              "    </tr>\n",
              "    <tr>\n",
              "      <th>32</th>\n",
              "      <td>#ICYMI The #FDA Authorized the #PfizerBioNTech #COVID19 #Vaccine for the United States last night\\n\\nhttps://t.co/CtYGB3fNnE</td>\n",
              "      <td>Neutral</td>\n",
              "    </tr>\n",
              "    <tr>\n",
              "      <th>33</th>\n",
              "      <td>All respect to due process but why not give approval now instead of the 29th of December. Surely multiple other cou… https://t.co/Xv0SRv1Ukw</td>\n",
              "      <td>Neutral</td>\n",
              "    </tr>\n",
              "    <tr>\n",
              "      <th>34</th>\n",
              "      <td>Vaccine!! Anyone?? #covid #Pfizervaccine #PfizerBioNTech https://t.co/b9ZKwnlIkX</td>\n",
              "      <td>Neutral</td>\n",
              "    </tr>\n",
              "    <tr>\n",
              "      <th>35</th>\n",
              "      <td>An immigrant Muslim couple find the COVID-19 Vaccine. \\n\\n#CovidVaccine #PfizerBioNTech #Pfizervaccine #PfizerProud</td>\n",
              "      <td>Neutral</td>\n",
              "    </tr>\n",
              "    <tr>\n",
              "      <th>36</th>\n",
              "      <td>The #FDA finally issues #EUA now comes the problem transporting this #PfizerBioNTech vaccine, needs to be kept at -… https://t.co/NvaGyoo2yD</td>\n",
              "      <td>Neutral</td>\n",
              "    </tr>\n",
              "    <tr>\n",
              "      <th>37</th>\n",
              "      <td>Ladies and Gentlemen, now we have #CovidVaccine experts in each and every household of #Pakistan #PfizerBioNTech #oxfordvaccine 🤦‍♂️</td>\n",
              "      <td>Neutral</td>\n",
              "    </tr>\n",
              "    <tr>\n",
              "      <th>38</th>\n",
              "      <td>FACT SHEET FOR HEALTHCARE PROVIDERS ADMINISTERING VACCINE\\n\\n#PfizerBioNTech \\n#CovidVaccine \\n\\nhttps://t.co/xRaOiACZSD</td>\n",
              "      <td>Neutral</td>\n",
              "    </tr>\n",
              "    <tr>\n",
              "      <th>39</th>\n",
              "      <td>@mirekR9 @sputnikvaccine @AstraZeneca check out table 23 of this and other tables too because it took the penny a w… https://t.co/5r6ibs8Jm8</td>\n",
              "      <td>Neutral</td>\n",
              "    </tr>\n",
              "    <tr>\n",
              "      <th>40</th>\n",
              "      <td>@mirekR9 @sputnikvaccine @AstraZeneca it's the only one which doesn't have any side effects \\n\\nthe #PfizerBioNTech a… https://t.co/IWELAATAmd</td>\n",
              "      <td>Neutral</td>\n",
              "    </tr>\n",
              "    <tr>\n",
              "      <th>41</th>\n",
              "      <td>FACT SHEET FOR RECIPIENTS AND CAREGIVERS\\n\\n#PfizerBioNTech \\n#CovidVaccine \\n\\nhttps://t.co/V0mn08VTwj</td>\n",
              "      <td>Neutral</td>\n",
              "    </tr>\n",
              "    <tr>\n",
              "      <th>42</th>\n",
              "      <td>#CovidVaccine #Pfizer-BioNTech COVID-19 #PfizerBioNTech #COVID19 #CapeTown https://t.co/uCpwv0S4nl</td>\n",
              "      <td>Neutral</td>\n",
              "    </tr>\n",
              "    <tr>\n",
              "      <th>43</th>\n",
              "      <td>Trump announces #vaccine rollout 'in less than 24 hours'\\n\\nThe first Americans will be vaccinated against… https://t.co/6379SZjNQi</td>\n",
              "      <td>Neutral</td>\n",
              "    </tr>\n",
              "    <tr>\n",
              "      <th>44</th>\n",
              "      <td>#FDA authorizes #PfizerBioNTech #coronavirus vaccine for emergency use\\nhttps://t.co/VZ6bDPbbPG</td>\n",
              "      <td>Neutral</td>\n",
              "    </tr>\n",
              "    <tr>\n",
              "      <th>45</th>\n",
              "      <td>When The #CovidVaccine \\nPoisons Enough Of The LEFT With \"Side Effects\" Like #BellsPalsy Or ☠️ As They Are Flocking… https://t.co/mGNvf2XT8i</td>\n",
              "      <td>Positive</td>\n",
              "    </tr>\n",
              "    <tr>\n",
              "      <th>46</th>\n",
              "      <td>@realDonaldTrump Dairy dose of dumbsville by #DonTheCon #GrifterInChief #TrumpForPrison #TrumpCrimeFamily #COVID… https://t.co/gyiCvTuMOP</td>\n",
              "      <td>Neutral</td>\n",
              "    </tr>\n",
              "    <tr>\n",
              "      <th>47</th>\n",
              "      <td>The US #FDA has approved two #coronavirus vaccines: #PfizerBioNTech &amp;amp; #Moderna. Over 200 #vaccines are being develo… https://t.co/6lboJqT9mn</td>\n",
              "      <td>Neutral</td>\n",
              "    </tr>\n",
              "    <tr>\n",
              "      <th>48</th>\n",
              "      <td>As @EMA_News gets set to approve #PfizerBioNTech #vaccine, roll-out preparations pick up pace across #EU. Meanwhile… https://t.co/uWiv1SypWg</td>\n",
              "      <td>Neutral</td>\n",
              "    </tr>\n",
              "    <tr>\n",
              "      <th>49</th>\n",
              "      <td>COVID-19: News and updates\\npublic questioned whether he actually received the shot.\\nVideo footage appeared to show… https://t.co/lBc2PJ2b9l</td>\n",
              "      <td>Neutral</td>\n",
              "    </tr>\n",
              "  </tbody>\n",
              "</table>\n",
              "</div>"
            ],
            "text/plain": [
              "                                                                                                                                                text sentiment\n",
              "0                                                  Same folks said daikon paste could treat a cytokine storm #PfizerBioNTech https://t.co/xeHhIMg1kF   Neutral\n",
              "1       While the world has been on the wrong side of history this year, hopefully, the biggest vaccination effort we've ev… https://t.co/dlCHrZjkhm  Positive\n",
              "2       #coronavirus #SputnikV #AstraZeneca #PfizerBioNTech #Moderna #Covid_19 Russian vaccine is created to last 2-4 years… https://t.co/ieYlCKBr8P   Neutral\n",
              "3       Facts are immutable, Senator, even when you're not ethically sturdy enough to acknowledge them. (1) You were born i… https://t.co/jqgV18kch4   Neutral\n",
              "4            Explain to me again why we need a vaccine @BorisJohnson @MattHancock #whereareallthesickpeople #PfizerBioNTech… https://t.co/KxbSRoBEHq   Neutral\n",
              "5                   Does anyone have any useful advice/guidance for whether the COVID vaccine is safe whilst breastfeeding?… https://t.co/EifsyQoeKN   Neutral\n",
              "6        it is a bit sad to claim the fame for success of #vaccination on patriotic competition between USA, Canada, UK and… https://t.co/IfMrAyGyTP   Neutral\n",
              "7        There have not been many bright days in 2020 but here are some of the best \\n1. #BidenHarris winning #Election2020… https://t.co/77u4f8XXfx   Neutral\n",
              "8                                                                 Covid vaccine; You getting it?\\n\\n #CovidVaccine #covid19 #PfizerBioNTech #Moderna   Neutral\n",
              "9     #CovidVaccine \\n\\nStates will start getting #COVID19Vaccine Monday, #US says \\n#pakustv #NYC #Healthcare #GlobalGoals… https://t.co/MksOvBvs5w   Neutral\n",
              "10    while deaths are closing in on the 300,000 mark... millions of people wait #PfizerBioNTech #Vaccine !\\n-\\nThe first U… https://t.co/uQ3A2f7SVP   Neutral\n",
              "11       @cnnbrk #COVID19 #CovidVaccine #vaccine #Corona   #PfizerBioNTech #bbcnews #NYTimes #BBCNews Best wishes to the US… https://t.co/9xWmfU3LZj   Neutral\n",
              "12      The agency also released new information for health care providers and for patients as the US shipped millions of d… https://t.co/sG6BtD7jD9   Neutral\n",
              "13                  For all the women and healthcare providers who have been asking about the safety of the #PfizerBioNTech… https://t.co/ow0Pglkwte   Neutral\n",
              "14      \"Expect 145 sites across all the states to receive vaccine on Monday, another 425 sites on Tuesday,\" said the offic… https://t.co/HiUVYJzOBY   Neutral\n",
              "15               Trump announces #vaccine rollout 'in less than 24 hours'\\n\\nThe first Americans will be vaccinated against… https://t.co/2FzQSMnhoY   Neutral\n",
              "16       UPDATED: #YellowFever &amp; #COVID19 #ImmunityPassports - Part Two\\n\\n#SARSCoV2 #PfizerBioNtech #Britain #December… https://t.co/qKT7Rst9aW   Neutral\n",
              "17            Coronavirus: Iran reports 8,201 new cases, 221 deaths in the last 24 hours #Iran #coronavirus #PfizerBioNTech… https://t.co/mwDNAdmb7F   Neutral\n",
              "18      .@Pfizer will rake in billions from its expensive #CovidVaccine but @AlbertBourla refuses to cut the price for lowe… https://t.co/eC94w3TUl0   Neutral\n",
              "19          The trump administration failed to deliver on vaccine promises, *shocker* #COVIDIOTS #coronavirus #CovidVaccine… https://t.co/hew6eHTUrD   Neutral\n",
              "20            How much did the #fda get paid to approve this all of a sudden now? money makes the world go around. #vaccine… https://t.co/GT9qVVNbKj   Neutral\n",
              "21      Anyone wondering why day after #PfizerBioNTech approval in the UK people were getting vaccinated but all we are tol… https://t.co/tPSyL9CUYE   Neutral\n",
              "22               Trump announces #vaccine rollout 'in less than 24 hours'\\n\\nThe first Americans will be vaccinated against… https://t.co/P9esXr3zpS   Neutral\n",
              "23              The US Food and Drug Administration (FDA) has granted emergency use authorization to Pfizer-BioNTech's mRNA… https://t.co/dPLokxGtBa   Neutral\n",
              "24     Presenting you the top Medical News/Advancement of the past week you don't want to miss!\\n\\n#docnosofficial #covid19… https://t.co/qOd5TPLYvA   Neutral\n",
              "25    No.1 of 2 done.\\n\\n#ThankYouNHS @NHSuk @MHRAgovuk and #PfizerBioNTech @pfizer for making the #CovidVaccine dream poss… https://t.co/3KvJ7UP432   Neutral\n",
              "26      Wear a mask, wash your hands, and remain socially distant when possible. #stayhome #StayAtHome #StayAtHomeSaveLives… https://t.co/Jrlrg6bm0w   Neutral\n",
              "27     ⁦@AvgerinosMoscow⁩ #PfizerBioNTech #FDA approval Apprentice Style!\\n⁦@realDonaldTrump⁩: “Approve the #vaccine or you… https://t.co/f64cOP5DV6   Neutral\n",
              "28      Interesting and very detailed article showing up how a well tested #supplychain, with #sharedvisibility will help d… https://t.co/yt3vn67mVg   Neutral\n",
              "29      💉 #Vaccine #TrumpVaccine #AstraZeneca #PfizerBioNTech #Pfizervaccine #PfizerCovidVaccine  #Pfizer's COVID-19 belong… https://t.co/ldxQhN6uix   Neutral\n",
              "30             @ZubyMusic 6 deaths so far. \\nIt's only death, nothing to worry about then 🤔\\n#CovidVaccines\\n#Pfizervaccine… https://t.co/HkGTDM5J3f   Neutral\n",
              "31                 @sbnumb3 @nytimes Please don’t spread fake news! There is no evidence that these cases are linked to the… https://t.co/bMcAhIPR5g   Neutral\n",
              "32                      #ICYMI The #FDA Authorized the #PfizerBioNTech #COVID19 #Vaccine for the United States last night\\n\\nhttps://t.co/CtYGB3fNnE   Neutral\n",
              "33      All respect to due process but why not give approval now instead of the 29th of December. Surely multiple other cou… https://t.co/Xv0SRv1Ukw   Neutral\n",
              "34                                                                  Vaccine!! Anyone?? #covid #Pfizervaccine #PfizerBioNTech https://t.co/b9ZKwnlIkX   Neutral\n",
              "35                               An immigrant Muslim couple find the COVID-19 Vaccine. \\n\\n#CovidVaccine #PfizerBioNTech #Pfizervaccine #PfizerProud   Neutral\n",
              "36      The #FDA finally issues #EUA now comes the problem transporting this #PfizerBioNTech vaccine, needs to be kept at -… https://t.co/NvaGyoo2yD   Neutral\n",
              "37              Ladies and Gentlemen, now we have #CovidVaccine experts in each and every household of #Pakistan #PfizerBioNTech #oxfordvaccine 🤦‍♂️   Neutral\n",
              "38                          FACT SHEET FOR HEALTHCARE PROVIDERS ADMINISTERING VACCINE\\n\\n#PfizerBioNTech \\n#CovidVaccine \\n\\nhttps://t.co/xRaOiACZSD   Neutral\n",
              "39      @mirekR9 @sputnikvaccine @AstraZeneca check out table 23 of this and other tables too because it took the penny a w… https://t.co/5r6ibs8Jm8   Neutral\n",
              "40    @mirekR9 @sputnikvaccine @AstraZeneca it's the only one which doesn't have any side effects \\n\\nthe #PfizerBioNTech a… https://t.co/IWELAATAmd   Neutral\n",
              "41                                           FACT SHEET FOR RECIPIENTS AND CAREGIVERS\\n\\n#PfizerBioNTech \\n#CovidVaccine \\n\\nhttps://t.co/V0mn08VTwj   Neutral\n",
              "42                                                #CovidVaccine #Pfizer-BioNTech COVID-19 #PfizerBioNTech #COVID19 #CapeTown https://t.co/uCpwv0S4nl   Neutral\n",
              "43               Trump announces #vaccine rollout 'in less than 24 hours'\\n\\nThe first Americans will be vaccinated against… https://t.co/6379SZjNQi   Neutral\n",
              "44                                                   #FDA authorizes #PfizerBioNTech #coronavirus vaccine for emergency use\\nhttps://t.co/VZ6bDPbbPG   Neutral\n",
              "45      When The #CovidVaccine \\nPoisons Enough Of The LEFT With \"Side Effects\" Like #BellsPalsy Or ☠️ As They Are Flocking… https://t.co/mGNvf2XT8i  Positive\n",
              "46         @realDonaldTrump Dairy dose of dumbsville by #DonTheCon #GrifterInChief #TrumpForPrison #TrumpCrimeFamily #COVID… https://t.co/gyiCvTuMOP   Neutral\n",
              "47  The US #FDA has approved two #coronavirus vaccines: #PfizerBioNTech &amp; #Moderna. Over 200 #vaccines are being develo… https://t.co/6lboJqT9mn   Neutral\n",
              "48      As @EMA_News gets set to approve #PfizerBioNTech #vaccine, roll-out preparations pick up pace across #EU. Meanwhile… https://t.co/uWiv1SypWg   Neutral\n",
              "49     COVID-19: News and updates\\npublic questioned whether he actually received the shot.\\nVideo footage appeared to show… https://t.co/lBc2PJ2b9l   Neutral"
            ]
          },
          "metadata": {
            "tags": []
          },
          "execution_count": 250
        }
      ]
    },
    {
      "cell_type": "markdown",
      "metadata": {
        "id": "FW8cK6iNTtxz"
      },
      "source": [
        "### Plotting charts for the sentiment distribution"
      ]
    },
    {
      "cell_type": "code",
      "metadata": {
        "colab": {
          "base_uri": "https://localhost:8080/",
          "height": 893
        },
        "id": "N9-XA3BLTYSJ",
        "outputId": "71c773b3-282e-4f53-b3d9-8e19f07f6291"
      },
      "source": [
        "# Plot sentiment value counts\n",
        "covidtweets['sentiment'].value_counts(normalize=True).plot.bar();\n",
        "\n",
        "timeline = covidtweets.groupby(['sentiment']).agg(**{'tweets': ('id', 'count')}).reset_index().dropna()\n",
        "print(timeline)\n",
        "fig = px.bar(timeline,\n",
        "            x='sentiment', y=\"tweets\", color='sentiment', color_discrete_sequence=[\"#EF553B\", \"#636EFA\", \"#00CC96\"]\n",
        "        )\n",
        "fig.show()"
      ],
      "execution_count": null,
      "outputs": [
        {
          "output_type": "stream",
          "text": [
            "  sentiment  tweets\n",
            "0  Negative    1266\n",
            "1   Neutral  140668\n",
            "2  Positive    3091\n"
          ],
          "name": "stdout"
        },
        {
          "output_type": "display_data",
          "data": {
            "text/html": [
              "<html>\n",
              "<head><meta charset=\"utf-8\" /></head>\n",
              "<body>\n",
              "    <div>\n",
              "            <script src=\"https://cdnjs.cloudflare.com/ajax/libs/mathjax/2.7.5/MathJax.js?config=TeX-AMS-MML_SVG\"></script><script type=\"text/javascript\">if (window.MathJax) {MathJax.Hub.Config({SVG: {font: \"STIX-Web\"}});}</script>\n",
              "                <script type=\"text/javascript\">window.PlotlyConfig = {MathJaxConfig: 'local'};</script>\n",
              "        <script src=\"https://cdn.plot.ly/plotly-latest.min.js\"></script>    \n",
              "            <div id=\"0def38fc-c84e-422e-8e3e-d81d35e24c7a\" class=\"plotly-graph-div\" style=\"height:525px; width:100%;\"></div>\n",
              "            <script type=\"text/javascript\">\n",
              "                \n",
              "                    window.PLOTLYENV=window.PLOTLYENV || {};\n",
              "                    \n",
              "                if (document.getElementById(\"0def38fc-c84e-422e-8e3e-d81d35e24c7a\")) {\n",
              "                    Plotly.newPlot(\n",
              "                        '0def38fc-c84e-422e-8e3e-d81d35e24c7a',\n",
              "                        [{\"alignmentgroup\": \"True\", \"hoverlabel\": {\"namelength\": 0}, \"hovertemplate\": \"sentiment=%{x}<br>tweets=%{y}\", \"legendgroup\": \"sentiment=Negative\", \"marker\": {\"color\": \"#EF553B\"}, \"name\": \"sentiment=Negative\", \"offsetgroup\": \"sentiment=Negative\", \"orientation\": \"v\", \"showlegend\": true, \"textposition\": \"auto\", \"type\": \"bar\", \"x\": [\"Negative\"], \"xaxis\": \"x\", \"y\": [1266], \"yaxis\": \"y\"}, {\"alignmentgroup\": \"True\", \"hoverlabel\": {\"namelength\": 0}, \"hovertemplate\": \"sentiment=%{x}<br>tweets=%{y}\", \"legendgroup\": \"sentiment=Neutral\", \"marker\": {\"color\": \"#636EFA\"}, \"name\": \"sentiment=Neutral\", \"offsetgroup\": \"sentiment=Neutral\", \"orientation\": \"v\", \"showlegend\": true, \"textposition\": \"auto\", \"type\": \"bar\", \"x\": [\"Neutral\"], \"xaxis\": \"x\", \"y\": [140668], \"yaxis\": \"y\"}, {\"alignmentgroup\": \"True\", \"hoverlabel\": {\"namelength\": 0}, \"hovertemplate\": \"sentiment=%{x}<br>tweets=%{y}\", \"legendgroup\": \"sentiment=Positive\", \"marker\": {\"color\": \"#00CC96\"}, \"name\": \"sentiment=Positive\", \"offsetgroup\": \"sentiment=Positive\", \"orientation\": \"v\", \"showlegend\": true, \"textposition\": \"auto\", \"type\": \"bar\", \"x\": [\"Positive\"], \"xaxis\": \"x\", \"y\": [3091], \"yaxis\": \"y\"}],\n",
              "                        {\"barmode\": \"relative\", \"legend\": {\"tracegroupgap\": 0}, \"margin\": {\"t\": 60}, \"template\": {\"data\": {\"bar\": [{\"error_x\": {\"color\": \"#2a3f5f\"}, \"error_y\": {\"color\": \"#2a3f5f\"}, \"marker\": {\"line\": {\"color\": \"#E5ECF6\", \"width\": 0.5}}, \"type\": \"bar\"}], \"barpolar\": [{\"marker\": {\"line\": {\"color\": \"#E5ECF6\", \"width\": 0.5}}, \"type\": \"barpolar\"}], \"carpet\": [{\"aaxis\": {\"endlinecolor\": \"#2a3f5f\", \"gridcolor\": \"white\", \"linecolor\": \"white\", \"minorgridcolor\": \"white\", \"startlinecolor\": \"#2a3f5f\"}, \"baxis\": {\"endlinecolor\": \"#2a3f5f\", \"gridcolor\": \"white\", \"linecolor\": \"white\", \"minorgridcolor\": \"white\", \"startlinecolor\": \"#2a3f5f\"}, \"type\": \"carpet\"}], \"choropleth\": [{\"colorbar\": {\"outlinewidth\": 0, \"ticks\": \"\"}, \"type\": \"choropleth\"}], \"contour\": [{\"colorbar\": {\"outlinewidth\": 0, \"ticks\": \"\"}, \"colorscale\": [[0.0, \"#0d0887\"], [0.1111111111111111, \"#46039f\"], [0.2222222222222222, \"#7201a8\"], [0.3333333333333333, \"#9c179e\"], [0.4444444444444444, \"#bd3786\"], [0.5555555555555556, \"#d8576b\"], [0.6666666666666666, \"#ed7953\"], [0.7777777777777778, \"#fb9f3a\"], [0.8888888888888888, \"#fdca26\"], [1.0, \"#f0f921\"]], \"type\": \"contour\"}], \"contourcarpet\": [{\"colorbar\": {\"outlinewidth\": 0, \"ticks\": \"\"}, \"type\": \"contourcarpet\"}], \"heatmap\": [{\"colorbar\": {\"outlinewidth\": 0, \"ticks\": \"\"}, \"colorscale\": [[0.0, \"#0d0887\"], [0.1111111111111111, \"#46039f\"], [0.2222222222222222, \"#7201a8\"], [0.3333333333333333, \"#9c179e\"], [0.4444444444444444, \"#bd3786\"], [0.5555555555555556, \"#d8576b\"], [0.6666666666666666, \"#ed7953\"], [0.7777777777777778, \"#fb9f3a\"], [0.8888888888888888, \"#fdca26\"], [1.0, \"#f0f921\"]], \"type\": \"heatmap\"}], \"heatmapgl\": [{\"colorbar\": {\"outlinewidth\": 0, \"ticks\": \"\"}, \"colorscale\": [[0.0, \"#0d0887\"], [0.1111111111111111, \"#46039f\"], [0.2222222222222222, \"#7201a8\"], [0.3333333333333333, \"#9c179e\"], [0.4444444444444444, \"#bd3786\"], [0.5555555555555556, \"#d8576b\"], [0.6666666666666666, \"#ed7953\"], [0.7777777777777778, \"#fb9f3a\"], [0.8888888888888888, \"#fdca26\"], [1.0, \"#f0f921\"]], \"type\": \"heatmapgl\"}], \"histogram\": [{\"marker\": {\"colorbar\": {\"outlinewidth\": 0, \"ticks\": \"\"}}, \"type\": \"histogram\"}], \"histogram2d\": [{\"colorbar\": {\"outlinewidth\": 0, \"ticks\": \"\"}, \"colorscale\": [[0.0, \"#0d0887\"], [0.1111111111111111, \"#46039f\"], [0.2222222222222222, \"#7201a8\"], [0.3333333333333333, \"#9c179e\"], [0.4444444444444444, \"#bd3786\"], [0.5555555555555556, \"#d8576b\"], [0.6666666666666666, \"#ed7953\"], [0.7777777777777778, \"#fb9f3a\"], [0.8888888888888888, \"#fdca26\"], [1.0, \"#f0f921\"]], \"type\": \"histogram2d\"}], \"histogram2dcontour\": [{\"colorbar\": {\"outlinewidth\": 0, \"ticks\": \"\"}, \"colorscale\": [[0.0, \"#0d0887\"], [0.1111111111111111, \"#46039f\"], [0.2222222222222222, \"#7201a8\"], [0.3333333333333333, \"#9c179e\"], [0.4444444444444444, \"#bd3786\"], [0.5555555555555556, \"#d8576b\"], [0.6666666666666666, \"#ed7953\"], [0.7777777777777778, \"#fb9f3a\"], [0.8888888888888888, \"#fdca26\"], [1.0, \"#f0f921\"]], \"type\": \"histogram2dcontour\"}], \"mesh3d\": [{\"colorbar\": {\"outlinewidth\": 0, \"ticks\": \"\"}, \"type\": \"mesh3d\"}], \"parcoords\": [{\"line\": {\"colorbar\": {\"outlinewidth\": 0, \"ticks\": \"\"}}, \"type\": \"parcoords\"}], \"pie\": [{\"automargin\": true, \"type\": \"pie\"}], \"scatter\": [{\"marker\": {\"colorbar\": {\"outlinewidth\": 0, \"ticks\": \"\"}}, \"type\": \"scatter\"}], \"scatter3d\": [{\"line\": {\"colorbar\": {\"outlinewidth\": 0, \"ticks\": \"\"}}, \"marker\": {\"colorbar\": {\"outlinewidth\": 0, \"ticks\": \"\"}}, \"type\": \"scatter3d\"}], \"scattercarpet\": [{\"marker\": {\"colorbar\": {\"outlinewidth\": 0, \"ticks\": \"\"}}, \"type\": \"scattercarpet\"}], \"scattergeo\": [{\"marker\": {\"colorbar\": {\"outlinewidth\": 0, \"ticks\": \"\"}}, \"type\": \"scattergeo\"}], \"scattergl\": [{\"marker\": {\"colorbar\": {\"outlinewidth\": 0, \"ticks\": \"\"}}, \"type\": \"scattergl\"}], \"scattermapbox\": [{\"marker\": {\"colorbar\": {\"outlinewidth\": 0, \"ticks\": \"\"}}, \"type\": \"scattermapbox\"}], \"scatterpolar\": [{\"marker\": {\"colorbar\": {\"outlinewidth\": 0, \"ticks\": \"\"}}, \"type\": \"scatterpolar\"}], \"scatterpolargl\": [{\"marker\": {\"colorbar\": {\"outlinewidth\": 0, \"ticks\": \"\"}}, \"type\": \"scatterpolargl\"}], \"scatterternary\": [{\"marker\": {\"colorbar\": {\"outlinewidth\": 0, \"ticks\": \"\"}}, \"type\": \"scatterternary\"}], \"surface\": [{\"colorbar\": {\"outlinewidth\": 0, \"ticks\": \"\"}, \"colorscale\": [[0.0, \"#0d0887\"], [0.1111111111111111, \"#46039f\"], [0.2222222222222222, \"#7201a8\"], [0.3333333333333333, \"#9c179e\"], [0.4444444444444444, \"#bd3786\"], [0.5555555555555556, \"#d8576b\"], [0.6666666666666666, \"#ed7953\"], [0.7777777777777778, \"#fb9f3a\"], [0.8888888888888888, \"#fdca26\"], [1.0, \"#f0f921\"]], \"type\": \"surface\"}], \"table\": [{\"cells\": {\"fill\": {\"color\": \"#EBF0F8\"}, \"line\": {\"color\": \"white\"}}, \"header\": {\"fill\": {\"color\": \"#C8D4E3\"}, \"line\": {\"color\": \"white\"}}, \"type\": \"table\"}]}, \"layout\": {\"annotationdefaults\": {\"arrowcolor\": \"#2a3f5f\", \"arrowhead\": 0, \"arrowwidth\": 1}, \"coloraxis\": {\"colorbar\": {\"outlinewidth\": 0, \"ticks\": \"\"}}, \"colorscale\": {\"diverging\": [[0, \"#8e0152\"], [0.1, \"#c51b7d\"], [0.2, \"#de77ae\"], [0.3, \"#f1b6da\"], [0.4, \"#fde0ef\"], [0.5, \"#f7f7f7\"], [0.6, \"#e6f5d0\"], [0.7, \"#b8e186\"], [0.8, \"#7fbc41\"], [0.9, \"#4d9221\"], [1, \"#276419\"]], \"sequential\": [[0.0, \"#0d0887\"], [0.1111111111111111, \"#46039f\"], [0.2222222222222222, \"#7201a8\"], [0.3333333333333333, \"#9c179e\"], [0.4444444444444444, \"#bd3786\"], [0.5555555555555556, \"#d8576b\"], [0.6666666666666666, \"#ed7953\"], [0.7777777777777778, \"#fb9f3a\"], [0.8888888888888888, \"#fdca26\"], [1.0, \"#f0f921\"]], \"sequentialminus\": [[0.0, \"#0d0887\"], [0.1111111111111111, \"#46039f\"], [0.2222222222222222, \"#7201a8\"], [0.3333333333333333, \"#9c179e\"], [0.4444444444444444, \"#bd3786\"], [0.5555555555555556, \"#d8576b\"], [0.6666666666666666, \"#ed7953\"], [0.7777777777777778, \"#fb9f3a\"], [0.8888888888888888, \"#fdca26\"], [1.0, \"#f0f921\"]]}, \"colorway\": [\"#636efa\", \"#EF553B\", \"#00cc96\", \"#ab63fa\", \"#FFA15A\", \"#19d3f3\", \"#FF6692\", \"#B6E880\", \"#FF97FF\", \"#FECB52\"], \"font\": {\"color\": \"#2a3f5f\"}, \"geo\": {\"bgcolor\": \"white\", \"lakecolor\": \"white\", \"landcolor\": \"#E5ECF6\", \"showlakes\": true, \"showland\": true, \"subunitcolor\": \"white\"}, \"hoverlabel\": {\"align\": \"left\"}, \"hovermode\": \"closest\", \"mapbox\": {\"style\": \"light\"}, \"paper_bgcolor\": \"white\", \"plot_bgcolor\": \"#E5ECF6\", \"polar\": {\"angularaxis\": {\"gridcolor\": \"white\", \"linecolor\": \"white\", \"ticks\": \"\"}, \"bgcolor\": \"#E5ECF6\", \"radialaxis\": {\"gridcolor\": \"white\", \"linecolor\": \"white\", \"ticks\": \"\"}}, \"scene\": {\"xaxis\": {\"backgroundcolor\": \"#E5ECF6\", \"gridcolor\": \"white\", \"gridwidth\": 2, \"linecolor\": \"white\", \"showbackground\": true, \"ticks\": \"\", \"zerolinecolor\": \"white\"}, \"yaxis\": {\"backgroundcolor\": \"#E5ECF6\", \"gridcolor\": \"white\", \"gridwidth\": 2, \"linecolor\": \"white\", \"showbackground\": true, \"ticks\": \"\", \"zerolinecolor\": \"white\"}, \"zaxis\": {\"backgroundcolor\": \"#E5ECF6\", \"gridcolor\": \"white\", \"gridwidth\": 2, \"linecolor\": \"white\", \"showbackground\": true, \"ticks\": \"\", \"zerolinecolor\": \"white\"}}, \"shapedefaults\": {\"line\": {\"color\": \"#2a3f5f\"}}, \"ternary\": {\"aaxis\": {\"gridcolor\": \"white\", \"linecolor\": \"white\", \"ticks\": \"\"}, \"baxis\": {\"gridcolor\": \"white\", \"linecolor\": \"white\", \"ticks\": \"\"}, \"bgcolor\": \"#E5ECF6\", \"caxis\": {\"gridcolor\": \"white\", \"linecolor\": \"white\", \"ticks\": \"\"}}, \"title\": {\"x\": 0.05}, \"xaxis\": {\"automargin\": true, \"gridcolor\": \"white\", \"linecolor\": \"white\", \"ticks\": \"\", \"title\": {\"standoff\": 15}, \"zerolinecolor\": \"white\", \"zerolinewidth\": 2}, \"yaxis\": {\"automargin\": true, \"gridcolor\": \"white\", \"linecolor\": \"white\", \"ticks\": \"\", \"title\": {\"standoff\": 15}, \"zerolinecolor\": \"white\", \"zerolinewidth\": 2}}}, \"xaxis\": {\"anchor\": \"y\", \"categoryarray\": [\"Negative\", \"Neutral\", \"Positive\"], \"categoryorder\": \"array\", \"domain\": [0.0, 1.0], \"title\": {\"text\": \"sentiment\"}}, \"yaxis\": {\"anchor\": \"x\", \"domain\": [0.0, 1.0], \"title\": {\"text\": \"tweets\"}}},\n",
              "                        {\"responsive\": true}\n",
              "                    ).then(function(){\n",
              "                            \n",
              "var gd = document.getElementById('0def38fc-c84e-422e-8e3e-d81d35e24c7a');\n",
              "var x = new MutationObserver(function (mutations, observer) {{\n",
              "        var display = window.getComputedStyle(gd).display;\n",
              "        if (!display || display === 'none') {{\n",
              "            console.log([gd, 'removed!']);\n",
              "            Plotly.purge(gd);\n",
              "            observer.disconnect();\n",
              "        }}\n",
              "}});\n",
              "\n",
              "// Listen for the removal of the full notebook cells\n",
              "var notebookContainer = gd.closest('#notebook-container');\n",
              "if (notebookContainer) {{\n",
              "    x.observe(notebookContainer, {childList: true});\n",
              "}}\n",
              "\n",
              "// Listen for the clearing of the current output cell\n",
              "var outputEl = gd.closest('.output');\n",
              "if (outputEl) {{\n",
              "    x.observe(outputEl, {childList: true});\n",
              "}}\n",
              "\n",
              "                        })\n",
              "                };\n",
              "                \n",
              "            </script>\n",
              "        </div>\n",
              "</body>\n",
              "</html>"
            ]
          },
          "metadata": {
            "tags": []
          }
        },
        {
          "output_type": "display_data",
          "data": {
            "image/png": "[encoded data removed]",
            "text/plain": [
              "<Figure size 432x288 with 1 Axes>"
            ]
          },
          "metadata": {
            "tags": [],
            "needs_background": "light"
          }
        }
      ]
    },
    {
      "cell_type": "code",
      "metadata": {
        "colab": {
          "base_uri": "https://localhost:8080/",
          "height": 542
        },
        "id": "V84h57ZfTylJ",
        "outputId": "f5f1a970-d1d4-48fe-fb78-7d27c96b675d"
      },
      "source": [
        "# Convert dates\n",
        "covidtweets['date'] = pd.to_datetime(covidtweets['date'], errors='coerce').dt.date\n",
        "\n",
        "# Get counts of number of tweets by sentiment for each date\n",
        "timeline = covidtweets.groupby(['date', 'sentiment']).agg(**{'tweets': ('id', 'count')}).reset_index().dropna()\n",
        "\n",
        "fig = px.line(timeline, x='date', y='tweets', color='sentiment', color_discrete_sequence=[\"#EF553B\", \"#636EFA\", \"#00CC96\"], category_orders={'sentiment': ['neutral', 'negative', 'positive']},\n",
        "             title='Timeline showing sentiment of tweets about COVID-19 vaccines')\n",
        "fig.show()"
      ],
      "execution_count": null,
      "outputs": [
        {
          "output_type": "display_data",
          "data": {
            "text/html": [
              "<html>\n",
              "<head><meta charset=\"utf-8\" /></head>\n",
              "<body>\n",
              "    <div>\n",
              "            <script src=\"https://cdnjs.cloudflare.com/ajax/libs/mathjax/2.7.5/MathJax.js?config=TeX-AMS-MML_SVG\"></script><script type=\"text/javascript\">if (window.MathJax) {MathJax.Hub.Config({SVG: {font: \"STIX-Web\"}});}</script>\n",
              "                <script type=\"text/javascript\">window.PlotlyConfig = {MathJaxConfig: 'local'};</script>\n",
              "        <script src=\"https://cdn.plot.ly/plotly-latest.min.js\"></script>    \n",
              "            <div id=\"5ac23ab4-2643-443f-a0e7-53f2efb1cbec\" class=\"plotly-graph-div\" style=\"height:525px; width:100%;\"></div>\n",
              "            <script type=\"text/javascript\">\n",
              "                \n",
              "                    window.PLOTLYENV=window.PLOTLYENV || {};\n",
              "                    \n",
              "                if (document.getElementById(\"5ac23ab4-2643-443f-a0e7-53f2efb1cbec\")) {\n",
              "                    Plotly.newPlot(\n",
              "                        '5ac23ab4-2643-443f-a0e7-53f2efb1cbec',\n",
              "                        [{\"hoverlabel\": {\"namelength\": 0}, \"hovertemplate\": \"sentiment=Neutral<br>date=%{x}<br>tweets=%{y}\", \"legendgroup\": \"sentiment=Neutral\", \"line\": {\"color\": \"#EF553B\", \"dash\": \"solid\"}, \"mode\": \"lines\", \"name\": \"sentiment=Neutral\", \"showlegend\": true, \"type\": \"scatter\", \"x\": [\"2020-12-12\", \"2020-12-13\", \"2020-12-14\", \"2020-12-15\", \"2020-12-16\", \"2020-12-17\", \"2020-12-18\", \"2020-12-19\", \"2020-12-20\", \"2020-12-21\", \"2020-12-22\", \"2020-12-23\", \"2020-12-24\", \"2020-12-25\", \"2020-12-26\", \"2020-12-27\", \"2020-12-28\", \"2020-12-29\", \"2020-12-30\", \"2020-12-31\", \"2021-01-01\", \"2021-01-02\", \"2021-01-03\", \"2021-01-04\", \"2021-01-05\", \"2021-01-06\", \"2021-01-07\", \"2021-01-08\", \"2021-01-09\", \"2021-01-10\", \"2021-01-11\", \"2021-01-12\", \"2021-01-13\", \"2021-01-14\", \"2021-01-15\", \"2021-01-16\", \"2021-01-17\", \"2021-01-18\", \"2021-01-19\", \"2021-01-20\", \"2021-01-21\", \"2021-01-22\", \"2021-01-23\", \"2021-01-24\", \"2021-01-25\", \"2021-01-26\", \"2021-01-27\", \"2021-01-28\", \"2021-01-29\", \"2021-01-30\", \"2021-01-31\", \"2021-02-01\", \"2021-02-02\", \"2021-02-03\", \"2021-02-04\", \"2021-02-05\", \"2021-02-06\", \"2021-02-07\", \"2021-02-08\", \"2021-02-09\", \"2021-02-10\", \"2021-02-11\", \"2021-02-12\", \"2021-02-13\", \"2021-02-14\", \"2021-02-15\", \"2021-02-16\", \"2021-02-17\", \"2021-02-18\", \"2021-02-19\", \"2021-02-20\", \"2021-02-21\", \"2021-02-22\", \"2021-02-23\", \"2021-02-24\", \"2021-02-25\", \"2021-02-26\", \"2021-02-27\", \"2021-02-28\", \"2021-03-01\", \"2021-03-02\", \"2021-03-03\", \"2021-03-04\", \"2021-03-05\", \"2021-03-06\", \"2021-03-07\", \"2021-03-08\", \"2021-03-09\", \"2021-03-10\", \"2021-03-11\", \"2021-03-12\", \"2021-03-13\", \"2021-03-14\", \"2021-03-15\", \"2021-03-16\", \"2021-03-17\", \"2021-03-18\", \"2021-03-19\", \"2021-03-20\", \"2021-03-21\", \"2021-03-22\", \"2021-03-23\", \"2021-03-24\", \"2021-03-25\", \"2021-03-26\", \"2021-03-27\", \"2021-03-28\", \"2021-03-29\", \"2021-03-30\", \"2021-03-31\", \"2021-04-01\", \"2021-04-02\", \"2021-04-03\", \"2021-04-04\", \"2021-04-05\", \"2021-04-06\", \"2021-04-07\", \"2021-04-08\", \"2021-04-09\", \"2021-04-10\", \"2021-04-11\", \"2021-04-12\", \"2021-04-13\", \"2021-04-14\", \"2021-04-15\", \"2021-04-16\", \"2021-04-17\", \"2021-04-18\", \"2021-04-19\", \"2021-04-20\", \"2021-04-21\", \"2021-04-22\", \"2021-05-13\", \"2021-05-14\", \"2021-05-15\", \"2021-05-16\", \"2021-05-17\", \"2021-05-18\", \"2021-05-19\", \"2021-05-20\", \"2021-05-21\", \"2021-05-22\", \"2021-05-23\", \"2021-05-24\", \"2021-05-25\", \"2021-05-26\", \"2021-05-27\", \"2021-05-28\", \"2021-05-29\", \"2021-05-30\", \"2021-05-31\", \"2021-06-01\", \"2021-06-02\", \"2021-06-03\", \"2021-06-04\", \"2021-06-05\", \"2021-06-06\", \"2021-06-07\", \"2021-06-08\", \"2021-06-09\", \"2021-06-10\", \"2021-06-11\", \"2021-06-12\", \"2021-06-13\", \"2021-06-14\", \"2021-06-15\", \"2021-06-16\", \"2021-06-17\", \"2021-06-18\", \"2021-06-19\", \"2021-06-20\", \"2021-06-21\", \"2021-06-22\", \"2021-06-23\", \"2021-06-24\", \"2021-06-25\", \"2021-06-26\", \"2021-06-27\", \"2021-06-28\", \"2021-06-29\", \"2021-06-30\", \"2021-07-01\", \"2021-07-07\", \"2021-07-08\", \"2021-07-09\", \"2021-07-10\", \"2021-07-11\", \"2021-07-12\", \"2021-07-13\", \"2021-07-14\", \"2021-07-15\", \"2021-07-16\", \"2021-07-17\", \"2021-07-18\", \"2021-07-19\", \"2021-07-20\", \"2021-07-21\", \"2021-07-22\", \"2021-07-23\", \"2021-07-24\"], \"xaxis\": \"x\", \"y\": [62, 97, 131, 146, 143, 138, 106, 107, 65, 98, 149, 123, 108, 39, 45, 56, 50, 82, 104, 68, 88, 82, 50, 72, 108, 109, 71, 200, 163, 113, 88, 104, 109, 102, 141, 128, 96, 62, 97, 99, 142, 63, 65, 52, 73, 88, 85, 76, 93, 70, 30, 30, 49, 35, 64, 69, 36, 331, 497, 446, 484, 435, 470, 369, 245, 336, 409, 488, 547, 502, 382, 259, 465, 395, 635, 590, 654, 446, 490, 2829, 836, 1298, 981, 779, 530, 365, 516, 667, 744, 877, 809, 518, 432, 929, 1367, 939, 920, 928, 951, 598, 886, 767, 833, 695, 608, 524, 427, 736, 964, 1219, 914, 679, 778, 468, 580, 815, 1530, 1932, 1191, 940, 846, 1993, 1841, 1418, 1395, 1387, 999, 734, 1041, 1021, 2349, 810, 453, 1340, 759, 1208, 1123, 1094, 1060, 1056, 266, 473, 788, 1308, 1379, 1045, 1113, 1186, 996, 653, 871, 1035, 624, 470, 366, 524, 384, 1348, 1704, 1458, 1187, 1515, 1262, 828, 521, 531, 608, 1614, 1471, 1091, 347, 565, 2103, 2184, 1566, 1993, 1008, 452, 934, 2583, 2353, 1931, 80, 384, 457, 395, 505, 821, 1764, 1410, 1475, 1771, 995, 348, 2456, 1288, 550, 723, 2345, 1043], \"yaxis\": \"y\"}, {\"hoverlabel\": {\"namelength\": 0}, \"hovertemplate\": \"sentiment=Positive<br>date=%{x}<br>tweets=%{y}\", \"legendgroup\": \"sentiment=Positive\", \"line\": {\"color\": \"#636EFA\", \"dash\": \"solid\"}, \"mode\": \"lines\", \"name\": \"sentiment=Positive\", \"showlegend\": true, \"type\": \"scatter\", \"x\": [\"2020-12-12\", \"2020-12-13\", \"2020-12-14\", \"2020-12-15\", \"2020-12-16\", \"2020-12-18\", \"2020-12-19\", \"2020-12-20\", \"2020-12-21\", \"2020-12-22\", \"2020-12-24\", \"2020-12-25\", \"2020-12-26\", \"2020-12-27\", \"2020-12-28\", \"2020-12-29\", \"2020-12-30\", \"2020-12-31\", \"2021-01-01\", \"2021-01-03\", \"2021-01-05\", \"2021-01-06\", \"2021-01-07\", \"2021-01-08\", \"2021-01-09\", \"2021-01-10\", \"2021-01-11\", \"2021-01-12\", \"2021-01-13\", \"2021-01-14\", \"2021-01-15\", \"2021-01-16\", \"2021-01-17\", \"2021-01-18\", \"2021-01-19\", \"2021-01-20\", \"2021-01-21\", \"2021-01-22\", \"2021-01-24\", \"2021-01-25\", \"2021-01-26\", \"2021-01-27\", \"2021-01-28\", \"2021-01-29\", \"2021-01-30\", \"2021-02-01\", \"2021-02-02\", \"2021-02-03\", \"2021-02-04\", \"2021-02-05\", \"2021-02-06\", \"2021-02-07\", \"2021-02-08\", \"2021-02-09\", \"2021-02-10\", \"2021-02-11\", \"2021-02-12\", \"2021-02-13\", \"2021-02-14\", \"2021-02-15\", \"2021-02-16\", \"2021-02-17\", \"2021-02-18\", \"2021-02-19\", \"2021-02-20\", \"2021-02-21\", \"2021-02-22\", \"2021-02-23\", \"2021-02-24\", \"2021-02-25\", \"2021-02-26\", \"2021-02-27\", \"2021-02-28\", \"2021-03-01\", \"2021-03-02\", \"2021-03-03\", \"2021-03-04\", \"2021-03-05\", \"2021-03-06\", \"2021-03-07\", \"2021-03-08\", \"2021-03-09\", \"2021-03-10\", \"2021-03-11\", \"2021-03-12\", \"2021-03-13\", \"2021-03-14\", \"2021-03-15\", \"2021-03-16\", \"2021-03-17\", \"2021-03-18\", \"2021-03-19\", \"2021-03-20\", \"2021-03-21\", \"2021-03-22\", \"2021-03-23\", \"2021-03-24\", \"2021-03-25\", \"2021-03-26\", \"2021-03-27\", \"2021-03-28\", \"2021-03-29\", \"2021-03-30\", \"2021-03-31\", \"2021-04-01\", \"2021-04-02\", \"2021-04-03\", \"2021-04-04\", \"2021-04-05\", \"2021-04-06\", \"2021-04-07\", \"2021-04-08\", \"2021-04-09\", \"2021-04-10\", \"2021-04-11\", \"2021-04-12\", \"2021-04-13\", \"2021-04-14\", \"2021-04-15\", \"2021-04-16\", \"2021-04-17\", \"2021-04-18\", \"2021-04-19\", \"2021-04-20\", \"2021-04-21\", \"2021-04-22\", \"2021-05-13\", \"2021-05-14\", \"2021-05-15\", \"2021-05-16\", \"2021-05-17\", \"2021-05-18\", \"2021-05-19\", \"2021-05-20\", \"2021-05-21\", \"2021-05-22\", \"2021-05-23\", \"2021-05-24\", \"2021-05-25\", \"2021-05-26\", \"2021-05-27\", \"2021-05-28\", \"2021-05-29\", \"2021-05-30\", \"2021-05-31\", \"2021-06-01\", \"2021-06-02\", \"2021-06-03\", \"2021-06-04\", \"2021-06-05\", \"2021-06-06\", \"2021-06-07\", \"2021-06-08\", \"2021-06-09\", \"2021-06-10\", \"2021-06-11\", \"2021-06-12\", \"2021-06-13\", \"2021-06-14\", \"2021-06-15\", \"2021-06-16\", \"2021-06-17\", \"2021-06-18\", \"2021-06-19\", \"2021-06-20\", \"2021-06-21\", \"2021-06-22\", \"2021-06-23\", \"2021-06-24\", \"2021-06-25\", \"2021-06-26\", \"2021-06-27\", \"2021-06-28\", \"2021-06-29\", \"2021-06-30\", \"2021-07-01\", \"2021-07-07\", \"2021-07-08\", \"2021-07-09\", \"2021-07-10\", \"2021-07-11\", \"2021-07-12\", \"2021-07-13\", \"2021-07-14\", \"2021-07-15\", \"2021-07-16\", \"2021-07-17\", \"2021-07-18\", \"2021-07-19\", \"2021-07-20\", \"2021-07-21\", \"2021-07-22\", \"2021-07-23\", \"2021-07-24\"], \"xaxis\": \"x\", \"y\": [1, 1, 4, 4, 1, 5, 1, 3, 3, 7, 4, 1, 1, 3, 1, 2, 3, 3, 2, 2, 3, 2, 4, 6, 6, 5, 5, 2, 2, 3, 7, 1, 2, 4, 3, 3, 1, 1, 1, 3, 1, 2, 3, 2, 3, 1, 4, 1, 4, 1, 1, 5, 10, 10, 15, 8, 18, 16, 8, 6, 10, 8, 8, 11, 8, 6, 11, 10, 17, 25, 15, 11, 15, 58, 21, 36, 29, 31, 24, 15, 23, 33, 10, 23, 30, 15, 9, 18, 32, 31, 41, 35, 25, 17, 29, 26, 31, 20, 13, 26, 14, 32, 41, 28, 28, 24, 24, 11, 18, 26, 50, 35, 29, 31, 26, 45, 55, 36, 35, 42, 30, 23, 36, 30, 54, 19, 14, 22, 21, 25, 22, 18, 22, 29, 4, 12, 9, 19, 25, 18, 26, 22, 23, 24, 11, 21, 18, 9, 9, 5, 4, 15, 25, 25, 20, 30, 20, 13, 12, 12, 12, 19, 26, 19, 12, 20, 39, 24, 16, 26, 14, 12, 18, 28, 47, 33, 4, 7, 7, 9, 11, 13, 22, 18, 21, 22, 4, 8, 13, 6, 16, 7, 13, 8], \"yaxis\": \"y\"}, {\"hoverlabel\": {\"namelength\": 0}, \"hovertemplate\": \"sentiment=Negative<br>date=%{x}<br>tweets=%{y}\", \"legendgroup\": \"sentiment=Negative\", \"line\": {\"color\": \"#00CC96\", \"dash\": \"solid\"}, \"mode\": \"lines\", \"name\": \"sentiment=Negative\", \"showlegend\": true, \"type\": \"scatter\", \"x\": [\"2020-12-14\", \"2020-12-17\", \"2020-12-18\", \"2020-12-19\", \"2020-12-21\", \"2020-12-22\", \"2020-12-24\", \"2020-12-26\", \"2020-12-28\", \"2020-12-29\", \"2020-12-31\", \"2021-01-01\", \"2021-01-02\", \"2021-01-03\", \"2021-01-06\", \"2021-01-07\", \"2021-01-08\", \"2021-01-09\", \"2021-01-14\", \"2021-01-17\", \"2021-01-20\", \"2021-01-21\", \"2021-01-22\", \"2021-01-25\", \"2021-01-26\", \"2021-01-27\", \"2021-01-28\", \"2021-01-29\", \"2021-02-03\", \"2021-02-04\", \"2021-02-06\", \"2021-02-07\", \"2021-02-08\", \"2021-02-09\", \"2021-02-10\", \"2021-02-11\", \"2021-02-12\", \"2021-02-13\", \"2021-02-14\", \"2021-02-15\", \"2021-02-16\", \"2021-02-17\", \"2021-02-18\", \"2021-02-19\", \"2021-02-20\", \"2021-02-21\", \"2021-02-22\", \"2021-02-23\", \"2021-02-24\", \"2021-02-25\", \"2021-02-26\", \"2021-02-27\", \"2021-02-28\", \"2021-03-01\", \"2021-03-02\", \"2021-03-03\", \"2021-03-04\", \"2021-03-05\", \"2021-03-06\", \"2021-03-07\", \"2021-03-08\", \"2021-03-09\", \"2021-03-10\", \"2021-03-11\", \"2021-03-12\", \"2021-03-13\", \"2021-03-14\", \"2021-03-15\", \"2021-03-16\", \"2021-03-17\", \"2021-03-18\", \"2021-03-19\", \"2021-03-20\", \"2021-03-21\", \"2021-03-22\", \"2021-03-23\", \"2021-03-24\", \"2021-03-25\", \"2021-03-26\", \"2021-03-27\", \"2021-03-28\", \"2021-03-29\", \"2021-03-30\", \"2021-03-31\", \"2021-04-01\", \"2021-04-02\", \"2021-04-03\", \"2021-04-04\", \"2021-04-05\", \"2021-04-06\", \"2021-04-07\", \"2021-04-08\", \"2021-04-09\", \"2021-04-10\", \"2021-04-11\", \"2021-04-12\", \"2021-04-13\", \"2021-04-14\", \"2021-04-15\", \"2021-04-16\", \"2021-04-17\", \"2021-04-18\", \"2021-04-19\", \"2021-04-20\", \"2021-04-21\", \"2021-04-22\", \"2021-05-13\", \"2021-05-14\", \"2021-05-15\", \"2021-05-16\", \"2021-05-17\", \"2021-05-18\", \"2021-05-19\", \"2021-05-20\", \"2021-05-21\", \"2021-05-22\", \"2021-05-23\", \"2021-05-24\", \"2021-05-25\", \"2021-05-26\", \"2021-05-27\", \"2021-05-28\", \"2021-05-29\", \"2021-05-30\", \"2021-05-31\", \"2021-06-01\", \"2021-06-02\", \"2021-06-03\", \"2021-06-04\", \"2021-06-05\", \"2021-06-06\", \"2021-06-07\", \"2021-06-08\", \"2021-06-09\", \"2021-06-10\", \"2021-06-11\", \"2021-06-12\", \"2021-06-13\", \"2021-06-14\", \"2021-06-15\", \"2021-06-16\", \"2021-06-17\", \"2021-06-18\", \"2021-06-19\", \"2021-06-20\", \"2021-06-21\", \"2021-06-22\", \"2021-06-23\", \"2021-06-24\", \"2021-06-25\", \"2021-06-26\", \"2021-06-27\", \"2021-06-28\", \"2021-06-29\", \"2021-06-30\", \"2021-07-01\", \"2021-07-08\", \"2021-07-09\", \"2021-07-10\", \"2021-07-11\", \"2021-07-12\", \"2021-07-13\", \"2021-07-14\", \"2021-07-15\", \"2021-07-16\", \"2021-07-17\", \"2021-07-18\", \"2021-07-19\", \"2021-07-20\", \"2021-07-21\", \"2021-07-22\", \"2021-07-23\", \"2021-07-24\"], \"xaxis\": \"x\", \"y\": [2, 1, 1, 2, 1, 1, 2, 1, 2, 1, 1, 5, 1, 4, 1, 1, 4, 1, 1, 1, 2, 2, 1, 1, 2, 2, 1, 1, 1, 1, 2, 3, 4, 3, 5, 5, 9, 6, 6, 1, 2, 3, 7, 4, 3, 4, 4, 1, 6, 7, 8, 5, 3, 24, 2, 15, 5, 7, 3, 7, 7, 8, 6, 11, 14, 5, 6, 11, 16, 11, 8, 9, 19, 5, 4, 10, 10, 8, 8, 6, 7, 5, 9, 12, 6, 7, 7, 2, 6, 5, 17, 14, 13, 14, 10, 11, 21, 13, 20, 15, 12, 14, 9, 4, 20, 11, 5, 12, 7, 7, 6, 8, 7, 12, 4, 6, 8, 10, 14, 19, 13, 8, 5, 8, 5, 27, 27, 8, 12, 7, 4, 7, 10, 13, 6, 14, 9, 7, 7, 4, 6, 29, 11, 2, 5, 4, 11, 17, 6, 5, 7, 6, 5, 15, 14, 19, 1, 2, 3, 5, 9, 11, 7, 8, 9, 1, 5, 13, 8, 6, 1, 7, 4], \"yaxis\": \"y\"}],\n",
              "                        {\"legend\": {\"tracegroupgap\": 0}, \"template\": {\"data\": {\"bar\": [{\"error_x\": {\"color\": \"#2a3f5f\"}, \"error_y\": {\"color\": \"#2a3f5f\"}, \"marker\": {\"line\": {\"color\": \"#E5ECF6\", \"width\": 0.5}}, \"type\": \"bar\"}], \"barpolar\": [{\"marker\": {\"line\": {\"color\": \"#E5ECF6\", \"width\": 0.5}}, \"type\": \"barpolar\"}], \"carpet\": [{\"aaxis\": {\"endlinecolor\": \"#2a3f5f\", \"gridcolor\": \"white\", \"linecolor\": \"white\", \"minorgridcolor\": \"white\", \"startlinecolor\": \"#2a3f5f\"}, \"baxis\": {\"endlinecolor\": \"#2a3f5f\", \"gridcolor\": \"white\", \"linecolor\": \"white\", \"minorgridcolor\": \"white\", \"startlinecolor\": \"#2a3f5f\"}, \"type\": \"carpet\"}], \"choropleth\": [{\"colorbar\": {\"outlinewidth\": 0, \"ticks\": \"\"}, \"type\": \"choropleth\"}], \"contour\": [{\"colorbar\": {\"outlinewidth\": 0, \"ticks\": \"\"}, \"colorscale\": [[0.0, \"#0d0887\"], [0.1111111111111111, \"#46039f\"], [0.2222222222222222, \"#7201a8\"], [0.3333333333333333, \"#9c179e\"], [0.4444444444444444, \"#bd3786\"], [0.5555555555555556, \"#d8576b\"], [0.6666666666666666, \"#ed7953\"], [0.7777777777777778, \"#fb9f3a\"], [0.8888888888888888, \"#fdca26\"], [1.0, \"#f0f921\"]], \"type\": \"contour\"}], \"contourcarpet\": [{\"colorbar\": {\"outlinewidth\": 0, \"ticks\": \"\"}, \"type\": \"contourcarpet\"}], \"heatmap\": [{\"colorbar\": {\"outlinewidth\": 0, \"ticks\": \"\"}, \"colorscale\": [[0.0, \"#0d0887\"], [0.1111111111111111, \"#46039f\"], [0.2222222222222222, \"#7201a8\"], [0.3333333333333333, \"#9c179e\"], [0.4444444444444444, \"#bd3786\"], [0.5555555555555556, \"#d8576b\"], [0.6666666666666666, \"#ed7953\"], [0.7777777777777778, \"#fb9f3a\"], [0.8888888888888888, \"#fdca26\"], [1.0, \"#f0f921\"]], \"type\": \"heatmap\"}], \"heatmapgl\": [{\"colorbar\": {\"outlinewidth\": 0, \"ticks\": \"\"}, \"colorscale\": [[0.0, \"#0d0887\"], [0.1111111111111111, \"#46039f\"], [0.2222222222222222, \"#7201a8\"], [0.3333333333333333, \"#9c179e\"], [0.4444444444444444, \"#bd3786\"], [0.5555555555555556, \"#d8576b\"], [0.6666666666666666, \"#ed7953\"], [0.7777777777777778, \"#fb9f3a\"], [0.8888888888888888, \"#fdca26\"], [1.0, \"#f0f921\"]], \"type\": \"heatmapgl\"}], \"histogram\": [{\"marker\": {\"colorbar\": {\"outlinewidth\": 0, \"ticks\": \"\"}}, \"type\": \"histogram\"}], \"histogram2d\": [{\"colorbar\": {\"outlinewidth\": 0, \"ticks\": \"\"}, \"colorscale\": [[0.0, \"#0d0887\"], [0.1111111111111111, \"#46039f\"], [0.2222222222222222, \"#7201a8\"], [0.3333333333333333, \"#9c179e\"], [0.4444444444444444, \"#bd3786\"], [0.5555555555555556, \"#d8576b\"], [0.6666666666666666, \"#ed7953\"], [0.7777777777777778, \"#fb9f3a\"], [0.8888888888888888, \"#fdca26\"], [1.0, \"#f0f921\"]], \"type\": \"histogram2d\"}], \"histogram2dcontour\": [{\"colorbar\": {\"outlinewidth\": 0, \"ticks\": \"\"}, \"colorscale\": [[0.0, \"#0d0887\"], [0.1111111111111111, \"#46039f\"], [0.2222222222222222, \"#7201a8\"], [0.3333333333333333, \"#9c179e\"], [0.4444444444444444, \"#bd3786\"], [0.5555555555555556, \"#d8576b\"], [0.6666666666666666, \"#ed7953\"], [0.7777777777777778, \"#fb9f3a\"], [0.8888888888888888, \"#fdca26\"], [1.0, \"#f0f921\"]], \"type\": \"histogram2dcontour\"}], \"mesh3d\": [{\"colorbar\": {\"outlinewidth\": 0, \"ticks\": \"\"}, \"type\": \"mesh3d\"}], \"parcoords\": [{\"line\": {\"colorbar\": {\"outlinewidth\": 0, \"ticks\": \"\"}}, \"type\": \"parcoords\"}], \"pie\": [{\"automargin\": true, \"type\": \"pie\"}], \"scatter\": [{\"marker\": {\"colorbar\": {\"outlinewidth\": 0, \"ticks\": \"\"}}, \"type\": \"scatter\"}], \"scatter3d\": [{\"line\": {\"colorbar\": {\"outlinewidth\": 0, \"ticks\": \"\"}}, \"marker\": {\"colorbar\": {\"outlinewidth\": 0, \"ticks\": \"\"}}, \"type\": \"scatter3d\"}], \"scattercarpet\": [{\"marker\": {\"colorbar\": {\"outlinewidth\": 0, \"ticks\": \"\"}}, \"type\": \"scattercarpet\"}], \"scattergeo\": [{\"marker\": {\"colorbar\": {\"outlinewidth\": 0, \"ticks\": \"\"}}, \"type\": \"scattergeo\"}], \"scattergl\": [{\"marker\": {\"colorbar\": {\"outlinewidth\": 0, \"ticks\": \"\"}}, \"type\": \"scattergl\"}], \"scattermapbox\": [{\"marker\": {\"colorbar\": {\"outlinewidth\": 0, \"ticks\": \"\"}}, \"type\": \"scattermapbox\"}], \"scatterpolar\": [{\"marker\": {\"colorbar\": {\"outlinewidth\": 0, \"ticks\": \"\"}}, \"type\": \"scatterpolar\"}], \"scatterpolargl\": [{\"marker\": {\"colorbar\": {\"outlinewidth\": 0, \"ticks\": \"\"}}, \"type\": \"scatterpolargl\"}], \"scatterternary\": [{\"marker\": {\"colorbar\": {\"outlinewidth\": 0, \"ticks\": \"\"}}, \"type\": \"scatterternary\"}], \"surface\": [{\"colorbar\": {\"outlinewidth\": 0, \"ticks\": \"\"}, \"colorscale\": [[0.0, \"#0d0887\"], [0.1111111111111111, \"#46039f\"], [0.2222222222222222, \"#7201a8\"], [0.3333333333333333, \"#9c179e\"], [0.4444444444444444, \"#bd3786\"], [0.5555555555555556, \"#d8576b\"], [0.6666666666666666, \"#ed7953\"], [0.7777777777777778, \"#fb9f3a\"], [0.8888888888888888, \"#fdca26\"], [1.0, \"#f0f921\"]], \"type\": \"surface\"}], \"table\": [{\"cells\": {\"fill\": {\"color\": \"#EBF0F8\"}, \"line\": {\"color\": \"white\"}}, \"header\": {\"fill\": {\"color\": \"#C8D4E3\"}, \"line\": {\"color\": \"white\"}}, \"type\": \"table\"}]}, \"layout\": {\"annotationdefaults\": {\"arrowcolor\": \"#2a3f5f\", \"arrowhead\": 0, \"arrowwidth\": 1}, \"coloraxis\": {\"colorbar\": {\"outlinewidth\": 0, \"ticks\": \"\"}}, \"colorscale\": {\"diverging\": [[0, \"#8e0152\"], [0.1, \"#c51b7d\"], [0.2, \"#de77ae\"], [0.3, \"#f1b6da\"], [0.4, \"#fde0ef\"], [0.5, \"#f7f7f7\"], [0.6, \"#e6f5d0\"], [0.7, \"#b8e186\"], [0.8, \"#7fbc41\"], [0.9, \"#4d9221\"], [1, \"#276419\"]], \"sequential\": [[0.0, \"#0d0887\"], [0.1111111111111111, \"#46039f\"], [0.2222222222222222, \"#7201a8\"], [0.3333333333333333, \"#9c179e\"], [0.4444444444444444, \"#bd3786\"], [0.5555555555555556, \"#d8576b\"], [0.6666666666666666, \"#ed7953\"], [0.7777777777777778, \"#fb9f3a\"], [0.8888888888888888, \"#fdca26\"], [1.0, \"#f0f921\"]], \"sequentialminus\": [[0.0, \"#0d0887\"], [0.1111111111111111, \"#46039f\"], [0.2222222222222222, \"#7201a8\"], [0.3333333333333333, \"#9c179e\"], [0.4444444444444444, \"#bd3786\"], [0.5555555555555556, \"#d8576b\"], [0.6666666666666666, \"#ed7953\"], [0.7777777777777778, \"#fb9f3a\"], [0.8888888888888888, \"#fdca26\"], [1.0, \"#f0f921\"]]}, \"colorway\": [\"#636efa\", \"#EF553B\", \"#00cc96\", \"#ab63fa\", \"#FFA15A\", \"#19d3f3\", \"#FF6692\", \"#B6E880\", \"#FF97FF\", \"#FECB52\"], \"font\": {\"color\": \"#2a3f5f\"}, \"geo\": {\"bgcolor\": \"white\", \"lakecolor\": \"white\", \"landcolor\": \"#E5ECF6\", \"showlakes\": true, \"showland\": true, \"subunitcolor\": \"white\"}, \"hoverlabel\": {\"align\": \"left\"}, \"hovermode\": \"closest\", \"mapbox\": {\"style\": \"light\"}, \"paper_bgcolor\": \"white\", \"plot_bgcolor\": \"#E5ECF6\", \"polar\": {\"angularaxis\": {\"gridcolor\": \"white\", \"linecolor\": \"white\", \"ticks\": \"\"}, \"bgcolor\": \"#E5ECF6\", \"radialaxis\": {\"gridcolor\": \"white\", \"linecolor\": \"white\", \"ticks\": \"\"}}, \"scene\": {\"xaxis\": {\"backgroundcolor\": \"#E5ECF6\", \"gridcolor\": \"white\", \"gridwidth\": 2, \"linecolor\": \"white\", \"showbackground\": true, \"ticks\": \"\", \"zerolinecolor\": \"white\"}, \"yaxis\": {\"backgroundcolor\": \"#E5ECF6\", \"gridcolor\": \"white\", \"gridwidth\": 2, \"linecolor\": \"white\", \"showbackground\": true, \"ticks\": \"\", \"zerolinecolor\": \"white\"}, \"zaxis\": {\"backgroundcolor\": \"#E5ECF6\", \"gridcolor\": \"white\", \"gridwidth\": 2, \"linecolor\": \"white\", \"showbackground\": true, \"ticks\": \"\", \"zerolinecolor\": \"white\"}}, \"shapedefaults\": {\"line\": {\"color\": \"#2a3f5f\"}}, \"ternary\": {\"aaxis\": {\"gridcolor\": \"white\", \"linecolor\": \"white\", \"ticks\": \"\"}, \"baxis\": {\"gridcolor\": \"white\", \"linecolor\": \"white\", \"ticks\": \"\"}, \"bgcolor\": \"#E5ECF6\", \"caxis\": {\"gridcolor\": \"white\", \"linecolor\": \"white\", \"ticks\": \"\"}}, \"title\": {\"x\": 0.05}, \"xaxis\": {\"automargin\": true, \"gridcolor\": \"white\", \"linecolor\": \"white\", \"ticks\": \"\", \"title\": {\"standoff\": 15}, \"zerolinecolor\": \"white\", \"zerolinewidth\": 2}, \"yaxis\": {\"automargin\": true, \"gridcolor\": \"white\", \"linecolor\": \"white\", \"ticks\": \"\", \"title\": {\"standoff\": 15}, \"zerolinecolor\": \"white\", \"zerolinewidth\": 2}}}, \"title\": {\"text\": \"Timeline showing sentiment of tweets about COVID-19 vaccines\"}, \"xaxis\": {\"anchor\": \"y\", \"domain\": [0.0, 1.0], \"title\": {\"text\": \"date\"}}, \"yaxis\": {\"anchor\": \"x\", \"domain\": [0.0, 1.0], \"title\": {\"text\": \"tweets\"}}},\n",
              "                        {\"responsive\": true}\n",
              "                    ).then(function(){\n",
              "                            \n",
              "var gd = document.getElementById('5ac23ab4-2643-443f-a0e7-53f2efb1cbec');\n",
              "var x = new MutationObserver(function (mutations, observer) {{\n",
              "        var display = window.getComputedStyle(gd).display;\n",
              "        if (!display || display === 'none') {{\n",
              "            console.log([gd, 'removed!']);\n",
              "            Plotly.purge(gd);\n",
              "            observer.disconnect();\n",
              "        }}\n",
              "}});\n",
              "\n",
              "// Listen for the removal of the full notebook cells\n",
              "var notebookContainer = gd.closest('#notebook-container');\n",
              "if (notebookContainer) {{\n",
              "    x.observe(notebookContainer, {childList: true});\n",
              "}}\n",
              "\n",
              "// Listen for the clearing of the current output cell\n",
              "var outputEl = gd.closest('.output');\n",
              "if (outputEl) {{\n",
              "    x.observe(outputEl, {childList: true});\n",
              "}}\n",
              "\n",
              "                        })\n",
              "                };\n",
              "                \n",
              "            </script>\n",
              "        </div>\n",
              "</body>\n",
              "</html>"
            ]
          },
          "metadata": {
            "tags": []
          }
        }
      ]
    },
    {
      "cell_type": "code",
      "metadata": {
        "colab": {
          "base_uri": "https://localhost:8080/",
          "height": 1000
        },
        "id": "ZeeiPtGoT-05",
        "outputId": "b1cc216f-5e14-41cb-d8a8-da87bab188b5"
      },
      "source": [
        "all_vax = ['covaxin', 'sinopharm', 'sinovac', 'moderna', 'pfizer', 'biontech', 'oxford', 'astrazeneca', 'sputnik']\n",
        "\n",
        "# Function to filter the data to a single vaccine and plot the timeline\n",
        "# Note: a lot of the tweets seem to contain hashtags for multiple vaccines even though they are specifically referring to one vaccine - not very helpful!\n",
        "def filtered_timeline(df, vax, title):\n",
        "    df = df.dropna()\n",
        "    title_str = 'Timeline showing sentiment of tweets about the '+title+' vaccine'\n",
        "    df_filt = pd.DataFrame()\n",
        "    for o in vax:\n",
        "        df_filt = df_filt.append(df[df['text'].str.lower().str.contains(o)])\n",
        "    other_vax = list(set(all_vax)-set(vax))\n",
        "    for o in other_vax:\n",
        "        df_filt = df_filt[~df_filt['text'].str.lower().str.contains(o)]\n",
        "    df_filt = df_filt.drop_duplicates()\n",
        "    timeline = df_filt.groupby(['date', 'sentiment']).agg(**{'tweets': ('id', 'count')}).reset_index()\n",
        "    fig = px.line(timeline, x='date', y='tweets', color='sentiment', category_orders={'sentiment': ['neutral', 'negative', 'positive']},title=title_str)\n",
        "    fig.show()\n",
        "    return df_filt\n",
        "\n",
        "covaxin = filtered_timeline(covidtweets, ['covaxin'], title='Covaxin')\n",
        "sinovac = filtered_timeline(covidtweets, ['sinovac'], title='Sinovac')\n",
        "sinopharm = filtered_timeline(covidtweets, ['sinopharm'], title='Sinopharm')\n",
        "moderna = filtered_timeline(covidtweets, ['moderna'], title='Moderna')\n",
        "sputnikv = filtered_timeline(covidtweets, ['sputnik'], title='Sputnik V')\n",
        "oxford = filtered_timeline(covidtweets, ['oxford', 'astrazeneca'], title='Oxford/AstraZeneca')\n",
        "pfizer = filtered_timeline(covidtweets, ['pfizer', 'biontech'], title='Pfizer/BioNTech')\n",
        "\n",
        "# Get z scores of sentiment for each vaccine\n",
        "vax_names = {'Covaxin': covaxin, 'Sputnik V': sputnikv, 'Sinovac': sinovac, 'Sinopharm': sinopharm,\n",
        "            'Moderna': moderna, 'Oxford/AstraZeneca': oxford, 'PfizerBioNTech': pfizer}\n",
        "sentiment_zscores = pd.DataFrame()\n",
        "for k, v in vax_names.items():\n",
        "    senti = v['sentiment'].value_counts(normalize=True)\n",
        "    senti['vaccine'] = k\n",
        "    sentiment_zscores = sentiment_zscores.append(senti)\n",
        "for col in ['Negative', 'Neutral', 'Positive']:\n",
        "    sentiment_zscores[col+'_zscore'] = (sentiment_zscores[col] - sentiment_zscores[col].mean())/sentiment_zscores[col].std(ddof=0)\n",
        "sentiment_zscores.set_index('vaccine', inplace=True)\n",
        "\n",
        "# Plot the results\n",
        "ax = sentiment_zscores.sort_values('Negative_zscore')['Negative_zscore'].plot.barh(title='Z scores of negative sentiment')\n",
        "ax.set_ylabel('Vaccine')\n",
        "ax.set_xlabel('Z score');"
      ],
      "execution_count": null,
      "outputs": [
        {
          "output_type": "display_data",
          "data": {
            "text/html": [
              "<html>\n",
              "<head><meta charset=\"utf-8\" /></head>\n",
              "<body>\n",
              "    <div>\n",
              "            <script src=\"https://cdnjs.cloudflare.com/ajax/libs/mathjax/2.7.5/MathJax.js?config=TeX-AMS-MML_SVG\"></script><script type=\"text/javascript\">if (window.MathJax) {MathJax.Hub.Config({SVG: {font: \"STIX-Web\"}});}</script>\n",
              "                <script type=\"text/javascript\">window.PlotlyConfig = {MathJaxConfig: 'local'};</script>\n",
              "        <script src=\"https://cdn.plot.ly/plotly-latest.min.js\"></script>    \n",
              "            <div id=\"62f43fe9-b4de-4966-91a1-1288fa525fbe\" class=\"plotly-graph-div\" style=\"height:525px; width:100%;\"></div>\n",
              "            <script type=\"text/javascript\">\n",
              "                \n",
              "                    window.PLOTLYENV=window.PLOTLYENV || {};\n",
              "                    \n",
              "                if (document.getElementById(\"62f43fe9-b4de-4966-91a1-1288fa525fbe\")) {\n",
              "                    Plotly.newPlot(\n",
              "                        '62f43fe9-b4de-4966-91a1-1288fa525fbe',\n",
              "                        [{\"hoverlabel\": {\"namelength\": 0}, \"hovertemplate\": \"sentiment=Neutral<br>date=%{x}<br>tweets=%{y}\", \"legendgroup\": \"sentiment=Neutral\", \"line\": {\"color\": \"#636efa\", \"dash\": \"solid\"}, \"mode\": \"lines\", \"name\": \"sentiment=Neutral\", \"showlegend\": true, \"type\": \"scatter\", \"x\": [\"2021-01-16\", \"2021-02-07\", \"2021-02-08\", \"2021-02-09\", \"2021-02-10\", \"2021-02-11\", \"2021-02-12\", \"2021-02-13\", \"2021-02-14\", \"2021-02-15\", \"2021-02-16\", \"2021-02-17\", \"2021-02-18\", \"2021-02-19\", \"2021-02-20\", \"2021-02-21\", \"2021-02-22\", \"2021-02-23\", \"2021-02-24\", \"2021-02-25\", \"2021-02-26\", \"2021-02-27\", \"2021-02-28\", \"2021-03-01\", \"2021-03-02\", \"2021-03-03\", \"2021-03-04\", \"2021-03-05\", \"2021-03-06\", \"2021-03-07\", \"2021-03-08\", \"2021-03-09\", \"2021-03-10\", \"2021-03-11\", \"2021-03-12\", \"2021-03-13\", \"2021-03-14\", \"2021-03-15\", \"2021-03-16\", \"2021-03-17\", \"2021-03-18\", \"2021-03-19\", \"2021-03-20\", \"2021-03-21\", \"2021-03-22\", \"2021-03-23\", \"2021-03-24\", \"2021-03-25\", \"2021-03-26\", \"2021-03-27\", \"2021-03-28\", \"2021-03-29\", \"2021-03-30\", \"2021-03-31\", \"2021-04-01\", \"2021-04-02\", \"2021-04-03\", \"2021-04-04\", \"2021-04-05\", \"2021-04-06\", \"2021-04-07\", \"2021-04-08\", \"2021-04-09\", \"2021-04-10\", \"2021-04-11\", \"2021-04-12\", \"2021-04-13\", \"2021-04-14\", \"2021-04-15\", \"2021-04-16\", \"2021-04-17\", \"2021-04-18\", \"2021-04-19\", \"2021-04-20\", \"2021-04-21\", \"2021-04-22\", \"2021-05-14\", \"2021-05-15\", \"2021-05-16\", \"2021-05-17\", \"2021-05-18\", \"2021-05-19\", \"2021-05-20\", \"2021-05-21\", \"2021-05-22\", \"2021-05-23\", \"2021-05-24\", \"2021-05-25\", \"2021-05-26\", \"2021-05-27\", \"2021-05-28\", \"2021-05-29\", \"2021-05-30\", \"2021-05-31\", \"2021-06-01\", \"2021-06-03\", \"2021-06-05\", \"2021-06-06\", \"2021-06-07\", \"2021-06-08\", \"2021-06-09\", \"2021-06-10\", \"2021-06-11\", \"2021-06-12\", \"2021-06-13\", \"2021-06-14\", \"2021-06-15\", \"2021-06-16\", \"2021-06-17\", \"2021-06-18\", \"2021-06-19\", \"2021-06-22\", \"2021-06-23\", \"2021-06-24\", \"2021-06-25\", \"2021-06-26\", \"2021-06-27\", \"2021-06-28\", \"2021-06-29\", \"2021-06-30\", \"2021-07-01\", \"2021-07-10\", \"2021-07-11\", \"2021-07-12\", \"2021-07-13\", \"2021-07-14\", \"2021-07-15\", \"2021-07-16\", \"2021-07-17\", \"2021-07-19\", \"2021-07-20\", \"2021-07-23\", \"2021-07-24\"], \"xaxis\": \"x\", \"y\": [1, 10, 23, 14, 15, 28, 30, 35, 16, 6, 9, 11, 25, 20, 13, 14, 20, 14, 15, 12, 58, 31, 24, 971, 116, 389, 168, 110, 48, 21, 27, 90, 77, 117, 49, 21, 22, 37, 73, 38, 30, 53, 39, 31, 36, 26, 36, 37, 24, 32, 11, 18, 52, 55, 59, 53, 62, 33, 35, 45, 73, 258, 93, 61, 72, 61, 65, 58, 72, 136, 96, 56, 102, 112, 702, 155, 3, 61, 255, 216, 171, 169, 219, 60, 4, 2, 198, 202, 150, 181, 256, 201, 122, 132, 101, 1, 3, 18, 394, 565, 422, 250, 422, 329, 174, 40, 1, 33, 274, 141, 85, 258, 219, 137, 136, 35, 1, 26, 130, 692, 294, 1, 1, 18, 95, 44, 59, 69, 26, 69, 20, 54, 60], \"yaxis\": \"y\"}, {\"hoverlabel\": {\"namelength\": 0}, \"hovertemplate\": \"sentiment=Positive<br>date=%{x}<br>tweets=%{y}\", \"legendgroup\": \"sentiment=Positive\", \"line\": {\"color\": \"#EF553B\", \"dash\": \"solid\"}, \"mode\": \"lines\", \"name\": \"sentiment=Positive\", \"showlegend\": true, \"type\": \"scatter\", \"x\": [\"2021-02-08\", \"2021-02-09\", \"2021-02-11\", \"2021-02-22\", \"2021-02-26\", \"2021-02-27\", \"2021-03-01\", \"2021-03-03\", \"2021-03-04\", \"2021-03-05\", \"2021-03-09\", \"2021-03-10\", \"2021-03-11\", \"2021-03-12\", \"2021-03-14\", \"2021-03-16\", \"2021-03-17\", \"2021-03-19\", \"2021-03-25\", \"2021-03-27\", \"2021-03-30\", \"2021-04-01\", \"2021-04-02\", \"2021-04-03\", \"2021-04-04\", \"2021-04-06\", \"2021-04-07\", \"2021-04-08\", \"2021-04-09\", \"2021-04-11\", \"2021-04-12\", \"2021-04-13\", \"2021-04-14\", \"2021-04-15\", \"2021-04-17\", \"2021-04-18\", \"2021-04-19\", \"2021-04-20\", \"2021-04-21\", \"2021-04-22\", \"2021-05-15\", \"2021-05-16\", \"2021-05-18\", \"2021-05-19\", \"2021-05-20\", \"2021-05-21\", \"2021-05-24\", \"2021-05-25\", \"2021-05-26\", \"2021-05-27\", \"2021-05-28\", \"2021-05-29\", \"2021-05-30\", \"2021-05-31\", \"2021-06-01\", \"2021-06-07\", \"2021-06-08\", \"2021-06-09\", \"2021-06-10\", \"2021-06-11\", \"2021-06-12\", \"2021-06-13\", \"2021-06-17\", \"2021-06-18\", \"2021-06-19\", \"2021-06-22\", \"2021-06-25\", \"2021-06-26\", \"2021-06-29\", \"2021-06-30\", \"2021-07-01\", \"2021-07-12\", \"2021-07-13\", \"2021-07-14\", \"2021-07-15\", \"2021-07-16\", \"2021-07-19\", \"2021-07-23\", \"2021-07-24\"], \"xaxis\": \"x\", \"y\": [1, 1, 1, 1, 1, 1, 19, 12, 3, 1, 10, 3, 1, 1, 1, 1, 1, 2, 2, 1, 1, 2, 2, 2, 1, 1, 1, 5, 2, 2, 1, 1, 1, 2, 2, 1, 1, 2, 18, 3, 1, 3, 3, 6, 2, 1, 3, 2, 1, 6, 3, 4, 5, 1, 4, 6, 8, 6, 4, 9, 6, 3, 4, 6, 4, 7, 4, 2, 1, 15, 4, 1, 1, 1, 4, 1, 1, 2, 1], \"yaxis\": \"y\"}, {\"hoverlabel\": {\"namelength\": 0}, \"hovertemplate\": \"sentiment=Negative<br>date=%{x}<br>tweets=%{y}\", \"legendgroup\": \"sentiment=Negative\", \"line\": {\"color\": \"#00cc96\", \"dash\": \"solid\"}, \"mode\": \"lines\", \"name\": \"sentiment=Negative\", \"showlegend\": true, \"type\": \"scatter\", \"x\": [\"2021-02-25\", \"2021-02-26\", \"2021-02-28\", \"2021-03-01\", \"2021-03-03\", \"2021-03-07\", \"2021-03-09\", \"2021-03-10\", \"2021-03-18\", \"2021-03-20\", \"2021-03-24\", \"2021-04-08\", \"2021-04-12\", \"2021-04-13\", \"2021-04-15\", \"2021-04-16\", \"2021-04-17\", \"2021-04-18\", \"2021-04-20\", \"2021-04-21\", \"2021-05-17\", \"2021-05-18\", \"2021-05-20\", \"2021-05-24\", \"2021-05-25\", \"2021-05-26\", \"2021-05-27\", \"2021-05-29\", \"2021-05-30\", \"2021-05-31\", \"2021-06-01\", \"2021-06-07\", \"2021-06-08\", \"2021-06-09\", \"2021-06-10\", \"2021-06-11\", \"2021-06-12\", \"2021-06-17\", \"2021-06-18\", \"2021-06-22\", \"2021-06-23\", \"2021-06-29\", \"2021-06-30\", \"2021-07-01\", \"2021-07-13\", \"2021-07-15\", \"2021-07-16\", \"2021-07-17\", \"2021-07-19\", \"2021-07-20\", \"2021-07-23\"], \"xaxis\": \"x\", \"y\": [1, 1, 1, 12, 3, 1, 1, 2, 2, 1, 1, 1, 1, 2, 2, 1, 1, 1, 1, 1, 1, 2, 1, 3, 4, 10, 2, 1, 1, 1, 1, 2, 2, 5, 1, 4, 4, 18, 7, 3, 7, 2, 6, 5, 3, 2, 4, 1, 5, 2, 1], \"yaxis\": \"y\"}],\n",
              "                        {\"legend\": {\"tracegroupgap\": 0}, \"template\": {\"data\": {\"bar\": [{\"error_x\": {\"color\": \"#2a3f5f\"}, \"error_y\": {\"color\": \"#2a3f5f\"}, \"marker\": {\"line\": {\"color\": \"#E5ECF6\", \"width\": 0.5}}, \"type\": \"bar\"}], \"barpolar\": [{\"marker\": {\"line\": {\"color\": \"#E5ECF6\", \"width\": 0.5}}, \"type\": \"barpolar\"}], \"carpet\": [{\"aaxis\": {\"endlinecolor\": \"#2a3f5f\", \"gridcolor\": \"white\", \"linecolor\": \"white\", \"minorgridcolor\": \"white\", \"startlinecolor\": \"#2a3f5f\"}, \"baxis\": {\"endlinecolor\": \"#2a3f5f\", \"gridcolor\": \"white\", \"linecolor\": \"white\", \"minorgridcolor\": \"white\", \"startlinecolor\": \"#2a3f5f\"}, \"type\": \"carpet\"}], \"choropleth\": [{\"colorbar\": {\"outlinewidth\": 0, \"ticks\": \"\"}, \"type\": \"choropleth\"}], \"contour\": [{\"colorbar\": {\"outlinewidth\": 0, \"ticks\": \"\"}, \"colorscale\": [[0.0, \"#0d0887\"], [0.1111111111111111, \"#46039f\"], [0.2222222222222222, \"#7201a8\"], [0.3333333333333333, \"#9c179e\"], [0.4444444444444444, \"#bd3786\"], [0.5555555555555556, \"#d8576b\"], [0.6666666666666666, \"#ed7953\"], [0.7777777777777778, \"#fb9f3a\"], [0.8888888888888888, \"#fdca26\"], [1.0, \"#f0f921\"]], \"type\": \"contour\"}], \"contourcarpet\": [{\"colorbar\": {\"outlinewidth\": 0, \"ticks\": \"\"}, \"type\": \"contourcarpet\"}], \"heatmap\": [{\"colorbar\": {\"outlinewidth\": 0, \"ticks\": \"\"}, \"colorscale\": [[0.0, \"#0d0887\"], [0.1111111111111111, \"#46039f\"], [0.2222222222222222, \"#7201a8\"], [0.3333333333333333, \"#9c179e\"], [0.4444444444444444, \"#bd3786\"], [0.5555555555555556, \"#d8576b\"], [0.6666666666666666, \"#ed7953\"], [0.7777777777777778, \"#fb9f3a\"], [0.8888888888888888, \"#fdca26\"], [1.0, \"#f0f921\"]], \"type\": \"heatmap\"}], \"heatmapgl\": [{\"colorbar\": {\"outlinewidth\": 0, \"ticks\": \"\"}, \"colorscale\": [[0.0, \"#0d0887\"], [0.1111111111111111, \"#46039f\"], [0.2222222222222222, \"#7201a8\"], [0.3333333333333333, \"#9c179e\"], [0.4444444444444444, \"#bd3786\"], [0.5555555555555556, \"#d8576b\"], [0.6666666666666666, \"#ed7953\"], [0.7777777777777778, \"#fb9f3a\"], [0.8888888888888888, \"#fdca26\"], [1.0, \"#f0f921\"]], \"type\": \"heatmapgl\"}], \"histogram\": [{\"marker\": {\"colorbar\": {\"outlinewidth\": 0, \"ticks\": \"\"}}, \"type\": \"histogram\"}], \"histogram2d\": [{\"colorbar\": {\"outlinewidth\": 0, \"ticks\": \"\"}, \"colorscale\": [[0.0, \"#0d0887\"], [0.1111111111111111, \"#46039f\"], [0.2222222222222222, \"#7201a8\"], [0.3333333333333333, \"#9c179e\"], [0.4444444444444444, \"#bd3786\"], [0.5555555555555556, \"#d8576b\"], [0.6666666666666666, \"#ed7953\"], [0.7777777777777778, \"#fb9f3a\"], [0.8888888888888888, \"#fdca26\"], [1.0, \"#f0f921\"]], \"type\": \"histogram2d\"}], \"histogram2dcontour\": [{\"colorbar\": {\"outlinewidth\": 0, \"ticks\": \"\"}, \"colorscale\": [[0.0, \"#0d0887\"], [0.1111111111111111, \"#46039f\"], [0.2222222222222222, \"#7201a8\"], [0.3333333333333333, \"#9c179e\"], [0.4444444444444444, \"#bd3786\"], [0.5555555555555556, \"#d8576b\"], [0.6666666666666666, \"#ed7953\"], [0.7777777777777778, \"#fb9f3a\"], [0.8888888888888888, \"#fdca26\"], [1.0, \"#f0f921\"]], \"type\": \"histogram2dcontour\"}], \"mesh3d\": [{\"colorbar\": {\"outlinewidth\": 0, \"ticks\": \"\"}, \"type\": \"mesh3d\"}], \"parcoords\": [{\"line\": {\"colorbar\": {\"outlinewidth\": 0, \"ticks\": \"\"}}, \"type\": \"parcoords\"}], \"pie\": [{\"automargin\": true, \"type\": \"pie\"}], \"scatter\": [{\"marker\": {\"colorbar\": {\"outlinewidth\": 0, \"ticks\": \"\"}}, \"type\": \"scatter\"}], \"scatter3d\": [{\"line\": {\"colorbar\": {\"outlinewidth\": 0, \"ticks\": \"\"}}, \"marker\": {\"colorbar\": {\"outlinewidth\": 0, \"ticks\": \"\"}}, \"type\": \"scatter3d\"}], \"scattercarpet\": [{\"marker\": {\"colorbar\": {\"outlinewidth\": 0, \"ticks\": \"\"}}, \"type\": \"scattercarpet\"}], \"scattergeo\": [{\"marker\": {\"colorbar\": {\"outlinewidth\": 0, \"ticks\": \"\"}}, \"type\": \"scattergeo\"}], \"scattergl\": [{\"marker\": {\"colorbar\": {\"outlinewidth\": 0, \"ticks\": \"\"}}, \"type\": \"scattergl\"}], \"scattermapbox\": [{\"marker\": {\"colorbar\": {\"outlinewidth\": 0, \"ticks\": \"\"}}, \"type\": \"scattermapbox\"}], \"scatterpolar\": [{\"marker\": {\"colorbar\": {\"outlinewidth\": 0, \"ticks\": \"\"}}, \"type\": \"scatterpolar\"}], \"scatterpolargl\": [{\"marker\": {\"colorbar\": {\"outlinewidth\": 0, \"ticks\": \"\"}}, \"type\": \"scatterpolargl\"}], \"scatterternary\": [{\"marker\": {\"colorbar\": {\"outlinewidth\": 0, \"ticks\": \"\"}}, \"type\": \"scatterternary\"}], \"surface\": [{\"colorbar\": {\"outlinewidth\": 0, \"ticks\": \"\"}, \"colorscale\": [[0.0, \"#0d0887\"], [0.1111111111111111, \"#46039f\"], [0.2222222222222222, \"#7201a8\"], [0.3333333333333333, \"#9c179e\"], [0.4444444444444444, \"#bd3786\"], [0.5555555555555556, \"#d8576b\"], [0.6666666666666666, \"#ed7953\"], [0.7777777777777778, \"#fb9f3a\"], [0.8888888888888888, \"#fdca26\"], [1.0, \"#f0f921\"]], \"type\": \"surface\"}], \"table\": [{\"cells\": {\"fill\": {\"color\": \"#EBF0F8\"}, \"line\": {\"color\": \"white\"}}, \"header\": {\"fill\": {\"color\": \"#C8D4E3\"}, \"line\": {\"color\": \"white\"}}, \"type\": \"table\"}]}, \"layout\": {\"annotationdefaults\": {\"arrowcolor\": \"#2a3f5f\", \"arrowhead\": 0, \"arrowwidth\": 1}, \"coloraxis\": {\"colorbar\": {\"outlinewidth\": 0, \"ticks\": \"\"}}, \"colorscale\": {\"diverging\": [[0, \"#8e0152\"], [0.1, \"#c51b7d\"], [0.2, \"#de77ae\"], [0.3, \"#f1b6da\"], [0.4, \"#fde0ef\"], [0.5, \"#f7f7f7\"], [0.6, \"#e6f5d0\"], [0.7, \"#b8e186\"], [0.8, \"#7fbc41\"], [0.9, \"#4d9221\"], [1, \"#276419\"]], \"sequential\": [[0.0, \"#0d0887\"], [0.1111111111111111, \"#46039f\"], [0.2222222222222222, \"#7201a8\"], [0.3333333333333333, \"#9c179e\"], [0.4444444444444444, \"#bd3786\"], [0.5555555555555556, \"#d8576b\"], [0.6666666666666666, \"#ed7953\"], [0.7777777777777778, \"#fb9f3a\"], [0.8888888888888888, \"#fdca26\"], [1.0, \"#f0f921\"]], \"sequentialminus\": [[0.0, \"#0d0887\"], [0.1111111111111111, \"#46039f\"], [0.2222222222222222, \"#7201a8\"], [0.3333333333333333, \"#9c179e\"], [0.4444444444444444, \"#bd3786\"], [0.5555555555555556, \"#d8576b\"], [0.6666666666666666, \"#ed7953\"], [0.7777777777777778, \"#fb9f3a\"], [0.8888888888888888, \"#fdca26\"], [1.0, \"#f0f921\"]]}, \"colorway\": [\"#636efa\", \"#EF553B\", \"#00cc96\", \"#ab63fa\", \"#FFA15A\", \"#19d3f3\", \"#FF6692\", \"#B6E880\", \"#FF97FF\", \"#FECB52\"], \"font\": {\"color\": \"#2a3f5f\"}, \"geo\": {\"bgcolor\": \"white\", \"lakecolor\": \"white\", \"landcolor\": \"#E5ECF6\", \"showlakes\": true, \"showland\": true, \"subunitcolor\": \"white\"}, \"hoverlabel\": {\"align\": \"left\"}, \"hovermode\": \"closest\", \"mapbox\": {\"style\": \"light\"}, \"paper_bgcolor\": \"white\", \"plot_bgcolor\": \"#E5ECF6\", \"polar\": {\"angularaxis\": {\"gridcolor\": \"white\", \"linecolor\": \"white\", \"ticks\": \"\"}, \"bgcolor\": \"#E5ECF6\", \"radialaxis\": {\"gridcolor\": \"white\", \"linecolor\": \"white\", \"ticks\": \"\"}}, \"scene\": {\"xaxis\": {\"backgroundcolor\": \"#E5ECF6\", \"gridcolor\": \"white\", \"gridwidth\": 2, \"linecolor\": \"white\", \"showbackground\": true, \"ticks\": \"\", \"zerolinecolor\": \"white\"}, \"yaxis\": {\"backgroundcolor\": \"#E5ECF6\", \"gridcolor\": \"white\", \"gridwidth\": 2, \"linecolor\": \"white\", \"showbackground\": true, \"ticks\": \"\", \"zerolinecolor\": \"white\"}, \"zaxis\": {\"backgroundcolor\": \"#E5ECF6\", \"gridcolor\": \"white\", \"gridwidth\": 2, \"linecolor\": \"white\", \"showbackground\": true, \"ticks\": \"\", \"zerolinecolor\": \"white\"}}, \"shapedefaults\": {\"line\": {\"color\": \"#2a3f5f\"}}, \"ternary\": {\"aaxis\": {\"gridcolor\": \"white\", \"linecolor\": \"white\", \"ticks\": \"\"}, \"baxis\": {\"gridcolor\": \"white\", \"linecolor\": \"white\", \"ticks\": \"\"}, \"bgcolor\": \"#E5ECF6\", \"caxis\": {\"gridcolor\": \"white\", \"linecolor\": \"white\", \"ticks\": \"\"}}, \"title\": {\"x\": 0.05}, \"xaxis\": {\"automargin\": true, \"gridcolor\": \"white\", \"linecolor\": \"white\", \"ticks\": \"\", \"title\": {\"standoff\": 15}, \"zerolinecolor\": \"white\", \"zerolinewidth\": 2}, \"yaxis\": {\"automargin\": true, \"gridcolor\": \"white\", \"linecolor\": \"white\", \"ticks\": \"\", \"title\": {\"standoff\": 15}, \"zerolinecolor\": \"white\", \"zerolinewidth\": 2}}}, \"title\": {\"text\": \"Timeline showing sentiment of tweets about the Covaxin vaccine\"}, \"xaxis\": {\"anchor\": \"y\", \"domain\": [0.0, 1.0], \"title\": {\"text\": \"date\"}}, \"yaxis\": {\"anchor\": \"x\", \"domain\": [0.0, 1.0], \"title\": {\"text\": \"tweets\"}}},\n",
              "                        {\"responsive\": true}\n",
              "                    ).then(function(){\n",
              "                            \n",
              "var gd = document.getElementById('62f43fe9-b4de-4966-91a1-1288fa525fbe');\n",
              "var x = new MutationObserver(function (mutations, observer) {{\n",
              "        var display = window.getComputedStyle(gd).display;\n",
              "        if (!display || display === 'none') {{\n",
              "            console.log([gd, 'removed!']);\n",
              "            Plotly.purge(gd);\n",
              "            observer.disconnect();\n",
              "        }}\n",
              "}});\n",
              "\n",
              "// Listen for the removal of the full notebook cells\n",
              "var notebookContainer = gd.closest('#notebook-container');\n",
              "if (notebookContainer) {{\n",
              "    x.observe(notebookContainer, {childList: true});\n",
              "}}\n",
              "\n",
              "// Listen for the clearing of the current output cell\n",
              "var outputEl = gd.closest('.output');\n",
              "if (outputEl) {{\n",
              "    x.observe(outputEl, {childList: true});\n",
              "}}\n",
              "\n",
              "                        })\n",
              "                };\n",
              "                \n",
              "            </script>\n",
              "        </div>\n",
              "</body>\n",
              "</html>"
            ]
          },
          "metadata": {
            "tags": []
          }
        },
        {
          "output_type": "display_data",
          "data": {
            "text/html": [
              "<html>\n",
              "<head><meta charset=\"utf-8\" /></head>\n",
              "<body>\n",
              "    <div>\n",
              "            <script src=\"https://cdnjs.cloudflare.com/ajax/libs/mathjax/2.7.5/MathJax.js?config=TeX-AMS-MML_SVG\"></script><script type=\"text/javascript\">if (window.MathJax) {MathJax.Hub.Config({SVG: {font: \"STIX-Web\"}});}</script>\n",
              "                <script type=\"text/javascript\">window.PlotlyConfig = {MathJaxConfig: 'local'};</script>\n",
              "        <script src=\"https://cdn.plot.ly/plotly-latest.min.js\"></script>    \n",
              "            <div id=\"63eb8b21-e74e-4dc7-8ce2-636beb4894f7\" class=\"plotly-graph-div\" style=\"height:525px; width:100%;\"></div>\n",
              "            <script type=\"text/javascript\">\n",
              "                \n",
              "                    window.PLOTLYENV=window.PLOTLYENV || {};\n",
              "                    \n",
              "                if (document.getElementById(\"63eb8b21-e74e-4dc7-8ce2-636beb4894f7\")) {\n",
              "                    Plotly.newPlot(\n",
              "                        '63eb8b21-e74e-4dc7-8ce2-636beb4894f7',\n",
              "                        [{\"hoverlabel\": {\"namelength\": 0}, \"hovertemplate\": \"sentiment=Neutral<br>date=%{x}<br>tweets=%{y}\", \"legendgroup\": \"sentiment=Neutral\", \"line\": {\"color\": \"#636efa\", \"dash\": \"solid\"}, \"mode\": \"lines\", \"name\": \"sentiment=Neutral\", \"showlegend\": true, \"type\": \"scatter\", \"x\": [\"2020-12-15\", \"2020-12-16\", \"2020-12-20\", \"2020-12-22\", \"2021-01-17\", \"2021-02-07\", \"2021-02-08\", \"2021-02-09\", \"2021-02-10\", \"2021-02-11\", \"2021-02-12\", \"2021-02-13\", \"2021-02-14\", \"2021-02-15\", \"2021-02-16\", \"2021-02-17\", \"2021-02-18\", \"2021-02-19\", \"2021-02-20\", \"2021-02-21\", \"2021-02-22\", \"2021-02-23\", \"2021-02-24\", \"2021-02-25\", \"2021-02-26\", \"2021-02-27\", \"2021-02-28\", \"2021-03-01\", \"2021-03-02\", \"2021-03-03\", \"2021-03-04\", \"2021-03-05\", \"2021-03-06\", \"2021-03-07\", \"2021-03-08\", \"2021-03-09\", \"2021-03-10\", \"2021-03-11\", \"2021-03-12\", \"2021-03-13\", \"2021-03-14\", \"2021-03-15\", \"2021-03-16\", \"2021-03-17\", \"2021-03-18\", \"2021-03-19\", \"2021-03-20\", \"2021-03-21\", \"2021-03-22\", \"2021-03-23\", \"2021-03-24\", \"2021-03-25\", \"2021-03-26\", \"2021-03-27\", \"2021-03-28\", \"2021-03-29\", \"2021-03-30\", \"2021-03-31\", \"2021-04-01\", \"2021-04-02\", \"2021-04-03\", \"2021-04-04\", \"2021-04-05\", \"2021-04-06\", \"2021-04-07\", \"2021-04-08\", \"2021-04-09\", \"2021-04-10\", \"2021-04-11\", \"2021-04-12\", \"2021-04-13\", \"2021-04-14\", \"2021-04-15\", \"2021-04-16\", \"2021-04-17\", \"2021-04-18\", \"2021-04-19\", \"2021-04-20\", \"2021-04-21\", \"2021-04-22\", \"2021-05-13\", \"2021-05-14\", \"2021-05-15\", \"2021-05-16\", \"2021-05-17\", \"2021-05-18\", \"2021-05-19\", \"2021-05-20\", \"2021-05-21\", \"2021-05-22\", \"2021-05-23\", \"2021-05-24\", \"2021-05-25\", \"2021-05-26\", \"2021-05-27\", \"2021-05-28\", \"2021-05-29\", \"2021-05-30\", \"2021-05-31\", \"2021-06-01\", \"2021-06-02\", \"2021-06-03\", \"2021-06-04\", \"2021-06-05\", \"2021-06-06\", \"2021-06-07\", \"2021-06-08\", \"2021-06-09\", \"2021-06-10\", \"2021-06-11\", \"2021-06-12\", \"2021-06-13\", \"2021-06-14\", \"2021-06-15\", \"2021-06-16\", \"2021-06-17\", \"2021-06-18\", \"2021-06-19\", \"2021-06-20\", \"2021-06-21\", \"2021-06-22\", \"2021-06-23\", \"2021-06-24\", \"2021-06-25\", \"2021-06-26\", \"2021-06-27\", \"2021-06-28\", \"2021-06-29\", \"2021-06-30\", \"2021-07-01\", \"2021-07-08\", \"2021-07-09\", \"2021-07-12\", \"2021-07-13\", \"2021-07-14\", \"2021-07-15\", \"2021-07-16\", \"2021-07-17\", \"2021-07-18\", \"2021-07-19\", \"2021-07-20\", \"2021-07-21\", \"2021-07-22\", \"2021-07-23\", \"2021-07-24\"], \"xaxis\": \"x\", \"y\": [1, 2, 1, 1, 2, 11, 14, 5, 9, 13, 7, 11, 4, 7, 9, 3, 36, 13, 17, 8, 45, 26, 36, 23, 33, 31, 57, 33, 23, 37, 30, 15, 16, 13, 28, 22, 27, 17, 20, 20, 14, 21, 22, 18, 23, 20, 22, 7, 27, 14, 25, 23, 35, 7, 22, 23, 19, 15, 15, 25, 20, 16, 15, 26, 36, 29, 35, 20, 42, 60, 20, 27, 22, 28, 29, 10, 23, 18, 27, 39, 3, 13, 8, 11, 17, 26, 19, 32, 12, 25, 113, 53, 32, 21, 34, 21, 32, 28, 45, 135, 145, 48, 30, 72, 50, 41, 27, 18, 31, 41, 21, 19, 20, 21, 41, 64, 53, 34, 35, 49, 51, 65, 43, 38, 38, 28, 44, 46, 47, 37, 1, 1, 76, 69, 67, 51, 64, 53, 25, 38, 28, 30, 27, 46, 16], \"yaxis\": \"y\"}, {\"hoverlabel\": {\"namelength\": 0}, \"hovertemplate\": \"sentiment=Negative<br>date=%{x}<br>tweets=%{y}\", \"legendgroup\": \"sentiment=Negative\", \"line\": {\"color\": \"#EF553B\", \"dash\": \"solid\"}, \"mode\": \"lines\", \"name\": \"sentiment=Negative\", \"showlegend\": true, \"type\": \"scatter\", \"x\": [\"2021-02-07\", \"2021-02-20\", \"2021-02-24\", \"2021-02-27\", \"2021-03-01\", \"2021-03-02\", \"2021-03-05\", \"2021-03-13\", \"2021-03-19\", \"2021-03-26\", \"2021-04-11\", \"2021-04-12\", \"2021-04-17\", \"2021-05-20\", \"2021-05-23\", \"2021-05-24\", \"2021-05-25\", \"2021-05-26\", \"2021-05-29\", \"2021-05-30\", \"2021-06-01\", \"2021-06-02\", \"2021-06-03\", \"2021-06-04\", \"2021-06-05\", \"2021-06-07\", \"2021-06-11\", \"2021-06-13\", \"2021-06-17\", \"2021-06-25\", \"2021-06-26\", \"2021-06-29\", \"2021-07-12\", \"2021-07-19\", \"2021-07-22\", \"2021-07-24\"], \"xaxis\": \"x\", \"y\": [1, 1, 1, 1, 1, 2, 2, 1, 1, 1, 1, 1, 1, 1, 1, 1, 1, 1, 1, 1, 18, 18, 1, 2, 1, 2, 2, 2, 2, 1, 1, 1, 1, 1, 1, 1], \"yaxis\": \"y\"}, {\"hoverlabel\": {\"namelength\": 0}, \"hovertemplate\": \"sentiment=Positive<br>date=%{x}<br>tweets=%{y}\", \"legendgroup\": \"sentiment=Positive\", \"line\": {\"color\": \"#00cc96\", \"dash\": \"solid\"}, \"mode\": \"lines\", \"name\": \"sentiment=Positive\", \"showlegend\": true, \"type\": \"scatter\", \"x\": [\"2021-02-14\", \"2021-02-27\", \"2021-02-28\", \"2021-03-01\", \"2021-03-02\", \"2021-03-03\", \"2021-03-08\", \"2021-03-23\", \"2021-03-25\", \"2021-03-30\", \"2021-03-31\", \"2021-04-01\", \"2021-04-03\", \"2021-04-05\", \"2021-04-07\", \"2021-04-08\", \"2021-04-11\", \"2021-04-12\", \"2021-04-14\", \"2021-04-21\", \"2021-05-13\", \"2021-05-18\", \"2021-05-19\", \"2021-05-20\", \"2021-05-22\", \"2021-05-23\", \"2021-05-24\", \"2021-05-25\", \"2021-05-27\", \"2021-05-29\", \"2021-05-30\", \"2021-05-31\", \"2021-06-01\", \"2021-06-02\", \"2021-06-03\", \"2021-06-04\", \"2021-06-05\", \"2021-06-08\", \"2021-06-09\", \"2021-06-10\", \"2021-06-11\", \"2021-06-12\", \"2021-06-15\", \"2021-06-17\", \"2021-06-18\", \"2021-06-19\", \"2021-06-20\", \"2021-06-21\", \"2021-06-22\", \"2021-06-23\", \"2021-06-24\", \"2021-06-25\", \"2021-06-26\", \"2021-06-27\", \"2021-06-30\", \"2021-07-01\", \"2021-07-12\", \"2021-07-13\", \"2021-07-14\", \"2021-07-15\", \"2021-07-16\", \"2021-07-19\", \"2021-07-23\", \"2021-07-24\"], \"xaxis\": \"x\", \"y\": [1, 1, 6, 3, 1, 1, 2, 1, 1, 1, 1, 1, 1, 1, 1, 1, 2, 2, 2, 1, 1, 2, 1, 4, 1, 1, 1, 1, 1, 2, 1, 1, 2, 7, 1, 1, 1, 1, 1, 3, 2, 2, 1, 2, 1, 1, 1, 1, 2, 2, 1, 1, 2, 1, 2, 3, 3, 1, 2, 1, 1, 2, 3, 1], \"yaxis\": \"y\"}],\n",
              "                        {\"legend\": {\"tracegroupgap\": 0}, \"template\": {\"data\": {\"bar\": [{\"error_x\": {\"color\": \"#2a3f5f\"}, \"error_y\": {\"color\": \"#2a3f5f\"}, \"marker\": {\"line\": {\"color\": \"#E5ECF6\", \"width\": 0.5}}, \"type\": \"bar\"}], \"barpolar\": [{\"marker\": {\"line\": {\"color\": \"#E5ECF6\", \"width\": 0.5}}, \"type\": \"barpolar\"}], \"carpet\": [{\"aaxis\": {\"endlinecolor\": \"#2a3f5f\", \"gridcolor\": \"white\", \"linecolor\": \"white\", \"minorgridcolor\": \"white\", \"startlinecolor\": \"#2a3f5f\"}, \"baxis\": {\"endlinecolor\": \"#2a3f5f\", \"gridcolor\": \"white\", \"linecolor\": \"white\", \"minorgridcolor\": \"white\", \"startlinecolor\": \"#2a3f5f\"}, \"type\": \"carpet\"}], \"choropleth\": [{\"colorbar\": {\"outlinewidth\": 0, \"ticks\": \"\"}, \"type\": \"choropleth\"}], \"contour\": [{\"colorbar\": {\"outlinewidth\": 0, \"ticks\": \"\"}, \"colorscale\": [[0.0, \"#0d0887\"], [0.1111111111111111, \"#46039f\"], [0.2222222222222222, \"#7201a8\"], [0.3333333333333333, \"#9c179e\"], [0.4444444444444444, \"#bd3786\"], [0.5555555555555556, \"#d8576b\"], [0.6666666666666666, \"#ed7953\"], [0.7777777777777778, \"#fb9f3a\"], [0.8888888888888888, \"#fdca26\"], [1.0, \"#f0f921\"]], \"type\": \"contour\"}], \"contourcarpet\": [{\"colorbar\": {\"outlinewidth\": 0, \"ticks\": \"\"}, \"type\": \"contourcarpet\"}], \"heatmap\": [{\"colorbar\": {\"outlinewidth\": 0, \"ticks\": \"\"}, \"colorscale\": [[0.0, \"#0d0887\"], [0.1111111111111111, \"#46039f\"], [0.2222222222222222, \"#7201a8\"], [0.3333333333333333, \"#9c179e\"], [0.4444444444444444, \"#bd3786\"], [0.5555555555555556, \"#d8576b\"], [0.6666666666666666, \"#ed7953\"], [0.7777777777777778, \"#fb9f3a\"], [0.8888888888888888, \"#fdca26\"], [1.0, \"#f0f921\"]], \"type\": \"heatmap\"}], \"heatmapgl\": [{\"colorbar\": {\"outlinewidth\": 0, \"ticks\": \"\"}, \"colorscale\": [[0.0, \"#0d0887\"], [0.1111111111111111, \"#46039f\"], [0.2222222222222222, \"#7201a8\"], [0.3333333333333333, \"#9c179e\"], [0.4444444444444444, \"#bd3786\"], [0.5555555555555556, \"#d8576b\"], [0.6666666666666666, \"#ed7953\"], [0.7777777777777778, \"#fb9f3a\"], [0.8888888888888888, \"#fdca26\"], [1.0, \"#f0f921\"]], \"type\": \"heatmapgl\"}], \"histogram\": [{\"marker\": {\"colorbar\": {\"outlinewidth\": 0, \"ticks\": \"\"}}, \"type\": \"histogram\"}], \"histogram2d\": [{\"colorbar\": {\"outlinewidth\": 0, \"ticks\": \"\"}, \"colorscale\": [[0.0, \"#0d0887\"], [0.1111111111111111, \"#46039f\"], [0.2222222222222222, \"#7201a8\"], [0.3333333333333333, \"#9c179e\"], [0.4444444444444444, \"#bd3786\"], [0.5555555555555556, \"#d8576b\"], [0.6666666666666666, \"#ed7953\"], [0.7777777777777778, \"#fb9f3a\"], [0.8888888888888888, \"#fdca26\"], [1.0, \"#f0f921\"]], \"type\": \"histogram2d\"}], \"histogram2dcontour\": [{\"colorbar\": {\"outlinewidth\": 0, \"ticks\": \"\"}, \"colorscale\": [[0.0, \"#0d0887\"], [0.1111111111111111, \"#46039f\"], [0.2222222222222222, \"#7201a8\"], [0.3333333333333333, \"#9c179e\"], [0.4444444444444444, \"#bd3786\"], [0.5555555555555556, \"#d8576b\"], [0.6666666666666666, \"#ed7953\"], [0.7777777777777778, \"#fb9f3a\"], [0.8888888888888888, \"#fdca26\"], [1.0, \"#f0f921\"]], \"type\": \"histogram2dcontour\"}], \"mesh3d\": [{\"colorbar\": {\"outlinewidth\": 0, \"ticks\": \"\"}, \"type\": \"mesh3d\"}], \"parcoords\": [{\"line\": {\"colorbar\": {\"outlinewidth\": 0, \"ticks\": \"\"}}, \"type\": \"parcoords\"}], \"pie\": [{\"automargin\": true, \"type\": \"pie\"}], \"scatter\": [{\"marker\": {\"colorbar\": {\"outlinewidth\": 0, \"ticks\": \"\"}}, \"type\": \"scatter\"}], \"scatter3d\": [{\"line\": {\"colorbar\": {\"outlinewidth\": 0, \"ticks\": \"\"}}, \"marker\": {\"colorbar\": {\"outlinewidth\": 0, \"ticks\": \"\"}}, \"type\": \"scatter3d\"}], \"scattercarpet\": [{\"marker\": {\"colorbar\": {\"outlinewidth\": 0, \"ticks\": \"\"}}, \"type\": \"scattercarpet\"}], \"scattergeo\": [{\"marker\": {\"colorbar\": {\"outlinewidth\": 0, \"ticks\": \"\"}}, \"type\": \"scattergeo\"}], \"scattergl\": [{\"marker\": {\"colorbar\": {\"outlinewidth\": 0, \"ticks\": \"\"}}, \"type\": \"scattergl\"}], \"scattermapbox\": [{\"marker\": {\"colorbar\": {\"outlinewidth\": 0, \"ticks\": \"\"}}, \"type\": \"scattermapbox\"}], \"scatterpolar\": [{\"marker\": {\"colorbar\": {\"outlinewidth\": 0, \"ticks\": \"\"}}, \"type\": \"scatterpolar\"}], \"scatterpolargl\": [{\"marker\": {\"colorbar\": {\"outlinewidth\": 0, \"ticks\": \"\"}}, \"type\": \"scatterpolargl\"}], \"scatterternary\": [{\"marker\": {\"colorbar\": {\"outlinewidth\": 0, \"ticks\": \"\"}}, \"type\": \"scatterternary\"}], \"surface\": [{\"colorbar\": {\"outlinewidth\": 0, \"ticks\": \"\"}, \"colorscale\": [[0.0, \"#0d0887\"], [0.1111111111111111, \"#46039f\"], [0.2222222222222222, \"#7201a8\"], [0.3333333333333333, \"#9c179e\"], [0.4444444444444444, \"#bd3786\"], [0.5555555555555556, \"#d8576b\"], [0.6666666666666666, \"#ed7953\"], [0.7777777777777778, \"#fb9f3a\"], [0.8888888888888888, \"#fdca26\"], [1.0, \"#f0f921\"]], \"type\": \"surface\"}], \"table\": [{\"cells\": {\"fill\": {\"color\": \"#EBF0F8\"}, \"line\": {\"color\": \"white\"}}, \"header\": {\"fill\": {\"color\": \"#C8D4E3\"}, \"line\": {\"color\": \"white\"}}, \"type\": \"table\"}]}, \"layout\": {\"annotationdefaults\": {\"arrowcolor\": \"#2a3f5f\", \"arrowhead\": 0, \"arrowwidth\": 1}, \"coloraxis\": {\"colorbar\": {\"outlinewidth\": 0, \"ticks\": \"\"}}, \"colorscale\": {\"diverging\": [[0, \"#8e0152\"], [0.1, \"#c51b7d\"], [0.2, \"#de77ae\"], [0.3, \"#f1b6da\"], [0.4, \"#fde0ef\"], [0.5, \"#f7f7f7\"], [0.6, \"#e6f5d0\"], [0.7, \"#b8e186\"], [0.8, \"#7fbc41\"], [0.9, \"#4d9221\"], [1, \"#276419\"]], \"sequential\": [[0.0, \"#0d0887\"], [0.1111111111111111, \"#46039f\"], [0.2222222222222222, \"#7201a8\"], [0.3333333333333333, \"#9c179e\"], [0.4444444444444444, \"#bd3786\"], [0.5555555555555556, \"#d8576b\"], [0.6666666666666666, \"#ed7953\"], [0.7777777777777778, \"#fb9f3a\"], [0.8888888888888888, \"#fdca26\"], [1.0, \"#f0f921\"]], \"sequentialminus\": [[0.0, \"#0d0887\"], [0.1111111111111111, \"#46039f\"], [0.2222222222222222, \"#7201a8\"], [0.3333333333333333, \"#9c179e\"], [0.4444444444444444, \"#bd3786\"], [0.5555555555555556, \"#d8576b\"], [0.6666666666666666, \"#ed7953\"], [0.7777777777777778, \"#fb9f3a\"], [0.8888888888888888, \"#fdca26\"], [1.0, \"#f0f921\"]]}, \"colorway\": [\"#636efa\", \"#EF553B\", \"#00cc96\", \"#ab63fa\", \"#FFA15A\", \"#19d3f3\", \"#FF6692\", \"#B6E880\", \"#FF97FF\", \"#FECB52\"], \"font\": {\"color\": \"#2a3f5f\"}, \"geo\": {\"bgcolor\": \"white\", \"lakecolor\": \"white\", \"landcolor\": \"#E5ECF6\", \"showlakes\": true, \"showland\": true, \"subunitcolor\": \"white\"}, \"hoverlabel\": {\"align\": \"left\"}, \"hovermode\": \"closest\", \"mapbox\": {\"style\": \"light\"}, \"paper_bgcolor\": \"white\", \"plot_bgcolor\": \"#E5ECF6\", \"polar\": {\"angularaxis\": {\"gridcolor\": \"white\", \"linecolor\": \"white\", \"ticks\": \"\"}, \"bgcolor\": \"#E5ECF6\", \"radialaxis\": {\"gridcolor\": \"white\", \"linecolor\": \"white\", \"ticks\": \"\"}}, \"scene\": {\"xaxis\": {\"backgroundcolor\": \"#E5ECF6\", \"gridcolor\": \"white\", \"gridwidth\": 2, \"linecolor\": \"white\", \"showbackground\": true, \"ticks\": \"\", \"zerolinecolor\": \"white\"}, \"yaxis\": {\"backgroundcolor\": \"#E5ECF6\", \"gridcolor\": \"white\", \"gridwidth\": 2, \"linecolor\": \"white\", \"showbackground\": true, \"ticks\": \"\", \"zerolinecolor\": \"white\"}, \"zaxis\": {\"backgroundcolor\": \"#E5ECF6\", \"gridcolor\": \"white\", \"gridwidth\": 2, \"linecolor\": \"white\", \"showbackground\": true, \"ticks\": \"\", \"zerolinecolor\": \"white\"}}, \"shapedefaults\": {\"line\": {\"color\": \"#2a3f5f\"}}, \"ternary\": {\"aaxis\": {\"gridcolor\": \"white\", \"linecolor\": \"white\", \"ticks\": \"\"}, \"baxis\": {\"gridcolor\": \"white\", \"linecolor\": \"white\", \"ticks\": \"\"}, \"bgcolor\": \"#E5ECF6\", \"caxis\": {\"gridcolor\": \"white\", \"linecolor\": \"white\", \"ticks\": \"\"}}, \"title\": {\"x\": 0.05}, \"xaxis\": {\"automargin\": true, \"gridcolor\": \"white\", \"linecolor\": \"white\", \"ticks\": \"\", \"title\": {\"standoff\": 15}, \"zerolinecolor\": \"white\", \"zerolinewidth\": 2}, \"yaxis\": {\"automargin\": true, \"gridcolor\": \"white\", \"linecolor\": \"white\", \"ticks\": \"\", \"title\": {\"standoff\": 15}, \"zerolinecolor\": \"white\", \"zerolinewidth\": 2}}}, \"title\": {\"text\": \"Timeline showing sentiment of tweets about the Sinovac vaccine\"}, \"xaxis\": {\"anchor\": \"y\", \"domain\": [0.0, 1.0], \"title\": {\"text\": \"date\"}}, \"yaxis\": {\"anchor\": \"x\", \"domain\": [0.0, 1.0], \"title\": {\"text\": \"tweets\"}}},\n",
              "                        {\"responsive\": true}\n",
              "                    ).then(function(){\n",
              "                            \n",
              "var gd = document.getElementById('63eb8b21-e74e-4dc7-8ce2-636beb4894f7');\n",
              "var x = new MutationObserver(function (mutations, observer) {{\n",
              "        var display = window.getComputedStyle(gd).display;\n",
              "        if (!display || display === 'none') {{\n",
              "            console.log([gd, 'removed!']);\n",
              "            Plotly.purge(gd);\n",
              "            observer.disconnect();\n",
              "        }}\n",
              "}});\n",
              "\n",
              "// Listen for the removal of the full notebook cells\n",
              "var notebookContainer = gd.closest('#notebook-container');\n",
              "if (notebookContainer) {{\n",
              "    x.observe(notebookContainer, {childList: true});\n",
              "}}\n",
              "\n",
              "// Listen for the clearing of the current output cell\n",
              "var outputEl = gd.closest('.output');\n",
              "if (outputEl) {{\n",
              "    x.observe(outputEl, {childList: true});\n",
              "}}\n",
              "\n",
              "                        })\n",
              "                };\n",
              "                \n",
              "            </script>\n",
              "        </div>\n",
              "</body>\n",
              "</html>"
            ]
          },
          "metadata": {
            "tags": []
          }
        },
        {
          "output_type": "display_data",
          "data": {
            "text/html": [
              "<html>\n",
              "<head><meta charset=\"utf-8\" /></head>\n",
              "<body>\n",
              "    <div>\n",
              "            <script src=\"https://cdnjs.cloudflare.com/ajax/libs/mathjax/2.7.5/MathJax.js?config=TeX-AMS-MML_SVG\"></script><script type=\"text/javascript\">if (window.MathJax) {MathJax.Hub.Config({SVG: {font: \"STIX-Web\"}});}</script>\n",
              "                <script type=\"text/javascript\">window.PlotlyConfig = {MathJaxConfig: 'local'};</script>\n",
              "        <script src=\"https://cdn.plot.ly/plotly-latest.min.js\"></script>    \n",
              "            <div id=\"522416ca-2f37-46da-9d32-d6c2f9201ff4\" class=\"plotly-graph-div\" style=\"height:525px; width:100%;\"></div>\n",
              "            <script type=\"text/javascript\">\n",
              "                \n",
              "                    window.PLOTLYENV=window.PLOTLYENV || {};\n",
              "                    \n",
              "                if (document.getElementById(\"522416ca-2f37-46da-9d32-d6c2f9201ff4\")) {\n",
              "                    Plotly.newPlot(\n",
              "                        '522416ca-2f37-46da-9d32-d6c2f9201ff4',\n",
              "                        [{\"hoverlabel\": {\"namelength\": 0}, \"hovertemplate\": \"sentiment=Neutral<br>date=%{x}<br>tweets=%{y}\", \"legendgroup\": \"sentiment=Neutral\", \"line\": {\"color\": \"#636efa\", \"dash\": \"solid\"}, \"mode\": \"lines\", \"name\": \"sentiment=Neutral\", \"showlegend\": true, \"type\": \"scatter\", \"x\": [\"2021-02-07\", \"2021-02-08\", \"2021-02-09\", \"2021-02-10\", \"2021-02-11\", \"2021-02-12\", \"2021-02-13\", \"2021-02-14\", \"2021-02-15\", \"2021-02-16\", \"2021-02-17\", \"2021-02-18\", \"2021-02-19\", \"2021-02-20\", \"2021-02-21\", \"2021-02-22\", \"2021-02-23\", \"2021-02-24\", \"2021-02-25\", \"2021-02-26\", \"2021-02-27\", \"2021-02-28\", \"2021-03-01\", \"2021-03-02\", \"2021-03-03\", \"2021-03-04\", \"2021-03-05\", \"2021-03-06\", \"2021-03-07\", \"2021-03-08\", \"2021-03-09\", \"2021-03-10\", \"2021-03-11\", \"2021-03-12\", \"2021-03-13\", \"2021-03-14\", \"2021-03-15\", \"2021-03-16\", \"2021-03-17\", \"2021-03-18\", \"2021-03-19\", \"2021-03-20\", \"2021-03-21\", \"2021-03-22\", \"2021-03-23\", \"2021-03-24\", \"2021-03-25\", \"2021-03-26\", \"2021-03-27\", \"2021-03-28\", \"2021-03-29\", \"2021-03-30\", \"2021-03-31\", \"2021-04-01\", \"2021-04-02\", \"2021-04-03\", \"2021-04-04\", \"2021-04-05\", \"2021-04-06\", \"2021-04-07\", \"2021-04-08\", \"2021-04-09\", \"2021-04-10\", \"2021-04-11\", \"2021-04-12\", \"2021-04-13\", \"2021-04-14\", \"2021-04-15\", \"2021-04-16\", \"2021-04-17\", \"2021-04-18\", \"2021-04-19\", \"2021-04-20\", \"2021-04-21\", \"2021-04-22\", \"2021-05-13\", \"2021-05-14\", \"2021-05-15\", \"2021-05-16\", \"2021-05-17\", \"2021-05-18\", \"2021-05-19\", \"2021-05-20\", \"2021-05-21\", \"2021-05-22\", \"2021-05-23\", \"2021-05-24\", \"2021-05-25\", \"2021-05-26\", \"2021-05-27\", \"2021-05-28\", \"2021-05-29\", \"2021-05-30\", \"2021-05-31\", \"2021-06-01\", \"2021-06-02\", \"2021-06-03\", \"2021-06-04\", \"2021-06-05\", \"2021-06-06\", \"2021-06-07\", \"2021-06-08\", \"2021-06-09\", \"2021-06-10\", \"2021-06-11\", \"2021-06-12\", \"2021-06-13\", \"2021-06-14\", \"2021-06-15\", \"2021-06-16\", \"2021-06-17\", \"2021-06-18\", \"2021-06-19\", \"2021-06-20\", \"2021-06-21\", \"2021-06-22\", \"2021-06-23\", \"2021-06-24\", \"2021-06-25\", \"2021-06-26\", \"2021-06-27\", \"2021-06-28\", \"2021-06-29\", \"2021-06-30\", \"2021-07-01\", \"2021-07-08\", \"2021-07-09\", \"2021-07-10\", \"2021-07-11\", \"2021-07-12\", \"2021-07-13\", \"2021-07-14\", \"2021-07-15\", \"2021-07-16\", \"2021-07-17\", \"2021-07-18\", \"2021-07-19\", \"2021-07-20\", \"2021-07-21\", \"2021-07-22\", \"2021-07-23\", \"2021-07-24\"], \"xaxis\": \"x\", \"y\": [17, 27, 20, 19, 9, 7, 6, 7, 20, 37, 19, 38, 14, 6, 2, 31, 27, 51, 34, 23, 10, 24, 36, 32, 19, 19, 21, 13, 6, 3, 6, 16, 21, 29, 12, 11, 20, 50, 34, 30, 10, 78, 24, 14, 14, 12, 16, 15, 18, 27, 60, 42, 52, 16, 21, 16, 13, 26, 30, 8, 18, 10, 15, 20, 30, 12, 14, 10, 4, 3, 5, 3, 8, 22, 2, 6, 22, 34, 25, 20, 29, 53, 46, 5, 19, 28, 9, 42, 44, 62, 54, 50, 28, 37, 39, 29, 39, 25, 21, 32, 35, 37, 38, 31, 27, 39, 23, 16, 21, 16, 29, 16, 20, 26, 24, 26, 26, 39, 24, 4, 9, 12, 13, 20, 12, 23, 17, 11, 20, 22, 25, 20, 30, 41, 16, 15, 13, 33, 27, 29, 28, 3], \"yaxis\": \"y\"}, {\"hoverlabel\": {\"namelength\": 0}, \"hovertemplate\": \"sentiment=Negative<br>date=%{x}<br>tweets=%{y}\", \"legendgroup\": \"sentiment=Negative\", \"line\": {\"color\": \"#EF553B\", \"dash\": \"solid\"}, \"mode\": \"lines\", \"name\": \"sentiment=Negative\", \"showlegend\": true, \"type\": \"scatter\", \"x\": [\"2021-02-16\", \"2021-02-22\", \"2021-02-25\", \"2021-03-20\", \"2021-03-31\", \"2021-04-10\", \"2021-05-14\", \"2021-05-15\", \"2021-05-22\", \"2021-05-26\", \"2021-06-22\", \"2021-07-15\"], \"xaxis\": \"x\", \"y\": [1, 1, 1, 8, 2, 1, 2, 1, 1, 1, 2, 1], \"yaxis\": \"y\"}, {\"hoverlabel\": {\"namelength\": 0}, \"hovertemplate\": \"sentiment=Positive<br>date=%{x}<br>tweets=%{y}\", \"legendgroup\": \"sentiment=Positive\", \"line\": {\"color\": \"#00cc96\", \"dash\": \"solid\"}, \"mode\": \"lines\", \"name\": \"sentiment=Positive\", \"showlegend\": true, \"type\": \"scatter\", \"x\": [\"2021-02-16\", \"2021-02-23\", \"2021-02-24\", \"2021-02-25\", \"2021-03-02\", \"2021-03-05\", \"2021-03-12\", \"2021-03-17\", \"2021-03-18\", \"2021-03-29\", \"2021-03-31\", \"2021-04-04\", \"2021-04-13\", \"2021-04-22\", \"2021-05-19\", \"2021-05-20\", \"2021-05-23\", \"2021-05-25\", \"2021-05-26\", \"2021-05-27\", \"2021-05-28\", \"2021-05-30\", \"2021-06-02\", \"2021-06-06\", \"2021-06-11\", \"2021-06-12\", \"2021-06-13\", \"2021-06-18\", \"2021-06-30\", \"2021-07-08\", \"2021-07-13\", \"2021-07-14\", \"2021-07-15\", \"2021-07-21\"], \"xaxis\": \"x\", \"y\": [1, 1, 1, 2, 1, 2, 1, 2, 2, 2, 3, 2, 1, 1, 1, 1, 1, 2, 1, 1, 3, 3, 1, 2, 1, 2, 1, 1, 1, 1, 2, 2, 1, 1], \"yaxis\": \"y\"}],\n",
              "                        {\"legend\": {\"tracegroupgap\": 0}, \"template\": {\"data\": {\"bar\": [{\"error_x\": {\"color\": \"#2a3f5f\"}, \"error_y\": {\"color\": \"#2a3f5f\"}, \"marker\": {\"line\": {\"color\": \"#E5ECF6\", \"width\": 0.5}}, \"type\": \"bar\"}], \"barpolar\": [{\"marker\": {\"line\": {\"color\": \"#E5ECF6\", \"width\": 0.5}}, \"type\": \"barpolar\"}], \"carpet\": [{\"aaxis\": {\"endlinecolor\": \"#2a3f5f\", \"gridcolor\": \"white\", \"linecolor\": \"white\", \"minorgridcolor\": \"white\", \"startlinecolor\": \"#2a3f5f\"}, \"baxis\": {\"endlinecolor\": \"#2a3f5f\", \"gridcolor\": \"white\", \"linecolor\": \"white\", \"minorgridcolor\": \"white\", \"startlinecolor\": \"#2a3f5f\"}, \"type\": \"carpet\"}], \"choropleth\": [{\"colorbar\": {\"outlinewidth\": 0, \"ticks\": \"\"}, \"type\": \"choropleth\"}], \"contour\": [{\"colorbar\": {\"outlinewidth\": 0, \"ticks\": \"\"}, \"colorscale\": [[0.0, \"#0d0887\"], [0.1111111111111111, \"#46039f\"], [0.2222222222222222, \"#7201a8\"], [0.3333333333333333, \"#9c179e\"], [0.4444444444444444, \"#bd3786\"], [0.5555555555555556, \"#d8576b\"], [0.6666666666666666, \"#ed7953\"], [0.7777777777777778, \"#fb9f3a\"], [0.8888888888888888, \"#fdca26\"], [1.0, \"#f0f921\"]], \"type\": \"contour\"}], \"contourcarpet\": [{\"colorbar\": {\"outlinewidth\": 0, \"ticks\": \"\"}, \"type\": \"contourcarpet\"}], \"heatmap\": [{\"colorbar\": {\"outlinewidth\": 0, \"ticks\": \"\"}, \"colorscale\": [[0.0, \"#0d0887\"], [0.1111111111111111, \"#46039f\"], [0.2222222222222222, \"#7201a8\"], [0.3333333333333333, \"#9c179e\"], [0.4444444444444444, \"#bd3786\"], [0.5555555555555556, \"#d8576b\"], [0.6666666666666666, \"#ed7953\"], [0.7777777777777778, \"#fb9f3a\"], [0.8888888888888888, \"#fdca26\"], [1.0, \"#f0f921\"]], \"type\": \"heatmap\"}], \"heatmapgl\": [{\"colorbar\": {\"outlinewidth\": 0, \"ticks\": \"\"}, \"colorscale\": [[0.0, \"#0d0887\"], [0.1111111111111111, \"#46039f\"], [0.2222222222222222, \"#7201a8\"], [0.3333333333333333, \"#9c179e\"], [0.4444444444444444, \"#bd3786\"], [0.5555555555555556, \"#d8576b\"], [0.6666666666666666, \"#ed7953\"], [0.7777777777777778, \"#fb9f3a\"], [0.8888888888888888, \"#fdca26\"], [1.0, \"#f0f921\"]], \"type\": \"heatmapgl\"}], \"histogram\": [{\"marker\": {\"colorbar\": {\"outlinewidth\": 0, \"ticks\": \"\"}}, \"type\": \"histogram\"}], \"histogram2d\": [{\"colorbar\": {\"outlinewidth\": 0, \"ticks\": \"\"}, \"colorscale\": [[0.0, \"#0d0887\"], [0.1111111111111111, \"#46039f\"], [0.2222222222222222, \"#7201a8\"], [0.3333333333333333, \"#9c179e\"], [0.4444444444444444, \"#bd3786\"], [0.5555555555555556, \"#d8576b\"], [0.6666666666666666, \"#ed7953\"], [0.7777777777777778, \"#fb9f3a\"], [0.8888888888888888, \"#fdca26\"], [1.0, \"#f0f921\"]], \"type\": \"histogram2d\"}], \"histogram2dcontour\": [{\"colorbar\": {\"outlinewidth\": 0, \"ticks\": \"\"}, \"colorscale\": [[0.0, \"#0d0887\"], [0.1111111111111111, \"#46039f\"], [0.2222222222222222, \"#7201a8\"], [0.3333333333333333, \"#9c179e\"], [0.4444444444444444, \"#bd3786\"], [0.5555555555555556, \"#d8576b\"], [0.6666666666666666, \"#ed7953\"], [0.7777777777777778, \"#fb9f3a\"], [0.8888888888888888, \"#fdca26\"], [1.0, \"#f0f921\"]], \"type\": \"histogram2dcontour\"}], \"mesh3d\": [{\"colorbar\": {\"outlinewidth\": 0, \"ticks\": \"\"}, \"type\": \"mesh3d\"}], \"parcoords\": [{\"line\": {\"colorbar\": {\"outlinewidth\": 0, \"ticks\": \"\"}}, \"type\": \"parcoords\"}], \"pie\": [{\"automargin\": true, \"type\": \"pie\"}], \"scatter\": [{\"marker\": {\"colorbar\": {\"outlinewidth\": 0, \"ticks\": \"\"}}, \"type\": \"scatter\"}], \"scatter3d\": [{\"line\": {\"colorbar\": {\"outlinewidth\": 0, \"ticks\": \"\"}}, \"marker\": {\"colorbar\": {\"outlinewidth\": 0, \"ticks\": \"\"}}, \"type\": \"scatter3d\"}], \"scattercarpet\": [{\"marker\": {\"colorbar\": {\"outlinewidth\": 0, \"ticks\": \"\"}}, \"type\": \"scattercarpet\"}], \"scattergeo\": [{\"marker\": {\"colorbar\": {\"outlinewidth\": 0, \"ticks\": \"\"}}, \"type\": \"scattergeo\"}], \"scattergl\": [{\"marker\": {\"colorbar\": {\"outlinewidth\": 0, \"ticks\": \"\"}}, \"type\": \"scattergl\"}], \"scattermapbox\": [{\"marker\": {\"colorbar\": {\"outlinewidth\": 0, \"ticks\": \"\"}}, \"type\": \"scattermapbox\"}], \"scatterpolar\": [{\"marker\": {\"colorbar\": {\"outlinewidth\": 0, \"ticks\": \"\"}}, \"type\": \"scatterpolar\"}], \"scatterpolargl\": [{\"marker\": {\"colorbar\": {\"outlinewidth\": 0, \"ticks\": \"\"}}, \"type\": \"scatterpolargl\"}], \"scatterternary\": [{\"marker\": {\"colorbar\": {\"outlinewidth\": 0, \"ticks\": \"\"}}, \"type\": \"scatterternary\"}], \"surface\": [{\"colorbar\": {\"outlinewidth\": 0, \"ticks\": \"\"}, \"colorscale\": [[0.0, \"#0d0887\"], [0.1111111111111111, \"#46039f\"], [0.2222222222222222, \"#7201a8\"], [0.3333333333333333, \"#9c179e\"], [0.4444444444444444, \"#bd3786\"], [0.5555555555555556, \"#d8576b\"], [0.6666666666666666, \"#ed7953\"], [0.7777777777777778, \"#fb9f3a\"], [0.8888888888888888, \"#fdca26\"], [1.0, \"#f0f921\"]], \"type\": \"surface\"}], \"table\": [{\"cells\": {\"fill\": {\"color\": \"#EBF0F8\"}, \"line\": {\"color\": \"white\"}}, \"header\": {\"fill\": {\"color\": \"#C8D4E3\"}, \"line\": {\"color\": \"white\"}}, \"type\": \"table\"}]}, \"layout\": {\"annotationdefaults\": {\"arrowcolor\": \"#2a3f5f\", \"arrowhead\": 0, \"arrowwidth\": 1}, \"coloraxis\": {\"colorbar\": {\"outlinewidth\": 0, \"ticks\": \"\"}}, \"colorscale\": {\"diverging\": [[0, \"#8e0152\"], [0.1, \"#c51b7d\"], [0.2, \"#de77ae\"], [0.3, \"#f1b6da\"], [0.4, \"#fde0ef\"], [0.5, \"#f7f7f7\"], [0.6, \"#e6f5d0\"], [0.7, \"#b8e186\"], [0.8, \"#7fbc41\"], [0.9, \"#4d9221\"], [1, \"#276419\"]], \"sequential\": [[0.0, \"#0d0887\"], [0.1111111111111111, \"#46039f\"], [0.2222222222222222, \"#7201a8\"], [0.3333333333333333, \"#9c179e\"], [0.4444444444444444, \"#bd3786\"], [0.5555555555555556, \"#d8576b\"], [0.6666666666666666, \"#ed7953\"], [0.7777777777777778, \"#fb9f3a\"], [0.8888888888888888, \"#fdca26\"], [1.0, \"#f0f921\"]], \"sequentialminus\": [[0.0, \"#0d0887\"], [0.1111111111111111, \"#46039f\"], [0.2222222222222222, \"#7201a8\"], [0.3333333333333333, \"#9c179e\"], [0.4444444444444444, \"#bd3786\"], [0.5555555555555556, \"#d8576b\"], [0.6666666666666666, \"#ed7953\"], [0.7777777777777778, \"#fb9f3a\"], [0.8888888888888888, \"#fdca26\"], [1.0, \"#f0f921\"]]}, \"colorway\": [\"#636efa\", \"#EF553B\", \"#00cc96\", \"#ab63fa\", \"#FFA15A\", \"#19d3f3\", \"#FF6692\", \"#B6E880\", \"#FF97FF\", \"#FECB52\"], \"font\": {\"color\": \"#2a3f5f\"}, \"geo\": {\"bgcolor\": \"white\", \"lakecolor\": \"white\", \"landcolor\": \"#E5ECF6\", \"showlakes\": true, \"showland\": true, \"subunitcolor\": \"white\"}, \"hoverlabel\": {\"align\": \"left\"}, \"hovermode\": \"closest\", \"mapbox\": {\"style\": \"light\"}, \"paper_bgcolor\": \"white\", \"plot_bgcolor\": \"#E5ECF6\", \"polar\": {\"angularaxis\": {\"gridcolor\": \"white\", \"linecolor\": \"white\", \"ticks\": \"\"}, \"bgcolor\": \"#E5ECF6\", \"radialaxis\": {\"gridcolor\": \"white\", \"linecolor\": \"white\", \"ticks\": \"\"}}, \"scene\": {\"xaxis\": {\"backgroundcolor\": \"#E5ECF6\", \"gridcolor\": \"white\", \"gridwidth\": 2, \"linecolor\": \"white\", \"showbackground\": true, \"ticks\": \"\", \"zerolinecolor\": \"white\"}, \"yaxis\": {\"backgroundcolor\": \"#E5ECF6\", \"gridcolor\": \"white\", \"gridwidth\": 2, \"linecolor\": \"white\", \"showbackground\": true, \"ticks\": \"\", \"zerolinecolor\": \"white\"}, \"zaxis\": {\"backgroundcolor\": \"#E5ECF6\", \"gridcolor\": \"white\", \"gridwidth\": 2, \"linecolor\": \"white\", \"showbackground\": true, \"ticks\": \"\", \"zerolinecolor\": \"white\"}}, \"shapedefaults\": {\"line\": {\"color\": \"#2a3f5f\"}}, \"ternary\": {\"aaxis\": {\"gridcolor\": \"white\", \"linecolor\": \"white\", \"ticks\": \"\"}, \"baxis\": {\"gridcolor\": \"white\", \"linecolor\": \"white\", \"ticks\": \"\"}, \"bgcolor\": \"#E5ECF6\", \"caxis\": {\"gridcolor\": \"white\", \"linecolor\": \"white\", \"ticks\": \"\"}}, \"title\": {\"x\": 0.05}, \"xaxis\": {\"automargin\": true, \"gridcolor\": \"white\", \"linecolor\": \"white\", \"ticks\": \"\", \"title\": {\"standoff\": 15}, \"zerolinecolor\": \"white\", \"zerolinewidth\": 2}, \"yaxis\": {\"automargin\": true, \"gridcolor\": \"white\", \"linecolor\": \"white\", \"ticks\": \"\", \"title\": {\"standoff\": 15}, \"zerolinecolor\": \"white\", \"zerolinewidth\": 2}}}, \"title\": {\"text\": \"Timeline showing sentiment of tweets about the Sinopharm vaccine\"}, \"xaxis\": {\"anchor\": \"y\", \"domain\": [0.0, 1.0], \"title\": {\"text\": \"date\"}}, \"yaxis\": {\"anchor\": \"x\", \"domain\": [0.0, 1.0], \"title\": {\"text\": \"tweets\"}}},\n",
              "                        {\"responsive\": true}\n",
              "                    ).then(function(){\n",
              "                            \n",
              "var gd = document.getElementById('522416ca-2f37-46da-9d32-d6c2f9201ff4');\n",
              "var x = new MutationObserver(function (mutations, observer) {{\n",
              "        var display = window.getComputedStyle(gd).display;\n",
              "        if (!display || display === 'none') {{\n",
              "            console.log([gd, 'removed!']);\n",
              "            Plotly.purge(gd);\n",
              "            observer.disconnect();\n",
              "        }}\n",
              "}});\n",
              "\n",
              "// Listen for the removal of the full notebook cells\n",
              "var notebookContainer = gd.closest('#notebook-container');\n",
              "if (notebookContainer) {{\n",
              "    x.observe(notebookContainer, {childList: true});\n",
              "}}\n",
              "\n",
              "// Listen for the clearing of the current output cell\n",
              "var outputEl = gd.closest('.output');\n",
              "if (outputEl) {{\n",
              "    x.observe(outputEl, {childList: true});\n",
              "}}\n",
              "\n",
              "                        })\n",
              "                };\n",
              "                \n",
              "            </script>\n",
              "        </div>\n",
              "</body>\n",
              "</html>"
            ]
          },
          "metadata": {
            "tags": []
          }
        },
        {
          "output_type": "display_data",
          "data": {
            "text/html": [
              "<html>\n",
              "<head><meta charset=\"utf-8\" /></head>\n",
              "<body>\n",
              "    <div>\n",
              "            <script src=\"https://cdnjs.cloudflare.com/ajax/libs/mathjax/2.7.5/MathJax.js?config=TeX-AMS-MML_SVG\"></script><script type=\"text/javascript\">if (window.MathJax) {MathJax.Hub.Config({SVG: {font: \"STIX-Web\"}});}</script>\n",
              "                <script type=\"text/javascript\">window.PlotlyConfig = {MathJaxConfig: 'local'};</script>\n",
              "        <script src=\"https://cdn.plot.ly/plotly-latest.min.js\"></script>    \n",
              "            <div id=\"1b36f35d-aec3-4be5-bbd1-fd7d2033e676\" class=\"plotly-graph-div\" style=\"height:525px; width:100%;\"></div>\n",
              "            <script type=\"text/javascript\">\n",
              "                \n",
              "                    window.PLOTLYENV=window.PLOTLYENV || {};\n",
              "                    \n",
              "                if (document.getElementById(\"1b36f35d-aec3-4be5-bbd1-fd7d2033e676\")) {\n",
              "                    Plotly.newPlot(\n",
              "                        '1b36f35d-aec3-4be5-bbd1-fd7d2033e676',\n",
              "                        [{\"hoverlabel\": {\"namelength\": 0}, \"hovertemplate\": \"sentiment=Neutral<br>date=%{x}<br>tweets=%{y}\", \"legendgroup\": \"sentiment=Neutral\", \"line\": {\"color\": \"#636efa\", \"dash\": \"solid\"}, \"mode\": \"lines\", \"name\": \"sentiment=Neutral\", \"showlegend\": true, \"type\": \"scatter\", \"x\": [\"2020-12-15\", \"2020-12-16\", \"2020-12-17\", \"2020-12-19\", \"2020-12-22\", \"2020-12-23\", \"2021-01-06\", \"2021-01-16\", \"2021-01-18\", \"2021-01-26\", \"2021-02-07\", \"2021-02-08\", \"2021-02-09\", \"2021-02-10\", \"2021-02-11\", \"2021-02-12\", \"2021-02-13\", \"2021-02-14\", \"2021-02-15\", \"2021-02-16\", \"2021-02-17\", \"2021-02-18\", \"2021-02-19\", \"2021-02-20\", \"2021-02-21\", \"2021-02-22\", \"2021-02-23\", \"2021-02-24\", \"2021-02-25\", \"2021-02-26\", \"2021-02-27\", \"2021-02-28\", \"2021-03-01\", \"2021-03-02\", \"2021-03-03\", \"2021-03-04\", \"2021-03-05\", \"2021-03-06\", \"2021-03-07\", \"2021-03-08\", \"2021-03-09\", \"2021-03-10\", \"2021-03-11\", \"2021-03-12\", \"2021-03-13\", \"2021-03-14\", \"2021-03-15\", \"2021-03-16\", \"2021-03-17\", \"2021-03-18\", \"2021-03-19\", \"2021-03-20\", \"2021-03-21\", \"2021-03-22\", \"2021-03-23\", \"2021-03-24\", \"2021-03-25\", \"2021-03-26\", \"2021-03-27\", \"2021-03-28\", \"2021-03-29\", \"2021-03-30\", \"2021-03-31\", \"2021-04-01\", \"2021-04-02\", \"2021-04-03\", \"2021-04-04\", \"2021-04-05\", \"2021-04-06\", \"2021-04-07\", \"2021-04-08\", \"2021-04-09\", \"2021-04-10\", \"2021-04-11\", \"2021-04-12\", \"2021-04-13\", \"2021-04-14\", \"2021-04-15\", \"2021-04-16\", \"2021-04-17\", \"2021-04-18\", \"2021-04-19\", \"2021-04-20\", \"2021-04-21\", \"2021-04-22\", \"2021-05-13\", \"2021-05-14\", \"2021-05-15\", \"2021-05-16\", \"2021-05-17\", \"2021-05-18\", \"2021-05-19\", \"2021-05-20\", \"2021-05-21\", \"2021-05-22\", \"2021-05-23\", \"2021-05-24\", \"2021-05-25\", \"2021-05-26\", \"2021-05-27\", \"2021-05-28\", \"2021-05-29\", \"2021-05-30\", \"2021-05-31\", \"2021-06-01\", \"2021-06-02\", \"2021-06-03\", \"2021-06-04\", \"2021-06-05\", \"2021-06-06\", \"2021-06-07\", \"2021-06-08\", \"2021-06-09\", \"2021-06-10\", \"2021-06-11\", \"2021-06-12\", \"2021-06-13\", \"2021-06-14\", \"2021-06-15\", \"2021-06-16\", \"2021-06-17\", \"2021-06-18\", \"2021-06-19\", \"2021-06-20\", \"2021-06-21\", \"2021-06-22\", \"2021-06-23\", \"2021-06-24\", \"2021-06-25\", \"2021-06-26\", \"2021-06-27\", \"2021-06-28\", \"2021-06-29\", \"2021-06-30\", \"2021-07-01\", \"2021-07-07\", \"2021-07-08\", \"2021-07-09\", \"2021-07-10\", \"2021-07-11\", \"2021-07-12\", \"2021-07-13\", \"2021-07-14\", \"2021-07-15\", \"2021-07-16\", \"2021-07-17\", \"2021-07-18\", \"2021-07-19\", \"2021-07-20\", \"2021-07-21\", \"2021-07-22\", \"2021-07-23\", \"2021-07-24\"], \"xaxis\": \"x\", \"y\": [1, 1, 2, 1, 1, 4, 2, 1, 1, 1, 27, 43, 56, 62, 62, 79, 61, 36, 34, 43, 79, 46, 53, 46, 20, 30, 46, 51, 97, 101, 70, 57, 30, 70, 131, 83, 110, 78, 60, 90, 84, 106, 113, 137, 97, 52, 109, 217, 173, 155, 137, 107, 83, 112, 105, 152, 127, 112, 117, 68, 120, 168, 195, 183, 154, 131, 70, 117, 173, 355, 242, 236, 190, 138, 153, 301, 363, 341, 356, 232, 163, 181, 205, 280, 54, 91, 139, 118, 108, 112, 123, 142, 153, 28, 88, 133, 121, 238, 138, 105, 104, 69, 49, 58, 101, 66, 71, 51, 54, 26, 68, 59, 67, 87, 84, 49, 28, 66, 105, 82, 78, 82, 65, 45, 95, 131, 118, 91, 83, 77, 75, 80, 394, 180, 75, 23, 93, 95, 69, 53, 63, 83, 70, 77, 97, 65, 49, 67, 65, 54, 59, 100, 37], \"yaxis\": \"y\"}, {\"hoverlabel\": {\"namelength\": 0}, \"hovertemplate\": \"sentiment=Positive<br>date=%{x}<br>tweets=%{y}\", \"legendgroup\": \"sentiment=Positive\", \"line\": {\"color\": \"#EF553B\", \"dash\": \"solid\"}, \"mode\": \"lines\", \"name\": \"sentiment=Positive\", \"showlegend\": true, \"type\": \"scatter\", \"x\": [\"2021-02-07\", \"2021-02-09\", \"2021-02-10\", \"2021-02-11\", \"2021-02-12\", \"2021-02-13\", \"2021-02-14\", \"2021-02-15\", \"2021-02-16\", \"2021-02-17\", \"2021-02-18\", \"2021-02-19\", \"2021-02-20\", \"2021-02-21\", \"2021-02-22\", \"2021-02-23\", \"2021-02-24\", \"2021-02-25\", \"2021-02-26\", \"2021-02-28\", \"2021-03-01\", \"2021-03-02\", \"2021-03-03\", \"2021-03-04\", \"2021-03-05\", \"2021-03-06\", \"2021-03-07\", \"2021-03-08\", \"2021-03-09\", \"2021-03-10\", \"2021-03-11\", \"2021-03-12\", \"2021-03-13\", \"2021-03-14\", \"2021-03-15\", \"2021-03-16\", \"2021-03-17\", \"2021-03-18\", \"2021-03-19\", \"2021-03-20\", \"2021-03-21\", \"2021-03-22\", \"2021-03-23\", \"2021-03-24\", \"2021-03-25\", \"2021-03-26\", \"2021-03-27\", \"2021-03-28\", \"2021-03-29\", \"2021-03-30\", \"2021-03-31\", \"2021-04-01\", \"2021-04-02\", \"2021-04-03\", \"2021-04-04\", \"2021-04-05\", \"2021-04-06\", \"2021-04-07\", \"2021-04-08\", \"2021-04-09\", \"2021-04-10\", \"2021-04-11\", \"2021-04-12\", \"2021-04-13\", \"2021-04-14\", \"2021-04-15\", \"2021-04-16\", \"2021-04-17\", \"2021-04-18\", \"2021-04-19\", \"2021-04-20\", \"2021-04-21\", \"2021-04-22\", \"2021-05-14\", \"2021-05-15\", \"2021-05-16\", \"2021-05-17\", \"2021-05-18\", \"2021-05-19\", \"2021-05-20\", \"2021-05-21\", \"2021-05-22\", \"2021-05-23\", \"2021-05-24\", \"2021-05-25\", \"2021-05-26\", \"2021-05-27\", \"2021-05-28\", \"2021-05-29\", \"2021-05-30\", \"2021-05-31\", \"2021-06-01\", \"2021-06-02\", \"2021-06-04\", \"2021-06-05\", \"2021-06-06\", \"2021-06-07\", \"2021-06-08\", \"2021-06-09\", \"2021-06-10\", \"2021-06-11\", \"2021-06-12\", \"2021-06-14\", \"2021-06-15\", \"2021-06-16\", \"2021-06-17\", \"2021-06-18\", \"2021-06-19\", \"2021-06-20\", \"2021-06-21\", \"2021-06-22\", \"2021-06-23\", \"2021-06-24\", \"2021-06-25\", \"2021-06-26\", \"2021-06-27\", \"2021-06-28\", \"2021-06-29\", \"2021-06-30\", \"2021-07-01\", \"2021-07-07\", \"2021-07-08\", \"2021-07-09\", \"2021-07-10\", \"2021-07-11\", \"2021-07-12\", \"2021-07-13\", \"2021-07-14\", \"2021-07-15\", \"2021-07-16\", \"2021-07-17\", \"2021-07-18\", \"2021-07-19\", \"2021-07-20\", \"2021-07-21\", \"2021-07-22\", \"2021-07-23\", \"2021-07-24\"], \"xaxis\": \"x\", \"y\": [1, 2, 8, 2, 6, 7, 2, 1, 3, 3, 1, 2, 2, 1, 1, 1, 6, 5, 6, 4, 2, 5, 4, 12, 10, 6, 4, 4, 7, 2, 10, 9, 10, 3, 7, 8, 8, 17, 11, 5, 4, 13, 7, 12, 5, 8, 12, 5, 17, 12, 10, 11, 12, 8, 2, 9, 11, 18, 11, 16, 19, 3, 16, 21, 15, 13, 19, 14, 9, 19, 14, 14, 2, 5, 12, 4, 5, 6, 5, 8, 2, 5, 1, 6, 7, 5, 5, 3, 5, 3, 1, 4, 1, 3, 2, 1, 3, 3, 4, 2, 2, 3, 3, 6, 1, 1, 4, 4, 2, 3, 9, 7, 4, 5, 4, 1, 8, 13, 3, 5, 3, 1, 1, 4, 2, 3, 3, 3, 2, 5, 1, 1, 2, 1, 1, 3, 2, 1], \"yaxis\": \"y\"}, {\"hoverlabel\": {\"namelength\": 0}, \"hovertemplate\": \"sentiment=Negative<br>date=%{x}<br>tweets=%{y}\", \"legendgroup\": \"sentiment=Negative\", \"line\": {\"color\": \"#00cc96\", \"dash\": \"solid\"}, \"mode\": \"lines\", \"name\": \"sentiment=Negative\", \"showlegend\": true, \"type\": \"scatter\", \"x\": [\"2021-02-09\", \"2021-02-10\", \"2021-02-11\", \"2021-02-12\", \"2021-02-13\", \"2021-02-14\", \"2021-02-15\", \"2021-02-18\", \"2021-02-23\", \"2021-02-25\", \"2021-02-27\", \"2021-02-28\", \"2021-03-03\", \"2021-03-04\", \"2021-03-07\", \"2021-03-08\", \"2021-03-09\", \"2021-03-10\", \"2021-03-11\", \"2021-03-12\", \"2021-03-13\", \"2021-03-16\", \"2021-03-17\", \"2021-03-18\", \"2021-03-19\", \"2021-03-20\", \"2021-03-21\", \"2021-03-23\", \"2021-03-24\", \"2021-03-25\", \"2021-03-26\", \"2021-03-27\", \"2021-03-28\", \"2021-03-29\", \"2021-03-30\", \"2021-03-31\", \"2021-04-01\", \"2021-04-02\", \"2021-04-03\", \"2021-04-04\", \"2021-04-05\", \"2021-04-06\", \"2021-04-08\", \"2021-04-09\", \"2021-04-10\", \"2021-04-11\", \"2021-04-12\", \"2021-04-13\", \"2021-04-14\", \"2021-04-15\", \"2021-04-16\", \"2021-04-17\", \"2021-04-18\", \"2021-04-19\", \"2021-04-20\", \"2021-04-21\", \"2021-04-22\", \"2021-05-13\", \"2021-05-14\", \"2021-05-15\", \"2021-05-16\", \"2021-05-17\", \"2021-05-18\", \"2021-05-19\", \"2021-05-20\", \"2021-05-21\", \"2021-05-22\", \"2021-05-23\", \"2021-05-24\", \"2021-05-26\", \"2021-05-27\", \"2021-05-28\", \"2021-05-29\", \"2021-05-30\", \"2021-05-31\", \"2021-06-03\", \"2021-06-04\", \"2021-06-06\", \"2021-06-08\", \"2021-06-09\", \"2021-06-11\", \"2021-06-15\", \"2021-06-18\", \"2021-06-22\", \"2021-06-23\", \"2021-06-24\", \"2021-06-27\", \"2021-06-28\", \"2021-07-01\", \"2021-07-09\", \"2021-07-10\", \"2021-07-11\", \"2021-07-14\", \"2021-07-16\", \"2021-07-18\", \"2021-07-19\"], \"xaxis\": \"x\", \"y\": [2, 1, 2, 2, 1, 1, 1, 1, 1, 2, 2, 2, 4, 1, 3, 1, 1, 1, 2, 4, 1, 2, 2, 2, 1, 1, 1, 3, 3, 1, 2, 1, 3, 1, 2, 2, 1, 2, 2, 1, 1, 1, 1, 3, 5, 3, 2, 2, 7, 4, 3, 2, 3, 1, 3, 2, 2, 2, 3, 2, 1, 1, 2, 2, 2, 1, 3, 1, 1, 1, 4, 2, 1, 2, 1, 1, 3, 1, 1, 2, 1, 1, 1, 2, 3, 1, 2, 3, 1, 1, 1, 2, 3, 2, 1, 2], \"yaxis\": \"y\"}],\n",
              "                        {\"legend\": {\"tracegroupgap\": 0}, \"template\": {\"data\": {\"bar\": [{\"error_x\": {\"color\": \"#2a3f5f\"}, \"error_y\": {\"color\": \"#2a3f5f\"}, \"marker\": {\"line\": {\"color\": \"#E5ECF6\", \"width\": 0.5}}, \"type\": \"bar\"}], \"barpolar\": [{\"marker\": {\"line\": {\"color\": \"#E5ECF6\", \"width\": 0.5}}, \"type\": \"barpolar\"}], \"carpet\": [{\"aaxis\": {\"endlinecolor\": \"#2a3f5f\", \"gridcolor\": \"white\", \"linecolor\": \"white\", \"minorgridcolor\": \"white\", \"startlinecolor\": \"#2a3f5f\"}, \"baxis\": {\"endlinecolor\": \"#2a3f5f\", \"gridcolor\": \"white\", \"linecolor\": \"white\", \"minorgridcolor\": \"white\", \"startlinecolor\": \"#2a3f5f\"}, \"type\": \"carpet\"}], \"choropleth\": [{\"colorbar\": {\"outlinewidth\": 0, \"ticks\": \"\"}, \"type\": \"choropleth\"}], \"contour\": [{\"colorbar\": {\"outlinewidth\": 0, \"ticks\": \"\"}, \"colorscale\": [[0.0, \"#0d0887\"], [0.1111111111111111, \"#46039f\"], [0.2222222222222222, \"#7201a8\"], [0.3333333333333333, \"#9c179e\"], [0.4444444444444444, \"#bd3786\"], [0.5555555555555556, \"#d8576b\"], [0.6666666666666666, \"#ed7953\"], [0.7777777777777778, \"#fb9f3a\"], [0.8888888888888888, \"#fdca26\"], [1.0, \"#f0f921\"]], \"type\": \"contour\"}], \"contourcarpet\": [{\"colorbar\": {\"outlinewidth\": 0, \"ticks\": \"\"}, \"type\": \"contourcarpet\"}], \"heatmap\": [{\"colorbar\": {\"outlinewidth\": 0, \"ticks\": \"\"}, \"colorscale\": [[0.0, \"#0d0887\"], [0.1111111111111111, \"#46039f\"], [0.2222222222222222, \"#7201a8\"], [0.3333333333333333, \"#9c179e\"], [0.4444444444444444, \"#bd3786\"], [0.5555555555555556, \"#d8576b\"], [0.6666666666666666, \"#ed7953\"], [0.7777777777777778, \"#fb9f3a\"], [0.8888888888888888, \"#fdca26\"], [1.0, \"#f0f921\"]], \"type\": \"heatmap\"}], \"heatmapgl\": [{\"colorbar\": {\"outlinewidth\": 0, \"ticks\": \"\"}, \"colorscale\": [[0.0, \"#0d0887\"], [0.1111111111111111, \"#46039f\"], [0.2222222222222222, \"#7201a8\"], [0.3333333333333333, \"#9c179e\"], [0.4444444444444444, \"#bd3786\"], [0.5555555555555556, \"#d8576b\"], [0.6666666666666666, \"#ed7953\"], [0.7777777777777778, \"#fb9f3a\"], [0.8888888888888888, \"#fdca26\"], [1.0, \"#f0f921\"]], \"type\": \"heatmapgl\"}], \"histogram\": [{\"marker\": {\"colorbar\": {\"outlinewidth\": 0, \"ticks\": \"\"}}, \"type\": \"histogram\"}], \"histogram2d\": [{\"colorbar\": {\"outlinewidth\": 0, \"ticks\": \"\"}, \"colorscale\": [[0.0, \"#0d0887\"], [0.1111111111111111, \"#46039f\"], [0.2222222222222222, \"#7201a8\"], [0.3333333333333333, \"#9c179e\"], [0.4444444444444444, \"#bd3786\"], [0.5555555555555556, \"#d8576b\"], [0.6666666666666666, \"#ed7953\"], [0.7777777777777778, \"#fb9f3a\"], [0.8888888888888888, \"#fdca26\"], [1.0, \"#f0f921\"]], \"type\": \"histogram2d\"}], \"histogram2dcontour\": [{\"colorbar\": {\"outlinewidth\": 0, \"ticks\": \"\"}, \"colorscale\": [[0.0, \"#0d0887\"], [0.1111111111111111, \"#46039f\"], [0.2222222222222222, \"#7201a8\"], [0.3333333333333333, \"#9c179e\"], [0.4444444444444444, \"#bd3786\"], [0.5555555555555556, \"#d8576b\"], [0.6666666666666666, \"#ed7953\"], [0.7777777777777778, \"#fb9f3a\"], [0.8888888888888888, \"#fdca26\"], [1.0, \"#f0f921\"]], \"type\": \"histogram2dcontour\"}], \"mesh3d\": [{\"colorbar\": {\"outlinewidth\": 0, \"ticks\": \"\"}, \"type\": \"mesh3d\"}], \"parcoords\": [{\"line\": {\"colorbar\": {\"outlinewidth\": 0, \"ticks\": \"\"}}, \"type\": \"parcoords\"}], \"pie\": [{\"automargin\": true, \"type\": \"pie\"}], \"scatter\": [{\"marker\": {\"colorbar\": {\"outlinewidth\": 0, \"ticks\": \"\"}}, \"type\": \"scatter\"}], \"scatter3d\": [{\"line\": {\"colorbar\": {\"outlinewidth\": 0, \"ticks\": \"\"}}, \"marker\": {\"colorbar\": {\"outlinewidth\": 0, \"ticks\": \"\"}}, \"type\": \"scatter3d\"}], \"scattercarpet\": [{\"marker\": {\"colorbar\": {\"outlinewidth\": 0, \"ticks\": \"\"}}, \"type\": \"scattercarpet\"}], \"scattergeo\": [{\"marker\": {\"colorbar\": {\"outlinewidth\": 0, \"ticks\": \"\"}}, \"type\": \"scattergeo\"}], \"scattergl\": [{\"marker\": {\"colorbar\": {\"outlinewidth\": 0, \"ticks\": \"\"}}, \"type\": \"scattergl\"}], \"scattermapbox\": [{\"marker\": {\"colorbar\": {\"outlinewidth\": 0, \"ticks\": \"\"}}, \"type\": \"scattermapbox\"}], \"scatterpolar\": [{\"marker\": {\"colorbar\": {\"outlinewidth\": 0, \"ticks\": \"\"}}, \"type\": \"scatterpolar\"}], \"scatterpolargl\": [{\"marker\": {\"colorbar\": {\"outlinewidth\": 0, \"ticks\": \"\"}}, \"type\": \"scatterpolargl\"}], \"scatterternary\": [{\"marker\": {\"colorbar\": {\"outlinewidth\": 0, \"ticks\": \"\"}}, \"type\": \"scatterternary\"}], \"surface\": [{\"colorbar\": {\"outlinewidth\": 0, \"ticks\": \"\"}, \"colorscale\": [[0.0, \"#0d0887\"], [0.1111111111111111, \"#46039f\"], [0.2222222222222222, \"#7201a8\"], [0.3333333333333333, \"#9c179e\"], [0.4444444444444444, \"#bd3786\"], [0.5555555555555556, \"#d8576b\"], [0.6666666666666666, \"#ed7953\"], [0.7777777777777778, \"#fb9f3a\"], [0.8888888888888888, \"#fdca26\"], [1.0, \"#f0f921\"]], \"type\": \"surface\"}], \"table\": [{\"cells\": {\"fill\": {\"color\": \"#EBF0F8\"}, \"line\": {\"color\": \"white\"}}, \"header\": {\"fill\": {\"color\": \"#C8D4E3\"}, \"line\": {\"color\": \"white\"}}, \"type\": \"table\"}]}, \"layout\": {\"annotationdefaults\": {\"arrowcolor\": \"#2a3f5f\", \"arrowhead\": 0, \"arrowwidth\": 1}, \"coloraxis\": {\"colorbar\": {\"outlinewidth\": 0, \"ticks\": \"\"}}, \"colorscale\": {\"diverging\": [[0, \"#8e0152\"], [0.1, \"#c51b7d\"], [0.2, \"#de77ae\"], [0.3, \"#f1b6da\"], [0.4, \"#fde0ef\"], [0.5, \"#f7f7f7\"], [0.6, \"#e6f5d0\"], [0.7, \"#b8e186\"], [0.8, \"#7fbc41\"], [0.9, \"#4d9221\"], [1, \"#276419\"]], \"sequential\": [[0.0, \"#0d0887\"], [0.1111111111111111, \"#46039f\"], [0.2222222222222222, \"#7201a8\"], [0.3333333333333333, \"#9c179e\"], [0.4444444444444444, \"#bd3786\"], [0.5555555555555556, \"#d8576b\"], [0.6666666666666666, \"#ed7953\"], [0.7777777777777778, \"#fb9f3a\"], [0.8888888888888888, \"#fdca26\"], [1.0, \"#f0f921\"]], \"sequentialminus\": [[0.0, \"#0d0887\"], [0.1111111111111111, \"#46039f\"], [0.2222222222222222, \"#7201a8\"], [0.3333333333333333, \"#9c179e\"], [0.4444444444444444, \"#bd3786\"], [0.5555555555555556, \"#d8576b\"], [0.6666666666666666, \"#ed7953\"], [0.7777777777777778, \"#fb9f3a\"], [0.8888888888888888, \"#fdca26\"], [1.0, \"#f0f921\"]]}, \"colorway\": [\"#636efa\", \"#EF553B\", \"#00cc96\", \"#ab63fa\", \"#FFA15A\", \"#19d3f3\", \"#FF6692\", \"#B6E880\", \"#FF97FF\", \"#FECB52\"], \"font\": {\"color\": \"#2a3f5f\"}, \"geo\": {\"bgcolor\": \"white\", \"lakecolor\": \"white\", \"landcolor\": \"#E5ECF6\", \"showlakes\": true, \"showland\": true, \"subunitcolor\": \"white\"}, \"hoverlabel\": {\"align\": \"left\"}, \"hovermode\": \"closest\", \"mapbox\": {\"style\": \"light\"}, \"paper_bgcolor\": \"white\", \"plot_bgcolor\": \"#E5ECF6\", \"polar\": {\"angularaxis\": {\"gridcolor\": \"white\", \"linecolor\": \"white\", \"ticks\": \"\"}, \"bgcolor\": \"#E5ECF6\", \"radialaxis\": {\"gridcolor\": \"white\", \"linecolor\": \"white\", \"ticks\": \"\"}}, \"scene\": {\"xaxis\": {\"backgroundcolor\": \"#E5ECF6\", \"gridcolor\": \"white\", \"gridwidth\": 2, \"linecolor\": \"white\", \"showbackground\": true, \"ticks\": \"\", \"zerolinecolor\": \"white\"}, \"yaxis\": {\"backgroundcolor\": \"#E5ECF6\", \"gridcolor\": \"white\", \"gridwidth\": 2, \"linecolor\": \"white\", \"showbackground\": true, \"ticks\": \"\", \"zerolinecolor\": \"white\"}, \"zaxis\": {\"backgroundcolor\": \"#E5ECF6\", \"gridcolor\": \"white\", \"gridwidth\": 2, \"linecolor\": \"white\", \"showbackground\": true, \"ticks\": \"\", \"zerolinecolor\": \"white\"}}, \"shapedefaults\": {\"line\": {\"color\": \"#2a3f5f\"}}, \"ternary\": {\"aaxis\": {\"gridcolor\": \"white\", \"linecolor\": \"white\", \"ticks\": \"\"}, \"baxis\": {\"gridcolor\": \"white\", \"linecolor\": \"white\", \"ticks\": \"\"}, \"bgcolor\": \"#E5ECF6\", \"caxis\": {\"gridcolor\": \"white\", \"linecolor\": \"white\", \"ticks\": \"\"}}, \"title\": {\"x\": 0.05}, \"xaxis\": {\"automargin\": true, \"gridcolor\": \"white\", \"linecolor\": \"white\", \"ticks\": \"\", \"title\": {\"standoff\": 15}, \"zerolinecolor\": \"white\", \"zerolinewidth\": 2}, \"yaxis\": {\"automargin\": true, \"gridcolor\": \"white\", \"linecolor\": \"white\", \"ticks\": \"\", \"title\": {\"standoff\": 15}, \"zerolinecolor\": \"white\", \"zerolinewidth\": 2}}}, \"title\": {\"text\": \"Timeline showing sentiment of tweets about the Moderna vaccine\"}, \"xaxis\": {\"anchor\": \"y\", \"domain\": [0.0, 1.0], \"title\": {\"text\": \"date\"}}, \"yaxis\": {\"anchor\": \"x\", \"domain\": [0.0, 1.0], \"title\": {\"text\": \"tweets\"}}},\n",
              "                        {\"responsive\": true}\n",
              "                    ).then(function(){\n",
              "                            \n",
              "var gd = document.getElementById('1b36f35d-aec3-4be5-bbd1-fd7d2033e676');\n",
              "var x = new MutationObserver(function (mutations, observer) {{\n",
              "        var display = window.getComputedStyle(gd).display;\n",
              "        if (!display || display === 'none') {{\n",
              "            console.log([gd, 'removed!']);\n",
              "            Plotly.purge(gd);\n",
              "            observer.disconnect();\n",
              "        }}\n",
              "}});\n",
              "\n",
              "// Listen for the removal of the full notebook cells\n",
              "var notebookContainer = gd.closest('#notebook-container');\n",
              "if (notebookContainer) {{\n",
              "    x.observe(notebookContainer, {childList: true});\n",
              "}}\n",
              "\n",
              "// Listen for the clearing of the current output cell\n",
              "var outputEl = gd.closest('.output');\n",
              "if (outputEl) {{\n",
              "    x.observe(outputEl, {childList: true});\n",
              "}}\n",
              "\n",
              "                        })\n",
              "                };\n",
              "                \n",
              "            </script>\n",
              "        </div>\n",
              "</body>\n",
              "</html>"
            ]
          },
          "metadata": {
            "tags": []
          }
        },
        {
          "output_type": "display_data",
          "data": {
            "text/html": [
              "<html>\n",
              "<head><meta charset=\"utf-8\" /></head>\n",
              "<body>\n",
              "    <div>\n",
              "            <script src=\"https://cdnjs.cloudflare.com/ajax/libs/mathjax/2.7.5/MathJax.js?config=TeX-AMS-MML_SVG\"></script><script type=\"text/javascript\">if (window.MathJax) {MathJax.Hub.Config({SVG: {font: \"STIX-Web\"}});}</script>\n",
              "                <script type=\"text/javascript\">window.PlotlyConfig = {MathJaxConfig: 'local'};</script>\n",
              "        <script src=\"https://cdn.plot.ly/plotly-latest.min.js\"></script>    \n",
              "            <div id=\"a394e3db-8c77-40bf-ac37-ea91367a38a6\" class=\"plotly-graph-div\" style=\"height:525px; width:100%;\"></div>\n",
              "            <script type=\"text/javascript\">\n",
              "                \n",
              "                    window.PLOTLYENV=window.PLOTLYENV || {};\n",
              "                    \n",
              "                if (document.getElementById(\"a394e3db-8c77-40bf-ac37-ea91367a38a6\")) {\n",
              "                    Plotly.newPlot(\n",
              "                        'a394e3db-8c77-40bf-ac37-ea91367a38a6',\n",
              "                        [{\"hoverlabel\": {\"namelength\": 0}, \"hovertemplate\": \"sentiment=Neutral<br>date=%{x}<br>tweets=%{y}\", \"legendgroup\": \"sentiment=Neutral\", \"line\": {\"color\": \"#636efa\", \"dash\": \"solid\"}, \"mode\": \"lines\", \"name\": \"sentiment=Neutral\", \"showlegend\": true, \"type\": \"scatter\", \"x\": [\"2020-12-16\", \"2020-12-29\", \"2021-01-03\", \"2021-02-06\", \"2021-02-07\", \"2021-02-08\", \"2021-02-09\", \"2021-02-10\", \"2021-02-11\", \"2021-02-12\", \"2021-02-13\", \"2021-02-14\", \"2021-02-15\", \"2021-02-16\", \"2021-02-17\", \"2021-02-18\", \"2021-02-19\", \"2021-02-20\", \"2021-02-21\", \"2021-02-22\", \"2021-02-23\", \"2021-02-24\", \"2021-02-25\", \"2021-02-26\", \"2021-02-27\", \"2021-02-28\", \"2021-03-01\", \"2021-03-02\", \"2021-03-03\", \"2021-03-04\", \"2021-03-05\", \"2021-03-06\", \"2021-03-07\", \"2021-03-08\", \"2021-03-09\", \"2021-03-10\", \"2021-03-11\", \"2021-03-12\", \"2021-03-13\", \"2021-03-14\", \"2021-03-15\", \"2021-03-16\", \"2021-03-17\", \"2021-03-18\", \"2021-03-19\", \"2021-03-20\", \"2021-03-21\", \"2021-03-22\", \"2021-03-23\", \"2021-03-24\", \"2021-03-25\", \"2021-03-26\", \"2021-03-27\", \"2021-03-28\", \"2021-03-29\", \"2021-03-30\", \"2021-03-31\", \"2021-04-01\", \"2021-04-02\", \"2021-04-03\", \"2021-04-04\", \"2021-04-05\", \"2021-04-06\", \"2021-04-07\", \"2021-04-08\", \"2021-04-09\", \"2021-04-10\", \"2021-04-11\", \"2021-04-12\", \"2021-04-13\", \"2021-04-14\", \"2021-04-15\", \"2021-04-16\", \"2021-04-17\", \"2021-04-18\", \"2021-04-19\", \"2021-04-20\", \"2021-04-21\", \"2021-04-22\", \"2021-05-13\", \"2021-05-14\", \"2021-05-15\", \"2021-05-16\", \"2021-05-17\", \"2021-05-18\", \"2021-05-19\", \"2021-05-20\", \"2021-05-21\", \"2021-05-22\", \"2021-05-23\", \"2021-05-24\", \"2021-05-25\", \"2021-05-26\", \"2021-05-27\", \"2021-05-28\", \"2021-05-29\", \"2021-05-30\", \"2021-05-31\", \"2021-06-01\", \"2021-06-03\", \"2021-06-04\", \"2021-06-05\", \"2021-06-06\", \"2021-06-07\", \"2021-06-08\", \"2021-06-09\", \"2021-06-10\", \"2021-06-11\", \"2021-06-12\", \"2021-06-13\", \"2021-06-14\", \"2021-06-15\", \"2021-06-16\", \"2021-06-17\", \"2021-06-18\", \"2021-06-19\", \"2021-06-20\", \"2021-06-21\", \"2021-06-22\", \"2021-06-23\", \"2021-06-24\", \"2021-06-25\", \"2021-06-26\", \"2021-06-27\", \"2021-06-28\", \"2021-06-29\", \"2021-06-30\", \"2021-07-01\", \"2021-07-07\", \"2021-07-08\", \"2021-07-09\", \"2021-07-10\", \"2021-07-11\", \"2021-07-12\", \"2021-07-13\", \"2021-07-14\", \"2021-07-15\", \"2021-07-16\", \"2021-07-17\", \"2021-07-18\", \"2021-07-19\", \"2021-07-20\", \"2021-07-21\", \"2021-07-22\", \"2021-07-23\", \"2021-07-24\"], \"xaxis\": \"x\", \"y\": [1, 1, 1, 1, 44, 50, 63, 46, 32, 49, 34, 18, 35, 45, 71, 46, 50, 47, 14, 31, 27, 55, 27, 38, 29, 24, 35, 30, 36, 106, 52, 37, 20, 31, 80, 78, 79, 40, 30, 24, 71, 73, 32, 62, 80, 36, 48, 74, 57, 72, 50, 37, 35, 22, 48, 91, 135, 74, 47, 89, 55, 48, 66, 106, 105, 74, 30, 43, 624, 369, 146, 66, 61, 30, 18, 55, 120, 87, 85, 95, 496, 88, 137, 107, 58, 57, 40, 7, 51, 21, 131, 51, 68, 71, 83, 32, 34, 53, 71, 1, 7, 55, 26, 34, 27, 29, 33, 41, 26, 47, 32, 54, 53, 56, 45, 27, 28, 19, 42, 25, 30, 35, 51, 49, 33, 63, 50, 64, 4, 24, 32, 48, 31, 47, 162, 45, 38, 35, 17, 19, 12, 9, 40, 38, 30, 6], \"yaxis\": \"y\"}, {\"hoverlabel\": {\"namelength\": 0}, \"hovertemplate\": \"sentiment=Positive<br>date=%{x}<br>tweets=%{y}\", \"legendgroup\": \"sentiment=Positive\", \"line\": {\"color\": \"#EF553B\", \"dash\": \"solid\"}, \"mode\": \"lines\", \"name\": \"sentiment=Positive\", \"showlegend\": true, \"type\": \"scatter\", \"x\": [\"2020-12-19\", \"2021-02-07\", \"2021-02-08\", \"2021-02-09\", \"2021-02-12\", \"2021-02-22\", \"2021-02-23\", \"2021-02-24\", \"2021-02-26\", \"2021-03-02\", \"2021-03-04\", \"2021-03-05\", \"2021-03-06\", \"2021-03-09\", \"2021-03-11\", \"2021-03-12\", \"2021-03-15\", \"2021-03-16\", \"2021-03-21\", \"2021-03-23\", \"2021-03-24\", \"2021-03-25\", \"2021-03-27\", \"2021-03-28\", \"2021-03-30\", \"2021-03-31\", \"2021-04-02\", \"2021-04-03\", \"2021-04-05\", \"2021-04-06\", \"2021-04-08\", \"2021-04-11\", \"2021-04-12\", \"2021-04-13\", \"2021-04-14\", \"2021-04-15\", \"2021-04-19\", \"2021-04-20\", \"2021-04-21\", \"2021-04-22\", \"2021-05-13\", \"2021-05-14\", \"2021-05-16\", \"2021-05-17\", \"2021-05-19\", \"2021-05-20\", \"2021-05-23\", \"2021-05-25\", \"2021-05-26\", \"2021-05-30\", \"2021-06-09\", \"2021-06-10\", \"2021-06-13\", \"2021-06-14\", \"2021-06-16\", \"2021-06-18\", \"2021-06-22\", \"2021-06-25\", \"2021-06-27\", \"2021-06-28\", \"2021-06-29\", \"2021-06-30\", \"2021-07-01\", \"2021-07-08\", \"2021-07-10\", \"2021-07-13\", \"2021-07-15\", \"2021-07-17\", \"2021-07-19\", \"2021-07-21\"], \"xaxis\": \"x\", \"y\": [1, 1, 5, 1, 1, 1, 1, 1, 1, 1, 1, 1, 2, 1, 1, 3, 1, 1, 2, 2, 2, 1, 1, 1, 1, 1, 1, 1, 1, 1, 1, 2, 5, 8, 1, 3, 3, 1, 1, 2, 5, 3, 6, 4, 2, 3, 1, 1, 1, 2, 1, 1, 3, 1, 2, 1, 2, 3, 3, 1, 2, 1, 3, 1, 1, 2, 1, 2, 3, 2], \"yaxis\": \"y\"}, {\"hoverlabel\": {\"namelength\": 0}, \"hovertemplate\": \"sentiment=Negative<br>date=%{x}<br>tweets=%{y}\", \"legendgroup\": \"sentiment=Negative\", \"line\": {\"color\": \"#00cc96\", \"dash\": \"solid\"}, \"mode\": \"lines\", \"name\": \"sentiment=Negative\", \"showlegend\": true, \"type\": \"scatter\", \"x\": [\"2021-03-03\", \"2021-03-09\", \"2021-03-11\", \"2021-03-15\", \"2021-03-16\", \"2021-03-20\", \"2021-03-25\", \"2021-04-02\", \"2021-04-07\", \"2021-04-09\", \"2021-04-12\", \"2021-04-16\", \"2021-04-21\", \"2021-05-14\", \"2021-06-16\", \"2021-06-23\", \"2021-06-24\", \"2021-07-01\", \"2021-07-09\", \"2021-07-14\", \"2021-07-16\", \"2021-07-21\"], \"xaxis\": \"x\", \"y\": [1, 1, 2, 1, 1, 1, 1, 1, 1, 1, 3, 2, 1, 2, 1, 1, 2, 1, 1, 1, 1, 4], \"yaxis\": \"y\"}],\n",
              "                        {\"legend\": {\"tracegroupgap\": 0}, \"template\": {\"data\": {\"bar\": [{\"error_x\": {\"color\": \"#2a3f5f\"}, \"error_y\": {\"color\": \"#2a3f5f\"}, \"marker\": {\"line\": {\"color\": \"#E5ECF6\", \"width\": 0.5}}, \"type\": \"bar\"}], \"barpolar\": [{\"marker\": {\"line\": {\"color\": \"#E5ECF6\", \"width\": 0.5}}, \"type\": \"barpolar\"}], \"carpet\": [{\"aaxis\": {\"endlinecolor\": \"#2a3f5f\", \"gridcolor\": \"white\", \"linecolor\": \"white\", \"minorgridcolor\": \"white\", \"startlinecolor\": \"#2a3f5f\"}, \"baxis\": {\"endlinecolor\": \"#2a3f5f\", \"gridcolor\": \"white\", \"linecolor\": \"white\", \"minorgridcolor\": \"white\", \"startlinecolor\": \"#2a3f5f\"}, \"type\": \"carpet\"}], \"choropleth\": [{\"colorbar\": {\"outlinewidth\": 0, \"ticks\": \"\"}, \"type\": \"choropleth\"}], \"contour\": [{\"colorbar\": {\"outlinewidth\": 0, \"ticks\": \"\"}, \"colorscale\": [[0.0, \"#0d0887\"], [0.1111111111111111, \"#46039f\"], [0.2222222222222222, \"#7201a8\"], [0.3333333333333333, \"#9c179e\"], [0.4444444444444444, \"#bd3786\"], [0.5555555555555556, \"#d8576b\"], [0.6666666666666666, \"#ed7953\"], [0.7777777777777778, \"#fb9f3a\"], [0.8888888888888888, \"#fdca26\"], [1.0, \"#f0f921\"]], \"type\": \"contour\"}], \"contourcarpet\": [{\"colorbar\": {\"outlinewidth\": 0, \"ticks\": \"\"}, \"type\": \"contourcarpet\"}], \"heatmap\": [{\"colorbar\": {\"outlinewidth\": 0, \"ticks\": \"\"}, \"colorscale\": [[0.0, \"#0d0887\"], [0.1111111111111111, \"#46039f\"], [0.2222222222222222, \"#7201a8\"], [0.3333333333333333, \"#9c179e\"], [0.4444444444444444, \"#bd3786\"], [0.5555555555555556, \"#d8576b\"], [0.6666666666666666, \"#ed7953\"], [0.7777777777777778, \"#fb9f3a\"], [0.8888888888888888, \"#fdca26\"], [1.0, \"#f0f921\"]], \"type\": \"heatmap\"}], \"heatmapgl\": [{\"colorbar\": {\"outlinewidth\": 0, \"ticks\": \"\"}, \"colorscale\": [[0.0, \"#0d0887\"], [0.1111111111111111, \"#46039f\"], [0.2222222222222222, \"#7201a8\"], [0.3333333333333333, \"#9c179e\"], [0.4444444444444444, \"#bd3786\"], [0.5555555555555556, \"#d8576b\"], [0.6666666666666666, \"#ed7953\"], [0.7777777777777778, \"#fb9f3a\"], [0.8888888888888888, \"#fdca26\"], [1.0, \"#f0f921\"]], \"type\": \"heatmapgl\"}], \"histogram\": [{\"marker\": {\"colorbar\": {\"outlinewidth\": 0, \"ticks\": \"\"}}, \"type\": \"histogram\"}], \"histogram2d\": [{\"colorbar\": {\"outlinewidth\": 0, \"ticks\": \"\"}, \"colorscale\": [[0.0, \"#0d0887\"], [0.1111111111111111, \"#46039f\"], [0.2222222222222222, \"#7201a8\"], [0.3333333333333333, \"#9c179e\"], [0.4444444444444444, \"#bd3786\"], [0.5555555555555556, \"#d8576b\"], [0.6666666666666666, \"#ed7953\"], [0.7777777777777778, \"#fb9f3a\"], [0.8888888888888888, \"#fdca26\"], [1.0, \"#f0f921\"]], \"type\": \"histogram2d\"}], \"histogram2dcontour\": [{\"colorbar\": {\"outlinewidth\": 0, \"ticks\": \"\"}, \"colorscale\": [[0.0, \"#0d0887\"], [0.1111111111111111, \"#46039f\"], [0.2222222222222222, \"#7201a8\"], [0.3333333333333333, \"#9c179e\"], [0.4444444444444444, \"#bd3786\"], [0.5555555555555556, \"#d8576b\"], [0.6666666666666666, \"#ed7953\"], [0.7777777777777778, \"#fb9f3a\"], [0.8888888888888888, \"#fdca26\"], [1.0, \"#f0f921\"]], \"type\": \"histogram2dcontour\"}], \"mesh3d\": [{\"colorbar\": {\"outlinewidth\": 0, \"ticks\": \"\"}, \"type\": \"mesh3d\"}], \"parcoords\": [{\"line\": {\"colorbar\": {\"outlinewidth\": 0, \"ticks\": \"\"}}, \"type\": \"parcoords\"}], \"pie\": [{\"automargin\": true, \"type\": \"pie\"}], \"scatter\": [{\"marker\": {\"colorbar\": {\"outlinewidth\": 0, \"ticks\": \"\"}}, \"type\": \"scatter\"}], \"scatter3d\": [{\"line\": {\"colorbar\": {\"outlinewidth\": 0, \"ticks\": \"\"}}, \"marker\": {\"colorbar\": {\"outlinewidth\": 0, \"ticks\": \"\"}}, \"type\": \"scatter3d\"}], \"scattercarpet\": [{\"marker\": {\"colorbar\": {\"outlinewidth\": 0, \"ticks\": \"\"}}, \"type\": \"scattercarpet\"}], \"scattergeo\": [{\"marker\": {\"colorbar\": {\"outlinewidth\": 0, \"ticks\": \"\"}}, \"type\": \"scattergeo\"}], \"scattergl\": [{\"marker\": {\"colorbar\": {\"outlinewidth\": 0, \"ticks\": \"\"}}, \"type\": \"scattergl\"}], \"scattermapbox\": [{\"marker\": {\"colorbar\": {\"outlinewidth\": 0, \"ticks\": \"\"}}, \"type\": \"scattermapbox\"}], \"scatterpolar\": [{\"marker\": {\"colorbar\": {\"outlinewidth\": 0, \"ticks\": \"\"}}, \"type\": \"scatterpolar\"}], \"scatterpolargl\": [{\"marker\": {\"colorbar\": {\"outlinewidth\": 0, \"ticks\": \"\"}}, \"type\": \"scatterpolargl\"}], \"scatterternary\": [{\"marker\": {\"colorbar\": {\"outlinewidth\": 0, \"ticks\": \"\"}}, \"type\": \"scatterternary\"}], \"surface\": [{\"colorbar\": {\"outlinewidth\": 0, \"ticks\": \"\"}, \"colorscale\": [[0.0, \"#0d0887\"], [0.1111111111111111, \"#46039f\"], [0.2222222222222222, \"#7201a8\"], [0.3333333333333333, \"#9c179e\"], [0.4444444444444444, \"#bd3786\"], [0.5555555555555556, \"#d8576b\"], [0.6666666666666666, \"#ed7953\"], [0.7777777777777778, \"#fb9f3a\"], [0.8888888888888888, \"#fdca26\"], [1.0, \"#f0f921\"]], \"type\": \"surface\"}], \"table\": [{\"cells\": {\"fill\": {\"color\": \"#EBF0F8\"}, \"line\": {\"color\": \"white\"}}, \"header\": {\"fill\": {\"color\": \"#C8D4E3\"}, \"line\": {\"color\": \"white\"}}, \"type\": \"table\"}]}, \"layout\": {\"annotationdefaults\": {\"arrowcolor\": \"#2a3f5f\", \"arrowhead\": 0, \"arrowwidth\": 1}, \"coloraxis\": {\"colorbar\": {\"outlinewidth\": 0, \"ticks\": \"\"}}, \"colorscale\": {\"diverging\": [[0, \"#8e0152\"], [0.1, \"#c51b7d\"], [0.2, \"#de77ae\"], [0.3, \"#f1b6da\"], [0.4, \"#fde0ef\"], [0.5, \"#f7f7f7\"], [0.6, \"#e6f5d0\"], [0.7, \"#b8e186\"], [0.8, \"#7fbc41\"], [0.9, \"#4d9221\"], [1, \"#276419\"]], \"sequential\": [[0.0, \"#0d0887\"], [0.1111111111111111, \"#46039f\"], [0.2222222222222222, \"#7201a8\"], [0.3333333333333333, \"#9c179e\"], [0.4444444444444444, \"#bd3786\"], [0.5555555555555556, \"#d8576b\"], [0.6666666666666666, \"#ed7953\"], [0.7777777777777778, \"#fb9f3a\"], [0.8888888888888888, \"#fdca26\"], [1.0, \"#f0f921\"]], \"sequentialminus\": [[0.0, \"#0d0887\"], [0.1111111111111111, \"#46039f\"], [0.2222222222222222, \"#7201a8\"], [0.3333333333333333, \"#9c179e\"], [0.4444444444444444, \"#bd3786\"], [0.5555555555555556, \"#d8576b\"], [0.6666666666666666, \"#ed7953\"], [0.7777777777777778, \"#fb9f3a\"], [0.8888888888888888, \"#fdca26\"], [1.0, \"#f0f921\"]]}, \"colorway\": [\"#636efa\", \"#EF553B\", \"#00cc96\", \"#ab63fa\", \"#FFA15A\", \"#19d3f3\", \"#FF6692\", \"#B6E880\", \"#FF97FF\", \"#FECB52\"], \"font\": {\"color\": \"#2a3f5f\"}, \"geo\": {\"bgcolor\": \"white\", \"lakecolor\": \"white\", \"landcolor\": \"#E5ECF6\", \"showlakes\": true, \"showland\": true, \"subunitcolor\": \"white\"}, \"hoverlabel\": {\"align\": \"left\"}, \"hovermode\": \"closest\", \"mapbox\": {\"style\": \"light\"}, \"paper_bgcolor\": \"white\", \"plot_bgcolor\": \"#E5ECF6\", \"polar\": {\"angularaxis\": {\"gridcolor\": \"white\", \"linecolor\": \"white\", \"ticks\": \"\"}, \"bgcolor\": \"#E5ECF6\", \"radialaxis\": {\"gridcolor\": \"white\", \"linecolor\": \"white\", \"ticks\": \"\"}}, \"scene\": {\"xaxis\": {\"backgroundcolor\": \"#E5ECF6\", \"gridcolor\": \"white\", \"gridwidth\": 2, \"linecolor\": \"white\", \"showbackground\": true, \"ticks\": \"\", \"zerolinecolor\": \"white\"}, \"yaxis\": {\"backgroundcolor\": \"#E5ECF6\", \"gridcolor\": \"white\", \"gridwidth\": 2, \"linecolor\": \"white\", \"showbackground\": true, \"ticks\": \"\", \"zerolinecolor\": \"white\"}, \"zaxis\": {\"backgroundcolor\": \"#E5ECF6\", \"gridcolor\": \"white\", \"gridwidth\": 2, \"linecolor\": \"white\", \"showbackground\": true, \"ticks\": \"\", \"zerolinecolor\": \"white\"}}, \"shapedefaults\": {\"line\": {\"color\": \"#2a3f5f\"}}, \"ternary\": {\"aaxis\": {\"gridcolor\": \"white\", \"linecolor\": \"white\", \"ticks\": \"\"}, \"baxis\": {\"gridcolor\": \"white\", \"linecolor\": \"white\", \"ticks\": \"\"}, \"bgcolor\": \"#E5ECF6\", \"caxis\": {\"gridcolor\": \"white\", \"linecolor\": \"white\", \"ticks\": \"\"}}, \"title\": {\"x\": 0.05}, \"xaxis\": {\"automargin\": true, \"gridcolor\": \"white\", \"linecolor\": \"white\", \"ticks\": \"\", \"title\": {\"standoff\": 15}, \"zerolinecolor\": \"white\", \"zerolinewidth\": 2}, \"yaxis\": {\"automargin\": true, \"gridcolor\": \"white\", \"linecolor\": \"white\", \"ticks\": \"\", \"title\": {\"standoff\": 15}, \"zerolinecolor\": \"white\", \"zerolinewidth\": 2}}}, \"title\": {\"text\": \"Timeline showing sentiment of tweets about the Sputnik V vaccine\"}, \"xaxis\": {\"anchor\": \"y\", \"domain\": [0.0, 1.0], \"title\": {\"text\": \"date\"}}, \"yaxis\": {\"anchor\": \"x\", \"domain\": [0.0, 1.0], \"title\": {\"text\": \"tweets\"}}},\n",
              "                        {\"responsive\": true}\n",
              "                    ).then(function(){\n",
              "                            \n",
              "var gd = document.getElementById('a394e3db-8c77-40bf-ac37-ea91367a38a6');\n",
              "var x = new MutationObserver(function (mutations, observer) {{\n",
              "        var display = window.getComputedStyle(gd).display;\n",
              "        if (!display || display === 'none') {{\n",
              "            console.log([gd, 'removed!']);\n",
              "            Plotly.purge(gd);\n",
              "            observer.disconnect();\n",
              "        }}\n",
              "}});\n",
              "\n",
              "// Listen for the removal of the full notebook cells\n",
              "var notebookContainer = gd.closest('#notebook-container');\n",
              "if (notebookContainer) {{\n",
              "    x.observe(notebookContainer, {childList: true});\n",
              "}}\n",
              "\n",
              "// Listen for the clearing of the current output cell\n",
              "var outputEl = gd.closest('.output');\n",
              "if (outputEl) {{\n",
              "    x.observe(outputEl, {childList: true});\n",
              "}}\n",
              "\n",
              "                        })\n",
              "                };\n",
              "                \n",
              "            </script>\n",
              "        </div>\n",
              "</body>\n",
              "</html>"
            ]
          },
          "metadata": {
            "tags": []
          }
        },
        {
          "output_type": "display_data",
          "data": {
            "text/html": [
              "<html>\n",
              "<head><meta charset=\"utf-8\" /></head>\n",
              "<body>\n",
              "    <div>\n",
              "            <script src=\"https://cdnjs.cloudflare.com/ajax/libs/mathjax/2.7.5/MathJax.js?config=TeX-AMS-MML_SVG\"></script><script type=\"text/javascript\">if (window.MathJax) {MathJax.Hub.Config({SVG: {font: \"STIX-Web\"}});}</script>\n",
              "                <script type=\"text/javascript\">window.PlotlyConfig = {MathJaxConfig: 'local'};</script>\n",
              "        <script src=\"https://cdn.plot.ly/plotly-latest.min.js\"></script>    \n",
              "            <div id=\"05efe02f-fe65-4580-8a76-6c1f4ed444de\" class=\"plotly-graph-div\" style=\"height:525px; width:100%;\"></div>\n",
              "            <script type=\"text/javascript\">\n",
              "                \n",
              "                    window.PLOTLYENV=window.PLOTLYENV || {};\n",
              "                    \n",
              "                if (document.getElementById(\"05efe02f-fe65-4580-8a76-6c1f4ed444de\")) {\n",
              "                    Plotly.newPlot(\n",
              "                        '05efe02f-fe65-4580-8a76-6c1f4ed444de',\n",
              "                        [{\"hoverlabel\": {\"namelength\": 0}, \"hovertemplate\": \"sentiment=Neutral<br>date=%{x}<br>tweets=%{y}\", \"legendgroup\": \"sentiment=Neutral\", \"line\": {\"color\": \"#636efa\", \"dash\": \"solid\"}, \"mode\": \"lines\", \"name\": \"sentiment=Neutral\", \"showlegend\": true, \"type\": \"scatter\", \"x\": [\"2020-12-15\", \"2020-12-19\", \"2020-12-20\", \"2020-12-22\", \"2020-12-30\", \"2020-12-31\", \"2021-01-01\", \"2021-01-04\", \"2021-01-06\", \"2021-01-08\", \"2021-01-12\", \"2021-01-13\", \"2021-01-20\", \"2021-01-25\", \"2021-01-28\", \"2021-01-29\", \"2021-02-01\", \"2021-02-02\", \"2021-02-04\", \"2021-02-05\", \"2021-02-07\", \"2021-02-08\", \"2021-02-09\", \"2021-02-10\", \"2021-02-11\", \"2021-02-12\", \"2021-02-13\", \"2021-02-14\", \"2021-02-15\", \"2021-02-16\", \"2021-02-17\", \"2021-02-18\", \"2021-02-19\", \"2021-02-20\", \"2021-02-21\", \"2021-02-22\", \"2021-02-23\", \"2021-02-24\", \"2021-02-25\", \"2021-02-26\", \"2021-02-27\", \"2021-02-28\", \"2021-03-01\", \"2021-03-02\", \"2021-03-03\", \"2021-03-04\", \"2021-03-05\", \"2021-03-06\", \"2021-03-07\", \"2021-03-08\", \"2021-03-09\", \"2021-03-10\", \"2021-03-11\", \"2021-03-12\", \"2021-03-13\", \"2021-03-14\", \"2021-03-15\", \"2021-03-16\", \"2021-03-17\", \"2021-03-18\", \"2021-03-19\", \"2021-03-20\", \"2021-03-21\", \"2021-03-22\", \"2021-03-23\", \"2021-03-24\", \"2021-03-25\", \"2021-03-26\", \"2021-03-27\", \"2021-03-28\", \"2021-03-29\", \"2021-03-30\", \"2021-03-31\", \"2021-04-01\", \"2021-04-02\", \"2021-04-03\", \"2021-04-04\", \"2021-04-05\", \"2021-04-06\", \"2021-04-07\", \"2021-04-08\", \"2021-04-09\", \"2021-04-10\", \"2021-04-11\", \"2021-04-12\", \"2021-04-13\", \"2021-04-14\", \"2021-04-15\", \"2021-04-16\", \"2021-04-17\", \"2021-04-18\", \"2021-04-19\", \"2021-04-20\", \"2021-04-21\", \"2021-04-22\", \"2021-05-13\", \"2021-05-14\", \"2021-05-15\", \"2021-05-16\", \"2021-05-17\", \"2021-05-18\", \"2021-05-19\", \"2021-05-20\", \"2021-05-21\", \"2021-05-22\", \"2021-05-23\", \"2021-05-24\", \"2021-05-25\", \"2021-05-26\", \"2021-05-27\", \"2021-05-28\", \"2021-05-29\", \"2021-05-30\", \"2021-05-31\", \"2021-06-01\", \"2021-06-02\", \"2021-06-03\", \"2021-06-04\", \"2021-06-05\", \"2021-06-06\", \"2021-06-07\", \"2021-06-08\", \"2021-06-09\", \"2021-06-10\", \"2021-06-11\", \"2021-06-12\", \"2021-06-13\", \"2021-06-14\", \"2021-06-15\", \"2021-06-16\", \"2021-06-17\", \"2021-06-18\", \"2021-06-19\", \"2021-06-20\", \"2021-06-21\", \"2021-06-22\", \"2021-06-23\", \"2021-06-24\", \"2021-06-25\", \"2021-06-26\", \"2021-06-27\", \"2021-06-28\", \"2021-06-29\", \"2021-06-30\", \"2021-07-01\", \"2021-07-08\", \"2021-07-09\", \"2021-07-10\", \"2021-07-11\", \"2021-07-12\", \"2021-07-13\", \"2021-07-14\", \"2021-07-15\", \"2021-07-16\", \"2021-07-17\", \"2021-07-18\", \"2021-07-19\", \"2021-07-20\", \"2021-07-21\", \"2021-07-22\", \"2021-07-23\"], \"xaxis\": \"x\", \"y\": [1, 1, 1, 1, 8, 3, 1, 2, 2, 1, 1, 1, 1, 1, 1, 2, 1, 1, 4, 1, 18, 30, 15, 27, 14, 12, 12, 11, 14, 15, 14, 10, 17, 12, 5, 7, 8, 14, 21, 18, 17, 23, 16, 33, 15, 29, 32, 32, 7, 14, 15, 13, 34, 37, 29, 40, 125, 165, 81, 97, 106, 106, 55, 72, 51, 35, 29, 22, 11, 14, 8, 23, 35, 20, 6, 22, 6, 9, 20, 86, 58, 19, 14, 11, 14, 37, 37, 29, 16, 12, 13, 35, 12, 13, 7, 5, 4, 3, 2, 3, 5, 3, 5, 2, 6, 10, 3, 6, 5, 3, 12, 6, 3, 5, 6, 2, 4, 6, 3, 5, 7, 2, 8, 7, 8, 11, 5, 3, 6, 3, 8, 7, 2, 4, 1, 4, 8, 4, 2, 2, 3, 8, 9, 1, 1, 1, 2, 2, 1, 4, 10, 3, 1, 5, 1, 2, 3, 3, 1, 4, 2], \"yaxis\": \"y\"}, {\"hoverlabel\": {\"namelength\": 0}, \"hovertemplate\": \"sentiment=Positive<br>date=%{x}<br>tweets=%{y}\", \"legendgroup\": \"sentiment=Positive\", \"line\": {\"color\": \"#EF553B\", \"dash\": \"solid\"}, \"mode\": \"lines\", \"name\": \"sentiment=Positive\", \"showlegend\": true, \"type\": \"scatter\", \"x\": [\"2021-01-09\", \"2021-01-18\", \"2021-02-07\", \"2021-02-10\", \"2021-02-11\", \"2021-02-12\", \"2021-02-13\", \"2021-02-16\", \"2021-02-19\", \"2021-02-20\", \"2021-02-21\", \"2021-02-22\", \"2021-02-26\", \"2021-02-27\", \"2021-03-02\", \"2021-03-03\", \"2021-03-04\", \"2021-03-05\", \"2021-03-06\", \"2021-03-07\", \"2021-03-08\", \"2021-03-10\", \"2021-03-13\", \"2021-03-15\", \"2021-03-16\", \"2021-03-17\", \"2021-03-18\", \"2021-03-19\", \"2021-03-20\", \"2021-03-21\", \"2021-03-22\", \"2021-03-23\", \"2021-03-24\", \"2021-03-25\", \"2021-03-26\", \"2021-03-28\", \"2021-03-29\", \"2021-04-02\", \"2021-04-07\", \"2021-04-13\", \"2021-04-14\", \"2021-04-15\", \"2021-04-19\", \"2021-04-22\", \"2021-05-29\", \"2021-06-01\", \"2021-06-25\"], \"xaxis\": \"x\", \"y\": [1, 1, 1, 1, 1, 2, 1, 1, 1, 2, 1, 1, 3, 2, 3, 2, 1, 1, 1, 2, 1, 2, 1, 2, 3, 1, 5, 6, 6, 4, 1, 2, 1, 2, 1, 1, 1, 1, 2, 1, 3, 1, 1, 1, 1, 1, 1], \"yaxis\": \"y\"}, {\"hoverlabel\": {\"namelength\": 0}, \"hovertemplate\": \"sentiment=Negative<br>date=%{x}<br>tweets=%{y}\", \"legendgroup\": \"sentiment=Negative\", \"line\": {\"color\": \"#00cc96\", \"dash\": \"solid\"}, \"mode\": \"lines\", \"name\": \"sentiment=Negative\", \"showlegend\": true, \"type\": \"scatter\", \"x\": [\"2021-02-08\", \"2021-02-18\", \"2021-02-24\", \"2021-02-27\", \"2021-03-05\", \"2021-03-10\", \"2021-03-12\", \"2021-03-14\", \"2021-03-16\", \"2021-03-17\", \"2021-03-18\", \"2021-03-20\", \"2021-04-08\", \"2021-04-09\", \"2021-04-10\", \"2021-05-26\", \"2021-06-18\"], \"xaxis\": \"x\", \"y\": [1, 1, 1, 1, 1, 1, 1, 1, 3, 1, 1, 1, 1, 1, 1, 1, 1], \"yaxis\": \"y\"}],\n",
              "                        {\"legend\": {\"tracegroupgap\": 0}, \"template\": {\"data\": {\"bar\": [{\"error_x\": {\"color\": \"#2a3f5f\"}, \"error_y\": {\"color\": \"#2a3f5f\"}, \"marker\": {\"line\": {\"color\": \"#E5ECF6\", \"width\": 0.5}}, \"type\": \"bar\"}], \"barpolar\": [{\"marker\": {\"line\": {\"color\": \"#E5ECF6\", \"width\": 0.5}}, \"type\": \"barpolar\"}], \"carpet\": [{\"aaxis\": {\"endlinecolor\": \"#2a3f5f\", \"gridcolor\": \"white\", \"linecolor\": \"white\", \"minorgridcolor\": \"white\", \"startlinecolor\": \"#2a3f5f\"}, \"baxis\": {\"endlinecolor\": \"#2a3f5f\", \"gridcolor\": \"white\", \"linecolor\": \"white\", \"minorgridcolor\": \"white\", \"startlinecolor\": \"#2a3f5f\"}, \"type\": \"carpet\"}], \"choropleth\": [{\"colorbar\": {\"outlinewidth\": 0, \"ticks\": \"\"}, \"type\": \"choropleth\"}], \"contour\": [{\"colorbar\": {\"outlinewidth\": 0, \"ticks\": \"\"}, \"colorscale\": [[0.0, \"#0d0887\"], [0.1111111111111111, \"#46039f\"], [0.2222222222222222, \"#7201a8\"], [0.3333333333333333, \"#9c179e\"], [0.4444444444444444, \"#bd3786\"], [0.5555555555555556, \"#d8576b\"], [0.6666666666666666, \"#ed7953\"], [0.7777777777777778, \"#fb9f3a\"], [0.8888888888888888, \"#fdca26\"], [1.0, \"#f0f921\"]], \"type\": \"contour\"}], \"contourcarpet\": [{\"colorbar\": {\"outlinewidth\": 0, \"ticks\": \"\"}, \"type\": \"contourcarpet\"}], \"heatmap\": [{\"colorbar\": {\"outlinewidth\": 0, \"ticks\": \"\"}, \"colorscale\": [[0.0, \"#0d0887\"], [0.1111111111111111, \"#46039f\"], [0.2222222222222222, \"#7201a8\"], [0.3333333333333333, \"#9c179e\"], [0.4444444444444444, \"#bd3786\"], [0.5555555555555556, \"#d8576b\"], [0.6666666666666666, \"#ed7953\"], [0.7777777777777778, \"#fb9f3a\"], [0.8888888888888888, \"#fdca26\"], [1.0, \"#f0f921\"]], \"type\": \"heatmap\"}], \"heatmapgl\": [{\"colorbar\": {\"outlinewidth\": 0, \"ticks\": \"\"}, \"colorscale\": [[0.0, \"#0d0887\"], [0.1111111111111111, \"#46039f\"], [0.2222222222222222, \"#7201a8\"], [0.3333333333333333, \"#9c179e\"], [0.4444444444444444, \"#bd3786\"], [0.5555555555555556, \"#d8576b\"], [0.6666666666666666, \"#ed7953\"], [0.7777777777777778, \"#fb9f3a\"], [0.8888888888888888, \"#fdca26\"], [1.0, \"#f0f921\"]], \"type\": \"heatmapgl\"}], \"histogram\": [{\"marker\": {\"colorbar\": {\"outlinewidth\": 0, \"ticks\": \"\"}}, \"type\": \"histogram\"}], \"histogram2d\": [{\"colorbar\": {\"outlinewidth\": 0, \"ticks\": \"\"}, \"colorscale\": [[0.0, \"#0d0887\"], [0.1111111111111111, \"#46039f\"], [0.2222222222222222, \"#7201a8\"], [0.3333333333333333, \"#9c179e\"], [0.4444444444444444, \"#bd3786\"], [0.5555555555555556, \"#d8576b\"], [0.6666666666666666, \"#ed7953\"], [0.7777777777777778, \"#fb9f3a\"], [0.8888888888888888, \"#fdca26\"], [1.0, \"#f0f921\"]], \"type\": \"histogram2d\"}], \"histogram2dcontour\": [{\"colorbar\": {\"outlinewidth\": 0, \"ticks\": \"\"}, \"colorscale\": [[0.0, \"#0d0887\"], [0.1111111111111111, \"#46039f\"], [0.2222222222222222, \"#7201a8\"], [0.3333333333333333, \"#9c179e\"], [0.4444444444444444, \"#bd3786\"], [0.5555555555555556, \"#d8576b\"], [0.6666666666666666, \"#ed7953\"], [0.7777777777777778, \"#fb9f3a\"], [0.8888888888888888, \"#fdca26\"], [1.0, \"#f0f921\"]], \"type\": \"histogram2dcontour\"}], \"mesh3d\": [{\"colorbar\": {\"outlinewidth\": 0, \"ticks\": \"\"}, \"type\": \"mesh3d\"}], \"parcoords\": [{\"line\": {\"colorbar\": {\"outlinewidth\": 0, \"ticks\": \"\"}}, \"type\": \"parcoords\"}], \"pie\": [{\"automargin\": true, \"type\": \"pie\"}], \"scatter\": [{\"marker\": {\"colorbar\": {\"outlinewidth\": 0, \"ticks\": \"\"}}, \"type\": \"scatter\"}], \"scatter3d\": [{\"line\": {\"colorbar\": {\"outlinewidth\": 0, \"ticks\": \"\"}}, \"marker\": {\"colorbar\": {\"outlinewidth\": 0, \"ticks\": \"\"}}, \"type\": \"scatter3d\"}], \"scattercarpet\": [{\"marker\": {\"colorbar\": {\"outlinewidth\": 0, \"ticks\": \"\"}}, \"type\": \"scattercarpet\"}], \"scattergeo\": [{\"marker\": {\"colorbar\": {\"outlinewidth\": 0, \"ticks\": \"\"}}, \"type\": \"scattergeo\"}], \"scattergl\": [{\"marker\": {\"colorbar\": {\"outlinewidth\": 0, \"ticks\": \"\"}}, \"type\": \"scattergl\"}], \"scattermapbox\": [{\"marker\": {\"colorbar\": {\"outlinewidth\": 0, \"ticks\": \"\"}}, \"type\": \"scattermapbox\"}], \"scatterpolar\": [{\"marker\": {\"colorbar\": {\"outlinewidth\": 0, \"ticks\": \"\"}}, \"type\": \"scatterpolar\"}], \"scatterpolargl\": [{\"marker\": {\"colorbar\": {\"outlinewidth\": 0, \"ticks\": \"\"}}, \"type\": \"scatterpolargl\"}], \"scatterternary\": [{\"marker\": {\"colorbar\": {\"outlinewidth\": 0, \"ticks\": \"\"}}, \"type\": \"scatterternary\"}], \"surface\": [{\"colorbar\": {\"outlinewidth\": 0, \"ticks\": \"\"}, \"colorscale\": [[0.0, \"#0d0887\"], [0.1111111111111111, \"#46039f\"], [0.2222222222222222, \"#7201a8\"], [0.3333333333333333, \"#9c179e\"], [0.4444444444444444, \"#bd3786\"], [0.5555555555555556, \"#d8576b\"], [0.6666666666666666, \"#ed7953\"], [0.7777777777777778, \"#fb9f3a\"], [0.8888888888888888, \"#fdca26\"], [1.0, \"#f0f921\"]], \"type\": \"surface\"}], \"table\": [{\"cells\": {\"fill\": {\"color\": \"#EBF0F8\"}, \"line\": {\"color\": \"white\"}}, \"header\": {\"fill\": {\"color\": \"#C8D4E3\"}, \"line\": {\"color\": \"white\"}}, \"type\": \"table\"}]}, \"layout\": {\"annotationdefaults\": {\"arrowcolor\": \"#2a3f5f\", \"arrowhead\": 0, \"arrowwidth\": 1}, \"coloraxis\": {\"colorbar\": {\"outlinewidth\": 0, \"ticks\": \"\"}}, \"colorscale\": {\"diverging\": [[0, \"#8e0152\"], [0.1, \"#c51b7d\"], [0.2, \"#de77ae\"], [0.3, \"#f1b6da\"], [0.4, \"#fde0ef\"], [0.5, \"#f7f7f7\"], [0.6, \"#e6f5d0\"], [0.7, \"#b8e186\"], [0.8, \"#7fbc41\"], [0.9, \"#4d9221\"], [1, \"#276419\"]], \"sequential\": [[0.0, \"#0d0887\"], [0.1111111111111111, \"#46039f\"], [0.2222222222222222, \"#7201a8\"], [0.3333333333333333, \"#9c179e\"], [0.4444444444444444, \"#bd3786\"], [0.5555555555555556, \"#d8576b\"], [0.6666666666666666, \"#ed7953\"], [0.7777777777777778, \"#fb9f3a\"], [0.8888888888888888, \"#fdca26\"], [1.0, \"#f0f921\"]], \"sequentialminus\": [[0.0, \"#0d0887\"], [0.1111111111111111, \"#46039f\"], [0.2222222222222222, \"#7201a8\"], [0.3333333333333333, \"#9c179e\"], [0.4444444444444444, \"#bd3786\"], [0.5555555555555556, \"#d8576b\"], [0.6666666666666666, \"#ed7953\"], [0.7777777777777778, \"#fb9f3a\"], [0.8888888888888888, \"#fdca26\"], [1.0, \"#f0f921\"]]}, \"colorway\": [\"#636efa\", \"#EF553B\", \"#00cc96\", \"#ab63fa\", \"#FFA15A\", \"#19d3f3\", \"#FF6692\", \"#B6E880\", \"#FF97FF\", \"#FECB52\"], \"font\": {\"color\": \"#2a3f5f\"}, \"geo\": {\"bgcolor\": \"white\", \"lakecolor\": \"white\", \"landcolor\": \"#E5ECF6\", \"showlakes\": true, \"showland\": true, \"subunitcolor\": \"white\"}, \"hoverlabel\": {\"align\": \"left\"}, \"hovermode\": \"closest\", \"mapbox\": {\"style\": \"light\"}, \"paper_bgcolor\": \"white\", \"plot_bgcolor\": \"#E5ECF6\", \"polar\": {\"angularaxis\": {\"gridcolor\": \"white\", \"linecolor\": \"white\", \"ticks\": \"\"}, \"bgcolor\": \"#E5ECF6\", \"radialaxis\": {\"gridcolor\": \"white\", \"linecolor\": \"white\", \"ticks\": \"\"}}, \"scene\": {\"xaxis\": {\"backgroundcolor\": \"#E5ECF6\", \"gridcolor\": \"white\", \"gridwidth\": 2, \"linecolor\": \"white\", \"showbackground\": true, \"ticks\": \"\", \"zerolinecolor\": \"white\"}, \"yaxis\": {\"backgroundcolor\": \"#E5ECF6\", \"gridcolor\": \"white\", \"gridwidth\": 2, \"linecolor\": \"white\", \"showbackground\": true, \"ticks\": \"\", \"zerolinecolor\": \"white\"}, \"zaxis\": {\"backgroundcolor\": \"#E5ECF6\", \"gridcolor\": \"white\", \"gridwidth\": 2, \"linecolor\": \"white\", \"showbackground\": true, \"ticks\": \"\", \"zerolinecolor\": \"white\"}}, \"shapedefaults\": {\"line\": {\"color\": \"#2a3f5f\"}}, \"ternary\": {\"aaxis\": {\"gridcolor\": \"white\", \"linecolor\": \"white\", \"ticks\": \"\"}, \"baxis\": {\"gridcolor\": \"white\", \"linecolor\": \"white\", \"ticks\": \"\"}, \"bgcolor\": \"#E5ECF6\", \"caxis\": {\"gridcolor\": \"white\", \"linecolor\": \"white\", \"ticks\": \"\"}}, \"title\": {\"x\": 0.05}, \"xaxis\": {\"automargin\": true, \"gridcolor\": \"white\", \"linecolor\": \"white\", \"ticks\": \"\", \"title\": {\"standoff\": 15}, \"zerolinecolor\": \"white\", \"zerolinewidth\": 2}, \"yaxis\": {\"automargin\": true, \"gridcolor\": \"white\", \"linecolor\": \"white\", \"ticks\": \"\", \"title\": {\"standoff\": 15}, \"zerolinecolor\": \"white\", \"zerolinewidth\": 2}}}, \"title\": {\"text\": \"Timeline showing sentiment of tweets about the Oxford/AstraZeneca vaccine\"}, \"xaxis\": {\"anchor\": \"y\", \"domain\": [0.0, 1.0], \"title\": {\"text\": \"date\"}}, \"yaxis\": {\"anchor\": \"x\", \"domain\": [0.0, 1.0], \"title\": {\"text\": \"tweets\"}}},\n",
              "                        {\"responsive\": true}\n",
              "                    ).then(function(){\n",
              "                            \n",
              "var gd = document.getElementById('05efe02f-fe65-4580-8a76-6c1f4ed444de');\n",
              "var x = new MutationObserver(function (mutations, observer) {{\n",
              "        var display = window.getComputedStyle(gd).display;\n",
              "        if (!display || display === 'none') {{\n",
              "            console.log([gd, 'removed!']);\n",
              "            Plotly.purge(gd);\n",
              "            observer.disconnect();\n",
              "        }}\n",
              "}});\n",
              "\n",
              "// Listen for the removal of the full notebook cells\n",
              "var notebookContainer = gd.closest('#notebook-container');\n",
              "if (notebookContainer) {{\n",
              "    x.observe(notebookContainer, {childList: true});\n",
              "}}\n",
              "\n",
              "// Listen for the clearing of the current output cell\n",
              "var outputEl = gd.closest('.output');\n",
              "if (outputEl) {{\n",
              "    x.observe(outputEl, {childList: true});\n",
              "}}\n",
              "\n",
              "                        })\n",
              "                };\n",
              "                \n",
              "            </script>\n",
              "        </div>\n",
              "</body>\n",
              "</html>"
            ]
          },
          "metadata": {
            "tags": []
          }
        },
        {
          "output_type": "display_data",
          "data": {
            "text/html": [
              "<html>\n",
              "<head><meta charset=\"utf-8\" /></head>\n",
              "<body>\n",
              "    <div>\n",
              "            <script src=\"https://cdnjs.cloudflare.com/ajax/libs/mathjax/2.7.5/MathJax.js?config=TeX-AMS-MML_SVG\"></script><script type=\"text/javascript\">if (window.MathJax) {MathJax.Hub.Config({SVG: {font: \"STIX-Web\"}});}</script>\n",
              "                <script type=\"text/javascript\">window.PlotlyConfig = {MathJaxConfig: 'local'};</script>\n",
              "        <script src=\"https://cdn.plot.ly/plotly-latest.min.js\"></script>    \n",
              "            <div id=\"70b6a89a-84cf-4ca4-8ecb-648c155c7a4e\" class=\"plotly-graph-div\" style=\"height:525px; width:100%;\"></div>\n",
              "            <script type=\"text/javascript\">\n",
              "                \n",
              "                    window.PLOTLYENV=window.PLOTLYENV || {};\n",
              "                    \n",
              "                if (document.getElementById(\"70b6a89a-84cf-4ca4-8ecb-648c155c7a4e\")) {\n",
              "                    Plotly.newPlot(\n",
              "                        '70b6a89a-84cf-4ca4-8ecb-648c155c7a4e',\n",
              "                        [{\"hoverlabel\": {\"namelength\": 0}, \"hovertemplate\": \"sentiment=Neutral<br>date=%{x}<br>tweets=%{y}\", \"legendgroup\": \"sentiment=Neutral\", \"line\": {\"color\": \"#636efa\", \"dash\": \"solid\"}, \"mode\": \"lines\", \"name\": \"sentiment=Neutral\", \"showlegend\": true, \"type\": \"scatter\", \"x\": [\"2020-12-12\", \"2020-12-13\", \"2020-12-14\", \"2020-12-15\", \"2020-12-16\", \"2020-12-17\", \"2020-12-18\", \"2020-12-19\", \"2020-12-20\", \"2020-12-21\", \"2020-12-22\", \"2020-12-23\", \"2020-12-24\", \"2020-12-25\", \"2020-12-26\", \"2020-12-27\", \"2020-12-28\", \"2020-12-29\", \"2020-12-30\", \"2020-12-31\", \"2021-01-01\", \"2021-01-02\", \"2021-01-03\", \"2021-01-04\", \"2021-01-05\", \"2021-01-06\", \"2021-01-07\", \"2021-01-08\", \"2021-01-09\", \"2021-01-10\", \"2021-01-11\", \"2021-01-12\", \"2021-01-13\", \"2021-01-14\", \"2021-01-15\", \"2021-01-16\", \"2021-01-17\", \"2021-01-18\", \"2021-01-19\", \"2021-01-20\", \"2021-01-21\", \"2021-01-22\", \"2021-01-23\", \"2021-01-24\", \"2021-01-25\", \"2021-01-26\", \"2021-01-27\", \"2021-01-28\", \"2021-01-29\", \"2021-01-30\", \"2021-01-31\", \"2021-02-01\", \"2021-02-02\", \"2021-02-03\", \"2021-02-04\", \"2021-02-05\", \"2021-02-06\", \"2021-02-07\", \"2021-02-08\", \"2021-02-09\", \"2021-02-10\", \"2021-02-11\", \"2021-02-12\", \"2021-02-13\", \"2021-02-14\", \"2021-02-15\", \"2021-02-16\", \"2021-02-17\", \"2021-02-18\", \"2021-02-19\", \"2021-02-20\", \"2021-02-21\", \"2021-02-22\", \"2021-02-23\", \"2021-02-24\", \"2021-02-25\", \"2021-02-26\", \"2021-02-27\", \"2021-02-28\", \"2021-03-01\", \"2021-03-02\", \"2021-03-03\", \"2021-03-04\", \"2021-03-05\", \"2021-03-06\", \"2021-03-07\", \"2021-03-08\", \"2021-03-09\", \"2021-03-10\", \"2021-03-11\", \"2021-03-12\", \"2021-03-13\", \"2021-03-14\", \"2021-03-15\", \"2021-03-16\", \"2021-03-17\", \"2021-03-18\", \"2021-03-19\", \"2021-03-20\", \"2021-03-21\", \"2021-03-22\", \"2021-03-23\", \"2021-03-24\", \"2021-03-25\", \"2021-03-26\", \"2021-03-27\", \"2021-03-28\", \"2021-03-29\", \"2021-03-30\", \"2021-03-31\", \"2021-04-01\", \"2021-04-02\", \"2021-04-03\", \"2021-04-04\", \"2021-04-05\", \"2021-04-06\", \"2021-04-07\", \"2021-04-08\", \"2021-04-09\", \"2021-04-10\", \"2021-04-11\", \"2021-04-12\", \"2021-04-13\", \"2021-04-14\", \"2021-04-15\", \"2021-04-16\", \"2021-04-17\", \"2021-04-18\", \"2021-04-19\", \"2021-04-20\", \"2021-04-21\", \"2021-04-22\", \"2021-05-13\", \"2021-05-14\", \"2021-05-15\", \"2021-05-16\", \"2021-05-17\", \"2021-05-18\", \"2021-05-19\", \"2021-05-20\", \"2021-05-21\", \"2021-05-22\", \"2021-05-23\", \"2021-05-24\", \"2021-05-25\", \"2021-05-26\", \"2021-05-27\", \"2021-05-28\", \"2021-05-29\", \"2021-05-30\", \"2021-05-31\", \"2021-06-01\", \"2021-06-02\", \"2021-06-03\", \"2021-06-04\", \"2021-06-05\", \"2021-06-06\", \"2021-06-07\", \"2021-06-08\", \"2021-06-09\", \"2021-06-10\", \"2021-06-11\", \"2021-06-12\", \"2021-06-13\", \"2021-06-14\", \"2021-06-15\", \"2021-06-16\", \"2021-06-17\", \"2021-06-18\", \"2021-06-19\", \"2021-06-20\", \"2021-06-21\", \"2021-06-22\", \"2021-06-23\", \"2021-06-24\", \"2021-06-25\", \"2021-06-26\", \"2021-06-27\", \"2021-06-28\", \"2021-06-29\", \"2021-06-30\", \"2021-07-01\", \"2021-07-07\", \"2021-07-08\", \"2021-07-09\", \"2021-07-10\", \"2021-07-11\", \"2021-07-12\", \"2021-07-13\", \"2021-07-14\", \"2021-07-15\", \"2021-07-16\", \"2021-07-17\", \"2021-07-18\", \"2021-07-19\", \"2021-07-20\", \"2021-07-21\", \"2021-07-22\", \"2021-07-23\", \"2021-07-24\"], \"xaxis\": \"x\", \"y\": [20, 39, 64, 51, 44, 49, 31, 49, 26, 46, 68, 53, 54, 17, 20, 20, 19, 33, 22, 21, 34, 32, 19, 27, 47, 43, 28, 70, 64, 37, 35, 40, 44, 40, 62, 53, 47, 26, 43, 36, 66, 34, 31, 27, 21, 31, 28, 32, 30, 19, 9, 10, 21, 14, 22, 26, 15, 9, 22, 16, 19, 13, 18, 10, 18, 12, 23, 26, 25, 49, 20, 21, 18, 18, 38, 49, 36, 16, 16, 20, 15, 28, 23, 12, 11, 12, 20, 20, 19, 34, 14, 11, 13, 18, 17, 14, 15, 17, 15, 6, 13, 14, 26, 14, 19, 10, 10, 11, 13, 56, 51, 17, 13, 7, 13, 14, 20, 18, 16, 19, 11, 14, 17, 28, 21, 19, 13, 10, 9, 15, 19, 9, 15, 24, 13, 10, 13, 13, 14, 25, 4, 15, 27, 19, 27, 12, 35, 17, 23, 28, 14, 11, 12, 14, 36, 16, 9, 10, 20, 13, 17, 19, 12, 9, 8, 20, 7, 20, 10, 9, 12, 20, 29, 13, 19, 19, 14, 8, 7, 10, 10, 14, 2, 12, 34, 16, 8, 18, 19, 10, 14, 16, 11, 14, 15, 10, 17, 16, 18, 3], \"yaxis\": \"y\"}, {\"hoverlabel\": {\"namelength\": 0}, \"hovertemplate\": \"sentiment=Positive<br>date=%{x}<br>tweets=%{y}\", \"legendgroup\": \"sentiment=Positive\", \"line\": {\"color\": \"#EF553B\", \"dash\": \"solid\"}, \"mode\": \"lines\", \"name\": \"sentiment=Positive\", \"showlegend\": true, \"type\": \"scatter\", \"x\": [\"2020-12-12\", \"2020-12-14\", \"2020-12-15\", \"2020-12-18\", \"2020-12-20\", \"2020-12-21\", \"2020-12-22\", \"2020-12-26\", \"2020-12-27\", \"2020-12-28\", \"2020-12-29\", \"2020-12-31\", \"2021-01-01\", \"2021-01-03\", \"2021-01-05\", \"2021-01-06\", \"2021-01-07\", \"2021-01-08\", \"2021-01-09\", \"2021-01-10\", \"2021-01-11\", \"2021-01-13\", \"2021-01-14\", \"2021-01-15\", \"2021-01-16\", \"2021-01-17\", \"2021-01-18\", \"2021-01-19\", \"2021-01-20\", \"2021-01-22\", \"2021-01-24\", \"2021-01-25\", \"2021-01-27\", \"2021-01-28\", \"2021-01-29\", \"2021-02-01\", \"2021-02-02\", \"2021-02-04\", \"2021-02-06\", \"2021-02-09\", \"2021-02-11\", \"2021-02-12\", \"2021-02-13\", \"2021-02-14\", \"2021-02-15\", \"2021-02-17\", \"2021-02-18\", \"2021-02-19\", \"2021-02-22\", \"2021-02-24\", \"2021-02-25\", \"2021-03-04\", \"2021-03-05\", \"2021-03-06\", \"2021-03-07\", \"2021-03-08\", \"2021-03-11\", \"2021-03-12\", \"2021-03-15\", \"2021-03-17\", \"2021-03-19\", \"2021-03-20\", \"2021-03-21\", \"2021-03-22\", \"2021-03-24\", \"2021-03-29\", \"2021-03-31\", \"2021-04-01\", \"2021-04-02\", \"2021-04-05\", \"2021-04-06\", \"2021-04-07\", \"2021-04-08\", \"2021-04-10\", \"2021-04-13\", \"2021-04-14\", \"2021-04-16\", \"2021-05-13\", \"2021-05-14\", \"2021-05-16\", \"2021-05-19\", \"2021-05-22\", \"2021-05-27\", \"2021-05-28\", \"2021-05-29\", \"2021-05-31\", \"2021-06-02\", \"2021-06-10\", \"2021-06-13\", \"2021-06-15\", \"2021-06-16\", \"2021-06-21\", \"2021-06-22\", \"2021-06-23\", \"2021-06-24\", \"2021-06-28\", \"2021-07-11\", \"2021-07-13\", \"2021-07-14\", \"2021-07-17\", \"2021-07-20\", \"2021-07-21\", \"2021-07-22\", \"2021-07-23\"], \"xaxis\": \"x\", \"y\": [1, 2, 2, 3, 1, 2, 4, 1, 1, 1, 1, 1, 1, 1, 1, 1, 2, 5, 1, 2, 2, 1, 1, 2, 1, 1, 1, 2, 1, 1, 1, 3, 1, 1, 1, 1, 3, 1, 1, 2, 1, 1, 1, 1, 1, 1, 1, 3, 1, 3, 4, 3, 1, 2, 1, 1, 1, 2, 1, 1, 3, 1, 2, 2, 1, 1, 2, 1, 1, 3, 1, 1, 1, 1, 1, 1, 1, 2, 2, 1, 2, 1, 4, 1, 1, 1, 1, 1, 1, 1, 1, 1, 1, 2, 1, 1, 1, 2, 1, 1, 1, 1, 1, 1], \"yaxis\": \"y\"}, {\"hoverlabel\": {\"namelength\": 0}, \"hovertemplate\": \"sentiment=Negative<br>date=%{x}<br>tweets=%{y}\", \"legendgroup\": \"sentiment=Negative\", \"line\": {\"color\": \"#00cc96\", \"dash\": \"solid\"}, \"mode\": \"lines\", \"name\": \"sentiment=Negative\", \"showlegend\": true, \"type\": \"scatter\", \"x\": [\"2020-12-17\", \"2020-12-19\", \"2020-12-28\", \"2021-01-01\", \"2021-01-02\", \"2021-01-03\", \"2021-01-08\", \"2021-01-09\", \"2021-01-20\", \"2021-01-21\", \"2021-01-26\", \"2021-01-27\", \"2021-02-04\", \"2021-02-11\", \"2021-02-12\", \"2021-02-14\", \"2021-02-16\", \"2021-02-18\", \"2021-02-19\", \"2021-02-25\", \"2021-02-26\", \"2021-03-04\", \"2021-03-05\", \"2021-03-07\", \"2021-03-09\", \"2021-03-11\", \"2021-03-12\", \"2021-04-03\", \"2021-04-05\", \"2021-04-08\", \"2021-04-10\", \"2021-04-16\", \"2021-05-20\", \"2021-05-27\", \"2021-06-14\", \"2021-06-20\", \"2021-06-28\", \"2021-07-10\", \"2021-07-12\"], \"xaxis\": \"x\", \"y\": [1, 1, 1, 3, 1, 2, 2, 1, 2, 1, 1, 1, 1, 1, 1, 1, 1, 1, 1, 1, 1, 1, 1, 1, 1, 1, 1, 1, 1, 1, 1, 1, 1, 1, 1, 1, 1, 1, 1], \"yaxis\": \"y\"}],\n",
              "                        {\"legend\": {\"tracegroupgap\": 0}, \"template\": {\"data\": {\"bar\": [{\"error_x\": {\"color\": \"#2a3f5f\"}, \"error_y\": {\"color\": \"#2a3f5f\"}, \"marker\": {\"line\": {\"color\": \"#E5ECF6\", \"width\": 0.5}}, \"type\": \"bar\"}], \"barpolar\": [{\"marker\": {\"line\": {\"color\": \"#E5ECF6\", \"width\": 0.5}}, \"type\": \"barpolar\"}], \"carpet\": [{\"aaxis\": {\"endlinecolor\": \"#2a3f5f\", \"gridcolor\": \"white\", \"linecolor\": \"white\", \"minorgridcolor\": \"white\", \"startlinecolor\": \"#2a3f5f\"}, \"baxis\": {\"endlinecolor\": \"#2a3f5f\", \"gridcolor\": \"white\", \"linecolor\": \"white\", \"minorgridcolor\": \"white\", \"startlinecolor\": \"#2a3f5f\"}, \"type\": \"carpet\"}], \"choropleth\": [{\"colorbar\": {\"outlinewidth\": 0, \"ticks\": \"\"}, \"type\": \"choropleth\"}], \"contour\": [{\"colorbar\": {\"outlinewidth\": 0, \"ticks\": \"\"}, \"colorscale\": [[0.0, \"#0d0887\"], [0.1111111111111111, \"#46039f\"], [0.2222222222222222, \"#7201a8\"], [0.3333333333333333, \"#9c179e\"], [0.4444444444444444, \"#bd3786\"], [0.5555555555555556, \"#d8576b\"], [0.6666666666666666, \"#ed7953\"], [0.7777777777777778, \"#fb9f3a\"], [0.8888888888888888, \"#fdca26\"], [1.0, \"#f0f921\"]], \"type\": \"contour\"}], \"contourcarpet\": [{\"colorbar\": {\"outlinewidth\": 0, \"ticks\": \"\"}, \"type\": \"contourcarpet\"}], \"heatmap\": [{\"colorbar\": {\"outlinewidth\": 0, \"ticks\": \"\"}, \"colorscale\": [[0.0, \"#0d0887\"], [0.1111111111111111, \"#46039f\"], [0.2222222222222222, \"#7201a8\"], [0.3333333333333333, \"#9c179e\"], [0.4444444444444444, \"#bd3786\"], [0.5555555555555556, \"#d8576b\"], [0.6666666666666666, \"#ed7953\"], [0.7777777777777778, \"#fb9f3a\"], [0.8888888888888888, \"#fdca26\"], [1.0, \"#f0f921\"]], \"type\": \"heatmap\"}], \"heatmapgl\": [{\"colorbar\": {\"outlinewidth\": 0, \"ticks\": \"\"}, \"colorscale\": [[0.0, \"#0d0887\"], [0.1111111111111111, \"#46039f\"], [0.2222222222222222, \"#7201a8\"], [0.3333333333333333, \"#9c179e\"], [0.4444444444444444, \"#bd3786\"], [0.5555555555555556, \"#d8576b\"], [0.6666666666666666, \"#ed7953\"], [0.7777777777777778, \"#fb9f3a\"], [0.8888888888888888, \"#fdca26\"], [1.0, \"#f0f921\"]], \"type\": \"heatmapgl\"}], \"histogram\": [{\"marker\": {\"colorbar\": {\"outlinewidth\": 0, \"ticks\": \"\"}}, \"type\": \"histogram\"}], \"histogram2d\": [{\"colorbar\": {\"outlinewidth\": 0, \"ticks\": \"\"}, \"colorscale\": [[0.0, \"#0d0887\"], [0.1111111111111111, \"#46039f\"], [0.2222222222222222, \"#7201a8\"], [0.3333333333333333, \"#9c179e\"], [0.4444444444444444, \"#bd3786\"], [0.5555555555555556, \"#d8576b\"], [0.6666666666666666, \"#ed7953\"], [0.7777777777777778, \"#fb9f3a\"], [0.8888888888888888, \"#fdca26\"], [1.0, \"#f0f921\"]], \"type\": \"histogram2d\"}], \"histogram2dcontour\": [{\"colorbar\": {\"outlinewidth\": 0, \"ticks\": \"\"}, \"colorscale\": [[0.0, \"#0d0887\"], [0.1111111111111111, \"#46039f\"], [0.2222222222222222, \"#7201a8\"], [0.3333333333333333, \"#9c179e\"], [0.4444444444444444, \"#bd3786\"], [0.5555555555555556, \"#d8576b\"], [0.6666666666666666, \"#ed7953\"], [0.7777777777777778, \"#fb9f3a\"], [0.8888888888888888, \"#fdca26\"], [1.0, \"#f0f921\"]], \"type\": \"histogram2dcontour\"}], \"mesh3d\": [{\"colorbar\": {\"outlinewidth\": 0, \"ticks\": \"\"}, \"type\": \"mesh3d\"}], \"parcoords\": [{\"line\": {\"colorbar\": {\"outlinewidth\": 0, \"ticks\": \"\"}}, \"type\": \"parcoords\"}], \"pie\": [{\"automargin\": true, \"type\": \"pie\"}], \"scatter\": [{\"marker\": {\"colorbar\": {\"outlinewidth\": 0, \"ticks\": \"\"}}, \"type\": \"scatter\"}], \"scatter3d\": [{\"line\": {\"colorbar\": {\"outlinewidth\": 0, \"ticks\": \"\"}}, \"marker\": {\"colorbar\": {\"outlinewidth\": 0, \"ticks\": \"\"}}, \"type\": \"scatter3d\"}], \"scattercarpet\": [{\"marker\": {\"colorbar\": {\"outlinewidth\": 0, \"ticks\": \"\"}}, \"type\": \"scattercarpet\"}], \"scattergeo\": [{\"marker\": {\"colorbar\": {\"outlinewidth\": 0, \"ticks\": \"\"}}, \"type\": \"scattergeo\"}], \"scattergl\": [{\"marker\": {\"colorbar\": {\"outlinewidth\": 0, \"ticks\": \"\"}}, \"type\": \"scattergl\"}], \"scattermapbox\": [{\"marker\": {\"colorbar\": {\"outlinewidth\": 0, \"ticks\": \"\"}}, \"type\": \"scattermapbox\"}], \"scatterpolar\": [{\"marker\": {\"colorbar\": {\"outlinewidth\": 0, \"ticks\": \"\"}}, \"type\": \"scatterpolar\"}], \"scatterpolargl\": [{\"marker\": {\"colorbar\": {\"outlinewidth\": 0, \"ticks\": \"\"}}, \"type\": \"scatterpolargl\"}], \"scatterternary\": [{\"marker\": {\"colorbar\": {\"outlinewidth\": 0, \"ticks\": \"\"}}, \"type\": \"scatterternary\"}], \"surface\": [{\"colorbar\": {\"outlinewidth\": 0, \"ticks\": \"\"}, \"colorscale\": [[0.0, \"#0d0887\"], [0.1111111111111111, \"#46039f\"], [0.2222222222222222, \"#7201a8\"], [0.3333333333333333, \"#9c179e\"], [0.4444444444444444, \"#bd3786\"], [0.5555555555555556, \"#d8576b\"], [0.6666666666666666, \"#ed7953\"], [0.7777777777777778, \"#fb9f3a\"], [0.8888888888888888, \"#fdca26\"], [1.0, \"#f0f921\"]], \"type\": \"surface\"}], \"table\": [{\"cells\": {\"fill\": {\"color\": \"#EBF0F8\"}, \"line\": {\"color\": \"white\"}}, \"header\": {\"fill\": {\"color\": \"#C8D4E3\"}, \"line\": {\"color\": \"white\"}}, \"type\": \"table\"}]}, \"layout\": {\"annotationdefaults\": {\"arrowcolor\": \"#2a3f5f\", \"arrowhead\": 0, \"arrowwidth\": 1}, \"coloraxis\": {\"colorbar\": {\"outlinewidth\": 0, \"ticks\": \"\"}}, \"colorscale\": {\"diverging\": [[0, \"#8e0152\"], [0.1, \"#c51b7d\"], [0.2, \"#de77ae\"], [0.3, \"#f1b6da\"], [0.4, \"#fde0ef\"], [0.5, \"#f7f7f7\"], [0.6, \"#e6f5d0\"], [0.7, \"#b8e186\"], [0.8, \"#7fbc41\"], [0.9, \"#4d9221\"], [1, \"#276419\"]], \"sequential\": [[0.0, \"#0d0887\"], [0.1111111111111111, \"#46039f\"], [0.2222222222222222, \"#7201a8\"], [0.3333333333333333, \"#9c179e\"], [0.4444444444444444, \"#bd3786\"], [0.5555555555555556, \"#d8576b\"], [0.6666666666666666, \"#ed7953\"], [0.7777777777777778, \"#fb9f3a\"], [0.8888888888888888, \"#fdca26\"], [1.0, \"#f0f921\"]], \"sequentialminus\": [[0.0, \"#0d0887\"], [0.1111111111111111, \"#46039f\"], [0.2222222222222222, \"#7201a8\"], [0.3333333333333333, \"#9c179e\"], [0.4444444444444444, \"#bd3786\"], [0.5555555555555556, \"#d8576b\"], [0.6666666666666666, \"#ed7953\"], [0.7777777777777778, \"#fb9f3a\"], [0.8888888888888888, \"#fdca26\"], [1.0, \"#f0f921\"]]}, \"colorway\": [\"#636efa\", \"#EF553B\", \"#00cc96\", \"#ab63fa\", \"#FFA15A\", \"#19d3f3\", \"#FF6692\", \"#B6E880\", \"#FF97FF\", \"#FECB52\"], \"font\": {\"color\": \"#2a3f5f\"}, \"geo\": {\"bgcolor\": \"white\", \"lakecolor\": \"white\", \"landcolor\": \"#E5ECF6\", \"showlakes\": true, \"showland\": true, \"subunitcolor\": \"white\"}, \"hoverlabel\": {\"align\": \"left\"}, \"hovermode\": \"closest\", \"mapbox\": {\"style\": \"light\"}, \"paper_bgcolor\": \"white\", \"plot_bgcolor\": \"#E5ECF6\", \"polar\": {\"angularaxis\": {\"gridcolor\": \"white\", \"linecolor\": \"white\", \"ticks\": \"\"}, \"bgcolor\": \"#E5ECF6\", \"radialaxis\": {\"gridcolor\": \"white\", \"linecolor\": \"white\", \"ticks\": \"\"}}, \"scene\": {\"xaxis\": {\"backgroundcolor\": \"#E5ECF6\", \"gridcolor\": \"white\", \"gridwidth\": 2, \"linecolor\": \"white\", \"showbackground\": true, \"ticks\": \"\", \"zerolinecolor\": \"white\"}, \"yaxis\": {\"backgroundcolor\": \"#E5ECF6\", \"gridcolor\": \"white\", \"gridwidth\": 2, \"linecolor\": \"white\", \"showbackground\": true, \"ticks\": \"\", \"zerolinecolor\": \"white\"}, \"zaxis\": {\"backgroundcolor\": \"#E5ECF6\", \"gridcolor\": \"white\", \"gridwidth\": 2, \"linecolor\": \"white\", \"showbackground\": true, \"ticks\": \"\", \"zerolinecolor\": \"white\"}}, \"shapedefaults\": {\"line\": {\"color\": \"#2a3f5f\"}}, \"ternary\": {\"aaxis\": {\"gridcolor\": \"white\", \"linecolor\": \"white\", \"ticks\": \"\"}, \"baxis\": {\"gridcolor\": \"white\", \"linecolor\": \"white\", \"ticks\": \"\"}, \"bgcolor\": \"#E5ECF6\", \"caxis\": {\"gridcolor\": \"white\", \"linecolor\": \"white\", \"ticks\": \"\"}}, \"title\": {\"x\": 0.05}, \"xaxis\": {\"automargin\": true, \"gridcolor\": \"white\", \"linecolor\": \"white\", \"ticks\": \"\", \"title\": {\"standoff\": 15}, \"zerolinecolor\": \"white\", \"zerolinewidth\": 2}, \"yaxis\": {\"automargin\": true, \"gridcolor\": \"white\", \"linecolor\": \"white\", \"ticks\": \"\", \"title\": {\"standoff\": 15}, \"zerolinecolor\": \"white\", \"zerolinewidth\": 2}}}, \"title\": {\"text\": \"Timeline showing sentiment of tweets about the Pfizer/BioNTech vaccine\"}, \"xaxis\": {\"anchor\": \"y\", \"domain\": [0.0, 1.0], \"title\": {\"text\": \"date\"}}, \"yaxis\": {\"anchor\": \"x\", \"domain\": [0.0, 1.0], \"title\": {\"text\": \"tweets\"}}},\n",
              "                        {\"responsive\": true}\n",
              "                    ).then(function(){\n",
              "                            \n",
              "var gd = document.getElementById('70b6a89a-84cf-4ca4-8ecb-648c155c7a4e');\n",
              "var x = new MutationObserver(function (mutations, observer) {{\n",
              "        var display = window.getComputedStyle(gd).display;\n",
              "        if (!display || display === 'none') {{\n",
              "            console.log([gd, 'removed!']);\n",
              "            Plotly.purge(gd);\n",
              "            observer.disconnect();\n",
              "        }}\n",
              "}});\n",
              "\n",
              "// Listen for the removal of the full notebook cells\n",
              "var notebookContainer = gd.closest('#notebook-container');\n",
              "if (notebookContainer) {{\n",
              "    x.observe(notebookContainer, {childList: true});\n",
              "}}\n",
              "\n",
              "// Listen for the clearing of the current output cell\n",
              "var outputEl = gd.closest('.output');\n",
              "if (outputEl) {{\n",
              "    x.observe(outputEl, {childList: true});\n",
              "}}\n",
              "\n",
              "                        })\n",
              "                };\n",
              "                \n",
              "            </script>\n",
              "        </div>\n",
              "</body>\n",
              "</html>"
            ]
          },
          "metadata": {
            "tags": []
          }
        },
        {
          "output_type": "display_data",
          "data": {
            "image/png": "[encoded data removed]",
            "text/plain": [
              "<Figure size 432x288 with 1 Axes>"
            ]
          },
          "metadata": {
            "tags": [],
            "needs_background": "light"
          }
        }
      ]
    },
    {
      "cell_type": "code",
      "metadata": {
        "id": "rNyp1BfJUPbi"
      },
      "source": [
        ""
      ],
      "execution_count": null,
      "outputs": []
    }
  ]
}